{
 "cells": [
  {
   "cell_type": "code",
   "execution_count": null,
   "id": "39148296-1654-4c75-8e74-9d569f5a55de",
   "metadata": {},
   "outputs": [],
   "source": []
  },
  {
   "cell_type": "markdown",
   "id": "c28fe7a0-7280-4ea4-b6c3-8f8b5f16fa39",
   "metadata": {},
   "source": [
    "# Module contenant tous les packages à télécharger"
   ]
  },
  {
   "cell_type": "markdown",
   "id": "f62a4e72-0ed2-4e3b-846a-598c8a465d46",
   "metadata": {},
   "source": [
    "# Packages de \"Base\""
   ]
  },
  {
   "cell_type": "code",
   "execution_count": 2,
   "id": "eb4e4293-afc8-4e4e-8cc0-23520673c0a7",
   "metadata": {},
   "outputs": [],
   "source": [
    "import pandas as pd # On importe la librairie Pandas, que l'on surnomme 'pd'\n",
    "import seaborn as sns\n",
    "import re\n",
    "import gc\n",
    "import json # Pour gérer ce format, utile pour la colonne de texte\n",
    "import ast\n",
    "import timeit # Obtenir info sur temps de calcul\n",
    "import time # Temps calcul\n",
    "import pickle"
   ]
  },
  {
   "cell_type": "code",
   "execution_count": 2,
   "id": "3ec81f58-5170-4247-ab25-b4392769024e",
   "metadata": {},
   "outputs": [
    {
     "name": "stdout",
     "output_type": "stream",
     "text": [
      "Requirement already satisfied: keyboard in c:\\users\\evari\\anaconda3\\lib\\site-packages (0.13.5)\n"
     ]
    }
   ],
   "source": [
    "# Pour faire appel au clavier et input/output utilisateur\n",
    "import sys\n",
    "!pip install keyboard\n",
    "import keyboard"
   ]
  },
  {
   "cell_type": "code",
   "execution_count": 3,
   "id": "882bfb76-2a7c-4fa8-81b0-25c1a802ab6d",
   "metadata": {},
   "outputs": [],
   "source": [
    "from IPython.display import display, HTML"
   ]
  },
  {
   "cell_type": "code",
   "execution_count": 4,
   "id": "9039a87d-9a43-4c9b-a256-72f404f4e348",
   "metadata": {},
   "outputs": [],
   "source": [
    "from datetime import datetime #Gérer les objet de temps/date"
   ]
  },
  {
   "cell_type": "code",
   "execution_count": 5,
   "id": "62c236b7-1849-4204-9c6f-cb859df4981e",
   "metadata": {},
   "outputs": [],
   "source": [
    "# Pour gerer les fichiers / en ouverture\n",
    "import glob"
   ]
  },
  {
   "cell_type": "code",
   "execution_count": 6,
   "id": "173e56aa-1a44-4967-be1d-1736bb76cfa1",
   "metadata": {},
   "outputs": [],
   "source": [
    "# Pour avoir la carte du monde\n",
    "\n",
    "# !pip install folium\n",
    "# import folium\n",
    "# import folium.plugins"
   ]
  },
  {
   "cell_type": "code",
   "execution_count": 7,
   "id": "2dca03ad-4d4c-4165-8a41-356db5e20873",
   "metadata": {},
   "outputs": [],
   "source": [
    "from datetime import datetime\n",
    "# Pour gérer les dates"
   ]
  },
  {
   "cell_type": "markdown",
   "id": "20f5f61f-267f-4ea7-9881-55d3592bc670",
   "metadata": {},
   "source": [
    "# Packages de Maths"
   ]
  },
  {
   "cell_type": "code",
   "execution_count": 8,
   "id": "9c0ff42d-92e3-4d3d-a87c-246767813936",
   "metadata": {},
   "outputs": [],
   "source": [
    "import numpy as np\n",
    "from numpy import radians, cos, sin, arcsin, sqrt\n",
    "import math\n",
    "from scipy import stats\n",
    "import matplotlib.pyplot as plt\n",
    "from math import pi"
   ]
  },
  {
   "cell_type": "code",
   "execution_count": 9,
   "id": "f8edade0-e16f-4a52-afa4-691f44eaf9ff",
   "metadata": {},
   "outputs": [],
   "source": [
    "import statsmodels.api as sm\n",
    "import pylab"
   ]
  },
  {
   "cell_type": "code",
   "execution_count": 10,
   "id": "0d14f11d-ad05-4c93-834a-dd5ecbd2acfc",
   "metadata": {},
   "outputs": [],
   "source": [
    "import matplotlib as mpl"
   ]
  },
  {
   "cell_type": "markdown",
   "id": "a270cad6-ca81-4f20-8af6-21fb27b03367",
   "metadata": {},
   "source": [
    "# Packages pour le texte"
   ]
  },
  {
   "cell_type": "code",
   "execution_count": 12,
   "id": "a6df2375-fae7-4ef1-bf23-723d226ca3b8",
   "metadata": {},
   "outputs": [],
   "source": [
    "import spacy\n",
    "# nlp = spacy.load(\"en_core_web_sm\")\n",
    "from nltk.corpus import stopwords\n",
    "from gensim.corpora import Dictionary\n",
    "from gensim.matutils import corpus2csc\n",
    "from gensim.models import Phrases\n",
    "from gensim.models.phrases import Phraser\n",
    "from gensim.utils import simple_preprocess"
   ]
  },
  {
   "cell_type": "code",
   "execution_count": 7,
   "id": "c96498ae-15be-4c77-ad84-dbecdf73f27a",
   "metadata": {},
   "outputs": [
    {
     "name": "stdout",
     "output_type": "stream",
     "text": [
      "Requirement already satisfied: bs4 in c:\\users\\evari\\anaconda3\\lib\\site-packages (0.0.1)\n",
      "Requirement already satisfied: beautifulsoup4 in c:\\users\\evari\\anaconda3\\lib\\site-packages (from bs4) (4.9.3)\n",
      "Requirement already satisfied: soupsieve>1.2 in c:\\users\\evari\\anaconda3\\lib\\site-packages (from beautifulsoup4->bs4) (2.2.1)\n",
      "Requirement already satisfied: autocorrect in c:\\users\\evari\\anaconda3\\lib\\site-packages (2.5.0)\n"
     ]
    }
   ],
   "source": [
    "!pip install bs4\n",
    "!pip install autocorrect "
   ]
  },
  {
   "cell_type": "code",
   "execution_count": 10,
   "id": "13113d29-5b4d-425e-8ec3-aa75bdeb98f9",
   "metadata": {},
   "outputs": [],
   "source": [
    "# !pip install contractions\n",
    "from contractions import CONTRACTION_MAP"
   ]
  },
  {
   "cell_type": "code",
   "execution_count": 11,
   "id": "240762b0-f136-4d05-8227-de0555706984",
   "metadata": {},
   "outputs": [],
   "source": [
    "# Text librairies\n",
    "from bs4 import BeautifulSoup\n",
    "import nltk\n",
    "import requests\n",
    "from nltk.tokenize import ToktokTokenizer\n",
    "from nltk.stem.wordnet import WordNetLemmatizer\n",
    "from nltk.stem import PorterStemmer\n",
    "from nltk.corpus import wordnet\n",
    "from nltk.corpus import stopwords\n",
    "from nltk.tag.util import untag\n",
    "# import contractions\n",
    "from autocorrect import Speller"
   ]
  },
  {
   "cell_type": "code",
   "execution_count": null,
   "id": "450e8a46-c601-401b-9bee-4f252674213c",
   "metadata": {},
   "outputs": [],
   "source": [
    "import unicodedata"
   ]
  },
  {
   "cell_type": "code",
   "execution_count": 13,
   "id": "b31313b4-b1cd-49b3-9045-fb8b0b4c95e5",
   "metadata": {},
   "outputs": [],
   "source": [
    "# tokenizer = ToktokTokenizer()\n",
    "# stopword_list = nltk.corpus.stopwords.words('english')\n",
    "# stopword_list.remove('no')\n",
    "# stopword_list.remove('not')"
   ]
  },
  {
   "cell_type": "code",
   "execution_count": 6,
   "id": "4682759f-9824-413e-96ec-cc154a8debb0",
   "metadata": {},
   "outputs": [
    {
     "name": "stdout",
     "output_type": "stream",
     "text": [
      "Requirement already satisfied: bs4 in c:\\users\\evari\\anaconda3\\lib\\site-packages (0.0.1)\n",
      "Requirement already satisfied: beautifulsoup4 in c:\\users\\evari\\anaconda3\\lib\\site-packages (from bs4) (4.9.3)\n",
      "Requirement already satisfied: soupsieve>1.2 in c:\\users\\evari\\anaconda3\\lib\\site-packages (from beautifulsoup4->bs4) (2.2.1)\n",
      "Requirement already satisfied: autocorrect in c:\\users\\evari\\anaconda3\\lib\\site-packages (2.5.0)\n"
     ]
    }
   ],
   "source": [
    "! pip install bs4\n",
    "! pip install autocorrect "
   ]
  },
  {
   "cell_type": "code",
   "execution_count": 7,
   "id": "8049464d-fad8-4caa-8e49-78c8337e09f4",
   "metadata": {},
   "outputs": [],
   "source": [
    "# !pip install contractions\n",
    "from contractions import CONTRACTION_MAP"
   ]
  },
  {
   "cell_type": "code",
   "execution_count": 8,
   "id": "68c53fae-bb76-4bfb-9ab6-937d2ac27a18",
   "metadata": {},
   "outputs": [],
   "source": [
    "# generic librairies\n",
    "import time as time\n",
    "import numpy as np\n",
    "import pandas as pd\n",
    "import gc\n",
    "\n",
    "# Text librairies\n",
    "import re\n",
    "from bs4 import BeautifulSoup\n",
    "import nltk\n",
    "from nltk.tokenize import ToktokTokenizer\n",
    "from nltk.stem.wordnet import WordNetLemmatizer\n",
    "from nltk.stem import PorterStemmer\n",
    "from nltk.corpus import wordnet\n",
    "from nltk.corpus import stopwords\n",
    "from nltk.tag.util import untag\n",
    "import contractions\n",
    "# import pycontractions # Alternative better package for removing contractions\n",
    "from autocorrect import Speller"
   ]
  },
  {
   "cell_type": "code",
   "execution_count": 1,
   "id": "cea31f85-e2f7-49c0-888a-8dec96c5b81e",
   "metadata": {},
   "outputs": [],
   "source": [
    "!pip install wordcloud\n",
    "# Import the wordcloud library\n",
    "from wordcloud import WordCloud# Join the different processed titles together."
   ]
  },
  {
   "cell_type": "code",
   "execution_count": null,
   "id": "2b5d048d-cd10-410b-b874-86172d229bca",
   "metadata": {},
   "outputs": [],
   "source": []
  },
  {
   "cell_type": "markdown",
   "id": "39e8dde3-8fa3-4c8a-aedf-868ec03b58e2",
   "metadata": {},
   "source": [
    "# Machine Learning for text data : Classifiers"
   ]
  },
  {
   "cell_type": "code",
   "execution_count": 12,
   "id": "3e3d5a58-6d52-4836-ba09-cbb275dc814e",
   "metadata": {},
   "outputs": [],
   "source": [
    "# Classif random forest\n",
    "from sklearn.ensemble import RandomForestClassifier\n",
    "\n",
    "# Classif SVM\n",
    "from sklearn.svm import LinearSVC\n",
    "\n",
    "from sklearn.multiclass import OneVsRestClassifier\n",
    "from sklearn.naive_bayes import MultinomialNB"
   ]
  },
  {
   "cell_type": "markdown",
   "id": "361f6ecd-f4a5-424a-8c9a-de0f669b69a7",
   "metadata": {},
   "source": [
    "# Preprocessing"
   ]
  },
  {
   "cell_type": "code",
   "execution_count": 13,
   "id": "94fccbde-8051-4710-887e-c8179be57d3f",
   "metadata": {},
   "outputs": [],
   "source": [
    "# Perform feature selection using a variance threshold\n",
    "from sklearn.feature_selection import VarianceThreshold"
   ]
  },
  {
   "cell_type": "code",
   "execution_count": 14,
   "id": "bd6e8ad9-eee1-4ea8-8040-2e36eaa64063",
   "metadata": {},
   "outputs": [],
   "source": [
    "from sklearn import preprocessing\n",
    "from sklearn.preprocessing import FunctionTransformer"
   ]
  },
  {
   "cell_type": "code",
   "execution_count": 15,
   "id": "95608331-55c3-406c-b57b-e66156d47d8a",
   "metadata": {},
   "outputs": [],
   "source": [
    "# Les méthodes pour imputer les valeurs manquantes\n",
    "from sklearn.impute import SimpleImputer"
   ]
  },
  {
   "cell_type": "code",
   "execution_count": 16,
   "id": "b1223ec1-0733-453a-a46e-350bb97ad625",
   "metadata": {},
   "outputs": [],
   "source": [
    "# Imputation des valeurs manquantes avec modèle de knn\n",
    "from sklearn.impute import KNNImputer "
   ]
  },
  {
   "cell_type": "markdown",
   "id": "673b3b7a-bfa5-4c09-a3c7-8b626d111597",
   "metadata": {},
   "source": [
    "# Packages sklearn nécessaires"
   ]
  },
  {
   "cell_type": "code",
   "execution_count": 17,
   "id": "144ac175-fa81-4a49-9254-f71f8459a6db",
   "metadata": {},
   "outputs": [],
   "source": [
    "# Pour séparer le jeu de données en entrainement/test\n",
    "from sklearn.model_selection import train_test_split \n",
    "from sklearn import model_selection"
   ]
  },
  {
   "cell_type": "code",
   "execution_count": 18,
   "id": "435d03d2-4cfe-4ae5-87f7-63db1b13ef24",
   "metadata": {},
   "outputs": [],
   "source": [
    "# Pour une cross validation respectant les repartitions : il faut des classes !\n",
    "# concerne : StratifiedKFold\n",
    "from sklearn.model_selection import StratifiedKFold \n",
    "\n",
    "# Séparations en folds : méthode classique\n",
    "from sklearn.model_selection import KFold\n",
    "\n",
    "# Scores de \"précisions\" et d'erreur des algo\n",
    "from sklearn import neighbors, metrics\n",
    "from sklearn.metrics import r2_score\n",
    "from sklearn.metrics import mean_squared_error\n",
    "from sklearn.metrics import mean_absolute_error\n"
   ]
  },
  {
   "cell_type": "code",
   "execution_count": 19,
   "id": "58bd1bc6-03dc-4459-bd36-ff2ad3bdb3ef",
   "metadata": {},
   "outputs": [],
   "source": [
    "# Pour regarder les multicolinéarités\n",
    "from statsmodels.stats.outliers_influence import variance_inflation_factor"
   ]
  },
  {
   "cell_type": "code",
   "execution_count": 20,
   "id": "ab8c9252-b513-4da7-ba52-9257eb0725d6",
   "metadata": {},
   "outputs": [],
   "source": [
    "# Utile pour automatiser l'ecriture des modèles de ML\n",
    "from sklearn.pipeline import make_pipeline \n",
    "from sklearn.pipeline import Pipeline\n",
    "\n",
    "# Intervient dans le pipeline pour transformer variable\n",
    "from sklearn.compose import TransformedTargetRegressor\n",
    "\n",
    "# Pour trouver les hyperparam optimaux\n",
    "from sklearn.model_selection import GridSearchCV \n",
    "from sklearn.model_selection import RandomizedSearchCV"
   ]
  },
  {
   "cell_type": "code",
   "execution_count": 21,
   "id": "976cde4e-d11d-46b8-9d4a-3fce0a216ba2",
   "metadata": {},
   "outputs": [],
   "source": [
    "# Pour les données textuelles\n",
    "from sklearn.feature_extraction.text import TfidfTransformer\n",
    "from sklearn.preprocessing import MultiLabelBinarizer"
   ]
  },
  {
   "cell_type": "markdown",
   "id": "f76d89a0-340b-4fdc-80ac-08ea625fd07f",
   "metadata": {},
   "source": [
    "# Modèles non supervisés : for text data"
   ]
  },
  {
   "cell_type": "code",
   "execution_count": null,
   "id": "483ee2af-0fe6-4b90-bd32-83f256eec114",
   "metadata": {},
   "outputs": [],
   "source": [
    "import gensim"
   ]
  },
  {
   "cell_type": "code",
   "execution_count": null,
   "id": "8ece889d-aacc-479c-ab77-43b2ec5b1cfa",
   "metadata": {},
   "outputs": [],
   "source": [
    "from pprint import pprint# number of topics"
   ]
  },
  {
   "cell_type": "code",
   "execution_count": null,
   "id": "dbf57638-0832-4499-a4c0-68389cc1c828",
   "metadata": {},
   "outputs": [],
   "source": [
    "from gensim.test.utils import common_corpus, common_dictionary\n",
    "\n",
    "from gensim.models.coherencemodel import CoherenceModel"
   ]
  },
  {
   "cell_type": "code",
   "execution_count": null,
   "id": "d81e0d3a-bd44-49fd-b624-a2a0c07aba8e",
   "metadata": {},
   "outputs": [],
   "source": [
    "from matplotlib.ticker import MaxNLocator"
   ]
  },
  {
   "cell_type": "code",
   "execution_count": 2,
   "id": "9406da27-ae3a-46d3-9453-8462fa93de6f",
   "metadata": {},
   "outputs": [],
   "source": [
    "import time"
   ]
  },
  {
   "cell_type": "code",
   "execution_count": null,
   "id": "5c924b73-b747-4c38-a645-44a38827d354",
   "metadata": {},
   "outputs": [],
   "source": [
    "from sklearn.decomposition import NMF"
   ]
  },
  {
   "cell_type": "code",
   "execution_count": null,
   "id": "d513a210-7890-42fd-aa20-01f94cfd1192",
   "metadata": {},
   "outputs": [],
   "source": [
    "# import random \n",
    "from random import sample"
   ]
  },
  {
   "cell_type": "markdown",
   "id": "20730ce5-4ac2-4265-8da7-3b47c1b605a7",
   "metadata": {},
   "source": [
    "# Post-Processing - Transformation"
   ]
  },
  {
   "cell_type": "code",
   "execution_count": 22,
   "id": "b62da1fd-7979-4bf9-9055-ae8996986901",
   "metadata": {},
   "outputs": [
    {
     "name": "stdout",
     "output_type": "stream",
     "text": [
      "Requirement already satisfied: yellowbrick in c:\\users\\evari\\appdata\\roaming\\python\\python38\\site-packages (1.3.post1)\n",
      "Requirement already satisfied: scipy>=1.0.0 in c:\\users\\evari\\anaconda3\\lib\\site-packages (from yellowbrick) (1.6.2)\n",
      "Requirement already satisfied: cycler>=0.10.0 in c:\\users\\evari\\anaconda3\\lib\\site-packages (from yellowbrick) (0.10.0)\n",
      "Requirement already satisfied: numpy<1.20,>=1.16.0 in c:\\users\\evari\\anaconda3\\lib\\site-packages (from yellowbrick) (1.19.5)\n",
      "Requirement already satisfied: matplotlib!=3.0.0,>=2.0.2 in c:\\users\\evari\\anaconda3\\lib\\site-packages (from yellowbrick) (3.3.4)\n",
      "Requirement already satisfied: scikit-learn>=0.20 in c:\\users\\evari\\anaconda3\\lib\\site-packages (from yellowbrick) (0.24.1)\n",
      "Requirement already satisfied: six in c:\\users\\evari\\anaconda3\\lib\\site-packages (from cycler>=0.10.0->yellowbrick) (1.15.0)\n",
      "Requirement already satisfied: kiwisolver>=1.0.1 in c:\\users\\evari\\anaconda3\\lib\\site-packages (from matplotlib!=3.0.0,>=2.0.2->yellowbrick) (1.3.1)\n",
      "Requirement already satisfied: pillow>=6.2.0 in c:\\users\\evari\\anaconda3\\lib\\site-packages (from matplotlib!=3.0.0,>=2.0.2->yellowbrick) (8.2.0)\n",
      "Requirement already satisfied: python-dateutil>=2.1 in c:\\users\\evari\\anaconda3\\lib\\site-packages (from matplotlib!=3.0.0,>=2.0.2->yellowbrick) (2.8.1)\n",
      "Requirement already satisfied: pyparsing!=2.0.4,!=2.1.2,!=2.1.6,>=2.0.3 in c:\\users\\evari\\anaconda3\\lib\\site-packages (from matplotlib!=3.0.0,>=2.0.2->yellowbrick) (2.4.7)\n",
      "Requirement already satisfied: threadpoolctl>=2.0.0 in c:\\users\\evari\\anaconda3\\lib\\site-packages (from scikit-learn>=0.20->yellowbrick) (2.1.0)\n",
      "Requirement already satisfied: joblib>=0.11 in c:\\users\\evari\\anaconda3\\lib\\site-packages (from scikit-learn>=0.20->yellowbrick) (1.0.1)\n"
     ]
    }
   ],
   "source": [
    "# installation de yellowbrick nécessaire\n",
    "!pip install --user yellowbrick"
   ]
  },
  {
   "cell_type": "code",
   "execution_count": 23,
   "id": "58d123a6-85c8-4297-a658-2e6d18e295e2",
   "metadata": {},
   "outputs": [],
   "source": [
    "# Pour visualiser les elbows en graphes\n",
    "from yellowbrick.cluster import KElbowVisualizer, SilhouetteVisualizer"
   ]
  },
  {
   "cell_type": "code",
   "execution_count": 24,
   "id": "080c4205-f70d-4166-839c-a895adb52559",
   "metadata": {},
   "outputs": [],
   "source": [
    "# PCA decomposition\n",
    "from sklearn import decomposition"
   ]
  },
  {
   "cell_type": "code",
   "execution_count": 25,
   "id": "73c3a57b-b0b0-4fdc-a962-7227d081737d",
   "metadata": {},
   "outputs": [],
   "source": [
    "# Scores\n",
    "from sklearn.metrics import silhouette_score \n",
    "from sklearn.metrics import calinski_harabasz_score\n",
    "\n",
    "# Davies Bouldin score for K means\n",
    "from sklearn.metrics import davies_bouldin_score "
   ]
  },
  {
   "cell_type": "code",
   "execution_count": 26,
   "id": "3306ac4d-292f-4fe5-8825-3650a1243078",
   "metadata": {},
   "outputs": [],
   "source": [
    "# Inter cluster distance map\n",
    "from yellowbrick.cluster import InterclusterDistance"
   ]
  },
  {
   "cell_type": "code",
   "execution_count": 27,
   "id": "e141fe0e-cd57-4f1a-b30a-b76c546f7720",
   "metadata": {},
   "outputs": [],
   "source": [
    "# Graphe pour les centroides des clusters\n",
    "from pandas.plotting import parallel_coordinates"
   ]
  },
  {
   "cell_type": "code",
   "execution_count": 28,
   "id": "46819477-8357-4e7d-a1aa-1f9fa270afd4",
   "metadata": {},
   "outputs": [],
   "source": [
    "from matplotlib.collections import LineCollection\n",
    "from scipy.cluster.hierarchy import dendrogram"
   ]
  },
  {
   "cell_type": "code",
   "execution_count": 29,
   "id": "4910879b-1217-4589-8723-86242206f741",
   "metadata": {},
   "outputs": [],
   "source": [
    "# Rand score\n",
    "from sklearn.metrics.cluster import adjusted_rand_score\n",
    "\n",
    "# Mutual score\n",
    "from sklearn.metrics.cluster import adjusted_mutual_info_score"
   ]
  },
  {
   "cell_type": "code",
   "execution_count": 30,
   "id": "7abb5c84-234e-43ea-808c-0a9f55496eaa",
   "metadata": {},
   "outputs": [],
   "source": [
    "# Pour PCA\n",
    "from sklearn import (manifold, datasets, decomposition, ensemble,discriminant_analysis, random_projection)"
   ]
  }
 ],
 "metadata": {
  "kernelspec": {
   "display_name": "Python 3",
   "language": "python",
   "name": "python3"
  },
  "language_info": {
   "codemirror_mode": {
    "name": "ipython",
    "version": 3
   },
   "file_extension": ".py",
   "mimetype": "text/x-python",
   "name": "python",
   "nbconvert_exporter": "python",
   "pygments_lexer": "ipython3",
   "version": "3.8.8"
  }
 },
 "nbformat": 4,
 "nbformat_minor": 5
}

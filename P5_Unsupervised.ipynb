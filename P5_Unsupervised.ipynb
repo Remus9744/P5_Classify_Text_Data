{
 "cells": [
  {
   "cell_type": "code",
   "execution_count": 1,
   "id": "2773599b-d154-43ab-b6a3-5be8b734fdbf",
   "metadata": {},
   "outputs": [],
   "source": [
    "# import warnings\n",
    "\n",
    "# warnings.filterwarnings(action='always')\n",
    "# warnings.filterwarnings(\"ignore\",category=DeprecationWarning)\n",
    "# warnings.filterwarnings(\"ignore\",category=ResourceWarning)\n",
    "\n",
    "import sys\n",
    "import warnings\n",
    "\n",
    "if not sys.warnoptions:\n",
    "    warnings.simplefilter(\"ignore\")\n",
    "    \n",
    "warnings.filterwarnings(\"ignore\", category=DeprecationWarning)"
   ]
  },
  {
   "cell_type": "markdown",
   "id": "14fbda1c-4c2e-4c84-b08b-4cd5a8fab277",
   "metadata": {
    "tags": []
   },
   "source": [
    "# 3.1 : Importation des packages & fonctions"
   ]
  },
  {
   "cell_type": "code",
   "execution_count": 2,
   "id": "b55f82d5-5156-42b8-8a91-ba876acd9a8d",
   "metadata": {},
   "outputs": [
    {
     "name": "stdout",
     "output_type": "stream",
     "text": [
      "Requirement already satisfied: keyboard in c:\\users\\evari\\anaconda3\\lib\\site-packages (0.13.5)\n",
      "Requirement already satisfied: bs4 in c:\\users\\evari\\anaconda3\\lib\\site-packages (0.0.1)\n",
      "Requirement already satisfied: beautifulsoup4 in c:\\users\\evari\\anaconda3\\lib\\site-packages (from bs4) (4.9.3)\n",
      "Requirement already satisfied: soupsieve>1.2 in c:\\users\\evari\\anaconda3\\lib\\site-packages (from beautifulsoup4->bs4) (2.2.1)\n",
      "Requirement already satisfied: autocorrect in c:\\users\\evari\\anaconda3\\lib\\site-packages (2.5.0)\n",
      "Requirement already satisfied: wordcloud in c:\\users\\evari\\anaconda3\\lib\\site-packages (1.8.1)\n",
      "Requirement already satisfied: numpy>=1.6.1 in c:\\users\\evari\\appdata\\roaming\\python\\python38\\site-packages (from wordcloud) (1.19.5)\n",
      "Requirement already satisfied: pillow in c:\\users\\evari\\anaconda3\\lib\\site-packages (from wordcloud) (8.2.0)\n",
      "Requirement already satisfied: matplotlib in c:\\users\\evari\\anaconda3\\lib\\site-packages (from wordcloud) (3.3.4)\n",
      "Requirement already satisfied: cycler>=0.10 in c:\\users\\evari\\anaconda3\\lib\\site-packages (from matplotlib->wordcloud) (0.10.0)\n",
      "Requirement already satisfied: python-dateutil>=2.1 in c:\\users\\evari\\anaconda3\\lib\\site-packages (from matplotlib->wordcloud) (2.8.1)\n",
      "Requirement already satisfied: pyparsing!=2.0.4,!=2.1.2,!=2.1.6,>=2.0.3 in c:\\users\\evari\\anaconda3\\lib\\site-packages (from matplotlib->wordcloud) (2.4.7)\n",
      "Requirement already satisfied: kiwisolver>=1.0.1 in c:\\users\\evari\\anaconda3\\lib\\site-packages (from matplotlib->wordcloud) (1.3.1)\n",
      "Requirement already satisfied: six in c:\\users\\evari\\anaconda3\\lib\\site-packages (from cycler>=0.10->matplotlib->wordcloud) (1.15.0)\n",
      "Requirement already satisfied: pyLDAvis in c:\\users\\evari\\anaconda3\\lib\\site-packages (3.2.1)\n",
      "Requirement already satisfied: funcy in c:\\users\\evari\\anaconda3\\lib\\site-packages (from pyLDAvis) (1.16)\n",
      "Requirement already satisfied: scipy>=0.18.0 in c:\\users\\evari\\anaconda3\\lib\\site-packages (from pyLDAvis) (1.6.2)\n",
      "Requirement already satisfied: numpy>=1.9.2 in c:\\users\\evari\\appdata\\roaming\\python\\python38\\site-packages (from pyLDAvis) (1.19.5)\n",
      "Requirement already satisfied: wheel>=0.23.0 in c:\\users\\evari\\anaconda3\\lib\\site-packages (from pyLDAvis) (0.36.2)\n",
      "Requirement already satisfied: pandas>=0.17.0 in c:\\users\\evari\\anaconda3\\lib\\site-packages (from pyLDAvis) (1.2.4)\n",
      "Requirement already satisfied: numexpr in c:\\users\\evari\\anaconda3\\lib\\site-packages (from pyLDAvis) (2.7.3)\n",
      "Requirement already satisfied: future in c:\\users\\evari\\anaconda3\\lib\\site-packages (from pyLDAvis) (0.18.2)\n",
      "Requirement already satisfied: joblib>=0.8.4 in c:\\users\\evari\\anaconda3\\lib\\site-packages (from pyLDAvis) (1.0.1)\n",
      "Requirement already satisfied: jinja2>=2.7.2 in c:\\users\\evari\\anaconda3\\lib\\site-packages (from pyLDAvis) (2.11.3)\n",
      "Requirement already satisfied: MarkupSafe>=0.23 in c:\\users\\evari\\anaconda3\\lib\\site-packages (from jinja2>=2.7.2->pyLDAvis) (1.1.1)\n",
      "Requirement already satisfied: pytz>=2017.3 in c:\\users\\evari\\anaconda3\\lib\\site-packages (from pandas>=0.17.0->pyLDAvis) (2021.1)\n",
      "Requirement already satisfied: python-dateutil>=2.7.3 in c:\\users\\evari\\anaconda3\\lib\\site-packages (from pandas>=0.17.0->pyLDAvis) (2.8.1)\n",
      "Requirement already satisfied: six>=1.5 in c:\\users\\evari\\anaconda3\\lib\\site-packages (from python-dateutil>=2.7.3->pandas>=0.17.0->pyLDAvis) (1.15.0)\n"
     ]
    }
   ],
   "source": [
    "# Importation des packages souhaités\n",
    "%run P5_Packages.ipynb"
   ]
  },
  {
   "cell_type": "code",
   "execution_count": 3,
   "id": "538a114e-cd61-47cf-ab28-62e627a1fa57",
   "metadata": {},
   "outputs": [
    {
     "name": "stderr",
     "output_type": "stream",
     "text": [
      "C:\\Users\\evari\\anaconda3\\lib\\site-packages\\ipykernel\\ipkernel.py:287: DeprecationWarning: `should_run_async` will not call `transform_cell` automatically in the future. Please pass the result to `transformed_cell` argument and any exception that happen during thetransform in `preprocessing_exc_tuple` in IPython 7.17 and above.\n",
      "  and should_run_async(code)\n"
     ]
    }
   ],
   "source": [
    "# import warnings\n",
    "\n",
    "# warnings.filterwarnings(action='always')\n",
    "# warnings.filterwarnings(\"ignore\",category=DeprecationWarning)\n",
    "# warnings.filterwarnings(\"ignore\",category=ResourceWarning)\n",
    "\n",
    "import sys\n",
    "import warnings\n",
    "\n",
    "if not sys.warnoptions:\n",
    "    warnings.simplefilter(\"ignore\")\n",
    "    \n",
    "warnings.filterwarnings(\"ignore\",category=DeprecationWarning)"
   ]
  },
  {
   "cell_type": "code",
   "execution_count": 4,
   "id": "f6840dd4-5643-4870-9140-ca98a9da2324",
   "metadata": {},
   "outputs": [
    {
     "name": "stdout",
     "output_type": "stream",
     "text": [
      "Requirement already satisfied: keyboard in c:\\users\\evari\\anaconda3\\lib\\site-packages (0.13.5)\n",
      "Requirement already satisfied: bs4 in c:\\users\\evari\\anaconda3\\lib\\site-packages (0.0.1)\n",
      "Requirement already satisfied: beautifulsoup4 in c:\\users\\evari\\anaconda3\\lib\\site-packages (from bs4) (4.9.3)\n",
      "Requirement already satisfied: soupsieve>1.2 in c:\\users\\evari\\anaconda3\\lib\\site-packages (from beautifulsoup4->bs4) (2.2.1)\n",
      "Requirement already satisfied: autocorrect in c:\\users\\evari\\anaconda3\\lib\\site-packages (2.5.0)\n",
      "Requirement already satisfied: wordcloud in c:\\users\\evari\\anaconda3\\lib\\site-packages (1.8.1)\n",
      "Requirement already satisfied: numpy>=1.6.1 in c:\\users\\evari\\appdata\\roaming\\python\\python38\\site-packages (from wordcloud) (1.19.5)\n",
      "Requirement already satisfied: pillow in c:\\users\\evari\\anaconda3\\lib\\site-packages (from wordcloud) (8.2.0)\n",
      "Requirement already satisfied: matplotlib in c:\\users\\evari\\anaconda3\\lib\\site-packages (from wordcloud) (3.3.4)\n",
      "Requirement already satisfied: pyparsing!=2.0.4,!=2.1.2,!=2.1.6,>=2.0.3 in c:\\users\\evari\\anaconda3\\lib\\site-packages (from matplotlib->wordcloud) (2.4.7)\n",
      "Requirement already satisfied: kiwisolver>=1.0.1 in c:\\users\\evari\\anaconda3\\lib\\site-packages (from matplotlib->wordcloud) (1.3.1)\n",
      "Requirement already satisfied: cycler>=0.10 in c:\\users\\evari\\anaconda3\\lib\\site-packages (from matplotlib->wordcloud) (0.10.0)\n",
      "Requirement already satisfied: python-dateutil>=2.1 in c:\\users\\evari\\anaconda3\\lib\\site-packages (from matplotlib->wordcloud) (2.8.1)\n",
      "Requirement already satisfied: six in c:\\users\\evari\\anaconda3\\lib\\site-packages (from cycler>=0.10->matplotlib->wordcloud) (1.15.0)\n",
      "Requirement already satisfied: pyLDAvis in c:\\users\\evari\\anaconda3\\lib\\site-packages (3.2.1)\n",
      "Requirement already satisfied: future in c:\\users\\evari\\anaconda3\\lib\\site-packages (from pyLDAvis) (0.18.2)\n",
      "Requirement already satisfied: pandas>=0.17.0 in c:\\users\\evari\\anaconda3\\lib\\site-packages (from pyLDAvis) (1.2.4)\n",
      "Requirement already satisfied: funcy in c:\\users\\evari\\anaconda3\\lib\\site-packages (from pyLDAvis) (1.16)\n",
      "Requirement already satisfied: numpy>=1.9.2 in c:\\users\\evari\\appdata\\roaming\\python\\python38\\site-packages (from pyLDAvis) (1.19.5)\n",
      "Requirement already satisfied: joblib>=0.8.4 in c:\\users\\evari\\anaconda3\\lib\\site-packages (from pyLDAvis) (1.0.1)\n",
      "Requirement already satisfied: wheel>=0.23.0 in c:\\users\\evari\\anaconda3\\lib\\site-packages (from pyLDAvis) (0.36.2)\n",
      "Requirement already satisfied: jinja2>=2.7.2 in c:\\users\\evari\\anaconda3\\lib\\site-packages (from pyLDAvis) (2.11.3)\n",
      "Requirement already satisfied: numexpr in c:\\users\\evari\\anaconda3\\lib\\site-packages (from pyLDAvis) (2.7.3)\n",
      "Requirement already satisfied: scipy>=0.18.0 in c:\\users\\evari\\anaconda3\\lib\\site-packages (from pyLDAvis) (1.6.2)\n",
      "Requirement already satisfied: MarkupSafe>=0.23 in c:\\users\\evari\\anaconda3\\lib\\site-packages (from jinja2>=2.7.2->pyLDAvis) (1.1.1)\n",
      "Requirement already satisfied: pytz>=2017.3 in c:\\users\\evari\\anaconda3\\lib\\site-packages (from pandas>=0.17.0->pyLDAvis) (2021.1)\n",
      "Requirement already satisfied: python-dateutil>=2.7.3 in c:\\users\\evari\\anaconda3\\lib\\site-packages (from pandas>=0.17.0->pyLDAvis) (2.8.1)\n",
      "Requirement already satisfied: six>=1.5 in c:\\users\\evari\\anaconda3\\lib\\site-packages (from python-dateutil>=2.7.3->pandas>=0.17.0->pyLDAvis) (1.15.0)\n"
     ]
    },
    {
     "name": "stderr",
     "output_type": "stream",
     "text": [
      "[nltk_data] Downloading package averaged_perceptron_tagger to\n",
      "[nltk_data]     C:\\Users\\evari\\AppData\\Roaming\\nltk_data...\n",
      "[nltk_data]   Package averaged_perceptron_tagger is already up-to-\n",
      "[nltk_data]       date!\n"
     ]
    }
   ],
   "source": [
    "# Importation du notebook contenant les fonctions\n",
    "\n",
    "%run P5_Functions.ipynb"
   ]
  },
  {
   "cell_type": "markdown",
   "id": "97d4d6e9-9990-4dc2-bec6-3afde7728d75",
   "metadata": {},
   "source": [
    "# 3.2 : Importation des fichiers"
   ]
  },
  {
   "cell_type": "code",
   "execution_count": 5,
   "id": "bf19a91d-aa9c-48da-8da0-0696160c527b",
   "metadata": {},
   "outputs": [],
   "source": [
    "pd.set_option('display.max_columns', None)"
   ]
  },
  {
   "cell_type": "code",
   "execution_count": 6,
   "id": "d9e2a15e-807c-4e64-8e4d-e63afc9113de",
   "metadata": {},
   "outputs": [],
   "source": [
    "importation = 'df_questions_cleaned.csv'\n",
    "df_cleaned = pd.read_csv(importation, sep=',')"
   ]
  },
  {
   "cell_type": "code",
   "execution_count": 7,
   "id": "14136607-e6db-421f-b5df-a9d58e15ae2e",
   "metadata": {},
   "outputs": [
    {
     "data": {
      "text/html": [
       "<div>\n",
       "<style scoped>\n",
       "    .dataframe tbody tr th:only-of-type {\n",
       "        vertical-align: middle;\n",
       "    }\n",
       "\n",
       "    .dataframe tbody tr th {\n",
       "        vertical-align: top;\n",
       "    }\n",
       "\n",
       "    .dataframe thead th {\n",
       "        text-align: right;\n",
       "    }\n",
       "</style>\n",
       "<table border=\"1\" class=\"dataframe\">\n",
       "  <thead>\n",
       "    <tr style=\"text-align: right;\">\n",
       "      <th></th>\n",
       "      <th>Unnamed: 0</th>\n",
       "      <th>Unnamed: 0.1</th>\n",
       "      <th>id</th>\n",
       "      <th>doc</th>\n",
       "      <th>title</th>\n",
       "      <th>tags</th>\n",
       "      <th>creation_date</th>\n",
       "      <th>score</th>\n",
       "      <th>views</th>\n",
       "      <th>answers</th>\n",
       "      <th>comments</th>\n",
       "      <th>favorites</th>\n",
       "      <th>last_activity_date</th>\n",
       "      <th>text</th>\n",
       "    </tr>\n",
       "  </thead>\n",
       "  <tbody>\n",
       "    <tr>\n",
       "      <th>0</th>\n",
       "      <td>0</td>\n",
       "      <td>0</td>\n",
       "      <td>9056957</td>\n",
       "      <td>python people initialize class attribute two w...</td>\n",
       "      <td>way class variable python</td>\n",
       "      <td>&lt;python&gt;&lt;class&gt;&lt;attributes&gt;</td>\n",
       "      <td>2012-01-29 21:26:39</td>\n",
       "      <td>296</td>\n",
       "      <td>372888</td>\n",
       "      <td>2</td>\n",
       "      <td>1</td>\n",
       "      <td>105</td>\n",
       "      <td>2021-01-25 13:17:29</td>\n",
       "      <td>way class variable python python people initia...</td>\n",
       "    </tr>\n",
       "    <tr>\n",
       "      <th>1</th>\n",
       "      <td>1</td>\n",
       "      <td>1</td>\n",
       "      <td>52013133</td>\n",
       "      <td>use webpack create config file try use htmlweb...</td>\n",
       "      <td>entrypoint index html use htmlwebpackplugin</td>\n",
       "      <td>&lt;node.js&gt;&lt;reactjs&gt;&lt;webpack&gt;&lt;html-webpack-plugin&gt;</td>\n",
       "      <td>2018-08-25 00:32:17</td>\n",
       "      <td>31</td>\n",
       "      <td>33607</td>\n",
       "      <td>5</td>\n",
       "      <td>2</td>\n",
       "      <td>7</td>\n",
       "      <td>2021-07-18 06:19:28</td>\n",
       "      <td>entrypoint index html use htmlwebpackplugin us...</td>\n",
       "    </tr>\n",
       "    <tr>\n",
       "      <th>2</th>\n",
       "      <td>2</td>\n",
       "      <td>2</td>\n",
       "      <td>261963</td>\n",
       "      <td>notice math operator num way literate value num</td>\n",
       "      <td>literate num</td>\n",
       "      <td>&lt;c++&gt;&lt;enums&gt;</td>\n",
       "      <td>2008-11-04 13:55:29</td>\n",
       "      <td>354</td>\n",
       "      <td>374899</td>\n",
       "      <td>24</td>\n",
       "      <td>5</td>\n",
       "      <td>67</td>\n",
       "      <td>2021-05-23 11:33:10</td>\n",
       "      <td>literate num notice math operator num way lite...</td>\n",
       "    </tr>\n",
       "    <tr>\n",
       "      <th>3</th>\n",
       "      <td>3</td>\n",
       "      <td>3</td>\n",
       "      <td>60684868</td>\n",
       "      <td>currently try use pretrained model provide dec...</td>\n",
       "      <td>decker image use compile work cpu</td>\n",
       "      <td>&lt;docker&gt;&lt;tensorflow&gt;</td>\n",
       "      <td>2020-03-14 16:25:39</td>\n",
       "      <td>1</td>\n",
       "      <td>225</td>\n",
       "      <td>1</td>\n",
       "      <td>5</td>\n",
       "      <td>1</td>\n",
       "      <td>2021-01-04 03:48:09</td>\n",
       "      <td>decker image use compile work cpu currently tr...</td>\n",
       "    </tr>\n",
       "    <tr>\n",
       "      <th>4</th>\n",
       "      <td>4</td>\n",
       "      <td>4</td>\n",
       "      <td>35136616</td>\n",
       "      <td>can not figure case loss application write ele...</td>\n",
       "      <td>handle loss three j</td>\n",
       "      <td>&lt;javascript&gt;&lt;three.js&gt;&lt;webgl&gt;&lt;electron&gt;</td>\n",
       "      <td>2016-02-01 17:26:01</td>\n",
       "      <td>6</td>\n",
       "      <td>412</td>\n",
       "      <td>1</td>\n",
       "      <td>0</td>\n",
       "      <td>1</td>\n",
       "      <td>2021-03-18 17:02:54</td>\n",
       "      <td>handle loss three j can not figure case loss a...</td>\n",
       "    </tr>\n",
       "  </tbody>\n",
       "</table>\n",
       "</div>"
      ],
      "text/plain": [
       "   Unnamed: 0  Unnamed: 0.1        id  \\\n",
       "0           0             0   9056957   \n",
       "1           1             1  52013133   \n",
       "2           2             2    261963   \n",
       "3           3             3  60684868   \n",
       "4           4             4  35136616   \n",
       "\n",
       "                                                 doc  \\\n",
       "0  python people initialize class attribute two w...   \n",
       "1  use webpack create config file try use htmlweb...   \n",
       "2    notice math operator num way literate value num   \n",
       "3  currently try use pretrained model provide dec...   \n",
       "4  can not figure case loss application write ele...   \n",
       "\n",
       "                                         title  \\\n",
       "0                    way class variable python   \n",
       "1  entrypoint index html use htmlwebpackplugin   \n",
       "2                                 literate num   \n",
       "3            decker image use compile work cpu   \n",
       "4                          handle loss three j   \n",
       "\n",
       "                                               tags        creation_date  \\\n",
       "0                       <python><class><attributes>  2012-01-29 21:26:39   \n",
       "1  <node.js><reactjs><webpack><html-webpack-plugin>  2018-08-25 00:32:17   \n",
       "2                                      <c++><enums>  2008-11-04 13:55:29   \n",
       "3                              <docker><tensorflow>  2020-03-14 16:25:39   \n",
       "4           <javascript><three.js><webgl><electron>  2016-02-01 17:26:01   \n",
       "\n",
       "   score   views  answers  comments  favorites   last_activity_date  \\\n",
       "0    296  372888        2         1        105  2021-01-25 13:17:29   \n",
       "1     31   33607        5         2          7  2021-07-18 06:19:28   \n",
       "2    354  374899       24         5         67  2021-05-23 11:33:10   \n",
       "3      1     225        1         5          1  2021-01-04 03:48:09   \n",
       "4      6     412        1         0          1  2021-03-18 17:02:54   \n",
       "\n",
       "                                                text  \n",
       "0  way class variable python python people initia...  \n",
       "1  entrypoint index html use htmlwebpackplugin us...  \n",
       "2  literate num notice math operator num way lite...  \n",
       "3  decker image use compile work cpu currently tr...  \n",
       "4  handle loss three j can not figure case loss a...  "
      ]
     },
     "execution_count": 7,
     "metadata": {},
     "output_type": "execute_result"
    }
   ],
   "source": [
    "df_cleaned.head()"
   ]
  },
  {
   "cell_type": "code",
   "execution_count": 8,
   "id": "c7053604-07ca-4c93-b35c-702f2d212db8",
   "metadata": {},
   "outputs": [
    {
     "data": {
      "text/html": [
       "<div>\n",
       "<style scoped>\n",
       "    .dataframe tbody tr th:only-of-type {\n",
       "        vertical-align: middle;\n",
       "    }\n",
       "\n",
       "    .dataframe tbody tr th {\n",
       "        vertical-align: top;\n",
       "    }\n",
       "\n",
       "    .dataframe thead th {\n",
       "        text-align: right;\n",
       "    }\n",
       "</style>\n",
       "<table border=\"1\" class=\"dataframe\">\n",
       "  <thead>\n",
       "    <tr style=\"text-align: right;\">\n",
       "      <th></th>\n",
       "      <th>Unnamed: 0</th>\n",
       "      <th>Unnamed: 0.1</th>\n",
       "      <th>id</th>\n",
       "      <th>doc</th>\n",
       "      <th>title</th>\n",
       "      <th>tags</th>\n",
       "      <th>creation_date</th>\n",
       "      <th>score</th>\n",
       "      <th>views</th>\n",
       "      <th>answers</th>\n",
       "      <th>comments</th>\n",
       "      <th>favorites</th>\n",
       "      <th>last_activity_date</th>\n",
       "      <th>text</th>\n",
       "    </tr>\n",
       "  </thead>\n",
       "  <tbody>\n",
       "    <tr>\n",
       "      <th>0</th>\n",
       "      <td>0</td>\n",
       "      <td>0</td>\n",
       "      <td>9056957</td>\n",
       "      <td>python people initialize class attribute two w...</td>\n",
       "      <td>way class variable python</td>\n",
       "      <td>&lt;python&gt;&lt;class&gt;&lt;attributes&gt;</td>\n",
       "      <td>2012-01-29 21:26:39</td>\n",
       "      <td>296</td>\n",
       "      <td>372888</td>\n",
       "      <td>2</td>\n",
       "      <td>1</td>\n",
       "      <td>105</td>\n",
       "      <td>2021-01-25 13:17:29</td>\n",
       "      <td>way class variable python python people initia...</td>\n",
       "    </tr>\n",
       "    <tr>\n",
       "      <th>1</th>\n",
       "      <td>1</td>\n",
       "      <td>1</td>\n",
       "      <td>52013133</td>\n",
       "      <td>use webpack create config file try use htmlweb...</td>\n",
       "      <td>entrypoint index html use htmlwebpackplugin</td>\n",
       "      <td>&lt;node.js&gt;&lt;reactjs&gt;&lt;webpack&gt;&lt;html-webpack-plugin&gt;</td>\n",
       "      <td>2018-08-25 00:32:17</td>\n",
       "      <td>31</td>\n",
       "      <td>33607</td>\n",
       "      <td>5</td>\n",
       "      <td>2</td>\n",
       "      <td>7</td>\n",
       "      <td>2021-07-18 06:19:28</td>\n",
       "      <td>entrypoint index html use htmlwebpackplugin us...</td>\n",
       "    </tr>\n",
       "    <tr>\n",
       "      <th>2</th>\n",
       "      <td>2</td>\n",
       "      <td>2</td>\n",
       "      <td>261963</td>\n",
       "      <td>notice math operator num way literate value num</td>\n",
       "      <td>literate num</td>\n",
       "      <td>&lt;c++&gt;&lt;enums&gt;</td>\n",
       "      <td>2008-11-04 13:55:29</td>\n",
       "      <td>354</td>\n",
       "      <td>374899</td>\n",
       "      <td>24</td>\n",
       "      <td>5</td>\n",
       "      <td>67</td>\n",
       "      <td>2021-05-23 11:33:10</td>\n",
       "      <td>literate num notice math operator num way lite...</td>\n",
       "    </tr>\n",
       "    <tr>\n",
       "      <th>3</th>\n",
       "      <td>3</td>\n",
       "      <td>3</td>\n",
       "      <td>60684868</td>\n",
       "      <td>currently try use pretrained model provide dec...</td>\n",
       "      <td>decker image use compile work cpu</td>\n",
       "      <td>&lt;docker&gt;&lt;tensorflow&gt;</td>\n",
       "      <td>2020-03-14 16:25:39</td>\n",
       "      <td>1</td>\n",
       "      <td>225</td>\n",
       "      <td>1</td>\n",
       "      <td>5</td>\n",
       "      <td>1</td>\n",
       "      <td>2021-01-04 03:48:09</td>\n",
       "      <td>decker image use compile work cpu currently tr...</td>\n",
       "    </tr>\n",
       "    <tr>\n",
       "      <th>4</th>\n",
       "      <td>4</td>\n",
       "      <td>4</td>\n",
       "      <td>35136616</td>\n",
       "      <td>can not figure case loss application write ele...</td>\n",
       "      <td>handle loss three j</td>\n",
       "      <td>&lt;javascript&gt;&lt;three.js&gt;&lt;webgl&gt;&lt;electron&gt;</td>\n",
       "      <td>2016-02-01 17:26:01</td>\n",
       "      <td>6</td>\n",
       "      <td>412</td>\n",
       "      <td>1</td>\n",
       "      <td>0</td>\n",
       "      <td>1</td>\n",
       "      <td>2021-03-18 17:02:54</td>\n",
       "      <td>handle loss three j can not figure case loss a...</td>\n",
       "    </tr>\n",
       "  </tbody>\n",
       "</table>\n",
       "</div>"
      ],
      "text/plain": [
       "   Unnamed: 0  Unnamed: 0.1        id  \\\n",
       "0           0             0   9056957   \n",
       "1           1             1  52013133   \n",
       "2           2             2    261963   \n",
       "3           3             3  60684868   \n",
       "4           4             4  35136616   \n",
       "\n",
       "                                                 doc  \\\n",
       "0  python people initialize class attribute two w...   \n",
       "1  use webpack create config file try use htmlweb...   \n",
       "2    notice math operator num way literate value num   \n",
       "3  currently try use pretrained model provide dec...   \n",
       "4  can not figure case loss application write ele...   \n",
       "\n",
       "                                         title  \\\n",
       "0                    way class variable python   \n",
       "1  entrypoint index html use htmlwebpackplugin   \n",
       "2                                 literate num   \n",
       "3            decker image use compile work cpu   \n",
       "4                          handle loss three j   \n",
       "\n",
       "                                               tags        creation_date  \\\n",
       "0                       <python><class><attributes>  2012-01-29 21:26:39   \n",
       "1  <node.js><reactjs><webpack><html-webpack-plugin>  2018-08-25 00:32:17   \n",
       "2                                      <c++><enums>  2008-11-04 13:55:29   \n",
       "3                              <docker><tensorflow>  2020-03-14 16:25:39   \n",
       "4           <javascript><three.js><webgl><electron>  2016-02-01 17:26:01   \n",
       "\n",
       "   score   views  answers  comments  favorites   last_activity_date  \\\n",
       "0    296  372888        2         1        105  2021-01-25 13:17:29   \n",
       "1     31   33607        5         2          7  2021-07-18 06:19:28   \n",
       "2    354  374899       24         5         67  2021-05-23 11:33:10   \n",
       "3      1     225        1         5          1  2021-01-04 03:48:09   \n",
       "4      6     412        1         0          1  2021-03-18 17:02:54   \n",
       "\n",
       "                                                text  \n",
       "0  way class variable python python people initia...  \n",
       "1  entrypoint index html use htmlwebpackplugin us...  \n",
       "2  literate num notice math operator num way lite...  \n",
       "3  decker image use compile work cpu currently tr...  \n",
       "4  handle loss three j can not figure case loss a...  "
      ]
     },
     "execution_count": 8,
     "metadata": {},
     "output_type": "execute_result"
    }
   ],
   "source": [
    "df_txt_cleaned = df_cleaned.copy() #['text']\n",
    "df_txt_cleaned.head()"
   ]
  },
  {
   "cell_type": "markdown",
   "id": "181b22d4-7f16-4dae-b6e1-8e8ea5305d67",
   "metadata": {
    "tags": []
   },
   "source": [
    "# 3.3 : Creation du dictionnaire"
   ]
  },
  {
   "cell_type": "code",
   "execution_count": 9,
   "id": "c1991a12-7583-450d-9c0a-dc1c49999ab8",
   "metadata": {},
   "outputs": [],
   "source": [
    "list_txt_cleaned = df_txt_cleaned['text']"
   ]
  },
  {
   "cell_type": "code",
   "execution_count": 10,
   "id": "079608ae-e8ed-41c2-950c-722ff0bfe80c",
   "metadata": {},
   "outputs": [
    {
     "data": {
      "text/plain": [
       "0        way class variable python python people initia...\n",
       "1        entrypoint index html use htmlwebpackplugin us...\n",
       "2        literate num notice math operator num way lite...\n",
       "3        decker image use compile work cpu currently tr...\n",
       "4        handle loss three j can not figure case loss a...\n",
       "                               ...                        \n",
       "99981    azure devops pipeline run make error action gi...\n",
       "99982    kotlin could find dk tool java installation ru...\n",
       "99983    execute java cucumber step get step class atte...\n",
       "99984    find character string letter try figure look s...\n",
       "99985    use spi speech recognition b script find one l...\n",
       "Name: text, Length: 99986, dtype: object"
      ]
     },
     "execution_count": 10,
     "metadata": {},
     "output_type": "execute_result"
    }
   ],
   "source": [
    "list_txt_cleaned"
   ]
  },
  {
   "cell_type": "code",
   "execution_count": 11,
   "id": "1679e31c-7132-426f-b3de-f5e8642b5641",
   "metadata": {},
   "outputs": [
    {
     "data": {
      "text/plain": [
       "<wordcloud.wordcloud.WordCloud at 0x17dd98dc250>"
      ]
     },
     "execution_count": 11,
     "metadata": {},
     "output_type": "execute_result"
    }
   ],
   "source": [
    "# Plot WordCloud\n",
    "long_string = ','.join(list(df_txt_cleaned['text'].values))# Create a WordCloud object\n",
    "\n",
    "wordcloud = WordCloud(background_color=\"white\",\n",
    "                      max_words=1000, \n",
    "                      contour_width=3, \n",
    "                      contour_color='steelblue')# Generate a word cloud\n",
    "\n",
    "wordcloud.generate(long_string)# Visualize the word cloud\n",
    "wordcloud.to_image()\n",
    "wordcloud.to_file('Images/Wordcloud_01.jpg')"
   ]
  },
  {
   "cell_type": "code",
   "execution_count": 12,
   "id": "b5cbe1df-d89a-462f-8a1d-324bd22331f0",
   "metadata": {},
   "outputs": [],
   "source": [
    "# Be sure to split sentence before feed into Dictionary\n",
    "list_txt_cleaned = [d.split() for d in list_txt_cleaned] # Should turn into a list"
   ]
  },
  {
   "cell_type": "code",
   "execution_count": 13,
   "id": "1074d78f-d791-4fdc-926a-45ca70468c70",
   "metadata": {},
   "outputs": [],
   "source": [
    "# Build dictionary\n",
    "dictionary = Dictionary(list_txt_cleaned)"
   ]
  },
  {
   "cell_type": "code",
   "execution_count": 14,
   "id": "7ce7a018-6e49-4f53-a6f3-513cce6e0cc5",
   "metadata": {},
   "outputs": [
    {
     "name": "stdout",
     "output_type": "stream",
     "text": [
      "Number of words inside vocab :  218224\n"
     ]
    }
   ],
   "source": [
    "# Number of vocabulary words\n",
    "temp1 = len(dictionary)\n",
    "print(\"Number of words inside vocab : \",len(dictionary))"
   ]
  },
  {
   "cell_type": "code",
   "execution_count": 15,
   "id": "b95ba91f-b489-4b4b-8858-4588b97b5c11",
   "metadata": {},
   "outputs": [
    {
     "name": "stdout",
     "output_type": "stream",
     "text": [
      "Number of words inside vocab after reduction:  15291\n"
     ]
    }
   ],
   "source": [
    "# Number of vocabulary words after filtering\n",
    "ntimes_w_down = 10\n",
    "ntimes_w_up = 0.90\n",
    "\n",
    "# Way to detect words that do not appear enough times\n",
    "# Other solution directly inside countvectorizer function          \n",
    "\n",
    "dictionary.filter_extremes(no_below = ntimes_w_down,\n",
    "                          no_above = ntimes_w_up)\n",
    "print(\"Number of words inside vocab after reduction: \", len(dictionary))\n",
    "temp2 = len(dictionary)"
   ]
  },
  {
   "cell_type": "code",
   "execution_count": 16,
   "id": "c93ba186-bbc7-4b45-b70f-ded5c9cdcecc",
   "metadata": {},
   "outputs": [
    {
     "name": "stdout",
     "output_type": "stream",
     "text": [
      "Proportion of words left :  7.007020309406848  % of initial volume\n"
     ]
    }
   ],
   "source": [
    "prop_words_left = temp2/temp1 * 100\n",
    "print(\"Proportion of words left : \", prop_words_left, ' % of initial volume')"
   ]
  },
  {
   "cell_type": "code",
   "execution_count": 17,
   "id": "1a68f2b3-bed4-497c-901e-dd729f4f9973",
   "metadata": {},
   "outputs": [
    {
     "name": "stdout",
     "output_type": "stream",
     "text": [
      "Mots les plus fréquents du dictionnaire:\n",
      " 1 use             56121\n",
      " 2 get             38987\n",
      " 3 try             34047\n",
      " 4 like            30913\n",
      " 5 work            30123\n",
      " 6 code            29460\n",
      " 7 would           23321\n",
      " 8 want            23233\n",
      " 9 error           23211\n",
      "10 file            22796\n"
     ]
    }
   ],
   "source": [
    "# Let's print most present words inside vocab\n",
    "# Detect useless ones to delete\n",
    "\n",
    "n_top = 10 #1000\n",
    "\n",
    "words_sorted = sorted(dictionary.dfs.items(), key=lambda x: x[1], reverse=True)\n",
    "id2token = {value: key for key, value in dictionary.token2id.items()}\n",
    "\n",
    "print(\"Mots les plus fréquents du dictionnaire:\")\n",
    "\n",
    "for e, (i, count) in enumerate(words_sorted[:n_top]):\n",
    "    print(f\"{e+1:2} {id2token[i]:15} {count:5}\")"
   ]
  },
  {
   "cell_type": "code",
   "execution_count": 18,
   "id": "02a8c972-393e-4a54-95cb-6d6191a92674",
   "metadata": {},
   "outputs": [
    {
     "data": {
      "text/plain": [
       "('file', 75983)"
      ]
     },
     "execution_count": 18,
     "metadata": {},
     "output_type": "execute_result"
    }
   ],
   "source": [
    "tab_0 = Counter(\" \".join(df_txt_cleaned['text']).split()).most_common(100)\n",
    "tab_0[1]"
   ]
  },
  {
   "cell_type": "code",
   "execution_count": 19,
   "id": "7a53f230-39b8-4e78-961f-d314d75a3496",
   "metadata": {},
   "outputs": [],
   "source": [
    "topn = 20\n",
    "tabtt_0 = pd.Series(' '.join(df_txt_cleaned.text).split()).value_counts()[:topn]\n",
    "# .lower()"
   ]
  },
  {
   "cell_type": "code",
   "execution_count": 20,
   "id": "ff7b1a63-2427-45f4-bd05-da7b73ed2963",
   "metadata": {},
   "outputs": [],
   "source": [
    "tabtt_01 = pd.DataFrame({'word':tabtt_0.index, 'frequency':tabtt_0.values})"
   ]
  },
  {
   "cell_type": "code",
   "execution_count": 21,
   "id": "05eb1d52-0848-475e-afa7-f97e057e8f0a",
   "metadata": {},
   "outputs": [
    {
     "data": {
      "text/html": [
       "<div>\n",
       "<style scoped>\n",
       "    .dataframe tbody tr th:only-of-type {\n",
       "        vertical-align: middle;\n",
       "    }\n",
       "\n",
       "    .dataframe tbody tr th {\n",
       "        vertical-align: top;\n",
       "    }\n",
       "\n",
       "    .dataframe thead th {\n",
       "        text-align: right;\n",
       "    }\n",
       "</style>\n",
       "<table border=\"1\" class=\"dataframe\">\n",
       "  <thead>\n",
       "    <tr style=\"text-align: right;\">\n",
       "      <th></th>\n",
       "      <th>word</th>\n",
       "      <th>frequency</th>\n",
       "    </tr>\n",
       "  </thead>\n",
       "  <tbody>\n",
       "    <tr>\n",
       "      <th>0</th>\n",
       "      <td>use</td>\n",
       "      <td>117039</td>\n",
       "    </tr>\n",
       "    <tr>\n",
       "      <th>1</th>\n",
       "      <td>file</td>\n",
       "      <td>75983</td>\n",
       "    </tr>\n",
       "    <tr>\n",
       "      <th>2</th>\n",
       "      <td>get</td>\n",
       "      <td>75098</td>\n",
       "    </tr>\n",
       "    <tr>\n",
       "      <th>3</th>\n",
       "      <td>error</td>\n",
       "      <td>61936</td>\n",
       "    </tr>\n",
       "    <tr>\n",
       "      <th>4</th>\n",
       "      <td>java</td>\n",
       "      <td>60811</td>\n",
       "    </tr>\n",
       "  </tbody>\n",
       "</table>\n",
       "</div>"
      ],
      "text/plain": [
       "    word  frequency\n",
       "0    use     117039\n",
       "1   file      75983\n",
       "2    get      75098\n",
       "3  error      61936\n",
       "4   java      60811"
      ]
     },
     "execution_count": 21,
     "metadata": {},
     "output_type": "execute_result"
    }
   ],
   "source": [
    "tabtt_01.head()"
   ]
  },
  {
   "cell_type": "code",
   "execution_count": 22,
   "id": "665a3f53-b0ea-4214-9184-c1440387f11b",
   "metadata": {},
   "outputs": [
    {
     "data": {
      "image/png": "[encoded data removed]",
      "text/plain": [
       "<Figure size 1440x504 with 1 Axes>"
      ]
     },
     "metadata": {
      "needs_background": "light"
     },
     "output_type": "display_data"
    }
   ],
   "source": [
    "# Plot a bar chart for the top 20 most frequently occuring words\n",
    "fig = plt.figure(figsize=(20,7))\n",
    "\n",
    "g = sns.barplot(\n",
    "    x='word',\n",
    "    y='frequency',\n",
    "    data=tabtt_01,\n",
    "    palette='GnBu_d'\n",
    ")\n",
    "\n",
    "g.set_xticklabels(\n",
    "    g.get_xticklabels(),\n",
    "    rotation=45,\n",
    "    fontsize=14\n",
    ")\n",
    "\n",
    "plt.xlabel('Words', fontsize=16)\n",
    "plt.ylabel('Frequency', fontsize=16)\n",
    "plt.title('Top 100 Words', fontsize=18)\n",
    "\n",
    "plt.xticks(fontsize=14)\n",
    "plt.yticks(fontsize=14)\n",
    "plt.subplots_adjust(bottom=0.15)\n",
    "plt.subplots_adjust(left=0.15)\n",
    "\n",
    "plt.savefig('Images/W_Top20_01.jpg')\n",
    "plt.show()"
   ]
  },
  {
   "cell_type": "code",
   "execution_count": 23,
   "id": "11b8020a-27a3-48b1-8aa8-0e5300b62b64",
   "metadata": {},
   "outputs": [],
   "source": [
    "# Choice to delete some words present many times that do not bring interesting info to our analysis\n",
    "# Like :  thanks or please etc\n",
    "\n",
    "remove_words = ['like', 'work', 'would', 'want', 'one', 'need', 'know', 'also',\n",
    "                'com', 'see', 'can', 'not', 'could', 'look', 'seem',\n",
    "                'question', 'give', 'two']\n",
    "\n",
    "# 'something','unlike','however','thanks','another','please',\n",
    "\n",
    "bad_ids = [dictionary.token2id[token] for token in remove_words]\n",
    "\n",
    "dictionary.filter_tokens(bad_ids=bad_ids)"
   ]
  },
  {
   "cell_type": "code",
   "execution_count": 24,
   "id": "1618edce-12df-4b10-8629-10f73032527b",
   "metadata": {},
   "outputs": [],
   "source": [
    "pat = r'\\b(?:{})\\b'.format('|'.join(remove_words))"
   ]
  },
  {
   "cell_type": "code",
   "execution_count": 25,
   "id": "e836d60a-cc8f-4837-bb76-9362f461a645",
   "metadata": {},
   "outputs": [
    {
     "data": {
      "text/plain": [
       "(99986, 14)"
      ]
     },
     "execution_count": 25,
     "metadata": {},
     "output_type": "execute_result"
    }
   ],
   "source": [
    "df_txt_cleaned = df_cleaned.copy()\n",
    "df_txt_cleaned.shape"
   ]
  },
  {
   "cell_type": "code",
   "execution_count": 26,
   "id": "bb2aa925-82b0-4b4c-a122-bb794323beb5",
   "metadata": {},
   "outputs": [],
   "source": [
    "# We shall deleted chosen useless words\n",
    "df_txt_cleaned['Cleaned_txt'] = df_txt_cleaned['text'].str.replace(pat, '', regex='True')"
   ]
  },
  {
   "cell_type": "code",
   "execution_count": 27,
   "id": "18d87faf-d189-4881-af44-4ab442f352f8",
   "metadata": {},
   "outputs": [],
   "source": [
    "# Turn into a list again\n",
    "list_txt_cleaned = df_txt_cleaned['Cleaned_txt'].copy()\n",
    "\n",
    "# Be sure to split sentence before feed into Dictionary\n",
    "list_txt_cleaned = [d.split() for d in list_txt_cleaned] # Should turn into a list"
   ]
  },
  {
   "cell_type": "code",
   "execution_count": 28,
   "id": "ad490b04-4885-47c6-a4ed-67c157c66842",
   "metadata": {},
   "outputs": [
    {
     "data": {
      "text/plain": [
       "<wordcloud.wordcloud.WordCloud at 0x2754c3c7130>"
      ]
     },
     "execution_count": 28,
     "metadata": {},
     "output_type": "execute_result"
    }
   ],
   "source": [
    "long_string = ','.join(list(df_txt_cleaned['Cleaned_txt'].values))# Create a WordCloud object\n",
    "\n",
    "wordcloud = WordCloud(background_color=\"white\",\n",
    "                      max_words=1000, \n",
    "                      contour_width=3,\n",
    "                      contour_color='steelblue')# Generate a word cloud\n",
    "\n",
    "wordcloud.generate(long_string)# Visualize the word cloud\n",
    "wordcloud.to_image()\n",
    "# plt.savefig('Wordcloud_02.jpg')\n",
    "wordcloud.to_file('Images/Wordcloud_02.jpg')"
   ]
  },
  {
   "cell_type": "code",
   "execution_count": 29,
   "id": "b2f07d90-cfc7-4ccc-bace-13aeedf3eb3f",
   "metadata": {},
   "outputs": [],
   "source": [
    "# # Let's print most present words inside vocab\n",
    "# # Detect useless ones to delete\n",
    "\n",
    "# n_top = 100\n",
    "\n",
    "# words_sorted = sorted(dictionary.dfs.items(), key=lambda x: x[1], reverse=True)\n",
    "# id2token = {value: key for key, value in dictionary.token2id.items()}\n",
    "\n",
    "# print(\"Mots les plus fréquents du dictionnaire:\")\n",
    "\n",
    "# for e, (i, count) in enumerate(words_sorted[:n_top]):\n",
    "#     print(f\"{e+1:2} {id2token[i]:15} {count:5}\")"
   ]
  },
  {
   "cell_type": "markdown",
   "id": "04648c14-cc19-423b-a0a4-d3184f241e9c",
   "metadata": {},
   "source": [
    "# Exploration intermédiaire"
   ]
  },
  {
   "cell_type": "code",
   "execution_count": 30,
   "id": "b18a38e3-9e37-4a9c-b6a4-a4b8b21a18ab",
   "metadata": {},
   "outputs": [
    {
     "data": {
      "text/plain": [
       "88.0450663092833"
      ]
     },
     "execution_count": 30,
     "metadata": {},
     "output_type": "execute_result"
    }
   ],
   "source": [
    "# Get the word count\n",
    "df_txt_cleaned['word_count'] = df_txt_cleaned['Cleaned_txt'].str.split().str.len()\n",
    "\n",
    "df_txt_cleaned['word_count'].mean()"
   ]
  },
  {
   "cell_type": "code",
   "execution_count": 31,
   "id": "6d4e7022-6aa4-467f-9a44-e3342feb8bfc",
   "metadata": {},
   "outputs": [
    {
     "data": {
      "text/html": [
       "<div>\n",
       "<style scoped>\n",
       "    .dataframe tbody tr th:only-of-type {\n",
       "        vertical-align: middle;\n",
       "    }\n",
       "\n",
       "    .dataframe tbody tr th {\n",
       "        vertical-align: top;\n",
       "    }\n",
       "\n",
       "    .dataframe thead th {\n",
       "        text-align: right;\n",
       "    }\n",
       "</style>\n",
       "<table border=\"1\" class=\"dataframe\">\n",
       "  <thead>\n",
       "    <tr style=\"text-align: right;\">\n",
       "      <th></th>\n",
       "      <th>Unnamed: 0</th>\n",
       "      <th>Unnamed: 0.1</th>\n",
       "      <th>id</th>\n",
       "      <th>doc</th>\n",
       "      <th>title</th>\n",
       "      <th>tags</th>\n",
       "      <th>creation_date</th>\n",
       "      <th>score</th>\n",
       "      <th>views</th>\n",
       "      <th>answers</th>\n",
       "      <th>comments</th>\n",
       "      <th>favorites</th>\n",
       "      <th>last_activity_date</th>\n",
       "      <th>text</th>\n",
       "      <th>Cleaned_txt</th>\n",
       "      <th>word_count</th>\n",
       "    </tr>\n",
       "  </thead>\n",
       "  <tbody>\n",
       "    <tr>\n",
       "      <th>0</th>\n",
       "      <td>0</td>\n",
       "      <td>0</td>\n",
       "      <td>9056957</td>\n",
       "      <td>python people initialize class attribute two w...</td>\n",
       "      <td>way class variable python</td>\n",
       "      <td>&lt;python&gt;&lt;class&gt;&lt;attributes&gt;</td>\n",
       "      <td>2012-01-29 21:26:39</td>\n",
       "      <td>296</td>\n",
       "      <td>372888</td>\n",
       "      <td>2</td>\n",
       "      <td>1</td>\n",
       "      <td>105</td>\n",
       "      <td>2021-01-25 13:17:29</td>\n",
       "      <td>way class variable python python people initia...</td>\n",
       "      <td>way class variable python python people initia...</td>\n",
       "      <td>35</td>\n",
       "    </tr>\n",
       "    <tr>\n",
       "      <th>1</th>\n",
       "      <td>1</td>\n",
       "      <td>1</td>\n",
       "      <td>52013133</td>\n",
       "      <td>use webpack create config file try use htmlweb...</td>\n",
       "      <td>entrypoint index html use htmlwebpackplugin</td>\n",
       "      <td>&lt;node.js&gt;&lt;reactjs&gt;&lt;webpack&gt;&lt;html-webpack-plugin&gt;</td>\n",
       "      <td>2018-08-25 00:32:17</td>\n",
       "      <td>31</td>\n",
       "      <td>33607</td>\n",
       "      <td>5</td>\n",
       "      <td>2</td>\n",
       "      <td>7</td>\n",
       "      <td>2021-07-18 06:19:28</td>\n",
       "      <td>entrypoint index html use htmlwebpackplugin us...</td>\n",
       "      <td>entrypoint index html use htmlwebpackplugin us...</td>\n",
       "      <td>96</td>\n",
       "    </tr>\n",
       "    <tr>\n",
       "      <th>2</th>\n",
       "      <td>2</td>\n",
       "      <td>2</td>\n",
       "      <td>261963</td>\n",
       "      <td>notice math operator num way literate value num</td>\n",
       "      <td>literate num</td>\n",
       "      <td>&lt;c++&gt;&lt;enums&gt;</td>\n",
       "      <td>2008-11-04 13:55:29</td>\n",
       "      <td>354</td>\n",
       "      <td>374899</td>\n",
       "      <td>24</td>\n",
       "      <td>5</td>\n",
       "      <td>67</td>\n",
       "      <td>2021-05-23 11:33:10</td>\n",
       "      <td>literate num notice math operator num way lite...</td>\n",
       "      <td>literate num notice math operator num way lite...</td>\n",
       "      <td>10</td>\n",
       "    </tr>\n",
       "    <tr>\n",
       "      <th>3</th>\n",
       "      <td>3</td>\n",
       "      <td>3</td>\n",
       "      <td>60684868</td>\n",
       "      <td>currently try use pretrained model provide dec...</td>\n",
       "      <td>decker image use compile work cpu</td>\n",
       "      <td>&lt;docker&gt;&lt;tensorflow&gt;</td>\n",
       "      <td>2020-03-14 16:25:39</td>\n",
       "      <td>1</td>\n",
       "      <td>225</td>\n",
       "      <td>1</td>\n",
       "      <td>5</td>\n",
       "      <td>1</td>\n",
       "      <td>2021-01-04 03:48:09</td>\n",
       "      <td>decker image use compile work cpu currently tr...</td>\n",
       "      <td>decker image use compile  cpu currently try us...</td>\n",
       "      <td>63</td>\n",
       "    </tr>\n",
       "    <tr>\n",
       "      <th>4</th>\n",
       "      <td>4</td>\n",
       "      <td>4</td>\n",
       "      <td>35136616</td>\n",
       "      <td>can not figure case loss application write ele...</td>\n",
       "      <td>handle loss three j</td>\n",
       "      <td>&lt;javascript&gt;&lt;three.js&gt;&lt;webgl&gt;&lt;electron&gt;</td>\n",
       "      <td>2016-02-01 17:26:01</td>\n",
       "      <td>6</td>\n",
       "      <td>412</td>\n",
       "      <td>1</td>\n",
       "      <td>0</td>\n",
       "      <td>1</td>\n",
       "      <td>2021-03-18 17:02:54</td>\n",
       "      <td>handle loss three j can not figure case loss a...</td>\n",
       "      <td>handle loss three j   figure case loss applica...</td>\n",
       "      <td>79</td>\n",
       "    </tr>\n",
       "  </tbody>\n",
       "</table>\n",
       "</div>"
      ],
      "text/plain": [
       "   Unnamed: 0  Unnamed: 0.1        id  \\\n",
       "0           0             0   9056957   \n",
       "1           1             1  52013133   \n",
       "2           2             2    261963   \n",
       "3           3             3  60684868   \n",
       "4           4             4  35136616   \n",
       "\n",
       "                                                 doc  \\\n",
       "0  python people initialize class attribute two w...   \n",
       "1  use webpack create config file try use htmlweb...   \n",
       "2    notice math operator num way literate value num   \n",
       "3  currently try use pretrained model provide dec...   \n",
       "4  can not figure case loss application write ele...   \n",
       "\n",
       "                                         title  \\\n",
       "0                    way class variable python   \n",
       "1  entrypoint index html use htmlwebpackplugin   \n",
       "2                                 literate num   \n",
       "3            decker image use compile work cpu   \n",
       "4                          handle loss three j   \n",
       "\n",
       "                                               tags        creation_date  \\\n",
       "0                       <python><class><attributes>  2012-01-29 21:26:39   \n",
       "1  <node.js><reactjs><webpack><html-webpack-plugin>  2018-08-25 00:32:17   \n",
       "2                                      <c++><enums>  2008-11-04 13:55:29   \n",
       "3                              <docker><tensorflow>  2020-03-14 16:25:39   \n",
       "4           <javascript><three.js><webgl><electron>  2016-02-01 17:26:01   \n",
       "\n",
       "   score   views  answers  comments  favorites   last_activity_date  \\\n",
       "0    296  372888        2         1        105  2021-01-25 13:17:29   \n",
       "1     31   33607        5         2          7  2021-07-18 06:19:28   \n",
       "2    354  374899       24         5         67  2021-05-23 11:33:10   \n",
       "3      1     225        1         5          1  2021-01-04 03:48:09   \n",
       "4      6     412        1         0          1  2021-03-18 17:02:54   \n",
       "\n",
       "                                                text  \\\n",
       "0  way class variable python python people initia...   \n",
       "1  entrypoint index html use htmlwebpackplugin us...   \n",
       "2  literate num notice math operator num way lite...   \n",
       "3  decker image use compile work cpu currently tr...   \n",
       "4  handle loss three j can not figure case loss a...   \n",
       "\n",
       "                                         Cleaned_txt  word_count  \n",
       "0  way class variable python python people initia...          35  \n",
       "1  entrypoint index html use htmlwebpackplugin us...          96  \n",
       "2  literate num notice math operator num way lite...          10  \n",
       "3  decker image use compile  cpu currently try us...          63  \n",
       "4  handle loss three j   figure case loss applica...          79  "
      ]
     },
     "execution_count": 31,
     "metadata": {},
     "output_type": "execute_result"
    }
   ],
   "source": [
    "df_txt_cleaned.head()"
   ]
  },
  {
   "cell_type": "code",
   "execution_count": 32,
   "id": "52b14b35-50e8-4532-bf62-af7418425a68",
   "metadata": {},
   "outputs": [
    {
     "data": {
      "text/plain": [
       "count    99986.000000\n",
       "mean        88.045066\n",
       "std        127.068061\n",
       "min          1.000000\n",
       "25%         31.000000\n",
       "50%         54.000000\n",
       "75%         98.000000\n",
       "max       3223.000000\n",
       "Name: word_count, dtype: float64"
      ]
     },
     "execution_count": 32,
     "metadata": {},
     "output_type": "execute_result"
    }
   ],
   "source": [
    "# Descriptive statistics for word count\n",
    "df_txt_cleaned['word_count'].describe()"
   ]
  },
  {
   "cell_type": "code",
   "execution_count": 33,
   "id": "b296c238-2465-4bc5-b6c8-a7392333ab1e",
   "metadata": {},
   "outputs": [
    {
     "data": {
      "image/png": "[encoded data removed]",
      "text/plain": [
       "<Figure size 720x360 with 1 Axes>"
      ]
     },
     "metadata": {
      "needs_background": "light"
     },
     "output_type": "display_data"
    }
   ],
   "source": [
    "# Plot a hist of the word counts\n",
    "fig = plt.figure(figsize=(10,5))\n",
    "\n",
    "plt.hist(\n",
    "    df_txt_cleaned['word_count'],\n",
    "    bins=20,\n",
    "    color='#60505C'\n",
    ")\n",
    "\n",
    "plt.title('Distribution - Doc Word Count', fontsize=18)\n",
    "plt.ylabel('Frequency', fontsize=16)\n",
    "plt.xlabel('Word Count', fontsize=16)\n",
    "plt.yticks(np.arange(0, 50, 5))\n",
    "plt.xticks(np.arange(0, 3000, 200))\n",
    "\n",
    "plt.xticks(fontsize=12)\n",
    "plt.yticks(fontsize=14)\n",
    "plt.subplots_adjust(bottom=0.15)\n",
    "plt.subplots_adjust(left=0.15)\n",
    "\n",
    "plt.savefig('Images/W_Distrib_01.jpg')\n",
    "plt.show()"
   ]
  },
  {
   "cell_type": "code",
   "execution_count": 34,
   "id": "f7025e92-b1c7-4151-aaaa-7b47cdaede8a",
   "metadata": {},
   "outputs": [
    {
     "data": {
      "text/plain": [
       "0          35\n",
       "1          96\n",
       "2          10\n",
       "3          63\n",
       "4          79\n",
       "         ... \n",
       "99981     283\n",
       "99982    1131\n",
       "99983      66\n",
       "99984      19\n",
       "99985     104\n",
       "Name: word_count, Length: 99986, dtype: int64"
      ]
     },
     "execution_count": 34,
     "metadata": {},
     "output_type": "execute_result"
    }
   ],
   "source": [
    "df_txt_cleaned['word_count']"
   ]
  },
  {
   "cell_type": "code",
   "execution_count": 35,
   "id": "f687eccd-9d00-48bd-b4ca-ad1a639f23dd",
   "metadata": {},
   "outputs": [
    {
     "data": {
      "image/png": "[encoded data removed]",
      "text/plain": [
       "<Figure size 504x360 with 1 Axes>"
      ]
     },
     "metadata": {
      "needs_background": "light"
     },
     "output_type": "display_data"
    }
   ],
   "source": [
    "# Plot a boxplot of the word counts\n",
    "fig = plt.figure(figsize=(7,5))\n",
    "\n",
    "sns.boxplot(\n",
    "    df_txt_cleaned['word_count'],\n",
    "    orient='v',\n",
    "    width=.3,\n",
    "    color='#ff8080'\n",
    ")\n",
    "\n",
    "plt.ylabel(\"Word Count\", fontsize=16)\n",
    "plt.xlabel(\"\", fontsize=16)\n",
    "\n",
    "plt.title('Distribution - Doc Word Count', fontsize=18)\n",
    "# plt.yticks(np.arange(0, 2700, 100))\n",
    "plt.xticks(fontsize=14)\n",
    "plt.yticks(fontsize=14)\n",
    "plt.subplots_adjust(bottom=0.15)\n",
    "plt.subplots_adjust(left=0.15)\n",
    "\n",
    "plt.savefig('Images/W_Boxplot_01.jpg')\n",
    "plt.show()"
   ]
  },
  {
   "cell_type": "code",
   "execution_count": 36,
   "id": "9a4f2354-ae16-4173-a483-dfb20025a0ed",
   "metadata": {},
   "outputs": [],
   "source": [
    "def df_Outliers_1_5_IQR(data, col):   \n",
    "    \n",
    "    # Calcul des quantiles\n",
    "    Q1 = data[col].quantile(0.25)\n",
    "    Q3 = data[col].quantile(0.75)\n",
    "     # Formulation de l'écart IQR\n",
    "    IQR = Q3 - Q1\n",
    "\n",
    "    # Calcul des limites\n",
    "    LowerLim = Q1 - 1.5*IQR\n",
    "    UpperLim = Q3 + 1.5*IQR\n",
    "    print('LowerLim : ', LowerLim, ' | UpperLim : ', UpperLim)\n",
    "    \n",
    "    # New dataframe with 1.5 IQR filtered data\n",
    "    data = data[data[col] <= UpperLim]\n",
    "    print('Shape after LowerLim filter : ', data.shape)\n",
    "    data = data[data[col] >= LowerLim]\n",
    "    print('Shape after UpperLim filter : ', data.shape)\n",
    "        \n",
    "    return data"
   ]
  },
  {
   "cell_type": "code",
   "execution_count": 37,
   "id": "f9d12f5c-9de9-4b41-95d1-1fa41a310a8c",
   "metadata": {},
   "outputs": [
    {
     "name": "stdout",
     "output_type": "stream",
     "text": [
      "LowerLim :  -69.5  | UpperLim :  198.5\n",
      "Shape after LowerLim filter :  (91880, 16)\n",
      "Shape after UpperLim filter :  (91880, 16)\n"
     ]
    }
   ],
   "source": [
    "col = 'word_count'\n",
    "df_txt_cleaned = df_Outliers_1_5_IQR(df_txt_cleaned, col)"
   ]
  },
  {
   "cell_type": "code",
   "execution_count": 38,
   "id": "a313c905-1424-4440-a0d1-627812b22c55",
   "metadata": {},
   "outputs": [
    {
     "data": {
      "text/plain": [
       "count    91880.000000\n",
       "mean        61.379168\n",
       "std         42.463553\n",
       "min          1.000000\n",
       "25%         29.000000\n",
       "50%         49.000000\n",
       "75%         83.000000\n",
       "max        198.000000\n",
       "Name: word_count, dtype: float64"
      ]
     },
     "execution_count": 38,
     "metadata": {},
     "output_type": "execute_result"
    }
   ],
   "source": [
    "df_txt_cleaned[col].describe()"
   ]
  },
  {
   "cell_type": "code",
   "execution_count": 39,
   "id": "a2584e05-779b-4497-ae21-85e873703beb",
   "metadata": {},
   "outputs": [],
   "source": [
    "# df_txt_cleaned.head()"
   ]
  },
  {
   "cell_type": "code",
   "execution_count": 40,
   "id": "96e3bf89-9531-4eec-b64a-05ba7d0af941",
   "metadata": {},
   "outputs": [],
   "source": [
    "# df_filtered = df_txt_cleaned[df_txt_cleaned['word_count'] < 75]\n",
    "# df_filtered.head()"
   ]
  },
  {
   "cell_type": "code",
   "execution_count": 41,
   "id": "e3133853-8644-4b0b-a99c-eccb358e577b",
   "metadata": {},
   "outputs": [
    {
     "data": {
      "text/plain": [
       "('get', 58114)"
      ]
     },
     "execution_count": 41,
     "metadata": {},
     "output_type": "execute_result"
    }
   ],
   "source": [
    "tab = Counter(\" \".join(df_txt_cleaned[\"Cleaned_txt\"]).split()).most_common(100)\n",
    "tab[1]"
   ]
  },
  {
   "cell_type": "code",
   "execution_count": 42,
   "id": "2e96db36-1a2e-409f-b163-34e35f54e01e",
   "metadata": {},
   "outputs": [],
   "source": [
    "topn = 20\n",
    "tabtt = pd.Series(' '.join(df_txt_cleaned.Cleaned_txt).split()).value_counts()[:topn]\n",
    "# .lower()"
   ]
  },
  {
   "cell_type": "code",
   "execution_count": 43,
   "id": "257c6376-cbaf-4667-9ad9-7eb304ea69db",
   "metadata": {},
   "outputs": [],
   "source": [
    "tabtt_2 = pd.DataFrame({'word':tabtt.index, 'frequency':tabtt.values})"
   ]
  },
  {
   "cell_type": "code",
   "execution_count": 44,
   "id": "6ed2093e-8256-431e-a921-74492f7a3802",
   "metadata": {},
   "outputs": [
    {
     "data": {
      "text/html": [
       "<div>\n",
       "<style scoped>\n",
       "    .dataframe tbody tr th:only-of-type {\n",
       "        vertical-align: middle;\n",
       "    }\n",
       "\n",
       "    .dataframe tbody tr th {\n",
       "        vertical-align: top;\n",
       "    }\n",
       "\n",
       "    .dataframe thead th {\n",
       "        text-align: right;\n",
       "    }\n",
       "</style>\n",
       "<table border=\"1\" class=\"dataframe\">\n",
       "  <thead>\n",
       "    <tr style=\"text-align: right;\">\n",
       "      <th></th>\n",
       "      <th>word</th>\n",
       "      <th>frequency</th>\n",
       "    </tr>\n",
       "  </thead>\n",
       "  <tbody>\n",
       "    <tr>\n",
       "      <th>0</th>\n",
       "      <td>use</td>\n",
       "      <td>95440</td>\n",
       "    </tr>\n",
       "    <tr>\n",
       "      <th>1</th>\n",
       "      <td>get</td>\n",
       "      <td>58114</td>\n",
       "    </tr>\n",
       "    <tr>\n",
       "      <th>2</th>\n",
       "      <td>file</td>\n",
       "      <td>52782</td>\n",
       "    </tr>\n",
       "    <tr>\n",
       "      <th>3</th>\n",
       "      <td>code</td>\n",
       "      <td>40732</td>\n",
       "    </tr>\n",
       "    <tr>\n",
       "      <th>4</th>\n",
       "      <td>try</td>\n",
       "      <td>40680</td>\n",
       "    </tr>\n",
       "  </tbody>\n",
       "</table>\n",
       "</div>"
      ],
      "text/plain": [
       "   word  frequency\n",
       "0   use      95440\n",
       "1   get      58114\n",
       "2  file      52782\n",
       "3  code      40732\n",
       "4   try      40680"
      ]
     },
     "execution_count": 44,
     "metadata": {},
     "output_type": "execute_result"
    }
   ],
   "source": [
    "tabtt_2.head()"
   ]
  },
  {
   "cell_type": "code",
   "execution_count": 45,
   "id": "ce4f6a81-84f8-4797-ab31-1bcf6418db10",
   "metadata": {},
   "outputs": [
    {
     "data": {
      "image/png": "[encoded data removed]",
      "text/plain": [
       "<Figure size 1440x504 with 1 Axes>"
      ]
     },
     "metadata": {
      "needs_background": "light"
     },
     "output_type": "display_data"
    }
   ],
   "source": [
    "# Plot a bar chart for the top 20 most frequently occuring words\n",
    "fig = plt.figure(figsize=(20,7))\n",
    "\n",
    "g = sns.barplot(\n",
    "    x='word',\n",
    "    y='frequency',\n",
    "    data=tabtt_2,\n",
    "    palette='GnBu_d'\n",
    ")\n",
    "\n",
    "g.set_xticklabels(\n",
    "    g.get_xticklabels(),\n",
    "    rotation=45,\n",
    "    fontsize=16\n",
    ")\n",
    "\n",
    "plt.xlabel('Words', fontsize=16)\n",
    "plt.ylabel('Frequency', fontsize=16)\n",
    "plt.title('Top 20 Words', fontsize=18)\n",
    "\n",
    "plt.xticks(fontsize=14)\n",
    "plt.yticks(fontsize=14)\n",
    "plt.subplots_adjust(bottom=0.15)\n",
    "plt.subplots_adjust(left=0.15)\n",
    "\n",
    "plt.savefig('Images/W_Top20_02.jpg')\n",
    "plt.show()\n"
   ]
  },
  {
   "cell_type": "code",
   "execution_count": 46,
   "id": "88f0a0fe-df42-4ce5-bf99-a21faed11b5f",
   "metadata": {},
   "outputs": [
    {
     "data": {
      "image/png": "[encoded data removed]",
      "text/plain": [
       "<Figure size 504x360 with 1 Axes>"
      ]
     },
     "metadata": {
      "needs_background": "light"
     },
     "output_type": "display_data"
    }
   ],
   "source": [
    "# Plot a boxplot of the word counts\n",
    "fig = plt.figure(figsize=(7,5))\n",
    "\n",
    "sns.boxplot(\n",
    "    df_txt_cleaned['word_count'],\n",
    "    orient='v',\n",
    "    width=.3,\n",
    "    color='#ff8080'\n",
    ")\n",
    "\n",
    "plt.xlabel(\"\", fontsize=16)\n",
    "plt.ylabel(\"Word Count\", fontsize=16)\n",
    "plt.title('Distribution - Doc Word Count', fontsize=18)\n",
    "# plt.yticks(np.arange(0, 2700, 100))\n",
    "\n",
    "plt.xticks(fontsize=14)\n",
    "plt.yticks(fontsize=14)\n",
    "plt.subplots_adjust(bottom=0.15)\n",
    "plt.subplots_adjust(left=0.15)\n",
    "\n",
    "plt.savefig('Images/W_Boxplot_02.jpg')\n",
    "plt.show()"
   ]
  },
  {
   "cell_type": "code",
   "execution_count": 47,
   "id": "7c359292-ff23-4c4c-9e7d-9402dbd71f2f",
   "metadata": {},
   "outputs": [
    {
     "data": {
      "text/plain": [
       "count    91880.000000\n",
       "mean        61.379168\n",
       "std         42.463553\n",
       "min          1.000000\n",
       "25%         29.000000\n",
       "50%         49.000000\n",
       "75%         83.000000\n",
       "max        198.000000\n",
       "Name: word_count, dtype: float64"
      ]
     },
     "execution_count": 47,
     "metadata": {},
     "output_type": "execute_result"
    }
   ],
   "source": [
    "df_txt_cleaned['word_count'].describe()"
   ]
  },
  {
   "cell_type": "code",
   "execution_count": 48,
   "id": "cc00a68b-2751-4f48-b100-10068581cabb",
   "metadata": {},
   "outputs": [
    {
     "data": {
      "image/png": "[encoded data removed]",
      "text/plain": [
       "<Figure size 720x360 with 1 Axes>"
      ]
     },
     "metadata": {
      "needs_background": "light"
     },
     "output_type": "display_data"
    }
   ],
   "source": [
    "# Plot a hist of the word counts\n",
    "fig = plt.figure(figsize=(10,5))\n",
    "\n",
    "plt.hist(\n",
    "    df_txt_cleaned['word_count'],\n",
    "    bins=20,\n",
    "    color='#60505C'\n",
    ")\n",
    "\n",
    "plt.title('Distribution - Doc Word Count', fontsize=18)\n",
    "plt.ylabel('Frequency', fontsize=16)\n",
    "plt.xlabel('Word Count', fontsize=16)\n",
    "plt.yticks(np.arange(0, 50, 5))\n",
    "plt.xticks(np.arange(0, 200, 10))\n",
    "\n",
    "plt.xticks(fontsize=12)\n",
    "plt.yticks(fontsize=12)\n",
    "plt.subplots_adjust(bottom=0.15)\n",
    "plt.subplots_adjust(left=0.15)\n",
    "\n",
    "plt.savefig('Images/W_Distrib_02.jpg')\n",
    "plt.show()"
   ]
  },
  {
   "cell_type": "code",
   "execution_count": 49,
   "id": "7a03d25d-f20c-4b61-a76e-4669d3a2f0c9",
   "metadata": {},
   "outputs": [
    {
     "data": {
      "text/html": [
       "<div>\n",
       "<style scoped>\n",
       "    .dataframe tbody tr th:only-of-type {\n",
       "        vertical-align: middle;\n",
       "    }\n",
       "\n",
       "    .dataframe tbody tr th {\n",
       "        vertical-align: top;\n",
       "    }\n",
       "\n",
       "    .dataframe thead th {\n",
       "        text-align: right;\n",
       "    }\n",
       "</style>\n",
       "<table border=\"1\" class=\"dataframe\">\n",
       "  <thead>\n",
       "    <tr style=\"text-align: right;\">\n",
       "      <th></th>\n",
       "      <th>Unnamed: 0</th>\n",
       "      <th>Unnamed: 0.1</th>\n",
       "      <th>id</th>\n",
       "      <th>doc</th>\n",
       "      <th>title</th>\n",
       "      <th>tags</th>\n",
       "      <th>creation_date</th>\n",
       "      <th>score</th>\n",
       "      <th>views</th>\n",
       "      <th>answers</th>\n",
       "      <th>comments</th>\n",
       "      <th>favorites</th>\n",
       "      <th>last_activity_date</th>\n",
       "      <th>text</th>\n",
       "      <th>Cleaned_txt</th>\n",
       "      <th>word_count</th>\n",
       "    </tr>\n",
       "  </thead>\n",
       "  <tbody>\n",
       "    <tr>\n",
       "      <th>0</th>\n",
       "      <td>0</td>\n",
       "      <td>0</td>\n",
       "      <td>9056957</td>\n",
       "      <td>python people initialize class attribute two w...</td>\n",
       "      <td>way class variable python</td>\n",
       "      <td>&lt;python&gt;&lt;class&gt;&lt;attributes&gt;</td>\n",
       "      <td>2012-01-29 21:26:39</td>\n",
       "      <td>296</td>\n",
       "      <td>372888</td>\n",
       "      <td>2</td>\n",
       "      <td>1</td>\n",
       "      <td>105</td>\n",
       "      <td>2021-01-25 13:17:29</td>\n",
       "      <td>way class variable python python people initia...</td>\n",
       "      <td>way class variable python python people initia...</td>\n",
       "      <td>35</td>\n",
       "    </tr>\n",
       "    <tr>\n",
       "      <th>1</th>\n",
       "      <td>1</td>\n",
       "      <td>1</td>\n",
       "      <td>52013133</td>\n",
       "      <td>use webpack create config file try use htmlweb...</td>\n",
       "      <td>entrypoint index html use htmlwebpackplugin</td>\n",
       "      <td>&lt;node.js&gt;&lt;reactjs&gt;&lt;webpack&gt;&lt;html-webpack-plugin&gt;</td>\n",
       "      <td>2018-08-25 00:32:17</td>\n",
       "      <td>31</td>\n",
       "      <td>33607</td>\n",
       "      <td>5</td>\n",
       "      <td>2</td>\n",
       "      <td>7</td>\n",
       "      <td>2021-07-18 06:19:28</td>\n",
       "      <td>entrypoint index html use htmlwebpackplugin us...</td>\n",
       "      <td>entrypoint index html use htmlwebpackplugin us...</td>\n",
       "      <td>96</td>\n",
       "    </tr>\n",
       "    <tr>\n",
       "      <th>2</th>\n",
       "      <td>2</td>\n",
       "      <td>2</td>\n",
       "      <td>261963</td>\n",
       "      <td>notice math operator num way literate value num</td>\n",
       "      <td>literate num</td>\n",
       "      <td>&lt;c++&gt;&lt;enums&gt;</td>\n",
       "      <td>2008-11-04 13:55:29</td>\n",
       "      <td>354</td>\n",
       "      <td>374899</td>\n",
       "      <td>24</td>\n",
       "      <td>5</td>\n",
       "      <td>67</td>\n",
       "      <td>2021-05-23 11:33:10</td>\n",
       "      <td>literate num notice math operator num way lite...</td>\n",
       "      <td>literate num notice math operator num way lite...</td>\n",
       "      <td>10</td>\n",
       "    </tr>\n",
       "    <tr>\n",
       "      <th>3</th>\n",
       "      <td>3</td>\n",
       "      <td>3</td>\n",
       "      <td>60684868</td>\n",
       "      <td>currently try use pretrained model provide dec...</td>\n",
       "      <td>decker image use compile work cpu</td>\n",
       "      <td>&lt;docker&gt;&lt;tensorflow&gt;</td>\n",
       "      <td>2020-03-14 16:25:39</td>\n",
       "      <td>1</td>\n",
       "      <td>225</td>\n",
       "      <td>1</td>\n",
       "      <td>5</td>\n",
       "      <td>1</td>\n",
       "      <td>2021-01-04 03:48:09</td>\n",
       "      <td>decker image use compile work cpu currently tr...</td>\n",
       "      <td>decker image use compile  cpu currently try us...</td>\n",
       "      <td>63</td>\n",
       "    </tr>\n",
       "    <tr>\n",
       "      <th>4</th>\n",
       "      <td>4</td>\n",
       "      <td>4</td>\n",
       "      <td>35136616</td>\n",
       "      <td>can not figure case loss application write ele...</td>\n",
       "      <td>handle loss three j</td>\n",
       "      <td>&lt;javascript&gt;&lt;three.js&gt;&lt;webgl&gt;&lt;electron&gt;</td>\n",
       "      <td>2016-02-01 17:26:01</td>\n",
       "      <td>6</td>\n",
       "      <td>412</td>\n",
       "      <td>1</td>\n",
       "      <td>0</td>\n",
       "      <td>1</td>\n",
       "      <td>2021-03-18 17:02:54</td>\n",
       "      <td>handle loss three j can not figure case loss a...</td>\n",
       "      <td>handle loss three j   figure case loss applica...</td>\n",
       "      <td>79</td>\n",
       "    </tr>\n",
       "  </tbody>\n",
       "</table>\n",
       "</div>"
      ],
      "text/plain": [
       "   Unnamed: 0  Unnamed: 0.1        id  \\\n",
       "0           0             0   9056957   \n",
       "1           1             1  52013133   \n",
       "2           2             2    261963   \n",
       "3           3             3  60684868   \n",
       "4           4             4  35136616   \n",
       "\n",
       "                                                 doc  \\\n",
       "0  python people initialize class attribute two w...   \n",
       "1  use webpack create config file try use htmlweb...   \n",
       "2    notice math operator num way literate value num   \n",
       "3  currently try use pretrained model provide dec...   \n",
       "4  can not figure case loss application write ele...   \n",
       "\n",
       "                                         title  \\\n",
       "0                    way class variable python   \n",
       "1  entrypoint index html use htmlwebpackplugin   \n",
       "2                                 literate num   \n",
       "3            decker image use compile work cpu   \n",
       "4                          handle loss three j   \n",
       "\n",
       "                                               tags        creation_date  \\\n",
       "0                       <python><class><attributes>  2012-01-29 21:26:39   \n",
       "1  <node.js><reactjs><webpack><html-webpack-plugin>  2018-08-25 00:32:17   \n",
       "2                                      <c++><enums>  2008-11-04 13:55:29   \n",
       "3                              <docker><tensorflow>  2020-03-14 16:25:39   \n",
       "4           <javascript><three.js><webgl><electron>  2016-02-01 17:26:01   \n",
       "\n",
       "   score   views  answers  comments  favorites   last_activity_date  \\\n",
       "0    296  372888        2         1        105  2021-01-25 13:17:29   \n",
       "1     31   33607        5         2          7  2021-07-18 06:19:28   \n",
       "2    354  374899       24         5         67  2021-05-23 11:33:10   \n",
       "3      1     225        1         5          1  2021-01-04 03:48:09   \n",
       "4      6     412        1         0          1  2021-03-18 17:02:54   \n",
       "\n",
       "                                                text  \\\n",
       "0  way class variable python python people initia...   \n",
       "1  entrypoint index html use htmlwebpackplugin us...   \n",
       "2  literate num notice math operator num way lite...   \n",
       "3  decker image use compile work cpu currently tr...   \n",
       "4  handle loss three j can not figure case loss a...   \n",
       "\n",
       "                                         Cleaned_txt  word_count  \n",
       "0  way class variable python python people initia...          35  \n",
       "1  entrypoint index html use htmlwebpackplugin us...          96  \n",
       "2  literate num notice math operator num way lite...          10  \n",
       "3  decker image use compile  cpu currently try us...          63  \n",
       "4  handle loss three j   figure case loss applica...          79  "
      ]
     },
     "execution_count": 49,
     "metadata": {},
     "output_type": "execute_result"
    }
   ],
   "source": [
    "df_txt_cleaned.head()"
   ]
  },
  {
   "cell_type": "code",
   "execution_count": 50,
   "id": "68bf8452-a069-45fb-91dc-c6dcb69dbaf1",
   "metadata": {},
   "outputs": [
    {
     "data": {
      "text/plain": [
       "(91880, 16)"
      ]
     },
     "execution_count": 50,
     "metadata": {},
     "output_type": "execute_result"
    }
   ],
   "source": [
    "df_txt_cleaned.shape"
   ]
  },
  {
   "cell_type": "markdown",
   "id": "a685c077-ac6b-4047-8893-40a7420cfa01",
   "metadata": {},
   "source": [
    "## Maj de la liste"
   ]
  },
  {
   "cell_type": "code",
   "execution_count": 51,
   "id": "74d3bb8f-9ee8-414d-a175-c6c4bb2604eb",
   "metadata": {},
   "outputs": [],
   "source": [
    "# Turn into a list again\n",
    "list_txt_cleaned = df_txt_cleaned['Cleaned_txt'].copy()\n",
    "\n",
    "# Be sure to split sentence before feed into Dictionary\n",
    "list_txt_cleaned = [d.split() for d in list_txt_cleaned] # Should turn into a list"
   ]
  },
  {
   "cell_type": "markdown",
   "id": "41e19e18-2c2e-456f-8483-8d9a9b3b9a8d",
   "metadata": {},
   "source": [
    "# Normalization des données"
   ]
  },
  {
   "cell_type": "code",
   "execution_count": 51,
   "id": "7ee0f147-d0a2-4118-822c-7e7ee9f992cb",
   "metadata": {},
   "outputs": [
    {
     "data": {
      "text/plain": [
       "15273"
      ]
     },
     "execution_count": 51,
     "metadata": {},
     "output_type": "execute_result"
    }
   ],
   "source": [
    "len(dictionary)"
   ]
  },
  {
   "cell_type": "markdown",
   "id": "278701dc-dbae-4986-a509-c9e4a989c568",
   "metadata": {
    "tags": []
   },
   "source": [
    "## Bag of words"
   ]
  },
  {
   "cell_type": "code",
   "execution_count": 52,
   "id": "f3efd74e-6e76-4a6b-bc6e-d8d7b5b5a36a",
   "metadata": {},
   "outputs": [
    {
     "data": {
      "text/plain": [
       "[['entrypoint',\n",
       "  'index',\n",
       "  'html',\n",
       "  'use',\n",
       "  'htmlwebpackplugin',\n",
       "  'use',\n",
       "  'webpack',\n",
       "  'create',\n",
       "  'config',\n",
       "  'file',\n",
       "  'try',\n",
       "  'use',\n",
       "  'htmlwebpackplugin',\n",
       "  'get',\n",
       "  'entrypoint',\n",
       "  'undefined',\n",
       "  'index',\n",
       "  'html',\n",
       "  'open',\n",
       "  'html',\n",
       "  'appear',\n",
       "  'get',\n",
       "  'message',\n",
       "  'console',\n",
       "  'solve',\n",
       "  'config',\n",
       "  'file',\n",
       "  'use',\n",
       "  'const',\n",
       "  'webpack',\n",
       "  'require',\n",
       "  'webpack',\n",
       "  'const',\n",
       "  'join',\n",
       "  'resolve',\n",
       "  'require',\n",
       "  'path',\n",
       "  'const',\n",
       "  'htmlwebpackplugin',\n",
       "  'require',\n",
       "  'html',\n",
       "  'webpack',\n",
       "  'plugin',\n",
       "  'module',\n",
       "  'export',\n",
       "  'mode',\n",
       "  'development',\n",
       "  'dev',\n",
       "  'devtool',\n",
       "  'module',\n",
       "  'source',\n",
       "  'map',\n",
       "  'dev',\n",
       "  'entry',\n",
       "  'join',\n",
       "  'dirname',\n",
       "  'index',\n",
       "  'j',\n",
       "  'output',\n",
       "  'filename',\n",
       "  'path',\n",
       "  'resolve',\n",
       "  'dirname',\n",
       "  'dist',\n",
       "  'module',\n",
       "  'rule',\n",
       "  'test',\n",
       "  'j',\n",
       "  'exclude',\n",
       "  'module',\n",
       "  'babel',\n",
       "  'loader',\n",
       "  'resolve',\n",
       "  'extension',\n",
       "  'js',\n",
       "  'j',\n",
       "  'devserver',\n",
       "  'contentbase',\n",
       "  'resolve',\n",
       "  'dirname',\n",
       "  'build',\n",
       "  'plugins',\n",
       "  'webpack',\n",
       "  'progressplugin',\n",
       "  'htmlwebpackplugin',\n",
       "  'template',\n",
       "  'join',\n",
       "  'dirname',\n",
       "  'index',\n",
       "  'html',\n",
       "  'webpack',\n",
       "  'hotmodulereplacementplugin',\n",
       "  'dev',\n",
       "  'webpack',\n",
       "  'noemitonerrorsplugin',\n",
       "  'dev']]"
      ]
     },
     "execution_count": 52,
     "metadata": {},
     "output_type": "execute_result"
    }
   ],
   "source": [
    "list_txt_cleaned[1:2]"
   ]
  },
  {
   "cell_type": "code",
   "execution_count": 53,
   "id": "a50dce77-e18c-4c75-8c10-918f8d358f38",
   "metadata": {},
   "outputs": [],
   "source": [
    "corpus_bow = [dictionary.doc2bow(doc, allow_update=False) for doc in list_txt_cleaned]"
   ]
  },
  {
   "cell_type": "code",
   "execution_count": 54,
   "id": "dcf5ff1d-3e85-4a49-96e3-be79d0758827",
   "metadata": {},
   "outputs": [
    {
     "data": {
      "text/plain": [
       "15273"
      ]
     },
     "execution_count": 54,
     "metadata": {},
     "output_type": "execute_result"
    }
   ],
   "source": [
    "len(dictionary)"
   ]
  },
  {
   "cell_type": "code",
   "execution_count": 55,
   "id": "1fce2fbf-b136-4a68-9d4d-cfacdcb25560",
   "metadata": {},
   "outputs": [],
   "source": [
    "# sample(corpus_bow, 3)"
   ]
  },
  {
   "cell_type": "code",
   "execution_count": 56,
   "id": "ef7337b6-879d-4760-a2c6-a88114c1dead",
   "metadata": {},
   "outputs": [
    {
     "data": {
      "text/plain": [
       "91880"
      ]
     },
     "execution_count": 56,
     "metadata": {},
     "output_type": "execute_result"
    }
   ],
   "source": [
    "len(corpus_bow)"
   ]
  },
  {
   "cell_type": "code",
   "execution_count": 57,
   "id": "3c4ed690-2e56-4eff-8fd3-d6f4edf8e5ac",
   "metadata": {},
   "outputs": [
    {
     "name": "stdout",
     "output_type": "stream",
     "text": [
      "[(0, 2), (1, 2), (2, 5), (3, 2), (4, 4), (5, 1), (6, 2), (7, 1), (8, 2), (9, 1), (10, 1), (11, 2), (12, 3), (13, 1), (14, 1), (15, 1), (16, 4)]\n"
     ]
    }
   ],
   "source": [
    "print(corpus_bow[:1][0][:30])"
   ]
  },
  {
   "cell_type": "code",
   "execution_count": 58,
   "id": "4de99a42-f072-4293-845c-5769ad69ce9f",
   "metadata": {},
   "outputs": [
    {
     "data": {
      "text/plain": [
       "[[(16, 1), (67, 2), (68, 1), (69, 1), (70, 3), (71, 1), (72, 1)]]"
      ]
     },
     "execution_count": 58,
     "metadata": {},
     "output_type": "execute_result"
    }
   ],
   "source": [
    "[corpus_bow[2]]"
   ]
  },
  {
   "cell_type": "markdown",
   "id": "f9c7594b-a549-4901-88e2-eacbf73b5914",
   "metadata": {
    "tags": []
   },
   "source": [
    "## TF-IDF"
   ]
  },
  {
   "cell_type": "code",
   "execution_count": 59,
   "id": "d0dc7fb9-9da4-4f34-bb1d-da7cf0092552",
   "metadata": {},
   "outputs": [
    {
     "name": "stdout",
     "output_type": "stream",
     "text": [
      "[(0, 0.5154555826292307),\n",
      " (1, 0.23176056081968677),\n",
      " (2, 0.28598505852782985),\n",
      " (3, 0.20993305261165507),\n",
      " (4, 0.37095986768228606),\n",
      " (5, 0.08826494640454921),\n",
      " (6, 0.23675565927964792),\n",
      " (7, 0.13914542064045454),\n",
      " (8, 0.35718765624961174),\n",
      " (9, 0.10543514743862666),\n",
      " (10, 0.13008278903385218),\n",
      " (11, 0.14859922958643665),\n",
      " (12, 0.31457575898777373),\n",
      " (13, 0.06481744826609996),\n",
      " (14, 0.10010572160631795),\n",
      " (15, 0.10885184503130292),\n",
      " (16, 0.17659186132881874)]\n"
     ]
    }
   ],
   "source": [
    "tfidf = models.TfidfModel(corpus_bow)\n",
    "\n",
    "corpus_tfidf = tfidf[corpus_bow]\n",
    "\n",
    "from pprint import pprint\n",
    "for doc in corpus_tfidf:\n",
    "    pprint(doc)\n",
    "    break"
   ]
  },
  {
   "cell_type": "code",
   "execution_count": 60,
   "id": "c984b0ba-8642-47af-9559-1504ba8b8605",
   "metadata": {},
   "outputs": [
    {
     "name": "stdout",
     "output_type": "stream",
     "text": [
      "(16, 0.0731367062227947)\n"
     ]
    }
   ],
   "source": [
    "# Test pour compréhension\n",
    "\n",
    "tfidf_2 = models.TfidfModel(corpus_bow[2:200])\n",
    "\n",
    "corpus_tfidf_2 = tfidf_2[corpus_bow[2]]\n",
    "\n",
    "from pprint import pprint\n",
    "for doc in corpus_tfidf_2:\n",
    "    pprint(doc)\n",
    "    break\n",
    "    \n",
    "# Résumé : TF-IDF sur 1 seul texte n'a pas de sens !!\n",
    "# On applique le predict sur le texte en format BOW\n",
    "# Peu importe comment le modèle optimal a été entrainé"
   ]
  },
  {
   "cell_type": "markdown",
   "id": "01025cca-1fbd-4c2b-ac2f-0ae29c5dc3e0",
   "metadata": {
    "tags": []
   },
   "source": [
    "# Settings for coherence curves in each case"
   ]
  },
  {
   "cell_type": "code",
   "execution_count": 61,
   "id": "8276cd20-409d-4e30-8a21-10971cec2ba7",
   "metadata": {},
   "outputs": [],
   "source": [
    "# Parameters for loop\n",
    "start_topics = 5\n",
    "limit_topics = 30\n",
    "step_topics = 1\n",
    "\n",
    "start, limit, step = start_topics, limit_topics, step_topics\n",
    "\n",
    "# Global parameters\n",
    "id2word = dictionary\n",
    "dictionary = dictionary\n",
    "texts = list_txt_cleaned"
   ]
  },
  {
   "cell_type": "markdown",
   "id": "dde67a64-6cd4-4bb4-8777-d3abbe53e072",
   "metadata": {
    "tags": []
   },
   "source": [
    "## Fonction pour gensim nmf and coherence"
   ]
  },
  {
   "cell_type": "code",
   "execution_count": 62,
   "id": "152db7de-54ea-4ef1-ab49-e94cd4077ab4",
   "metadata": {},
   "outputs": [],
   "source": [
    "def coherence_gensim_nmf(corpus, id2word, dictionary, texts,\n",
    "                         start, limit, step, alpha='asymmetric',\n",
    "                         coherence='c_v'):\n",
    "    # Initialisation\n",
    "    coherence_values = []\n",
    "    model_list = []\n",
    "    \n",
    "    # Get coherence curve with nmf\n",
    "    ti = time.time()\n",
    "\n",
    "# ------------------------------------------------------\n",
    "    for num_topics in range(start, limit, step):\n",
    "\n",
    "        t0 = time.time()\n",
    "\n",
    "        model = gensim.models.Nmf(corpus=corpus,\n",
    "                          num_topics=num_topics,\n",
    "                          id2word=id2word,\n",
    "                          random_state=10,)\n",
    "\n",
    "        model_list.append(model)\n",
    "\n",
    "        coherencevalue = CoherenceModel(model=model, \n",
    "                                        texts=texts,\n",
    "                                        dictionary=dictionary,\n",
    "                                        coherence=coherence).get_coherence()\n",
    "\n",
    "        coherence_values.append(coherencevalue)\n",
    "\n",
    "        # display training information along the way\n",
    "        minutes, seconds = divmod(time.time()-t0, 60)\n",
    "\n",
    "        str_perf = f\"Nombre de topics: {num_topics:2} ... Valeur de coherence: {coherencevalue:.3} ... \"\n",
    "        str_time = f\"Temps d'entrainement et d'évaluation: {round(minutes):2} minutes {round(seconds):2} secondes...\"\n",
    "        print(str_perf + str_time)\n",
    "# ------------------------------------------------------    \n",
    "    # display training information along the way\n",
    "    print('Temps de la boucle entière')\n",
    "    print(\"done in %0.3fs.\" % (time.time() - ti))\n",
    "    \n",
    "    return model_list, coherence_values"
   ]
  },
  {
   "cell_type": "code",
   "execution_count": 63,
   "id": "a669abec-1c3b-4ead-bf4d-4dc389ceca16",
   "metadata": {},
   "outputs": [],
   "source": [
    "def coherence_gensim_lda(corpus, id2word, dictionary, texts,\n",
    "                         start, limit, step, alpha='asymmetric',\n",
    "                         coherence='c_v'):\n",
    "    # Initialisation\n",
    "    coherence_values = []\n",
    "    model_list = []\n",
    "    \n",
    "    \n",
    "    # Loop to get coherence which depends on nb of topics\n",
    "    ti = time.time()\n",
    "\n",
    "# ------------------------------------------------------\n",
    "    for num_topics in range(start, limit, step):\n",
    "\n",
    "        t0 = time.time()\n",
    "\n",
    "        model = gensim.models.LdaMulticore(corpus=corpus,\n",
    "                                           id2word=id2word,\n",
    "                                           alpha=alpha,\n",
    "                                           num_topics=num_topics)\n",
    "\n",
    "        model_list.append(model)\n",
    "\n",
    "        coherencevalue = CoherenceModel(model=model, \n",
    "                                        texts=texts,\n",
    "                                        dictionary=dictionary,\n",
    "                                        coherence=coherence).get_coherence()\n",
    "\n",
    "        coherence_values.append(coherencevalue)\n",
    "\n",
    "        # display training information along the way\n",
    "        minutes, seconds = divmod(time.time()-t0, 60)\n",
    "\n",
    "        str_perf = f\"Nombre de topics: {num_topics:2} ... Valeur de coherence: {coherencevalue:.3} ... \"\n",
    "        str_time = f\"Temps d'entrainement et d'évaluation: {round(minutes):2} minutes {round(seconds):2} secondes...\"\n",
    "        print(str_perf + str_time)\n",
    "# ------------------------------------------------------\n",
    "    # display training information along the way\n",
    "    print('Temps de la boucle entière')\n",
    "    print(\"done in %0.3fs.\" % (time.time() - ti))\n",
    "    \n",
    "    return model_list, coherence_values"
   ]
  },
  {
   "cell_type": "code",
   "execution_count": 171,
   "id": "075994eb-6d74-4fa1-9d7d-ec225e34f9c9",
   "metadata": {},
   "outputs": [],
   "source": [
    "def plot_coherence_curve(coherence_values, start, limit, \n",
    "                         step, title, min_coherence, max_coherence, c='r-'):\n",
    "    \n",
    "    # Force xlabels into integers as it sould be\n",
    "    ax = plt.figure().gca()\n",
    "    ax.xaxis.set_major_locator(MaxNLocator(integer=True))\n",
    "    \n",
    "    ax.set_xlim([0, limit])\n",
    "    ax.set_ylim([min_coherence-0.01*min_coherence, \n",
    "                 max_coherence+0.01*max_coherence])\n",
    "\n",
    "    # Coherence depening on nb of topics\n",
    "    n_topics = range(start, limit, step)\n",
    "    plt.plot(n_topics, coherence_values, c, linewidth='2')\n",
    "    plt.plot(n_topics, coherence_values, 'ko', linewidth='3')\n",
    "    \n",
    "    plt.xticks(fontsize=14)\n",
    "    plt.yticks(fontsize=14)\n",
    "    plt.grid() #Grid in case previously deleted\n",
    "    # Avoid cut labels/title\n",
    "    plt.subplots_adjust(bottom=0.15)\n",
    "    plt.subplots_adjust(left=0.15)\n",
    "\n",
    "    plt.xlabel(\"Number of topics\", fontsize=14)\n",
    "    plt.ylabel(\"Coherence score\", fontsize=14)\n",
    "    plt.title(title, fontsize=16);\n"
   ]
  },
  {
   "cell_type": "markdown",
   "id": "4f06f2df-ff3b-4ac3-9d41-5598860813e5",
   "metadata": {
    "tags": []
   },
   "source": [
    "# LDA model | Bag of words | GENSIM"
   ]
  },
  {
   "cell_type": "code",
   "execution_count": 65,
   "id": "f0a4f553-17f8-4517-9d64-60f3eab685d4",
   "metadata": {},
   "outputs": [],
   "source": [
    "# num_topics = 10# Build LDA model"
   ]
  },
  {
   "cell_type": "code",
   "execution_count": 66,
   "id": "0769ccfa-e0af-466d-9b8c-3e4a1991f184",
   "metadata": {},
   "outputs": [],
   "source": [
    "\n",
    "# lda_model = gensim.models.LdaMulticore(corpus=corpus_bow,\n",
    "#                                        id2word=dictionary,\n",
    "#                                        alpha='asymmetric',\n",
    "#                                        num_topics=num_topics)# Print the Keyword in the 10 topics"
   ]
  },
  {
   "cell_type": "code",
   "execution_count": 67,
   "id": "61d9b140-bd00-4b26-8271-94d88a55bed5",
   "metadata": {},
   "outputs": [],
   "source": [
    "# pprint(lda_model.print_topics())\n",
    "# doc_lda = lda_model[corpus_bow]"
   ]
  },
  {
   "cell_type": "code",
   "execution_count": 68,
   "id": "e6b6bc0f-82f9-4cf7-809f-8766cf3f3481",
   "metadata": {},
   "outputs": [],
   "source": [
    "# cm = CoherenceModel(model=lda_model, \n",
    "#                     texts=list_txt_cleaned,\n",
    "#                     #coherence='u_mass'\n",
    "#                    )\n",
    "\n",
    "# coherence = cm.get_coherence()  # get coherence value\n",
    "# coherence"
   ]
  },
  {
   "cell_type": "code",
   "execution_count": 69,
   "id": "0ffd5d5f-97c1-488c-aade-ba27e4fd0629",
   "metadata": {},
   "outputs": [],
   "source": [
    "# Initialisation\n",
    "#-------------------------------------------\n",
    "# coherence_values_lda_bow = []\n",
    "# model_list_lda_bow = []\n",
    "# #-------------------------------------------\n",
    "# coherence_values = coherence_values_lda_bow\n",
    "# model_list = model_list_lda_bow\n",
    "#-------------------------------------------\n",
    "# Parameters\n",
    "# corpus = corpus_bow\n",
    "#-------------------------------------------"
   ]
  },
  {
   "cell_type": "code",
   "execution_count": 70,
   "id": "983e0d5c-36d9-45aa-ba8c-0e0bda991c9f",
   "metadata": {},
   "outputs": [
    {
     "name": "stdout",
     "output_type": "stream",
     "text": [
      "Nombre de topics:  5 ... Valeur de coherence: 0.33 ... Temps d'entrainement et d'évaluation:  0 minutes 44 secondes...\n",
      "Nombre de topics:  6 ... Valeur de coherence: 0.373 ... Temps d'entrainement et d'évaluation:  0 minutes 44 secondes...\n",
      "Nombre de topics:  7 ... Valeur de coherence: 0.388 ... Temps d'entrainement et d'évaluation:  0 minutes 47 secondes...\n",
      "Nombre de topics:  8 ... Valeur de coherence: 0.412 ... Temps d'entrainement et d'évaluation:  0 minutes 52 secondes...\n",
      "Nombre de topics:  9 ... Valeur de coherence: 0.398 ... Temps d'entrainement et d'évaluation:  1 minutes  4 secondes...\n",
      "Nombre de topics: 10 ... Valeur de coherence: 0.402 ... Temps d'entrainement et d'évaluation:  0 minutes 58 secondes...\n",
      "Nombre de topics: 11 ... Valeur de coherence: 0.406 ... Temps d'entrainement et d'évaluation:  0 minutes 59 secondes...\n",
      "Nombre de topics: 12 ... Valeur de coherence: 0.417 ... Temps d'entrainement et d'évaluation:  0 minutes 57 secondes...\n",
      "Nombre de topics: 13 ... Valeur de coherence: 0.401 ... Temps d'entrainement et d'évaluation:  1 minutes  2 secondes...\n",
      "Nombre de topics: 14 ... Valeur de coherence: 0.388 ... Temps d'entrainement et d'évaluation:  1 minutes  5 secondes...\n",
      "Nombre de topics: 15 ... Valeur de coherence: 0.402 ... Temps d'entrainement et d'évaluation:  0 minutes 59 secondes...\n",
      "Nombre de topics: 16 ... Valeur de coherence: 0.415 ... Temps d'entrainement et d'évaluation:  1 minutes  0 secondes...\n",
      "Nombre de topics: 17 ... Valeur de coherence: 0.406 ... Temps d'entrainement et d'évaluation:  0 minutes 60 secondes...\n",
      "Nombre de topics: 18 ... Valeur de coherence: 0.412 ... Temps d'entrainement et d'évaluation:  1 minutes  2 secondes...\n",
      "Nombre de topics: 19 ... Valeur de coherence: 0.382 ... Temps d'entrainement et d'évaluation:  1 minutes  2 secondes...\n",
      "Nombre de topics: 20 ... Valeur de coherence: 0.412 ... Temps d'entrainement et d'évaluation:  1 minutes  6 secondes...\n",
      "Nombre de topics: 21 ... Valeur de coherence: 0.416 ... Temps d'entrainement et d'évaluation:  1 minutes 11 secondes...\n",
      "Nombre de topics: 22 ... Valeur de coherence: 0.393 ... Temps d'entrainement et d'évaluation:  1 minutes  8 secondes...\n",
      "Nombre de topics: 23 ... Valeur de coherence: 0.4 ... Temps d'entrainement et d'évaluation:  1 minutes 13 secondes...\n",
      "Nombre de topics: 24 ... Valeur de coherence: 0.432 ... Temps d'entrainement et d'évaluation:  1 minutes 14 secondes...\n",
      "Nombre de topics: 25 ... Valeur de coherence: 0.427 ... Temps d'entrainement et d'évaluation:  1 minutes 16 secondes...\n",
      "Nombre de topics: 26 ... Valeur de coherence: 0.409 ... Temps d'entrainement et d'évaluation:  1 minutes 15 secondes...\n",
      "Nombre de topics: 27 ... Valeur de coherence: 0.417 ... Temps d'entrainement et d'évaluation:  1 minutes 20 secondes...\n",
      "Nombre de topics: 28 ... Valeur de coherence: 0.41 ... Temps d'entrainement et d'évaluation:  1 minutes 21 secondes...\n",
      "Nombre de topics: 29 ... Valeur de coherence: 0.425 ... Temps d'entrainement et d'évaluation:  1 minutes 22 secondes...\n",
      "Temps de la boucle entière\n",
      "done in 1600.723s.\n"
     ]
    }
   ],
   "source": [
    "model_list_lda_bow, coherence_values_lda_bow = coherence_gensim_lda(corpus_bow, id2word, dictionary, texts, start, limit, step)"
   ]
  },
  {
   "cell_type": "markdown",
   "id": "9d3f9c5a-92d1-46a3-9078-f209b173ec4c",
   "metadata": {
    "tags": []
   },
   "source": [
    "# LDA model | TF-IDF | GENSIM"
   ]
  },
  {
   "cell_type": "code",
   "execution_count": 71,
   "id": "73903462-a4f2-4d9b-b7e3-64fc866f0b79",
   "metadata": {},
   "outputs": [],
   "source": [
    "# # Initialize parameters for LDA_TF-IDF\n",
    "# num_topics = 10\n",
    "# corpus = corpus_tfidf\n",
    "# id2word = dictionary\n",
    "# alpha = 'asymmetric'"
   ]
  },
  {
   "cell_type": "code",
   "execution_count": 72,
   "id": "24c09c6e-21da-422c-9c93-855ec89a3c23",
   "metadata": {},
   "outputs": [],
   "source": [
    "# # Build the LDA model with TF-IDF\n",
    "# lda_model_tfidf = gensim.models.LdaMulticore(corpus=corpus,\n",
    "#                                        id2word=dictionary,\n",
    "#                                        alpha=alpha,\n",
    "#                                        num_topics=num_topics)# Print the Keyword in the 10 topics"
   ]
  },
  {
   "cell_type": "code",
   "execution_count": 73,
   "id": "a985f39f-a63b-46eb-928d-71cf8907a83d",
   "metadata": {},
   "outputs": [],
   "source": [
    "# # Print topics with associated weights on words\n",
    "# pprint(lda_model_tfidf.print_topics())\n",
    "# doc_lda_tfidf = lda_model_tfidf[corpus]"
   ]
  },
  {
   "cell_type": "code",
   "execution_count": 74,
   "id": "c11fc5f6-e10b-4061-b31a-ab3005ed50e6",
   "metadata": {},
   "outputs": [],
   "source": [
    "# Initialisation & Parameters\n",
    "#-------------------------------------------\n",
    "# coherence_values_lda_tfidf = []\n",
    "# model_list_lda_tfidf = []\n",
    "# #-------------------------------------------\n",
    "# coherence_values = coherence_values_lda_tfidf\n",
    "# model_list = model_list_lda_tfidf\n",
    "# #-------------------------------------------\n",
    "# corpus = corpus_tfidf\n",
    "# id2word = dictionary\n",
    "# dictionary = dictionary\n",
    "# texts = list_txt_cleaned\n",
    "# model = model_lda_tfidf\n",
    "#-------------------------------------------"
   ]
  },
  {
   "cell_type": "code",
   "execution_count": 75,
   "id": "c250fd23-225b-4818-a506-1830a22e94ca",
   "metadata": {},
   "outputs": [
    {
     "name": "stdout",
     "output_type": "stream",
     "text": [
      "Nombre de topics:  5 ... Valeur de coherence: 0.505 ... Temps d'entrainement et d'évaluation:  0 minutes 43 secondes...\n",
      "Nombre de topics:  6 ... Valeur de coherence: 0.489 ... Temps d'entrainement et d'évaluation:  0 minutes 43 secondes...\n",
      "Nombre de topics:  7 ... Valeur de coherence: 0.527 ... Temps d'entrainement et d'évaluation:  0 minutes 45 secondes...\n",
      "Nombre de topics:  8 ... Valeur de coherence: 0.493 ... Temps d'entrainement et d'évaluation:  0 minutes 45 secondes...\n",
      "Nombre de topics:  9 ... Valeur de coherence: 0.57 ... Temps d'entrainement et d'évaluation:  0 minutes 42 secondes...\n",
      "Nombre de topics: 10 ... Valeur de coherence: 0.477 ... Temps d'entrainement et d'évaluation:  0 minutes 42 secondes...\n",
      "Nombre de topics: 11 ... Valeur de coherence: 0.544 ... Temps d'entrainement et d'évaluation:  0 minutes 45 secondes...\n",
      "Nombre de topics: 12 ... Valeur de coherence: 0.503 ... Temps d'entrainement et d'évaluation:  0 minutes 46 secondes...\n",
      "Nombre de topics: 13 ... Valeur de coherence: 0.536 ... Temps d'entrainement et d'évaluation:  0 minutes 45 secondes...\n",
      "Nombre de topics: 14 ... Valeur de coherence: 0.547 ... Temps d'entrainement et d'évaluation:  0 minutes 46 secondes...\n",
      "Nombre de topics: 15 ... Valeur de coherence: 0.528 ... Temps d'entrainement et d'évaluation:  0 minutes 47 secondes...\n",
      "Nombre de topics: 16 ... Valeur de coherence: 0.541 ... Temps d'entrainement et d'évaluation:  0 minutes 49 secondes...\n",
      "Nombre de topics: 17 ... Valeur de coherence: 0.514 ... Temps d'entrainement et d'évaluation:  0 minutes 48 secondes...\n",
      "Nombre de topics: 18 ... Valeur de coherence: 0.55 ... Temps d'entrainement et d'évaluation:  0 minutes 49 secondes...\n",
      "Nombre de topics: 19 ... Valeur de coherence: 0.515 ... Temps d'entrainement et d'évaluation:  0 minutes 52 secondes...\n",
      "Nombre de topics: 20 ... Valeur de coherence: 0.55 ... Temps d'entrainement et d'évaluation:  0 minutes 54 secondes...\n",
      "Nombre de topics: 21 ... Valeur de coherence: 0.558 ... Temps d'entrainement et d'évaluation:  0 minutes 57 secondes...\n",
      "Nombre de topics: 22 ... Valeur de coherence: 0.504 ... Temps d'entrainement et d'évaluation:  0 minutes 55 secondes...\n",
      "Nombre de topics: 23 ... Valeur de coherence: 0.506 ... Temps d'entrainement et d'évaluation:  0 minutes 56 secondes...\n",
      "Nombre de topics: 24 ... Valeur de coherence: 0.539 ... Temps d'entrainement et d'évaluation:  0 minutes 56 secondes...\n",
      "Nombre de topics: 25 ... Valeur de coherence: 0.53 ... Temps d'entrainement et d'évaluation:  0 minutes 57 secondes...\n",
      "Nombre de topics: 26 ... Valeur de coherence: 0.521 ... Temps d'entrainement et d'évaluation:  0 minutes 55 secondes...\n",
      "Nombre de topics: 27 ... Valeur de coherence: 0.538 ... Temps d'entrainement et d'évaluation:  1 minutes  0 secondes...\n",
      "Nombre de topics: 28 ... Valeur de coherence: 0.529 ... Temps d'entrainement et d'évaluation:  1 minutes  2 secondes...\n",
      "Nombre de topics: 29 ... Valeur de coherence: 0.49 ... Temps d'entrainement et d'évaluation:  1 minutes  3 secondes...\n",
      "Temps de la boucle entière\n",
      "done in 1262.832s.\n"
     ]
    }
   ],
   "source": [
    "model_list_lda_tfidf, coherence_values_lda_tfidf = coherence_gensim_lda(corpus_tfidf, id2word, dictionary, texts, start, limit, step)"
   ]
  },
  {
   "cell_type": "markdown",
   "id": "03d22092-e727-437f-84ff-e0575ff515f5",
   "metadata": {
    "tags": []
   },
   "source": [
    "# NMF | Bag_Of_Words | GENSIM"
   ]
  },
  {
   "cell_type": "code",
   "execution_count": 76,
   "id": "6c46bfeb-f3da-43e9-a7c3-a44f98c1a50a",
   "metadata": {},
   "outputs": [],
   "source": [
    "# Parameters & Initialisation\n",
    "#-------------------------------------------\n",
    "# coherence_values_nmf_bow = []\n",
    "# model_list_nmf_bow = []\n",
    "#-------------------------------------------\n",
    "# coherence_values = coherence_values_nmf_bow\n",
    "# model_list = model_list_nmf_bow\n",
    "#-------------------------------------------\n",
    "# texts = list_txt_cleaned\n",
    "# dictionary = dictionary\n",
    "# id2word = dictionary\n",
    "# corpus = corpus_bow\n",
    "# model = model_list_nmf_bow\n",
    "#-------------------------------------------"
   ]
  },
  {
   "cell_type": "code",
   "execution_count": 77,
   "id": "591097a5-0df4-4611-aa66-32daa860dcdd",
   "metadata": {},
   "outputs": [],
   "source": [
    "# # Premier passage test\n",
    "# nmf = gensim.models.Nmf(\n",
    "#     corpus=corpus,\n",
    "#     num_topics=num_topics,\n",
    "#     id2word=id2word,\n",
    "#     chunksize=1000,\n",
    "#     passes=5,\n",
    "#     eval_every=10,\n",
    "#     minimum_probability=0,\n",
    "#     random_state=0,\n",
    "#     kappa=1,)"
   ]
  },
  {
   "cell_type": "code",
   "execution_count": 78,
   "id": "cc94dda4-135b-437c-9306-e59b226a205d",
   "metadata": {},
   "outputs": [],
   "source": [
    "# nmf.show_topics()"
   ]
  },
  {
   "cell_type": "code",
   "execution_count": 79,
   "id": "5336713c-6c82-4481-8d18-b400da6292ec",
   "metadata": {},
   "outputs": [
    {
     "name": "stdout",
     "output_type": "stream",
     "text": [
      "Nombre de topics:  5 ... Valeur de coherence: 0.476 ... Temps d'entrainement et d'évaluation:  0 minutes 21 secondes...\n",
      "Nombre de topics:  6 ... Valeur de coherence: 0.424 ... Temps d'entrainement et d'évaluation:  0 minutes 22 secondes...\n",
      "Nombre de topics:  7 ... Valeur de coherence: 0.434 ... Temps d'entrainement et d'évaluation:  0 minutes 25 secondes...\n",
      "Nombre de topics:  8 ... Valeur de coherence: 0.421 ... Temps d'entrainement et d'évaluation:  0 minutes 27 secondes...\n",
      "Nombre de topics:  9 ... Valeur de coherence: 0.431 ... Temps d'entrainement et d'évaluation:  0 minutes 30 secondes...\n",
      "Nombre de topics: 10 ... Valeur de coherence: 0.44 ... Temps d'entrainement et d'évaluation:  0 minutes 32 secondes...\n",
      "Nombre de topics: 11 ... Valeur de coherence: 0.48 ... Temps d'entrainement et d'évaluation:  0 minutes 33 secondes...\n",
      "Nombre de topics: 12 ... Valeur de coherence: 0.435 ... Temps d'entrainement et d'évaluation:  0 minutes 35 secondes...\n",
      "Nombre de topics: 13 ... Valeur de coherence: 0.455 ... Temps d'entrainement et d'évaluation:  0 minutes 37 secondes...\n",
      "Nombre de topics: 14 ... Valeur de coherence: 0.461 ... Temps d'entrainement et d'évaluation:  0 minutes 38 secondes...\n",
      "Nombre de topics: 15 ... Valeur de coherence: 0.438 ... Temps d'entrainement et d'évaluation:  0 minutes 40 secondes...\n",
      "Nombre de topics: 16 ... Valeur de coherence: 0.47 ... Temps d'entrainement et d'évaluation:  0 minutes 42 secondes...\n",
      "Nombre de topics: 17 ... Valeur de coherence: 0.455 ... Temps d'entrainement et d'évaluation:  0 minutes 43 secondes...\n",
      "Nombre de topics: 18 ... Valeur de coherence: 0.461 ... Temps d'entrainement et d'évaluation:  0 minutes 49 secondes...\n",
      "Nombre de topics: 19 ... Valeur de coherence: 0.466 ... Temps d'entrainement et d'évaluation:  0 minutes 49 secondes...\n",
      "Nombre de topics: 20 ... Valeur de coherence: 0.478 ... Temps d'entrainement et d'évaluation:  0 minutes 55 secondes...\n",
      "Nombre de topics: 21 ... Valeur de coherence: 0.486 ... Temps d'entrainement et d'évaluation:  0 minutes 54 secondes...\n",
      "Nombre de topics: 22 ... Valeur de coherence: 0.458 ... Temps d'entrainement et d'évaluation:  0 minutes 53 secondes...\n",
      "Nombre de topics: 23 ... Valeur de coherence: 0.473 ... Temps d'entrainement et d'évaluation:  0 minutes 59 secondes...\n",
      "Nombre de topics: 24 ... Valeur de coherence: 0.477 ... Temps d'entrainement et d'évaluation:  0 minutes 57 secondes...\n",
      "Nombre de topics: 25 ... Valeur de coherence: 0.446 ... Temps d'entrainement et d'évaluation:  1 minutes  3 secondes...\n",
      "Nombre de topics: 26 ... Valeur de coherence: 0.478 ... Temps d'entrainement et d'évaluation:  1 minutes  4 secondes...\n",
      "Nombre de topics: 27 ... Valeur de coherence: 0.458 ... Temps d'entrainement et d'évaluation:  1 minutes  4 secondes...\n",
      "Nombre de topics: 28 ... Valeur de coherence: 0.472 ... Temps d'entrainement et d'évaluation:  1 minutes  1 secondes...\n",
      "Nombre de topics: 29 ... Valeur de coherence: 0.488 ... Temps d'entrainement et d'évaluation:  1 minutes  8 secondes...\n",
      "Temps de la boucle entière\n",
      "done in 1117.522s.\n"
     ]
    }
   ],
   "source": [
    "model_list_nmf_bow, coherence_values_nmf_bow = coherence_gensim_nmf(corpus_bow, id2word, dictionary, texts, start, limit, step)"
   ]
  },
  {
   "cell_type": "markdown",
   "id": "a5930d7e-bb17-41f2-a999-79465e7aa590",
   "metadata": {
    "tags": []
   },
   "source": [
    "# NMF | TF-IDF | GENSIM"
   ]
  },
  {
   "cell_type": "code",
   "execution_count": 80,
   "id": "ea1af9e9-84cd-46f8-b90c-5a3e03e79055",
   "metadata": {},
   "outputs": [],
   "source": [
    "# Parameters & Initialisation\n",
    "#-------------------------------------------\n",
    "# coherence_values_nmf_tfidf = []\n",
    "# model_list_nmf_tfidf = []\n",
    "#-------------------------------------------\n",
    "# coherence_values = coherence_values_nmf_tfidf\n",
    "# model_list = model_list_nmf_tfidf\n",
    "#-------------------------------------------\n",
    "# texts = list_txt_cleaned\n",
    "# dictionary = dictionary\n",
    "# id2word = dictionary\n",
    "# corpus = corpus_tfidf\n",
    "# model = model_list_nmf_tfidf\n",
    "#-------------------------------------------"
   ]
  },
  {
   "cell_type": "code",
   "execution_count": 81,
   "id": "aa5d0cf4-b190-40ab-ab2c-984ff22763f2",
   "metadata": {},
   "outputs": [
    {
     "name": "stdout",
     "output_type": "stream",
     "text": [
      "Nombre de topics:  5 ... Valeur de coherence: 0.469 ... Temps d'entrainement et d'évaluation:  0 minutes 36 secondes...\n",
      "Nombre de topics:  6 ... Valeur de coherence: 0.488 ... Temps d'entrainement et d'évaluation:  0 minutes 36 secondes...\n",
      "Nombre de topics:  7 ... Valeur de coherence: 0.466 ... Temps d'entrainement et d'évaluation:  0 minutes 39 secondes...\n",
      "Nombre de topics:  8 ... Valeur de coherence: 0.513 ... Temps d'entrainement et d'évaluation:  0 minutes 41 secondes...\n",
      "Nombre de topics:  9 ... Valeur de coherence: 0.449 ... Temps d'entrainement et d'évaluation:  0 minutes 44 secondes...\n",
      "Nombre de topics: 10 ... Valeur de coherence: 0.55 ... Temps d'entrainement et d'évaluation:  0 minutes 45 secondes...\n",
      "Nombre de topics: 11 ... Valeur de coherence: 0.548 ... Temps d'entrainement et d'évaluation:  0 minutes 48 secondes...\n",
      "Nombre de topics: 12 ... Valeur de coherence: 0.507 ... Temps d'entrainement et d'évaluation:  0 minutes 50 secondes...\n",
      "Nombre de topics: 13 ... Valeur de coherence: 0.508 ... Temps d'entrainement et d'évaluation:  0 minutes 52 secondes...\n",
      "Nombre de topics: 14 ... Valeur de coherence: 0.529 ... Temps d'entrainement et d'évaluation:  0 minutes 52 secondes...\n",
      "Nombre de topics: 15 ... Valeur de coherence: 0.506 ... Temps d'entrainement et d'évaluation:  0 minutes 57 secondes...\n",
      "Nombre de topics: 16 ... Valeur de coherence: 0.501 ... Temps d'entrainement et d'évaluation:  0 minutes 60 secondes...\n",
      "Nombre de topics: 17 ... Valeur de coherence: 0.498 ... Temps d'entrainement et d'évaluation:  1 minutes  2 secondes...\n",
      "Nombre de topics: 18 ... Valeur de coherence: 0.557 ... Temps d'entrainement et d'évaluation:  1 minutes  1 secondes...\n",
      "Nombre de topics: 19 ... Valeur de coherence: 0.517 ... Temps d'entrainement et d'évaluation:  1 minutes  6 secondes...\n",
      "Nombre de topics: 20 ... Valeur de coherence: 0.519 ... Temps d'entrainement et d'évaluation:  1 minutes  4 secondes...\n",
      "Nombre de topics: 21 ... Valeur de coherence: 0.521 ... Temps d'entrainement et d'évaluation:  1 minutes  3 secondes...\n",
      "Nombre de topics: 22 ... Valeur de coherence: 0.53 ... Temps d'entrainement et d'évaluation:  1 minutes 11 secondes...\n",
      "Nombre de topics: 23 ... Valeur de coherence: 0.521 ... Temps d'entrainement et d'évaluation:  1 minutes 11 secondes...\n",
      "Nombre de topics: 24 ... Valeur de coherence: 0.5 ... Temps d'entrainement et d'évaluation:  1 minutes 11 secondes...\n",
      "Nombre de topics: 25 ... Valeur de coherence: 0.487 ... Temps d'entrainement et d'évaluation:  1 minutes 13 secondes...\n",
      "Nombre de topics: 26 ... Valeur de coherence: 0.518 ... Temps d'entrainement et d'évaluation:  1 minutes 17 secondes...\n",
      "Nombre de topics: 27 ... Valeur de coherence: 0.511 ... Temps d'entrainement et d'évaluation:  1 minutes 19 secondes...\n",
      "Nombre de topics: 28 ... Valeur de coherence: 0.51 ... Temps d'entrainement et d'évaluation:  1 minutes 21 secondes...\n",
      "Nombre de topics: 29 ... Valeur de coherence: 0.538 ... Temps d'entrainement et d'évaluation:  1 minutes 22 secondes...\n",
      "Temps de la boucle entière\n",
      "done in 1482.575s.\n"
     ]
    }
   ],
   "source": [
    "model_list_nmf_tfidf, coherence_values_nmf_tfidf = coherence_gensim_nmf(corpus_tfidf, id2word, dictionary, texts, start, limit, step)"
   ]
  },
  {
   "cell_type": "markdown",
   "id": "5a205780-471b-4a90-85dc-f105bf54d00c",
   "metadata": {
    "tags": []
   },
   "source": [
    "# NMF model | TF-IDF | Sklearn"
   ]
  },
  {
   "cell_type": "code",
   "execution_count": 82,
   "id": "d7d1c8d6-1461-49e0-9fb6-145154f51b04",
   "metadata": {},
   "outputs": [],
   "source": [
    "# pro : allows visualisation\n",
    "# cons : slower and slightly less precise according to litterature"
   ]
  },
  {
   "cell_type": "code",
   "execution_count": 83,
   "id": "44892921-9ebc-4c22-942d-a5e8efda02ba",
   "metadata": {},
   "outputs": [],
   "source": [
    "def plot_top_words(model, feature_names, n_top_words, title, fig_row, fig_col):\n",
    "    fig, axes = plt.subplots(fig_row, fig_col, figsize=(30, 15), sharex=True)\n",
    "    axes = axes.flatten()\n",
    "    for topic_idx, topic in enumerate(model.components_):\n",
    "        top_features_ind = topic.argsort()[:-n_top_words - 1:-1]\n",
    "        top_features = [feature_names[i] for i in top_features_ind]\n",
    "        weights = topic[top_features_ind]\n",
    "\n",
    "        ax = axes[topic_idx]\n",
    "        ax.barh(top_features, weights, height=0.7)\n",
    "        ax.set_title(f'Topic {topic_idx +1}',\n",
    "                     fontdict={'fontsize': 30})\n",
    "        ax.invert_yaxis()\n",
    "        ax.tick_params(axis='both', which='major', labelsize=20)\n",
    "        for i in 'top right left'.split():\n",
    "            ax.spines[i].set_visible(False)\n",
    "        fig.suptitle(title, fontsize=40)\n",
    "\n",
    "    plt.subplots_adjust(top=0.90, bottom=0.05, wspace=0.90, hspace=0.3)\n",
    "    plt.show()"
   ]
  },
  {
   "cell_type": "code",
   "execution_count": 84,
   "id": "449981b0-9465-49d2-8580-3e2a5738560c",
   "metadata": {},
   "outputs": [
    {
     "data": {
      "text/plain": [
       "0        way class variable python python people initia...\n",
       "1        entrypoint index html use htmlwebpackplugin us...\n",
       "2        literate num notice math operator num way lite...\n",
       "3        decker image use compile  cpu currently try us...\n",
       "4        handle loss three j   figure case loss applica...\n",
       "                               ...                        \n",
       "99979    remove son element jackson son node correspond...\n",
       "99980    python panda replicate row dataframe dataframe...\n",
       "99983    execute java cucumber step get step class atte...\n",
       "99984    find character string letter try figure  strin...\n",
       "99985    use spi speech recognition b script find  line...\n",
       "Name: Cleaned_txt, Length: 91880, dtype: object"
      ]
     },
     "execution_count": 84,
     "metadata": {},
     "output_type": "execute_result"
    }
   ],
   "source": [
    "text_nmf = df_txt_cleaned['Cleaned_txt']\n",
    "#df_cleaned['text']\n",
    "text_nmf"
   ]
  },
  {
   "cell_type": "code",
   "execution_count": 85,
   "id": "f15c2766-d408-47f4-9431-af2826b7911b",
   "metadata": {},
   "outputs": [
    {
     "name": "stdout",
     "output_type": "stream",
     "text": [
      "Extracting tf-idf features for NMF...\n",
      "done in 5.462s.\n"
     ]
    }
   ],
   "source": [
    "# Use tf-idf features for NMF.\n",
    "print(\"Extracting tf-idf features for NMF...\")\n",
    "tfidf_vectorizer = TfidfVectorizer(#max_df=0.95, min_df=2,\n",
    "                                   #max_features=n_features,\n",
    "                                   stop_words='english')\n",
    "\n",
    "\n",
    "\n",
    "t0 = time.time()\n",
    "tfidf = tfidf_vectorizer.fit_transform(text_nmf)\n",
    "print(\"done in %0.3fs.\" % (time.time() - t0))"
   ]
  },
  {
   "cell_type": "code",
   "execution_count": 86,
   "id": "33f8b026-dddb-4b44-b6f7-9d3f59e3d480",
   "metadata": {},
   "outputs": [
    {
     "name": "stdout",
     "output_type": "stream",
     "text": [
      "Fitting done in 22.565s.\n"
     ]
    }
   ],
   "source": [
    "n_topics_optim = 6\n",
    "\n",
    "# Fit the NMF model\n",
    "t0 = time.time()\n",
    "\n",
    "nmf = NMF(n_components=n_topics_optim, \n",
    "          random_state=10,\n",
    "          alpha=.1, \n",
    "          l1_ratio=.5,\n",
    "         init='nndsvda').fit(tfidf)\n",
    "\n",
    "print(\"Fitting done in %0.3fs.\" % (time.time() - t0))\n"
   ]
  },
  {
   "cell_type": "code",
   "execution_count": 87,
   "id": "8d0e9131-daf6-48d7-b006-b5a3cb28691a",
   "metadata": {},
   "outputs": [
    {
     "data": {
      "image/png": "[encoded data removed]",
      "text/plain": [
       "<Figure size 2160x1080 with 6 Axes>"
      ]
     },
     "metadata": {
      "needs_background": "light"
     },
     "output_type": "display_data"
    }
   ],
   "source": [
    "# Parameter initialization\n",
    "n_top_words = 15\n",
    "fig_row = 2\n",
    "fig_col = 3\n",
    "# Be aware : row*col = nnumber of topics\n",
    "\n",
    "# Visualisation of top words inside topics\n",
    "\n",
    "tfidf_feature_names = tfidf_vectorizer.get_feature_names()\n",
    "\n",
    "plot_top_words(nmf, \n",
    "               tfidf_feature_names, \n",
    "               n_top_words,\n",
    "               'Topics in NMF model (Frobenius norm)',\n",
    "               fig_row,\n",
    "               fig_col,)"
   ]
  },
  {
   "cell_type": "code",
   "execution_count": 88,
   "id": "93b1ee9d-a297-430f-9894-f2e85301cab6",
   "metadata": {},
   "outputs": [
    {
     "data": {
      "text/plain": [
       "6"
      ]
     },
     "execution_count": 88,
     "metadata": {},
     "output_type": "execute_result"
    }
   ],
   "source": [
    "len(nmf.components_)"
   ]
  },
  {
   "cell_type": "markdown",
   "id": "ef89d1fd-ad94-4f13-a382-27de5cbec86f",
   "metadata": {
    "tags": []
   },
   "source": [
    "# Selection du meilleur modèle"
   ]
  },
  {
   "cell_type": "markdown",
   "id": "3ee7fa46-de52-4d41-a4db-e3950df9a88e",
   "metadata": {},
   "source": [
    "## Courbes des scores de coherence dans chaque cas"
   ]
  },
  {
   "cell_type": "code",
   "execution_count": 89,
   "id": "37a69ff6-71de-47da-926b-8362e47b3e8b",
   "metadata": {},
   "outputs": [
    {
     "name": "stdout",
     "output_type": "stream",
     "text": [
      "min_coherence : 0.32971230926010253 \n",
      " max_coherence 0.5704359228653737\n"
     ]
    }
   ],
   "source": [
    "# Parameters & Initialisation\n",
    "min_coherence = min(min(coherence_values_lda_bow),\n",
    "                    min(coherence_values_lda_tfidf), \n",
    "                    min(coherence_values_nmf_bow),\n",
    "                    min(coherence_values_nmf_tfidf)\n",
    "                   )\n",
    "max_coherence = max(max(coherence_values_lda_bow),\n",
    "                    max(coherence_values_lda_tfidf), \n",
    "                    max(coherence_values_nmf_bow),\n",
    "                    max(coherence_values_nmf_tfidf)\n",
    "                   )\n",
    "print('min_coherence :', min_coherence, '\\n', 'max_coherence', max_coherence)"
   ]
  },
  {
   "cell_type": "code",
   "execution_count": 172,
   "id": "1c2725b8-ab7b-4a5d-b193-f08236f9f6cf",
   "metadata": {},
   "outputs": [
    {
     "data": {
      "image/png": "[encoded data removed]",
      "text/plain": [
       "<Figure size 432x288 with 1 Axes>"
      ]
     },
     "metadata": {
      "needs_background": "light"
     },
     "output_type": "display_data"
    },
    {
     "data": {
      "image/png": "[encoded data removed]",
      "text/plain": [
       "<Figure size 432x288 with 1 Axes>"
      ]
     },
     "metadata": {
      "needs_background": "light"
     },
     "output_type": "display_data"
    },
    {
     "data": {
      "image/png": "[encoded data removed]",
      "text/plain": [
       "<Figure size 432x288 with 1 Axes>"
      ]
     },
     "metadata": {
      "needs_background": "light"
     },
     "output_type": "display_data"
    },
    {
     "data": {
      "image/png": "[encoded data removed]",
      "text/plain": [
       "<Figure size 432x288 with 1 Axes>"
      ]
     },
     "metadata": {
      "needs_background": "light"
     },
     "output_type": "display_data"
    }
   ],
   "source": [
    "title = \"Coherence curve for LDA | BOW\"\n",
    "plot_coherence_curve(coherence_values_lda_bow, start, limit, step, title, min_coherence, max_coherence, c='b-')\n",
    "plt.savefig('Images/LDA_BOW.jpg')\n",
    "\n",
    "title = \"Coherence curve for LDA | TF-IDF\"\n",
    "plot_coherence_curve(coherence_values_lda_tfidf, start, limit, step, title, min_coherence, max_coherence, c='r-')\n",
    "plt.savefig('Images/LDA_TFIDF.jpg')\n",
    "\n",
    "title = \"Coherence curve for NMF | BOW\"\n",
    "plot_coherence_curve(coherence_values_nmf_bow, start, limit, step, title, min_coherence, max_coherence, c='b-')\n",
    "plt.savefig('Images/NMF_BOW.jpg')\n",
    "\n",
    "title = \"Coherence curve for NMF | TF-IDF\"\n",
    "plot_coherence_curve(coherence_values_nmf_tfidf, start, limit, step, title, min_coherence, max_coherence, c='r-')\n",
    "plt.savefig('Images/NMF_TFIDF.jpg')"
   ]
  },
  {
   "cell_type": "markdown",
   "id": "4837d9ca-a7f7-4d07-8943-42edf959e3b0",
   "metadata": {
    "tags": []
   },
   "source": [
    "## Nombre de topics optimal dans chaque cas"
   ]
  },
  {
   "cell_type": "markdown",
   "id": "c064343f-c306-42c5-b2b9-f63c00a503fb",
   "metadata": {
    "tags": []
   },
   "source": [
    "### LDA - BOW"
   ]
  },
  {
   "cell_type": "code",
   "execution_count": 91,
   "id": "e3eca57f-2bb4-4235-96ac-c9873f3142b7",
   "metadata": {},
   "outputs": [],
   "source": [
    "# Optimal model chosen\n",
    "optimal_model_lda_bow = model_list_lda_bow[2]"
   ]
  },
  {
   "cell_type": "code",
   "execution_count": 92,
   "id": "3ac28648-6cec-4964-902c-8fc3e9a449f1",
   "metadata": {},
   "outputs": [
    {
     "data": {
      "text/plain": [
       "['optimal_model_lda_bow.pkl']"
      ]
     },
     "execution_count": 92,
     "metadata": {},
     "output_type": "execute_result"
    }
   ],
   "source": [
    "# save the model to disk\n",
    "joblib.dump(optimal_model_lda_bow, 'optimal_model_lda_bow.pkl')"
   ]
  },
  {
   "cell_type": "code",
   "execution_count": 93,
   "id": "07ba8e5a-d732-4084-b2ef-37fc65c5d547",
   "metadata": {},
   "outputs": [
    {
     "name": "stdout",
     "output_type": "stream",
     "text": [
      "[(0,\n",
      "  '0.015*\"use\" + 0.015*\"image\" + 0.012*\"data\" + 0.011*\"div\" + 0.011*\"button\" + '\n",
      "  '0.009*\"item\" + 0.008*\"color\" + 0.008*\"function\" + 0.008*\"get\" + '\n",
      "  '0.008*\"class\"'),\n",
      " (1,\n",
      "  '0.022*\"use\" + 0.016*\"file\" + 0.011*\"get\" + 0.010*\"number\" + 0.009*\"way\" + '\n",
      "  '0.009*\"code\" + 0.009*\"line\" + 0.008*\"function\" + 0.007*\"class\" + '\n",
      "  '0.007*\"try\"'),\n",
      " (2,\n",
      "  '0.022*\"use\" + 0.014*\"get\" + 0.013*\"data\" + 0.012*\"request\" + 0.010*\"http\" + '\n",
      "  '0.008*\"response\" + 0.008*\"return\" + 0.008*\"code\" + 0.008*\"try\" + '\n",
      "  '0.008*\"error\"'),\n",
      " (3,\n",
      "  '0.025*\"string\" + 0.023*\"value\" + 0.016*\"return\" + 0.014*\"array\" + '\n",
      "  '0.014*\"int\" + 0.014*\"get\" + 0.013*\"use\" + 0.011*\"list\" + 0.011*\"code\" + '\n",
      "  '0.010*\"function\"'),\n",
      " (4,\n",
      "  '0.021*\"class\" + 0.018*\"name\" + 0.016*\"use\" + 0.016*\"model\" + 0.013*\"id\" + '\n",
      "  '0.013*\"java\" + 0.012*\"android\" + 0.009*\"get\" + 0.008*\"user\" + '\n",
      "  '0.007*\"create\"'),\n",
      " (5,\n",
      "  '0.029*\"file\" + 0.020*\"use\" + 0.016*\"python\" + 0.015*\"time\" + 0.013*\"import\" '\n",
      "  '+ 0.012*\"get\" + 0.009*\"run\" + 0.008*\"try\" + 0.007*\"code\" + 0.007*\"process\"'),\n",
      " (6,\n",
      "  '0.018*\"error\" + 0.018*\"use\" + 0.016*\"file\" + 0.015*\"run\" + 0.014*\"test\" + '\n",
      "  '0.011*\"get\" + 0.011*\"try\" + 0.010*\"app\" + 0.009*\"log\" + 0.008*\"project\"')]\n"
     ]
    }
   ],
   "source": [
    "optimal_model_lda_bow.show_topics(formatted=False)\n",
    "pprint(optimal_model_lda_bow.print_topics(num_words=10))"
   ]
  },
  {
   "cell_type": "code",
   "execution_count": 94,
   "id": "a24325ed-330f-4186-953a-9fcaa5ce07ab",
   "metadata": {},
   "outputs": [
    {
     "data": {
      "text/html": [
       "\n",
       "<link rel=\"stylesheet\" type=\"text/css\" href=\"https://cdn.jsdelivr.net/gh/bmabey/pyLDAvis/pyLDAvis/js/ldavis.v1.0.0.css\">\n",
       "\n",
       "\n",
       "<div id=\"ldavis_el942422025248682721733766457\"></div>\n",
       "<script type=\"text/javascript\">\n",
       "\n",
       "var ldavis_el942422025248682721733766457_data = {\"mdsDat\": {\"x\": [-0.10124355465745832, 0.09928329030054887, 0.057206363824211785, 0.04195409546035978, -0.0393600321554269, -0.09087230827263817, 0.03303214550040279], \"y\": [0.02887703001511739, 0.00877027600877867, -0.04999690097889074, -0.07521795264655791, 0.026086002830989947, -0.057016448912781445, 0.11849799368334411], \"topics\": [1, 2, 3, 4, 5, 6, 7], \"cluster\": [1, 1, 1, 1, 1, 1, 1], \"Freq\": [17.720843400352614, 16.99301139094203, 15.812501411981492, 14.88109866119141, 13.094235455845176, 10.941420253863972, 10.556889425823309]}, \"tinfo\": {\"Term\": [\"file\", \"string\", \"array\", \"model\", \"python\", \"value\", \"class\", \"int\", \"image\", \"div\", \"java\", \"android\", \"time\", \"button\", \"request\", \"id\", \"run\", \"name\", \"import\", \"error\", \"response\", \"return\", \"color\", \"decker\", \"item\", \"number\", \"service\", \"test\", \"layout\", \"app\", \"phpunit\", \"phpmailer\", \"colspan\", \"mysqld\", \"rowspan\", \"eureka\", \"plexus\", \"logger\", \"fixtures\", \"isip\", \"keyring\", \"webpacker\", \"authdata\", \"transportexception\", \"pts\", \"commandnotfoundexception\", \"dartlang\", \"mailer\", \"formset\", \"serilog\", \"weapon\", \"reloadonchange\", \"signingconfig\", \"buildpacks\", \"telemetry\", \"sweetalert\", \"organisation\", \"syslog\", \"codelabs\", \"chaincode\", \"heroku\", \"zookeeper\", \"denise\", \"copytooutputdirectory\", \"babel\", \"rr\", \"testflight\", \"gem\", \"phpmyadmin\", \"mecha\", \"devdependencies\", \"dotnet\", \"webpack\", \"rake\", \"composer\", \"td\", \"cypress\", \"ini\", \"xampp\", \"honda\", \"electron\", \"flask\", \"cli\", \"lib\", \"preset\", \"php\", \"sh\", \"loader\", \"config\", \"emulator\", \"log\", \"appsettings\", \"test\", \"package\", \"module\", \"mail\", \"install\", \"run\", \"bin\", \"project\", \"j\", \"app\", \"error\", \"env\", \"instal\", \"command\", \"debug\", \"studio\", \"server\", \"build\", \"version\", \"window\", \"py\", \"script\", \"file\", \"num\", \"node\", \"require\", \"use\", \"try\", \"get\", \"find\", \"user\", \"code\", \"application\", \"line\", \"name\", \"create\", \"follow\", \"http\", \"make\", \"function\", \"publication\", \"cornerradius\", \"nv\", \"dropzone\", \"thrush\", \"africa\", \"keycode\", \"boxplot\", \"familyname\", \"drawimage\", \"typewriter\", \"helmet\", \"mypage\", \"documentdb\", \"jsbin\", \"imputer\", \"uisegmentedcontrol\", \"angeles\", \"defaultprops\", \"jstree\", \"peak\", \"barcode\", \"nstableview\", \"dodge\", \"landmark\", \"emmet\", \"uiscrollview\", \"delims\", \"owl\", \"clonenode\", \"canvas\", \"rgba\", \"keypress\", \"img\", \"modal\", \"carousel\", \"webkit\", \"viewbox\", \"navbar\", \"onchange\", \"svg\", \"stroke\", \"border\", \"getelementbyid\", \"button\", \"ion\", \"deg\", \"contour\", \"hover\", \"li\", \"blur\", \"animation\", \"rectangle\", \"div\", \"color\", \"circle\", \"style\", \"image\", \"classname\", \"height\", \"checkbox\", \"swiftui\", \"background\", \"icon\", \"keyboard\", \"item\", \"px\", \"width\", \"margin\", \"href\", \"click\", \"render\", \"prop\", \"scroll\", \"state\", \"react\", \"box\", \"cs\", \"element\", \"text\", \"component\", \"event\", \"view\", \"display\", \"data\", \"input\", \"var\", \"html\", \"query\", \"use\", \"function\", \"class\", \"way\", \"change\", \"get\", \"try\", \"code\", \"value\", \"show\", \"add\", \"mymap\", \"somefunction\", \"truck\", \"webdriverwait\", \"myenum\", \"pyaudio\", \"sayhello\", \"leetcode\", \"entryset\", \"getresource\", \"licence\", \"defaultdict\", \"javase\", \"buildconfigfield\", \"processname\", \"middlename\", \"yocto\", \"sqlsrv\", \"netcoreapp\", \"netframework\", \"emplace\", \"recount\", \"cllocationcoordinate\", \"perimeter\", \"uicollectionviewcell\", \"tochararray\", \"bigdecimal\", \"workspacefolder\", \"bitbake\", \"nosuchelementexception\", \"collectionview\", \"desiredcapabilities\", \"commandtype\", \"strap\", \"argumentexception\", \"indexpath\", \"nan\", \"argumentnullexception\", \"array\", \"automapper\", \"rain\", \"coupon\", \"int\", \"tableview\", \"hashmap\", \"nat\", \"arraylist\", \"nsindexpath\", \"comparator\", \"arr\", \"javafx\", \"operator\", \"city\", \"std\", \"string\", \"integer\", \"dict\", \"struct\", \"woocommerce\", \"value\", \"tensor\", \"product\", \"func\", \"dataframe\", \"webdriver\", \"list\", \"return\", \"range\", \"param\", \"println\", \"val\", \"index\", \"sort\", \"df\", \"print\", \"self\", \"void\", \"object\", \"collection\", \"map\", \"result\", \"type\", \"def\", \"function\", \"code\", \"get\", \"column\", \"row\", \"name\", \"error\", \"method\", \"class\", \"use\", \"java\", \"try\", \"find\", \"example\", \"add\", \"way\", \"data\", \"id\", \"test\", \"mapbox\", \"virtualenvwrapper\", \"jon\", \"navlink\", \"polyline\", \"shinyapps\", \"revenue\", \"bottomanchor\", \"dateformatter\", \"colonize\", \"chalk\", \"setmap\", \"vaadin\", \"coiname\", \"srpos\", \"userdefaults\", \"duck\", \"midpoint\", \"bison\", \"nhibernate\", \"topanchor\", \"vowel\", \"webfont\", \"pointcolor\", \"pointstrokecolor\", \"ioctl\", \"forecast\", \"indentation\", \"openoffice\", \"sal\", \"coin\", \"fileinput\", \"emacs\", \"stash\", \"commits\", \"baz\", \"excel\", \"branch\", \"markdown\", \"sentence\", \"squash\", \"rebate\", \"formatting\", \"character\", \"commit\", \"openpyxl\", \"grammar\", \"latlng\", \"dog\", \"word\", \"geocode\", \"matrix\", \"whitespace\", \"beautifulsoup\", \"workbook\", \"foo\", \"fruit\", \"ax\", \"number\", \"year\", \"month\", \"quote\", \"xl\", \"marker\", \"font\", \"sheet\", \"format\", \"line\", \"git\", \"text\", \"space\", \"vector\", \"letter\", \"file\", \"replace\", \"table\", \"use\", \"way\", \"column\", \"date\", \"change\", \"function\", \"read\", \"code\", \"set\", \"get\", \"make\", \"output\", \"something\", \"class\", \"find\", \"string\", \"data\", \"example\", \"try\", \"type\", \"time\", \"name\", \"value\", \"create\", \"follow\", \"result\", \"hystrix\", \"sloop\", \"jacoco\", \"docker\", \"themedata\", \"presentviewcontroller\", \"pq\", \"tabbarview\", \"sentinel\", \"nullptr\", \"pageid\", \"joblib\", \"resourcegroupname\", \"renderobject\", \"imagepickercontroller\", \"editorconfig\", \"allude\", \"seg\", \"tower\", \"uiimagepickercontroller\", \"mystruct\", \"initstate\", \"bokeh\", \"httpheaders\", \"sitio\", \"varname\", \"bottomnavigationbar\", \"combinelatest\", \"pubspec\", \"computername\", \"sagemaker\", \"httpstatuscode\", \"wikidata\", \"materialapp\", \"httprequestmessage\", \"buildcontext\", \"httpresponsemessage\", \"mediaquery\", \"traefik\", \"firestore\", \"kerberos\", \"authorization\", \"portfolio\", \"webclient\", \"sonar\", \"httpclient\", \"postman\", \"replica\", \"response\", \"oath\", \"oauth\", \"dart\", \"consumer\", \"redir\", \"pod\", \"firebase\", \"bearer\", \"kubernetes\", \"cluster\", \"request\", \"token\", \"decker\", \"bucket\", \"cor\", \"clutter\", \"memory\", \"header\", \"domain\", \"proxy\", \"network\", \"container\", \"req\", \"host\", \"widget\", \"http\", \"group\", \"client\", \"api\", \"access\", \"data\", \"err\", \"use\", \"get\", \"son\", \"server\", \"return\", \"type\", \"web\", \"user\", \"code\", \"function\", \"error\", \"set\", \"try\", \"service\", \"name\", \"image\", \"create\", \"file\", \"follow\", \"string\", \"value\", \"avec\", \"saga\", \"geopandas\", \"signingconfigs\", \"employeeid\", \"sympy\", \"dalvikvm\", \"ruble\", \"kubeadm\", \"multivariate\", \"storepassword\", \"pdfminer\", \"sps\", \"keyalias\", \"submenu\", \"fourcc\", \"hw\", \"keypassword\", \"armeabi\", \"sysdate\", \"pyenv\", \"fileaccess\", \"rbenv\", \"changetype\", \"vvv\", \"storefile\", \"printwriter\", \"transcribe\", \"setaction\", \"decompiling\", \"mediastore\", \"stringstream\", \"checkpoint\", \"asyncio\", \"mq\", \"keytool\", \"keystore\", \"speech\", \"requestcode\", \"sch\", \"paramiko\", \"zipfile\", \"pickle\", \"mp\", \"ffmpeg\", \"webcam\", \"timezone\", \"certificate\", \"timer\", \"multiprocessing\", \"pip\", \"keystone\", \"importerror\", \"resultcode\", \"crt\", \"kill\", \"python\", \"schedule\", \"calendar\", \"camera\", \"sys\", \"discord\", \"zone\", \"zip\", \"o\", \"subprocess\", \"clock\", \"time\", \"notification\", \"thread\", \"process\", \"stream\", \"file\", \"import\", \"video\", \"batch\", \"intent\", \"timestamp\", \"path\", \"event\", \"task\", \"date\", \"py\", \"use\", \"program\", \"run\", \"start\", \"client\", \"get\", \"day\", \"command\", \"read\", \"try\", \"system\", \"application\", \"version\", \"java\", \"code\", \"create\", \"module\", \"way\", \"set\", \"error\", \"find\", \"name\", \"user\", \"ckeditor\", \"pam\", \"zeppelin\", \"quark\", \"scrolltop\", \"loadclass\", \"methodchannel\", \"autofac\", \"parentheses\", \"cefsharp\", \"urlclassloader\", \"runworker\", \"backpressure\", \"coordinatorlayout\", \"structfield\", \"findoneandupdate\", \"textappearance\", \"nodeport\", \"invokemethod\", \"formarray\", \"connectionimpl\", \"viewdata\", \"appsetting\", \"sparql\", \"signinmanager\", \"referencedcolumnname\", \"alignparentleft\", \"studentid\", \"sampler\", \"truststore\", \"delegatingmethodaccessorimpl\", \"charfield\", \"integerfield\", \"linearlayout\", \"texture\", \"strut\", \"classloader\", \"hibernate\", \"manytoone\", \"textinputlayout\", \"relativelayout\", \"cardview\", \"model\", \"autowired\", \"foreignkey\", \"springframework\", \"xmlns\", \"student\", \"layout\", \"spring\", \"bean\", \"android\", \"fragment\", \"entity\", \"pom\", \"parent\", \"queryset\", \"jbc\", \"schema\", \"activity\", \"scheme\", \"person\", \"xml\", \"jar\", \"java\", \"category\", \"textview\", \"org\", \"boot\", \"id\", \"class\", \"service\", \"field\", \"name\", \"controller\", \"dependency\", \"django\", \"user\", \"page\", \"use\", \"method\", \"query\", \"create\", \"view\", \"database\", \"get\", \"app\", \"form\", \"error\", \"return\", \"application\", \"property\", \"div\", \"try\", \"add\", \"set\", \"data\", \"type\"], \"Freq\": [53159.0, 34556.0, 14031.0, 11450.0, 17247.0, 36091.0, 35759.0, 14926.0, 19126.0, 13668.0, 15568.0, 10378.0, 19977.0, 11921.0, 14539.0, 19223.0, 28846.0, 36704.0, 20594.0, 40295.0, 8040.0, 31042.0, 9710.0, 6318.0, 12838.0, 13712.0, 9415.0, 25524.0, 5128.0, 19140.0, 187.85559214912175, 63.179218881454666, 62.97070717463908, 151.53069194353267, 47.92816766157532, 86.78389527926457, 55.04410616947674, 59.213698086709314, 41.0457393240055, 57.177877342953586, 41.110229109402326, 42.14706948964676, 98.1814843479023, 30.644932649837965, 69.62911782067361, 30.41916688604966, 37.56926664090721, 47.62868407674415, 29.330557466233827, 54.826562183632845, 27.25693852362425, 28.875893832773635, 33.57817385009919, 26.432971445011365, 53.29340322227255, 30.631260595536933, 24.013007530748816, 55.71415359733262, 45.201545854158354, 22.341058844585596, 891.072309795573, 156.80811177238428, 96.84514664552019, 52.02838618094785, 752.544981284234, 1102.23366829022, 47.78199928601486, 833.65042354579, 264.4905439660436, 132.96744218609166, 133.7569251910455, 646.2410877985461, 1360.7976909576528, 162.12836452292453, 618.6713027251861, 1816.3010584900017, 170.71405745400347, 435.5458361136795, 335.90678920212457, 624.9854083895839, 381.07628935452885, 432.3623527037612, 818.1587530994617, 3063.2096648010947, 210.86983911326337, 3629.9225729219856, 1335.1557445302506, 915.5888960739267, 4099.0957693117125, 746.0162439429718, 8200.233891456424, 299.1428172059607, 13383.407994880334, 6402.489955885162, 7038.32019847281, 1263.391945439544, 2926.702599533892, 14329.136926075069, 2608.6599960356834, 7900.366733552966, 5823.271922701777, 9288.063279534179, 17325.599985817145, 1286.6010698337932, 3100.1520294595575, 6700.058038171619, 2103.782770745255, 3177.973101532208, 6778.17209951745, 5063.274892231337, 6540.208541687824, 4576.404967904014, 2897.7234767113723, 5342.256069118547, 14673.614063636904, 3056.157481132692, 3407.7432901672864, 3836.8793814886667, 16856.17710014435, 9964.606942264125, 10480.03156159213, 6540.023033100754, 5636.899973392711, 6908.036902342416, 4236.125072023083, 4366.529696044546, 5261.247722139383, 4653.788863934387, 4414.202765358614, 4256.918298745795, 4069.908059227191, 4187.735464801613, 65.8282588923535, 83.48641931171026, 55.205758437625434, 99.23493663561204, 94.87837293183713, 64.50791382901775, 211.84589133994012, 135.38916458459767, 51.22051770086465, 63.53197253008886, 49.97425807695302, 46.329024586923445, 48.98770256344091, 42.37735546153755, 50.23766053143474, 37.25667369246462, 38.58411904951474, 36.357949734315305, 37.66230925697873, 37.035033215993984, 78.75160359733357, 197.81395893982184, 32.69840697889198, 33.29405114551379, 37.75025937012155, 31.87362355621345, 74.42371111669284, 31.57165030396611, 61.28812163930852, 30.14561097974495, 1685.5510285167911, 485.59675386207533, 138.0974853382257, 1999.7331501809253, 904.2314412622319, 305.8162368211683, 603.419844489673, 101.37531951715398, 552.3031043655835, 452.63800717135206, 1019.699236685833, 329.07893306947847, 1584.7753347317046, 952.7985041154432, 9560.228752700785, 372.06260948438273, 246.6174918718209, 164.81316375645244, 628.7876790261433, 2299.5585043007804, 261.0026078986107, 1134.3919276898544, 575.7368136250252, 10260.660950883715, 7431.9848705239565, 730.4247346023154, 5722.294002609941, 13383.955538434357, 933.3937043750685, 4193.786822582597, 796.3273687419997, 598.9990619883887, 3680.16248260097, 2448.7326454297204, 927.6379085784431, 8182.47395496997, 4203.2394080372005, 3324.168140773196, 1216.0357680903396, 1578.4955662397495, 4234.616225096067, 3028.141061771014, 2150.1128922017742, 2056.904767861364, 4122.013523330536, 3430.492022509011, 2139.1767010342073, 1957.956550043637, 4282.473100500802, 6225.9742429271855, 3789.6955390186395, 4266.612704151823, 5023.487679475994, 3679.47579593911, 10745.538454213685, 4891.648055786593, 5564.914187718098, 4602.931934500783, 4689.13619212124, 13967.928376613969, 7321.649625820517, 7107.405916552814, 6342.964320246208, 4892.376474787019, 7146.92601963612, 6286.955728041566, 6153.419410789251, 5803.472253435211, 4230.4227573783355, 4504.96632356384, 68.48829402150837, 54.31374219829939, 72.30388068469296, 53.930387129688135, 99.86677179847494, 73.14342142050067, 45.9322659982281, 46.73881140226072, 39.78224812012915, 45.37320550167434, 122.303174506331, 33.626591585908145, 33.628473180940176, 44.93355580645321, 34.968809321536085, 81.59785079863808, 31.451936595391466, 34.123102837838374, 32.603515657814526, 31.27870114398939, 32.48483113990632, 32.27273186408038, 33.89329082702032, 33.784093960934875, 26.828305994020088, 26.500932974342376, 27.339088562015764, 64.43118287810438, 25.342791312959868, 33.26826724729958, 484.6846610321436, 48.941518706984624, 49.245295176586346, 57.69248623637577, 45.584075918204114, 386.21018988071114, 226.00003412058268, 67.20548749579255, 12087.228804512737, 68.68493602479103, 64.78302276217258, 139.61113979451457, 11792.278645918352, 583.5471207565658, 398.32381289130865, 499.4998132226105, 485.7740003631324, 103.75422681131955, 147.9960543490255, 904.1685116573145, 326.31334458110615, 1397.2361382302227, 869.4342918818652, 2099.462309850149, 20826.207521320754, 2521.149453097065, 872.1662452888975, 1789.0128094346273, 637.6142820710581, 19687.95132848751, 355.31045239542925, 2425.33387798204, 1326.3723519321804, 2088.4821302677733, 565.1418607290822, 9370.39601773735, 13107.188933812788, 2455.9044160133785, 856.2171838681812, 769.7209834645208, 1613.778478953177, 4754.630164893223, 1957.032994241727, 3295.450300159297, 4889.878284191764, 4426.5796239086, 3030.6703840433784, 5093.730118351043, 1620.2230216145556, 3223.447701451769, 5125.52037124927, 7028.240652960337, 2278.045511750177, 8076.05005581543, 9076.373932908864, 11429.94468345729, 3925.0024317070392, 3453.4181830227494, 7374.643597700274, 7478.157948725392, 4370.45587309512, 6747.7866457152895, 11107.57751558936, 4337.812859264069, 6812.009664118905, 5190.046602256875, 4326.43199187448, 4285.0730866325, 4538.338376629257, 4813.999035852634, 4059.156161399978, 3850.4278212991762, 178.97349567566258, 67.42824233242156, 51.720064106959846, 50.032347626371575, 116.92615967291366, 63.63884868712345, 44.85973961750153, 35.782923845848366, 62.26767782295162, 34.12438458830387, 44.43230209604838, 35.807581872637364, 31.666434986239754, 31.23553092113744, 31.141948662508636, 30.53518816471476, 38.53203427464509, 35.83964307542254, 34.25119894549287, 30.200112978459803, 28.699601390845512, 30.88593489688451, 32.961722575455774, 42.084217702233026, 42.06257631825354, 49.35642929437884, 50.51394917134802, 129.41902926040103, 24.3792584232158, 37.76882652781931, 154.16665553200656, 58.3470804032981, 209.47546904569558, 140.60545602503265, 554.5705699394855, 247.08436447695536, 1392.2567705812867, 2702.5492680269076, 260.98369330473037, 513.1711561108285, 91.57589699454446, 209.84141146712278, 83.73868781524004, 3312.62975715541, 2443.953463804384, 148.96572107411646, 103.3318982221843, 98.45728030407452, 364.61710584091895, 3150.024611507814, 234.1845768838749, 1302.012199386807, 262.17272354435414, 333.09421517834807, 371.11992643367336, 2679.2600010950164, 263.9048187052031, 786.0351847778101, 7988.245505545517, 1628.537677731431, 1504.5690010328756, 693.3874509444136, 464.8224124099339, 707.8436185806587, 1259.0294576082815, 1120.8654173294553, 2918.0935763938714, 6795.079315966863, 2526.823629584581, 5414.800520765952, 1813.504048701973, 1189.7785977588876, 1029.4242483325104, 12464.251464292187, 1717.1115709976348, 2563.257937746762, 17792.40339052362, 7259.647938159553, 3692.291800864741, 3685.011436261866, 4801.834206149012, 6591.764373726373, 2839.203579518866, 6821.041593754115, 5056.389300963612, 8420.79558478136, 4362.987914629089, 3057.9146360729183, 3422.079233956492, 5584.310606069606, 4748.341873043405, 5380.616916537638, 5460.130222186193, 4068.955243941826, 5552.167659762634, 4139.066683346055, 3707.670196006773, 4461.834682165199, 4249.144083288274, 3685.3322270964622, 3414.7025213584166, 3098.853489872792, 90.30661345067713, 62.9172901237518, 110.97266057502273, 58.54801934397237, 47.03044600141922, 43.531240109471526, 44.94651602020807, 50.092647669828445, 39.74939470783751, 63.65791288160984, 41.80644555164508, 35.522008317349155, 36.566209006600175, 34.64879924038949, 77.42479700074713, 32.78068904010963, 31.366499257659406, 30.047947131112547, 29.296272764172887, 36.98411462854317, 56.73879861334765, 137.03057333608626, 29.285680475698328, 87.16668763004013, 40.13625177935256, 38.08708297866956, 30.528497993420398, 26.975576967275064, 52.72048938029348, 60.719504461012264, 73.99959501787826, 70.2424184318315, 42.32227528179512, 103.51610566893217, 78.15616736670813, 108.99587664172071, 83.50909479682484, 51.69920904310336, 65.08637459275697, 218.1747709750526, 71.28375153939199, 942.4024528032473, 254.1911300743849, 128.51832203715347, 199.80064739874894, 400.78385503447527, 321.2375449685907, 211.0232760071756, 5758.763101277689, 444.80790301471944, 284.7074167376329, 907.025447687488, 725.3455413016486, 656.5700304770805, 775.0115283434877, 1780.432159392335, 252.57517419896988, 732.8824189472688, 1123.9969306315384, 8550.027855804252, 2240.5799292791758, 3908.968799977392, 1030.5191677096755, 380.0063630273676, 2228.5575651271392, 2220.250693581638, 3724.1426540158304, 1594.7725165537033, 874.5729901682612, 1546.8873738721672, 3061.2427084889882, 850.242011231719, 2615.1104192147077, 1642.281188899883, 7247.086437951343, 3260.0216441444522, 3771.2813524949083, 3935.3577788511507, 3687.084200504064, 8921.272432096588, 1156.4667662033464, 15092.138997107342, 9958.992285219705, 3450.225891350617, 3910.7783912097216, 5562.074079459742, 4456.428128736351, 1979.8839667472732, 4118.794330253045, 5467.516684719812, 4857.318038615083, 5241.268407519842, 4161.706101662241, 5309.339376362194, 2545.702314793844, 3822.543684198619, 3022.8713187429594, 3238.0138834616223, 3787.4094845838767, 2975.2031581011283, 3147.899748184452, 2982.47627913561, 119.45165034709898, 80.05978168431135, 63.39812958953401, 67.81156162760809, 60.71879606688676, 58.792193345470494, 57.147472388671325, 58.72787543068296, 44.19609797962713, 44.990792763900615, 43.38025368717447, 40.712010191374745, 53.48471430172457, 39.47074992449461, 36.80197207176074, 39.15634448267155, 40.588845158982586, 32.91352451684298, 29.39960179976755, 28.575986006665534, 99.82606028924998, 29.733903555531384, 69.83712640504223, 29.646023044504926, 27.205002112165822, 27.113287802183283, 39.84562251843693, 55.02257659447906, 25.103106991246023, 30.729132743054627, 68.91125547529248, 52.01535147881369, 94.57833592171113, 181.03931502983207, 89.65337162425139, 88.4722816445271, 74.50727878162012, 390.52568973318324, 141.39143002259675, 134.4828055577527, 122.67138836728783, 87.12251299259133, 201.93541927624156, 952.4755945691952, 276.16302581675797, 129.7020158502387, 473.83139292745653, 1463.4916142653244, 524.4965389387454, 339.01439375760526, 1318.662360738559, 316.03229574999483, 365.94092805223323, 151.57022562398555, 149.6116632687938, 528.8369082683954, 9477.060908194046, 859.2367896991102, 699.3954651379107, 863.3093020132003, 646.1843712729642, 278.42970007654844, 485.36980461571034, 1033.7751352318573, 747.1401045302753, 245.46863051535075, 328.963496064311, 8882.03088246465, 1171.2471589247805, 2101.11643563891, 3822.780685736473, 1983.8946058868578, 16672.387987169066, 7732.517088765379, 1772.1034733898382, 1035.3056013460948, 1032.313813208527, 842.5160657175417, 3720.415946544241, 2952.785441908413, 2134.914121558143, 3417.9513295901206, 1912.3439749129934, 11905.463264470874, 2336.0638495403587, 5154.900291504517, 2966.6821149385983, 2428.2232194760486, 6710.943883860573, 1414.4481652124578, 2848.5772221845205, 2292.9952913419843, 4647.2629682937, 2489.2103433015086, 2815.654320975762, 2772.414225719671, 2694.59747088035, 3960.3618200262345, 3239.899120713291, 2329.0737144384175, 2820.714392758999, 2680.9024624607396, 2948.748621244781, 2531.1359544270294, 2560.4997331075688, 2395.8545566721264, 50.185578969027944, 36.89629371214225, 37.17095724786785, 70.43566412680852, 34.69282714284326, 119.65441713853791, 34.322810464083666, 32.03942533337211, 30.48245168260344, 43.11747353567272, 96.3501548101172, 30.38027737107451, 28.344651647201772, 60.438314886033076, 37.065869515841975, 29.813310193215578, 76.76455457918865, 55.906137401128404, 24.764149923823293, 25.720408593996353, 49.012951770305776, 25.95598646597648, 46.595684328864735, 23.612389281033916, 23.329288283138812, 31.178667114010974, 27.016714993884634, 28.98542411368895, 74.71848227873068, 59.37696234601006, 54.86846458640847, 318.5655091083102, 73.28383546188901, 350.57807532350546, 324.4670515131349, 285.30832310980963, 259.7534188962062, 751.3367743460644, 94.01244584440933, 129.31896946577874, 146.47491612627152, 94.44748663147914, 8813.542985726019, 197.14997019819904, 157.55583273835916, 801.2087718828128, 883.3879839256887, 569.8505803042328, 3712.3594851106127, 2755.3929028593866, 529.7836503473445, 6779.6973617769145, 911.8449659373315, 2172.9967410745876, 264.3461971642003, 2824.2436416845635, 221.8193909911032, 509.2771309913578, 1184.315383465028, 1718.8613960678317, 903.676389565146, 1386.4750784129012, 2119.1238642891194, 1371.146034630595, 7207.963627814793, 1352.8257918445988, 630.4664869922149, 2718.22289492831, 1006.8132428501696, 7209.865403962998, 11741.60260228695, 4018.5766087504194, 3871.0708491616883, 10042.622518630486, 1662.9309242401648, 1712.9849287203176, 1475.980724629038, 4746.766224513231, 3315.455765166494, 9072.550127051674, 3437.2684294783876, 2926.7413101535954, 4078.899994926484, 2727.574123611883, 2176.26068861289, 5042.682802678327, 3027.102295671208, 2265.151832249605, 3680.9547762573015, 3370.508282637667, 2542.173470884387, 2135.1990055991364, 2432.4133325527796, 2857.088693255463, 2517.5011857735785, 2446.2516216223817, 2516.1113859913526, 2411.4615836217495], \"Total\": [53159.0, 34556.0, 14031.0, 11450.0, 17247.0, 36091.0, 35759.0, 14926.0, 19126.0, 13668.0, 15568.0, 10378.0, 19977.0, 11921.0, 14539.0, 19223.0, 28846.0, 36704.0, 20594.0, 40295.0, 8040.0, 31042.0, 9710.0, 6318.0, 12838.0, 13712.0, 9415.0, 25524.0, 5128.0, 19140.0, 190.0737582008566, 64.07745333134193, 63.90872298167721, 154.15736501523585, 48.808849806149134, 88.39633220888402, 56.10574290035457, 60.41349829447001, 41.966412348178814, 58.48221096161289, 42.071973773408224, 43.1923902312752, 100.68279403779079, 31.534813068640982, 71.66331946039547, 31.32978301642176, 38.70021978786955, 49.07756027110111, 30.227327684373137, 56.54232158998108, 28.133970420095, 29.808458339259925, 34.727033235620944, 27.349745870354035, 55.206365581241144, 31.757439948695676, 24.898500752162416, 57.81759504357032, 46.96850512445467, 23.217249707645916, 928.4846025994296, 164.5040398389683, 101.30705151604032, 54.10982226792375, 806.5569802621377, 1213.3328135783797, 49.68726669435235, 945.1808414838912, 289.6243743903265, 142.54545015944285, 143.48173701971078, 730.2059183313221, 1590.546801609431, 175.36999957513942, 708.1033381113318, 2243.1287194078054, 187.44597935020346, 502.4827494379616, 382.38864029042827, 735.3523241626976, 439.1759192461142, 511.7228198102539, 1031.4903211480205, 4339.689756101627, 238.83260313580018, 5342.654944893533, 1792.7954141864484, 1193.7519424353097, 6210.0757736018, 960.9867954474231, 13998.33521866933, 353.2377475838092, 25524.23664955054, 11062.26114154128, 12502.357556557601, 1801.1857688974783, 4680.166658445791, 28846.590561644352, 4137.85579408898, 15402.038762090378, 10931.08227773588, 19140.237640483785, 40295.88972694581, 1852.5775367451315, 5281.183068263041, 13533.74820929825, 3382.5890302130088, 5791.6953720657075, 15686.621763808384, 11285.790146090085, 15973.093420764, 10127.184957038142, 5469.930995308968, 12779.602831464474, 53159.57691416501, 5998.383781137605, 7059.960260479061, 8759.317763710773, 95794.23877150119, 41429.43103209859, 59190.3168212255, 26193.701859208173, 21909.12028817834, 40707.06494594949, 14904.530640231993, 17215.020835178602, 36704.32120351519, 25064.593901374443, 20618.53345171675, 19353.199184806785, 19307.651661700384, 33214.18900580495, 66.72278179338736, 84.65005091456553, 56.09006015878352, 100.83552034060884, 96.43684913746453, 65.6038541549417, 215.74961510445573, 137.90085991670364, 52.17195197788871, 64.74381635288034, 51.04100423159574, 47.32127894324773, 50.06356380538689, 43.32511947583543, 51.37936698888922, 38.13817390834902, 39.50462759237609, 37.24062905158175, 38.58289958003392, 37.94390473143146, 80.74700895581614, 202.98812281982924, 33.58644437498137, 34.199453852148, 38.77797423028353, 32.75085901728295, 76.52434419330905, 32.46743038292874, 63.070703844068326, 31.025667529997264, 1750.7558233489729, 504.9441295675075, 143.36335123609766, 2183.3085120154606, 977.1390329202152, 324.34680295568523, 649.9555608900208, 106.0144768963017, 599.5190497814222, 488.94742208937424, 1136.1980114994399, 355.43925074848136, 1802.6269720982452, 1066.9639598871024, 11921.90336186162, 408.4484981557896, 266.6591729482742, 175.37874575651034, 707.663609143139, 2769.84054510716, 283.2149875462945, 1336.0599670099691, 654.666255126085, 13668.144878951209, 9710.515672271626, 849.6417239404246, 7631.2037379770745, 19126.0183783181, 1114.5868994496493, 5608.982293251418, 945.122596124955, 696.2183291330417, 5098.116871967108, 3306.1477191656145, 1128.1757932632202, 12838.497539077081, 6075.52525104118, 4713.344114922711, 1529.1841187651871, 2054.428404896091, 6337.313990465111, 4398.251925626032, 2976.106831378911, 2857.5494584667313, 6900.67387897463, 5645.510443526935, 3237.7515719827647, 2933.0725329359016, 8526.736039816029, 14710.72654950806, 7602.647270876468, 9160.167576742379, 11784.32270427422, 7484.83990802846, 36240.35918188805, 11561.297542293083, 14708.632467669067, 11423.016046750814, 12256.918622262461, 95794.23877150119, 33214.18900580495, 35759.854071286085, 28332.41990564814, 17476.452126384476, 59190.3168212255, 41429.43103209859, 40707.06494594949, 36091.55086792699, 13568.34821424438, 21114.811562123326, 69.3747238313058, 55.1893191753083, 73.5346173940987, 54.87366627215557, 101.69397594673167, 74.48661370416494, 46.809196360573, 47.73545291312438, 40.68368564383329, 46.45294039201346, 125.34540275519261, 34.49916267799782, 34.50959366749482, 46.129781403782985, 35.91728232948489, 83.82824113109395, 32.32605171728423, 35.071739917519565, 33.5451552369503, 32.18622828267935, 33.428312566881, 33.23733810637307, 34.98589740353816, 34.88223670859902, 27.700770457784195, 27.378201145859094, 28.25244158078835, 66.61202091006801, 26.216330497387712, 34.44025351508352, 510.0401738712276, 50.670032232586294, 51.04027400389077, 59.9383900116585, 47.251232447632454, 409.1266764590987, 238.14333688101655, 70.14969628036297, 14031.915996001238, 71.75612580021651, 67.86851851369562, 149.82680805405695, 14926.263939686994, 655.3650003706919, 442.1572132837067, 563.7448268725266, 552.1983251645697, 110.659551239954, 161.52123752236201, 1112.414451722106, 377.2002259914576, 1789.4149315903894, 1096.1916265594223, 2836.2628755470337, 34556.9753955399, 3528.1993764027848, 1161.9674404042892, 2571.537294427709, 827.8322453613468, 36091.55086792699, 437.7148585858833, 3894.7706542440546, 1972.7238046482098, 3339.11613294962, 773.906193252267, 19796.827204808975, 31042.75136842265, 4332.113179608873, 1255.6239960484072, 1110.3307948642005, 2668.8653193718233, 10309.110544739355, 3516.8196264510316, 6842.121443827681, 11381.380998142124, 10204.493496856909, 6477.781494903671, 13202.949627412767, 2874.0804095646463, 7918.019236505765, 15356.946407499534, 25057.31365134717, 4967.361772434221, 33214.18900580495, 40707.06494594949, 59190.3168212255, 11396.015648769848, 9922.781144672792, 36704.32120351519, 40295.88972694581, 15628.48974175621, 35759.854071286085, 95794.23877150119, 15568.157564416542, 41429.43103209859, 26193.701859208173, 19498.922883367708, 21114.811562123326, 28332.41990564814, 36240.35918188805, 19223.3161578473, 25524.23664955054, 181.84933784860658, 68.58833771675782, 52.61904876052012, 50.91128595309843, 119.52209899611829, 65.06533783549676, 45.96308417690103, 36.68083439465903, 63.834586455513744, 35.03013570026945, 45.62589921973687, 36.7916979679999, 32.5444255223401, 32.11557521226762, 32.02302632727403, 31.41590372187788, 39.65083881137357, 36.88114974003349, 35.26907583316192, 31.12557566150082, 29.599732201785503, 31.868398289572873, 34.02276611119902, 43.49498342073284, 43.49259041977445, 51.056237568051046, 52.30291848359974, 134.0499588096303, 25.26542255157503, 39.17614777387123, 160.97157746191863, 60.57177327924801, 223.3875075901283, 148.7383114182103, 606.865491974826, 266.3691863163053, 1620.9264540829395, 3259.020448271314, 286.9576402988564, 587.5235841308396, 97.58013240527163, 231.59699777631405, 88.95742410766242, 4221.029633595698, 3092.0263607748543, 163.0695115976373, 111.09644763128037, 106.14277699234076, 424.2574114981139, 4213.947405286295, 266.75058577820545, 1674.160168052572, 305.301068385543, 396.5926249964878, 448.80244282234975, 3868.7748978826676, 310.29828812384403, 1032.890184775667, 13712.259943986428, 2417.1169113212227, 2221.481955901427, 930.3064560590086, 594.2212056328858, 963.1890430289623, 1932.1934096794419, 1782.0109158719922, 5827.843796449168, 17215.020835178602, 5323.115370665614, 14710.72654950806, 3622.5459545030185, 2187.464094319395, 1808.2762734197793, 53159.57691416501, 3653.5193967178857, 6430.516280557965, 95794.23877150119, 28332.41990564814, 11396.015648769848, 11779.86526412701, 17476.452126384476, 33214.18900580495, 9238.881369187235, 40707.06494594949, 24671.608549936296, 59190.3168212255, 19307.651661700384, 10770.85080204474, 13439.218440048007, 35759.854071286085, 26193.701859208173, 34556.9753955399, 36240.35918188805, 19498.922883367708, 41429.43103209859, 25057.31365134717, 19977.527069158496, 36704.32120351519, 36091.55086792699, 25064.593901374443, 20618.53345171675, 15356.946407499534, 91.5794943923877, 63.849973792091916, 112.93244295939205, 59.628337952780726, 47.92143579974649, 44.45349301065162, 45.90749130455925, 51.18488291406527, 40.62550212473322, 65.16191571655159, 42.829890734718006, 36.46586075676929, 37.557860956947394, 35.60177637097634, 79.60902295470548, 33.748292029263744, 32.30390015857036, 30.957931436435125, 30.188928202481847, 38.111172581290994, 58.469533226979564, 141.21898313029263, 30.180879843402682, 89.86100281545575, 41.393078246597156, 39.29164120353152, 31.515262186207703, 27.857200597264466, 54.472158035500044, 62.75821478935408, 76.62711833766703, 72.9538825224351, 43.74908016624868, 108.05506646981638, 81.43436938872463, 114.36976139311106, 87.26222031112637, 53.64389928062261, 67.87161696810917, 234.4857419739651, 74.53202363438665, 1081.452378810487, 278.3972405644147, 137.95627135108103, 219.34121877143662, 460.25165671994324, 369.14676111916754, 236.63907136971665, 8040.354560469913, 526.902651056509, 331.33520180960755, 1162.1675744262063, 913.2228425646398, 829.6865839743461, 1004.8167497323304, 2521.553361449194, 295.61808369775287, 953.1718258794264, 1525.0254759963714, 14539.491907784028, 3354.536937012061, 6318.476110558162, 1443.6952946945116, 471.35095540826916, 3667.9096671180796, 3653.187552624278, 6652.263245919225, 2543.1202712406575, 1305.314115506143, 2634.514040503628, 6076.893854103294, 1293.683036938878, 5136.822639901992, 2972.952812047942, 19353.199184806785, 7065.535055438943, 9124.117673001369, 9708.81247888643, 9634.876761856487, 36240.35918188805, 2084.097397819511, 95794.23877150119, 59190.3168212255, 11969.6198178433, 15686.621763808384, 31042.75136842265, 25057.31365134717, 5597.090383618617, 21909.12028817834, 40707.06494594949, 33214.18900580495, 40295.88972694581, 24671.608549936296, 41429.43103209859, 9415.499827679967, 36704.32120351519, 19126.0183783181, 25064.593901374443, 53159.57691416501, 20618.53345171675, 34556.9753955399, 36091.55086792699, 120.78252504534416, 80.98543750539567, 64.27328962001616, 68.78176270393479, 61.62599156780086, 59.67227908502214, 58.25258652139582, 59.8813176292184, 45.09173434563785, 45.90704764892544, 44.290068174129715, 41.60567231540654, 54.67466071068876, 40.37796475672233, 37.68978777049237, 40.108512115658876, 41.70912236344702, 33.84057466390769, 30.275850447622208, 29.45233228084857, 102.92148492667842, 30.674598990584915, 72.07335201820165, 30.59588722714917, 28.090821810397678, 28.0204352329468, 41.19212528738383, 57.00401625975268, 26.01414198968986, 31.86703644107996, 71.6062952122832, 53.94779705833442, 98.75503943997025, 192.3497654173886, 94.23106196624697, 93.08933543635536, 78.2776938563047, 426.7450031506539, 150.57841827675153, 143.2438934781328, 130.59704308439996, 92.1800991445181, 221.74400076991935, 1154.9229099962965, 313.0922776240643, 141.66746222361306, 562.6041663860593, 1917.8579998074306, 637.7012283260356, 400.1592671171718, 1762.9416133936063, 374.264464930426, 446.38502202504316, 169.78977144910468, 167.71318667011965, 684.20812867054, 17247.822892153108, 1196.3461638922486, 953.1915860456419, 1212.46583603483, 877.1048635264568, 339.5446138927116, 648.2405383191315, 1559.9341153591818, 1070.7083508165324, 297.311342012008, 417.9625367109171, 19977.527069158496, 1874.6740142181118, 3786.7491292746477, 7794.170611259163, 3800.0770824098418, 53159.57691416501, 20594.764319910373, 3383.0313443659043, 1744.5564210900313, 1827.8730130072272, 1479.243648071376, 12005.353919471736, 9160.167576742379, 5843.645766623835, 11779.86526412701, 5469.930995308968, 95794.23877150119, 7667.810513115742, 28846.590561644352, 11854.708804408372, 9124.117673001369, 59190.3168212255, 3586.952251728484, 13533.74820929825, 9238.881369187235, 41429.43103209859, 11417.515141729798, 14904.530640231993, 15973.093420764, 15568.157564416542, 40707.06494594949, 25064.593901374443, 12502.357556557601, 28332.41990564814, 24671.608549936296, 40295.88972694581, 26193.701859208173, 36704.32120351519, 21909.12028817834, 51.348299297199155, 37.790864188600146, 38.07977802076429, 72.18534952533264, 35.575255463256774, 122.73418984216943, 35.21359081742281, 32.92769585384289, 31.37646827481362, 44.393352809244924, 99.33549795620192, 31.330766179028494, 29.232139022781578, 62.350246713318974, 38.269512589791766, 30.81774598135329, 79.39064499823316, 57.83572588919752, 25.651785349768975, 26.653805141402163, 50.844714043117975, 26.926697784902775, 48.3550793435313, 24.519783351825332, 24.249717231566745, 32.43255756625935, 28.15234511849163, 30.20485974814819, 77.99746704015514, 61.996626263823245, 57.51601958327782, 341.786894262069, 77.09577654263481, 382.70640257336163, 353.9906953581668, 311.800706115548, 284.53314744799394, 852.6965652296061, 100.47166709697669, 139.95612356085184, 159.6992681409064, 101.55020995670486, 11450.3298622084, 220.24576623660457, 174.21471829851328, 968.1299792067484, 1074.332018155238, 677.4391786850458, 5128.141368556251, 3767.148753207209, 653.3607173632428, 10378.57663569305, 1205.5243721011489, 3111.333275841462, 314.62580822578593, 4299.645623760474, 260.49200939983035, 656.1367040632487, 1699.2952357425665, 2582.7668319605323, 1285.7576883849476, 2170.6918202446445, 3604.5204129807994, 2195.4842031258413, 15568.157564416542, 2177.0716708928303, 910.5120173759898, 5375.5361146596215, 1602.0095301556862, 19223.3161578473, 35759.854071286085, 9415.499827679967, 9236.613990439484, 36704.32120351519, 3740.98994926417, 4068.413705275854, 3262.021791489956, 21909.12028817834, 13703.512891605713, 95794.23877150119, 15628.48974175621, 12256.918622262461, 25064.593901374443, 11784.32270427422, 8339.63299836565, 59190.3168212255, 19140.237640483785, 9546.875767913964, 40295.88972694581, 31042.75136842265, 14904.530640231993, 8612.032609542792, 13668.144878951209, 41429.43103209859, 21114.811562123326, 24671.608549936296, 36240.35918188805, 25057.31365134717], \"Category\": [\"Default\", \"Default\", \"Default\", \"Default\", \"Default\", \"Default\", \"Default\", \"Default\", \"Default\", \"Default\", \"Default\", \"Default\", \"Default\", \"Default\", \"Default\", \"Default\", \"Default\", \"Default\", \"Default\", \"Default\", \"Default\", \"Default\", \"Default\", \"Default\", \"Default\", \"Default\", \"Default\", \"Default\", \"Default\", \"Default\", \"Topic1\", \"Topic1\", \"Topic1\", \"Topic1\", \"Topic1\", \"Topic1\", \"Topic1\", \"Topic1\", \"Topic1\", \"Topic1\", \"Topic1\", \"Topic1\", \"Topic1\", \"Topic1\", \"Topic1\", \"Topic1\", \"Topic1\", \"Topic1\", \"Topic1\", \"Topic1\", \"Topic1\", \"Topic1\", \"Topic1\", \"Topic1\", \"Topic1\", \"Topic1\", \"Topic1\", \"Topic1\", \"Topic1\", \"Topic1\", \"Topic1\", \"Topic1\", \"Topic1\", \"Topic1\", \"Topic1\", \"Topic1\", \"Topic1\", \"Topic1\", \"Topic1\", \"Topic1\", \"Topic1\", \"Topic1\", \"Topic1\", \"Topic1\", \"Topic1\", \"Topic1\", \"Topic1\", \"Topic1\", \"Topic1\", \"Topic1\", \"Topic1\", \"Topic1\", \"Topic1\", \"Topic1\", \"Topic1\", \"Topic1\", \"Topic1\", \"Topic1\", \"Topic1\", \"Topic1\", \"Topic1\", \"Topic1\", \"Topic1\", \"Topic1\", \"Topic1\", \"Topic1\", \"Topic1\", \"Topic1\", \"Topic1\", \"Topic1\", \"Topic1\", \"Topic1\", \"Topic1\", \"Topic1\", \"Topic1\", \"Topic1\", \"Topic1\", \"Topic1\", \"Topic1\", \"Topic1\", \"Topic1\", \"Topic1\", \"Topic1\", \"Topic1\", \"Topic1\", \"Topic1\", \"Topic1\", \"Topic1\", \"Topic1\", \"Topic1\", \"Topic1\", \"Topic1\", \"Topic1\", \"Topic1\", \"Topic1\", \"Topic1\", \"Topic1\", \"Topic1\", \"Topic1\", \"Topic1\", \"Topic1\", \"Topic1\", \"Topic2\", \"Topic2\", \"Topic2\", \"Topic2\", \"Topic2\", \"Topic2\", \"Topic2\", \"Topic2\", \"Topic2\", \"Topic2\", \"Topic2\", \"Topic2\", \"Topic2\", \"Topic2\", \"Topic2\", \"Topic2\", \"Topic2\", \"Topic2\", \"Topic2\", \"Topic2\", \"Topic2\", \"Topic2\", \"Topic2\", \"Topic2\", \"Topic2\", \"Topic2\", \"Topic2\", \"Topic2\", \"Topic2\", \"Topic2\", \"Topic2\", \"Topic2\", \"Topic2\", \"Topic2\", \"Topic2\", \"Topic2\", \"Topic2\", \"Topic2\", \"Topic2\", \"Topic2\", \"Topic2\", \"Topic2\", \"Topic2\", \"Topic2\", \"Topic2\", \"Topic2\", \"Topic2\", \"Topic2\", \"Topic2\", \"Topic2\", \"Topic2\", \"Topic2\", \"Topic2\", \"Topic2\", \"Topic2\", \"Topic2\", \"Topic2\", \"Topic2\", \"Topic2\", \"Topic2\", \"Topic2\", \"Topic2\", \"Topic2\", \"Topic2\", \"Topic2\", \"Topic2\", \"Topic2\", \"Topic2\", \"Topic2\", \"Topic2\", \"Topic2\", \"Topic2\", \"Topic2\", \"Topic2\", \"Topic2\", \"Topic2\", \"Topic2\", \"Topic2\", \"Topic2\", \"Topic2\", \"Topic2\", \"Topic2\", \"Topic2\", \"Topic2\", \"Topic2\", \"Topic2\", \"Topic2\", \"Topic2\", \"Topic2\", \"Topic2\", \"Topic2\", \"Topic2\", \"Topic2\", \"Topic2\", \"Topic2\", \"Topic2\", \"Topic2\", \"Topic2\", \"Topic2\", \"Topic2\", \"Topic3\", \"Topic3\", \"Topic3\", \"Topic3\", \"Topic3\", \"Topic3\", \"Topic3\", \"Topic3\", \"Topic3\", \"Topic3\", \"Topic3\", \"Topic3\", \"Topic3\", \"Topic3\", \"Topic3\", \"Topic3\", \"Topic3\", \"Topic3\", \"Topic3\", \"Topic3\", \"Topic3\", \"Topic3\", \"Topic3\", \"Topic3\", \"Topic3\", \"Topic3\", \"Topic3\", \"Topic3\", \"Topic3\", \"Topic3\", \"Topic3\", \"Topic3\", \"Topic3\", \"Topic3\", \"Topic3\", \"Topic3\", \"Topic3\", \"Topic3\", \"Topic3\", \"Topic3\", \"Topic3\", \"Topic3\", \"Topic3\", \"Topic3\", \"Topic3\", \"Topic3\", \"Topic3\", \"Topic3\", \"Topic3\", \"Topic3\", \"Topic3\", \"Topic3\", \"Topic3\", \"Topic3\", \"Topic3\", \"Topic3\", \"Topic3\", \"Topic3\", \"Topic3\", \"Topic3\", \"Topic3\", \"Topic3\", \"Topic3\", \"Topic3\", \"Topic3\", \"Topic3\", \"Topic3\", \"Topic3\", \"Topic3\", \"Topic3\", \"Topic3\", \"Topic3\", \"Topic3\", \"Topic3\", \"Topic3\", \"Topic3\", \"Topic3\", \"Topic3\", \"Topic3\", \"Topic3\", \"Topic3\", \"Topic3\", \"Topic3\", \"Topic3\", \"Topic3\", \"Topic3\", \"Topic3\", \"Topic3\", \"Topic3\", \"Topic3\", \"Topic3\", \"Topic3\", \"Topic3\", \"Topic3\", \"Topic3\", \"Topic3\", \"Topic3\", \"Topic3\", \"Topic3\", \"Topic3\", \"Topic3\", \"Topic3\", \"Topic4\", \"Topic4\", \"Topic4\", \"Topic4\", \"Topic4\", \"Topic4\", \"Topic4\", \"Topic4\", \"Topic4\", \"Topic4\", \"Topic4\", \"Topic4\", \"Topic4\", \"Topic4\", \"Topic4\", \"Topic4\", \"Topic4\", \"Topic4\", \"Topic4\", \"Topic4\", \"Topic4\", \"Topic4\", \"Topic4\", \"Topic4\", \"Topic4\", \"Topic4\", \"Topic4\", \"Topic4\", \"Topic4\", \"Topic4\", \"Topic4\", \"Topic4\", \"Topic4\", \"Topic4\", \"Topic4\", \"Topic4\", \"Topic4\", \"Topic4\", \"Topic4\", \"Topic4\", \"Topic4\", \"Topic4\", \"Topic4\", \"Topic4\", \"Topic4\", \"Topic4\", \"Topic4\", \"Topic4\", \"Topic4\", \"Topic4\", \"Topic4\", \"Topic4\", \"Topic4\", \"Topic4\", \"Topic4\", \"Topic4\", \"Topic4\", \"Topic4\", \"Topic4\", \"Topic4\", \"Topic4\", \"Topic4\", \"Topic4\", \"Topic4\", \"Topic4\", \"Topic4\", \"Topic4\", \"Topic4\", \"Topic4\", \"Topic4\", \"Topic4\", \"Topic4\", \"Topic4\", \"Topic4\", \"Topic4\", \"Topic4\", \"Topic4\", \"Topic4\", \"Topic4\", \"Topic4\", \"Topic4\", \"Topic4\", \"Topic4\", \"Topic4\", \"Topic4\", \"Topic4\", \"Topic4\", \"Topic4\", \"Topic4\", \"Topic4\", \"Topic4\", \"Topic4\", \"Topic4\", \"Topic4\", \"Topic4\", \"Topic4\", \"Topic4\", \"Topic4\", \"Topic4\", \"Topic4\", \"Topic4\", \"Topic4\", \"Topic5\", \"Topic5\", \"Topic5\", \"Topic5\", \"Topic5\", \"Topic5\", \"Topic5\", \"Topic5\", \"Topic5\", \"Topic5\", \"Topic5\", \"Topic5\", \"Topic5\", \"Topic5\", \"Topic5\", \"Topic5\", \"Topic5\", \"Topic5\", \"Topic5\", \"Topic5\", \"Topic5\", \"Topic5\", \"Topic5\", \"Topic5\", \"Topic5\", \"Topic5\", \"Topic5\", \"Topic5\", \"Topic5\", \"Topic5\", \"Topic5\", \"Topic5\", \"Topic5\", \"Topic5\", \"Topic5\", \"Topic5\", \"Topic5\", \"Topic5\", \"Topic5\", \"Topic5\", \"Topic5\", \"Topic5\", \"Topic5\", \"Topic5\", \"Topic5\", \"Topic5\", \"Topic5\", \"Topic5\", \"Topic5\", \"Topic5\", \"Topic5\", \"Topic5\", \"Topic5\", \"Topic5\", \"Topic5\", \"Topic5\", \"Topic5\", \"Topic5\", \"Topic5\", \"Topic5\", \"Topic5\", \"Topic5\", \"Topic5\", \"Topic5\", \"Topic5\", \"Topic5\", \"Topic5\", \"Topic5\", \"Topic5\", \"Topic5\", \"Topic5\", \"Topic5\", \"Topic5\", \"Topic5\", \"Topic5\", \"Topic5\", \"Topic5\", \"Topic5\", \"Topic5\", \"Topic5\", \"Topic5\", \"Topic5\", \"Topic5\", \"Topic5\", \"Topic5\", \"Topic5\", \"Topic5\", \"Topic5\", \"Topic5\", \"Topic5\", \"Topic5\", \"Topic5\", \"Topic5\", \"Topic5\", \"Topic5\", \"Topic5\", \"Topic5\", \"Topic5\", \"Topic5\", \"Topic5\", \"Topic5\", \"Topic5\", \"Topic6\", \"Topic6\", \"Topic6\", \"Topic6\", \"Topic6\", \"Topic6\", \"Topic6\", \"Topic6\", \"Topic6\", \"Topic6\", \"Topic6\", \"Topic6\", \"Topic6\", \"Topic6\", \"Topic6\", \"Topic6\", \"Topic6\", \"Topic6\", \"Topic6\", \"Topic6\", \"Topic6\", \"Topic6\", \"Topic6\", \"Topic6\", \"Topic6\", \"Topic6\", \"Topic6\", \"Topic6\", \"Topic6\", \"Topic6\", \"Topic6\", \"Topic6\", \"Topic6\", \"Topic6\", \"Topic6\", \"Topic6\", \"Topic6\", \"Topic6\", \"Topic6\", \"Topic6\", \"Topic6\", \"Topic6\", \"Topic6\", \"Topic6\", \"Topic6\", \"Topic6\", \"Topic6\", \"Topic6\", \"Topic6\", \"Topic6\", \"Topic6\", \"Topic6\", \"Topic6\", \"Topic6\", \"Topic6\", \"Topic6\", \"Topic6\", \"Topic6\", \"Topic6\", \"Topic6\", \"Topic6\", \"Topic6\", \"Topic6\", \"Topic6\", \"Topic6\", \"Topic6\", \"Topic6\", \"Topic6\", \"Topic6\", \"Topic6\", \"Topic6\", \"Topic6\", \"Topic6\", \"Topic6\", \"Topic6\", \"Topic6\", \"Topic6\", \"Topic6\", \"Topic6\", \"Topic6\", \"Topic6\", \"Topic6\", \"Topic6\", \"Topic6\", \"Topic6\", \"Topic6\", \"Topic6\", \"Topic6\", \"Topic6\", \"Topic6\", \"Topic6\", \"Topic6\", \"Topic6\", \"Topic6\", \"Topic6\", \"Topic6\", \"Topic6\", \"Topic6\", \"Topic6\", \"Topic6\", \"Topic6\", \"Topic6\", \"Topic6\", \"Topic6\", \"Topic6\", \"Topic6\", \"Topic7\", \"Topic7\", \"Topic7\", \"Topic7\", \"Topic7\", \"Topic7\", \"Topic7\", \"Topic7\", \"Topic7\", \"Topic7\", \"Topic7\", \"Topic7\", \"Topic7\", \"Topic7\", \"Topic7\", \"Topic7\", \"Topic7\", \"Topic7\", \"Topic7\", \"Topic7\", \"Topic7\", \"Topic7\", \"Topic7\", \"Topic7\", \"Topic7\", \"Topic7\", \"Topic7\", \"Topic7\", \"Topic7\", \"Topic7\", \"Topic7\", \"Topic7\", \"Topic7\", \"Topic7\", \"Topic7\", \"Topic7\", \"Topic7\", \"Topic7\", \"Topic7\", \"Topic7\", \"Topic7\", \"Topic7\", \"Topic7\", \"Topic7\", \"Topic7\", \"Topic7\", \"Topic7\", \"Topic7\", \"Topic7\", \"Topic7\", \"Topic7\", \"Topic7\", \"Topic7\", \"Topic7\", \"Topic7\", \"Topic7\", \"Topic7\", \"Topic7\", \"Topic7\", \"Topic7\", \"Topic7\", \"Topic7\", \"Topic7\", \"Topic7\", \"Topic7\", \"Topic7\", \"Topic7\", \"Topic7\", \"Topic7\", \"Topic7\", \"Topic7\", \"Topic7\", \"Topic7\", \"Topic7\", \"Topic7\", \"Topic7\", \"Topic7\", \"Topic7\", \"Topic7\", \"Topic7\", \"Topic7\", \"Topic7\", \"Topic7\", \"Topic7\", \"Topic7\", \"Topic7\", \"Topic7\", \"Topic7\", \"Topic7\", \"Topic7\", \"Topic7\", \"Topic7\", \"Topic7\", \"Topic7\", \"Topic7\", \"Topic7\", \"Topic7\", \"Topic7\"], \"logprob\": [30.0, 29.0, 28.0, 27.0, 26.0, 25.0, 24.0, 23.0, 22.0, 21.0, 20.0, 19.0, 18.0, 17.0, 16.0, 15.0, 14.0, 13.0, 12.0, 11.0, 10.0, 9.0, 8.0, 7.0, 6.0, 5.0, 4.0, 3.0, 2.0, 1.0, -8.5222, -9.6119, -9.6152, -8.7371, -9.8882, -9.2945, -9.7498, -9.6768, -10.0432, -9.7117, -10.0416, -10.0167, -9.1711, -10.3354, -9.5147, -10.3428, -10.1317, -9.8945, -10.3793, -9.7537, -10.4526, -10.3949, -10.244, -10.4833, -9.7821, -10.3359, -10.5793, -9.7377, -9.9468, -10.6515, -6.9655, -8.7029, -9.1848, -9.8061, -7.1344, -6.7528, -9.8913, -7.0321, -8.1801, -8.8678, -8.8619, -7.2867, -6.5421, -8.6695, -7.3303, -6.2533, -8.6179, -7.6813, -7.9411, -7.3202, -7.8149, -7.6886, -7.0508, -5.7307, -8.4067, -5.5609, -6.5611, -6.9383, -5.4394, -7.1432, -4.746, -8.057, -4.2561, -4.9935, -4.8988, -6.6163, -5.7763, -4.1879, -5.8913, -4.7832, -5.0883, -4.6214, -3.998, -6.5981, -5.7187, -4.948, -6.1064, -5.6939, -4.9364, -5.2281, -4.9722, -5.3292, -5.7862, -5.1745, -4.1641, -5.733, -5.6241, -5.5055, -4.0254, -4.5511, -4.5007, -4.9722, -5.1208, -4.9175, -5.4065, -5.3762, -5.1898, -5.3125, -5.3653, -5.4016, -5.4465, -5.418, -9.5289, -9.2913, -9.7049, -9.1185, -9.1634, -9.5492, -8.3601, -8.8078, -9.7798, -9.5644, -9.8045, -9.8802, -9.8244, -9.9693, -9.7992, -10.0981, -10.0631, -10.1226, -10.0873, -10.1041, -9.3497, -8.4286, -10.2286, -10.2106, -10.085, -10.2542, -9.4062, -10.2637, -9.6004, -10.3099, -6.2861, -7.5306, -8.788, -6.1152, -6.9089, -7.993, -7.3134, -9.0971, -7.4019, -7.6009, -6.7887, -7.9197, -6.3478, -6.8566, -4.5506, -7.7969, -8.2081, -8.6112, -7.2722, -5.9755, -8.1514, -6.6821, -7.3603, -4.4799, -4.8024, -7.1223, -5.0638, -4.2142, -6.8771, -5.3746, -7.036, -7.3207, -5.5053, -5.9126, -6.8833, -4.7062, -5.3724, -5.607, -6.6126, -6.3517, -5.3649, -5.7003, -6.0427, -6.087, -5.3919, -5.5755, -6.0478, -6.1363, -5.3537, -4.9795, -5.4759, -5.3574, -5.1941, -5.5054, -4.4337, -5.2207, -5.0917, -5.2815, -5.263, -4.1714, -4.8174, -4.8471, -4.9609, -5.2205, -4.8415, -4.9697, -4.9912, -5.0498, -5.3659, -5.303, -9.4173, -9.6492, -9.3631, -9.6563, -9.0401, -9.3515, -9.8168, -9.7994, -9.9605, -9.829, -8.8375, -10.1286, -10.1286, -9.8388, -10.0895, -9.2422, -10.1955, -10.114, -10.1595, -10.201, -10.1632, -10.1697, -10.1207, -10.124, -10.3545, -10.3668, -10.3356, -9.4784, -10.4115, -10.1394, -7.4605, -9.7533, -9.7471, -9.5888, -9.8244, -7.6876, -8.2234, -9.4362, -4.2441, -9.4144, -9.4729, -8.7051, -4.2688, -7.2748, -7.6567, -7.4304, -7.4582, -9.0019, -8.6468, -6.8369, -7.8561, -6.4017, -6.8761, -5.9945, -3.7, -5.8115, -6.873, -6.1545, -7.1862, -3.7562, -7.771, -5.8502, -6.4538, -5.9998, -7.3069, -4.4987, -4.163, -5.8377, -6.8914, -6.9979, -6.2576, -5.1771, -6.0648, -5.5437, -5.149, -5.2486, -5.6274, -5.1082, -6.2536, -5.5658, -5.102, -4.7863, -5.9129, -4.6473, -4.5305, -4.3, -5.3688, -5.4968, -4.7382, -4.7242, -5.2613, -4.827, -4.3286, -5.2688, -4.8175, -5.0895, -5.2715, -5.2811, -5.2236, -5.1647, -5.3352, -5.388, -8.396, -9.3722, -9.6374, -9.6706, -8.8217, -9.43, -9.7797, -10.0058, -9.4518, -10.0532, -9.7893, -10.0051, -10.128, -10.1417, -10.1447, -10.1644, -9.9318, -10.0042, -10.0495, -10.1754, -10.2264, -10.153, -10.0879, -9.8436, -9.8441, -9.6842, -9.661, -8.7202, -10.3895, -9.9518, -8.5452, -9.5168, -8.2386, -8.6373, -7.2651, -8.0735, -6.3446, -5.6813, -8.0188, -7.3426, -9.0661, -8.2369, -9.1556, -5.4778, -5.7819, -8.5795, -8.9453, -8.9936, -7.6844, -5.5281, -8.1271, -6.4116, -8.0142, -7.7748, -7.6667, -5.69, -8.0077, -6.9163, -4.5975, -6.1878, -6.267, -7.0417, -7.4416, -7.021, -6.4452, -6.5614, -5.6046, -4.7593, -5.7485, -4.9864, -6.0802, -6.5017, -6.6465, -4.1526, -6.1349, -5.7342, -3.7967, -4.6932, -5.3693, -5.3712, -5.1065, -4.7897, -5.632, -4.7555, -5.0548, -4.5448, -5.2023, -5.5578, -5.4452, -4.9555, -5.1177, -4.9927, -4.978, -5.2721, -4.9613, -5.255, -5.3651, -5.1799, -5.2288, -5.3711, -5.4474, -5.5445, -8.9521, -9.3135, -8.746, -9.3855, -9.6045, -9.6819, -9.6499, -9.5415, -9.7727, -9.3018, -9.7223, -9.8852, -9.8562, -9.9101, -9.106, -9.9655, -10.0096, -10.0525, -10.0779, -9.8448, -9.4169, -8.5351, -10.0782, -8.9875, -9.7631, -9.8155, -10.0367, -10.1604, -9.4903, -9.3491, -9.1513, -9.2034, -9.71, -8.8156, -9.0966, -8.764, -9.0304, -9.5099, -9.2796, -8.07, -9.1887, -6.6069, -7.9172, -8.5993, -8.158, -7.4619, -7.6832, -8.1034, -4.7969, -7.3577, -7.8039, -6.6452, -6.8687, -6.9683, -6.8025, -5.9707, -7.9236, -6.8583, -6.4307, -4.4016, -5.7408, -5.1843, -6.5175, -7.5151, -5.7462, -5.75, -5.2327, -6.0808, -6.6816, -6.1113, -5.4288, -6.7098, -5.5863, -6.0515, -4.567, -5.3658, -5.2202, -5.1776, -5.2427, -4.3591, -6.4022, -3.8334, -4.2491, -5.3091, -5.1838, -4.8316, -5.0532, -5.8645, -5.132, -4.8488, -4.9671, -4.891, -5.1217, -4.8781, -5.6132, -5.2067, -5.4414, -5.3726, -5.2159, -5.4573, -5.4008, -5.4548, -8.4928, -8.8929, -9.1263, -9.059, -9.1695, -9.2017, -9.2301, -9.2028, -9.4871, -9.4693, -9.5057, -9.5692, -9.2963, -9.6002, -9.6702, -9.6082, -9.5722, -9.7818, -9.8947, -9.9232, -8.6723, -9.8834, -9.0296, -9.8864, -9.9723, -9.9757, -9.5907, -9.268, -10.0527, -9.8505, -9.0429, -9.3242, -8.7263, -8.077, -8.7798, -8.793, -8.9648, -7.3082, -8.3242, -8.3743, -8.4662, -8.8084, -7.9678, -6.4167, -7.6547, -8.4105, -7.1149, -5.9871, -7.0133, -7.4497, -6.0913, -7.5199, -7.3732, -8.2547, -8.2677, -7.005, -4.1191, -6.5197, -6.7255, -6.5149, -6.8046, -7.6466, -7.0908, -6.3347, -6.6595, -7.7725, -7.4798, -4.1839, -6.2099, -5.6255, -5.027, -5.6829, -3.5542, -4.3225, -5.7958, -6.3333, -6.3362, -6.5393, -5.0541, -5.2852, -5.6095, -5.1389, -5.7196, -3.891, -5.5195, -4.728, -5.2805, -5.4808, -4.4642, -6.0212, -5.3211, -5.5381, -4.8317, -5.456, -5.3328, -5.3482, -5.3767, -4.9916, -5.1924, -5.5225, -5.331, -5.3818, -5.2866, -5.4393, -5.4278, -5.4942, -9.3242, -9.6318, -9.6244, -8.9852, -9.6934, -8.4553, -9.7041, -9.773, -9.8228, -9.476, -8.672, -9.8261, -9.8955, -9.1383, -9.6272, -9.845, -8.8992, -9.2163, -10.0305, -9.9927, -9.3479, -9.9835, -9.3984, -10.0782, -10.0902, -9.8002, -9.9435, -9.8731, -8.9262, -9.156, -9.235, -7.4761, -8.9456, -7.3804, -7.4578, -7.5864, -7.6802, -6.6181, -8.6965, -8.3777, -8.2531, -8.6919, -4.1559, -7.956, -8.1802, -6.5538, -6.4562, -6.8946, -5.0205, -5.3186, -6.9675, -4.4183, -6.4245, -5.5561, -7.6627, -5.2939, -7.8381, -7.0069, -6.163, -5.7905, -6.4335, -6.0054, -5.5812, -6.0165, -4.357, -6.03, -6.7935, -5.3322, -6.3254, -4.3567, -3.869, -4.9413, -4.9787, -4.0253, -5.8236, -5.7939, -5.9429, -4.7747, -5.1336, -4.1269, -5.0975, -5.2583, -4.9264, -5.3288, -5.5546, -4.7142, -5.2246, -5.5145, -5.029, -5.1171, -5.3992, -5.5736, -5.4433, -5.2824, -5.4089, -5.4376, -5.4095, -5.452], \"loglift\": [30.0, 29.0, 28.0, 27.0, 26.0, 25.0, 24.0, 23.0, 22.0, 21.0, 20.0, 19.0, 18.0, 17.0, 16.0, 15.0, 14.0, 13.0, 12.0, 11.0, 10.0, 9.0, 8.0, 7.0, 6.0, 5.0, 4.0, 3.0, 2.0, 1.0, 1.7187, 1.7163, 1.7156, 1.7132, 1.7122, 1.712, 1.7113, 1.7104, 1.7082, 1.7079, 1.7073, 1.7059, 1.7053, 1.7018, 1.7016, 1.7009, 1.7008, 1.7005, 1.7003, 1.6996, 1.6988, 1.6986, 1.6968, 1.6963, 1.6952, 1.6943, 1.6942, 1.6934, 1.6921, 1.692, 1.6893, 1.6825, 1.6854, 1.6912, 1.6611, 1.6344, 1.6913, 1.6049, 1.6396, 1.6609, 1.6602, 1.6083, 1.5744, 1.6519, 1.5954, 1.5194, 1.6369, 1.5875, 1.6008, 1.5678, 1.5885, 1.5619, 1.4987, 1.3821, 1.6059, 1.3439, 1.4357, 1.4651, 1.315, 1.4772, 1.1957, 1.5642, 1.0848, 1.1836, 1.1559, 1.3758, 1.261, 1.0307, 1.2691, 1.0628, 1.1007, 1.0074, 0.8864, 1.3659, 1.1977, 1.0274, 1.2555, 1.1302, 0.8913, 0.9289, 0.8375, 0.9361, 1.0951, 0.8582, 0.4432, 1.0561, 1.002, 0.905, -0.0071, 0.3055, -0.0009, 0.3429, 0.3729, -0.0433, 0.4724, 0.3586, -0.2121, 0.0467, 0.1891, 0.2161, 0.1735, -0.3404, 1.7589, 1.7585, 1.7565, 1.7564, 1.7561, 1.7555, 1.7541, 1.754, 1.754, 1.7535, 1.7512, 1.7512, 1.7506, 1.7502, 1.7499, 1.749, 1.7488, 1.7484, 1.7482, 1.7481, 1.7473, 1.7465, 1.7456, 1.7455, 1.7455, 1.7452, 1.7445, 1.7444, 1.7437, 1.7436, 1.7344, 1.7333, 1.7349, 1.6845, 1.6948, 1.7135, 1.6981, 1.7276, 1.6903, 1.6952, 1.6642, 1.6953, 1.6436, 1.6592, 1.5516, 1.6791, 1.6942, 1.7102, 1.6542, 1.5863, 1.6907, 1.6087, 1.6439, 1.4856, 1.505, 1.6212, 1.4845, 1.4154, 1.595, 1.4816, 1.6011, 1.622, 1.4465, 1.4722, 1.5767, 1.3219, 1.404, 1.4232, 1.5432, 1.5088, 1.3692, 1.3991, 1.4473, 1.4436, 1.2571, 1.2742, 1.3579, 1.3682, 1.0837, 0.9125, 1.0762, 1.0083, 0.9197, 1.0623, 0.5567, 0.9122, 0.8004, 0.8634, 0.8115, -0.1531, 0.2602, 0.1567, 0.2757, 0.4992, -0.3417, -0.1131, -0.117, -0.0552, 0.6069, 0.2276, 1.8315, 1.8284, 1.8275, 1.827, 1.8262, 1.8262, 1.8255, 1.8233, 1.822, 1.8209, 1.8198, 1.8188, 1.8185, 1.8181, 1.8176, 1.8174, 1.817, 1.8169, 1.8159, 1.8158, 1.8157, 1.8149, 1.8126, 1.8124, 1.8124, 1.8118, 1.8115, 1.8111, 1.8105, 1.8097, 1.7934, 1.8097, 1.8086, 1.8062, 1.8084, 1.7867, 1.792, 1.8015, 1.6952, 1.8006, 1.7978, 1.7738, 1.6087, 1.7283, 1.74, 1.7234, 1.7162, 1.7799, 1.7569, 1.6371, 1.6995, 1.597, 1.6126, 1.5436, 1.338, 1.5083, 1.5575, 1.4815, 1.5833, 1.2383, 1.6358, 1.3707, 1.4474, 1.3751, 1.53, 1.0964, 0.9822, 1.2768, 1.4615, 1.478, 1.3413, 1.0705, 1.2582, 1.1138, 0.9996, 1.0092, 1.0848, 0.8919, 1.2712, 0.9457, 0.747, 0.5731, 1.0648, 0.4303, 0.3436, 0.1998, 0.7785, 0.7889, 0.2395, 0.1601, 0.5701, 0.1768, -0.3102, 0.5665, 0.0391, 0.2256, 0.3388, 0.2495, 0.0129, -0.1743, 0.2892, -0.0471, 1.8891, 1.888, 1.8878, 1.8877, 1.8831, 1.8829, 1.8808, 1.8803, 1.8802, 1.8789, 1.8786, 1.878, 1.8777, 1.8773, 1.8772, 1.8766, 1.8765, 1.8764, 1.8758, 1.8749, 1.8742, 1.8738, 1.8734, 1.8721, 1.8716, 1.8712, 1.8703, 1.8699, 1.8694, 1.8685, 1.8619, 1.8677, 1.8408, 1.8488, 1.815, 1.8299, 1.753, 1.7178, 1.8102, 1.7698, 1.8416, 1.8064, 1.8446, 1.6627, 1.6699, 1.8146, 1.8326, 1.8299, 1.7536, 1.6141, 1.7749, 1.6537, 1.7528, 1.7306, 1.715, 1.5377, 1.7431, 1.632, 1.3648, 1.5102, 1.5154, 1.6112, 1.6595, 1.5971, 1.4768, 1.4414, 1.2134, 0.9755, 1.16, 0.9056, 1.2132, 1.2961, 1.3417, 0.4546, 1.15, 0.9853, 0.2216, 0.5434, 0.7781, 0.743, 0.6132, 0.2879, 0.7252, 0.1187, 0.3201, -0.045, 0.4177, 0.646, 0.5371, 0.0482, 0.1974, 0.0453, 0.0124, 0.3381, -0.1047, 0.1044, 0.2209, -0.2023, -0.2343, -0.012, 0.107, 0.3045, 2.019, 2.0183, 2.0155, 2.0147, 2.0142, 2.012, 2.0118, 2.0114, 2.0112, 2.0096, 2.0088, 2.0068, 2.0062, 2.0059, 2.0052, 2.0039, 2.0036, 2.0032, 2.003, 2.003, 2.003, 2.0029, 2.0029, 2.0026, 2.0022, 2.0019, 2.0012, 2.0008, 2.0003, 2.0, 1.9981, 1.9951, 1.9998, 1.9901, 1.9919, 1.9849, 1.989, 1.9961, 1.9911, 1.9609, 1.9884, 1.8954, 1.942, 1.9621, 1.9397, 1.8946, 1.894, 1.9184, 1.6992, 1.8636, 1.8813, 1.7851, 1.8027, 1.799, 1.7733, 1.685, 1.8756, 1.7702, 1.7279, 1.5021, 1.6294, 1.5528, 1.6959, 1.8176, 1.5347, 1.535, 1.4529, 1.5663, 1.6325, 1.5005, 1.3473, 1.6133, 1.3579, 1.4395, 1.0507, 1.2595, 1.1495, 1.13, 1.0724, 0.6313, 1.444, 0.185, 0.2507, 0.7891, 0.6439, 0.3136, 0.3062, 0.9938, 0.3617, 0.0254, 0.1105, -0.0067, 0.2533, -0.0215, 0.725, -0.229, 0.1882, -0.0135, -0.6086, 0.0971, -0.3629, -0.4603, 2.2015, 2.2011, 2.1989, 2.1984, 2.1978, 2.1978, 2.1935, 2.1932, 2.1926, 2.1925, 2.1919, 2.1909, 2.1906, 2.1899, 2.1888, 2.1886, 2.1854, 2.1848, 2.1832, 2.1824, 2.1821, 2.1815, 2.1811, 2.1811, 2.1806, 2.1797, 2.1794, 2.1772, 2.177, 2.1763, 2.1743, 2.1761, 2.1694, 2.152, 2.1628, 2.1617, 2.1632, 2.1239, 2.1497, 2.1495, 2.15, 2.1562, 2.119, 2.0199, 2.0871, 2.1244, 2.0409, 1.9422, 2.0172, 2.0468, 1.9222, 2.0435, 2.0139, 2.0991, 2.0984, 1.955, 1.6138, 1.8816, 1.903, 1.873, 1.9071, 2.0142, 1.9233, 1.8012, 1.8528, 2.021, 1.9732, 1.402, 1.7422, 1.6236, 1.5002, 1.5627, 1.0531, 1.233, 1.566, 1.6908, 1.6413, 1.6497, 1.0411, 1.0805, 1.2057, 0.9753, 1.1617, 0.1274, 1.0241, 0.4906, 0.8273, 0.8889, 0.0356, 1.2821, 0.6542, 0.8191, 0.0249, 0.6894, 0.5461, 0.4614, 0.4586, -0.1175, 0.1667, 0.5322, -0.0944, -0.0069, -0.4023, -0.1242, -0.4501, -0.0005, 2.2255, 2.2244, 2.2242, 2.2239, 2.2233, 2.223, 2.2228, 2.221, 2.2195, 2.2192, 2.2179, 2.2176, 2.2176, 2.2172, 2.2164, 2.2153, 2.2148, 2.2145, 2.2132, 2.2127, 2.2117, 2.2117, 2.2113, 2.2107, 2.2097, 2.209, 2.2072, 2.2072, 2.2054, 2.2052, 2.2013, 2.178, 2.1977, 2.1607, 2.1613, 2.1596, 2.1573, 2.1218, 2.1819, 2.1693, 2.162, 2.1759, 1.9867, 2.1376, 2.1479, 2.0591, 2.0527, 2.0754, 1.9253, 1.9356, 2.0387, 1.8226, 1.9692, 1.8894, 2.0743, 1.8281, 2.0877, 1.995, 1.8873, 1.8412, 1.8958, 1.8001, 1.7172, 1.7776, 1.4784, 1.7726, 1.8808, 1.5665, 1.7839, 1.2677, 1.1347, 1.397, 1.3787, 0.9523, 1.4376, 1.3834, 1.4554, 0.719, 0.8293, -0.1086, 0.734, 0.8162, 0.4328, 0.785, 0.905, -0.2144, 0.4042, 0.8098, -0.1447, 0.0281, 0.4797, 0.8538, 0.5222, -0.4258, 0.1217, -0.0627, -0.4191, -0.0925]}, \"token.table\": {\"Topic\": [1, 2, 3, 4, 5, 6, 7, 1, 2, 3, 4, 5, 6, 7, 1, 2, 3, 4, 5, 6, 7, 2, 7, 5, 1, 2, 3, 4, 5, 6, 7, 2, 1, 2, 3, 4, 5, 6, 7, 1, 2, 3, 4, 5, 6, 7, 1, 2, 3, 4, 5, 6, 7, 1, 2, 3, 4, 5, 6, 7, 1, 7, 1, 2, 3, 4, 5, 6, 7, 3, 5, 1, 3, 5, 6, 1, 2, 3, 4, 5, 6, 7, 1, 2, 3, 4, 5, 6, 7, 1, 2, 3, 4, 5, 6, 7, 1, 3, 5, 6, 1, 6, 1, 2, 3, 4, 5, 6, 7, 7, 2, 3, 1, 2, 3, 4, 5, 6, 7, 6, 1, 2, 3, 4, 5, 6, 7, 1, 2, 3, 4, 5, 6, 7, 1, 2, 3, 4, 5, 6, 7, 7, 1, 2, 3, 4, 1, 2, 3, 4, 5, 6, 7, 1, 2, 3, 4, 5, 6, 1, 2, 3, 4, 5, 6, 7, 1, 2, 3, 5, 6, 7, 1, 2, 3, 4, 5, 6, 7, 3, 1, 2, 3, 4, 5, 6, 7, 4, 3, 1, 2, 3, 4, 5, 6, 5, 1, 2, 3, 4, 5, 6, 7, 1, 2, 3, 4, 5, 6, 7, 4, 5, 1, 2, 3, 4, 5, 6, 7, 2, 4, 5, 1, 2, 3, 4, 5, 6, 7, 1, 2, 3, 4, 5, 6, 7, 1, 2, 3, 4, 5, 6, 7, 3, 1, 2, 3, 4, 5, 7, 1, 1, 2, 3, 4, 5, 6, 7, 1, 2, 3, 4, 5, 6, 7, 1, 2, 3, 4, 5, 6, 7, 1, 2, 3, 4, 5, 6, 7, 1, 2, 3, 4, 5, 6, 7, 1, 2, 3, 4, 5, 6, 7, 1, 2, 3, 4, 5, 6, 7, 7, 1, 2, 3, 4, 5, 6, 7, 1, 4, 1, 2, 3, 4, 5, 6, 7, 6, 1, 2, 3, 4, 5, 6, 7, 1, 2, 3, 4, 5, 6, 7, 1, 2, 3, 4, 5, 6, 7, 4, 5, 6, 7, 1, 2, 3, 4, 5, 6, 7, 1, 2, 3, 4, 5, 6, 7, 7, 1, 2, 3, 4, 5, 6, 7, 1, 3, 4, 6, 7, 1, 2, 3, 4, 5, 6, 7, 1, 2, 3, 4, 5, 6, 7, 1, 2, 3, 4, 5, 6, 7, 1, 2, 3, 4, 5, 6, 7, 3, 1, 2, 3, 4, 5, 6, 7, 2, 1, 2, 3, 4, 5, 6, 7, 1, 2, 3, 4, 5, 6, 7, 1, 2, 3, 4, 5, 6, 7, 1, 7, 3, 4, 5, 4, 1, 2, 3, 4, 5, 6, 7, 1, 2, 3, 5, 4, 1, 2, 3, 4, 5, 6, 7, 1, 1, 2, 3, 4, 5, 6, 7, 5, 1, 2, 3, 4, 5, 6, 7, 1, 1, 3, 1, 2, 3, 4, 5, 6, 7, 1, 2, 3, 4, 5, 6, 7, 1, 2, 3, 4, 5, 6, 7, 1, 2, 3, 4, 5, 6, 7, 1, 2, 3, 4, 5, 6, 7, 3, 4, 5, 1, 2, 3, 4, 5, 6, 7, 3, 7, 1, 2, 3, 4, 5, 6, 7, 1, 2, 3, 4, 5, 6, 7, 1, 2, 3, 4, 5, 1, 2, 3, 4, 5, 6, 7, 1, 7, 1, 6, 7, 1, 2, 3, 4, 5, 6, 7, 2, 2, 3, 7, 1, 2, 3, 4, 5, 6, 7, 1, 3, 4, 5, 6, 7, 1, 2, 3, 4, 5, 6, 7, 1, 2, 3, 4, 5, 7, 6, 1, 2, 3, 4, 5, 6, 7, 1, 1, 2, 3, 4, 5, 6, 7, 1, 2, 3, 4, 5, 6, 7, 1, 2, 3, 4, 5, 6, 7, 1, 2, 3, 4, 5, 6, 7, 4, 5, 1, 2, 3, 4, 5, 6, 7, 1, 2, 3, 4, 5, 6, 7, 1, 2, 3, 4, 5, 6, 7, 6, 1, 2, 3, 4, 5, 6, 7, 3, 2, 1, 2, 3, 4, 5, 7, 3, 6, 7, 2, 1, 3, 4, 5, 1, 2, 3, 4, 5, 6, 7, 3, 4, 1, 2, 3, 4, 5, 6, 7, 1, 2, 3, 4, 5, 6, 7, 1, 2, 3, 4, 5, 6, 7, 1, 2, 3, 4, 5, 6, 1, 2, 3, 4, 5, 6, 7, 1, 2, 3, 4, 5, 6, 7, 1, 2, 3, 4, 5, 6, 7, 5, 2, 2, 1, 2, 3, 4, 5, 6, 7, 1, 2, 3, 4, 5, 6, 7, 1, 2, 3, 4, 5, 6, 7, 2, 2, 4, 4, 5, 1, 2, 3, 4, 5, 6, 7, 1, 2, 3, 4, 5, 6, 7, 1, 2, 3, 4, 5, 6, 7, 2, 3, 6, 1, 2, 3, 4, 5, 6, 7, 1, 2, 3, 4, 5, 6, 7, 3, 1, 2, 3, 4, 5, 6, 7, 1, 2, 3, 4, 5, 6, 7, 1, 2, 3, 4, 5, 6, 7, 1, 2, 1, 2, 3, 4, 5, 6, 7, 1, 2, 3, 4, 5, 6, 7, 1, 2, 3, 4, 5, 6, 7, 2, 1, 2, 3, 4, 5, 6, 7, 1, 2, 3, 4, 5, 6, 7, 1, 2, 3, 4, 5, 6, 7, 6, 4, 6, 1, 2, 3, 4, 5, 6, 7, 7, 1, 2, 3, 4, 5, 6, 7, 1, 2, 3, 4, 5, 1, 1, 2, 3, 4, 5, 6, 7, 1, 2, 3, 4, 5, 6, 7, 1, 2, 3, 4, 5, 6, 7, 1, 2, 3, 4, 5, 6, 7, 4, 1, 2, 3, 4, 5, 6, 7, 1, 2, 3, 4, 5, 6, 7, 7, 1, 2, 3, 4, 5, 6, 7, 2, 3, 4, 7, 1, 6, 1, 2, 3, 4, 5, 6, 7, 1, 2, 3, 4, 5, 6, 7, 1, 2, 3, 4, 5, 6, 7, 1, 2, 3, 4, 5, 6, 7, 1, 2, 3, 4, 5, 6, 7, 2, 3, 4, 5, 6, 7, 6, 1, 2, 3, 4, 5, 6, 7, 1, 2, 3, 4, 5, 6, 7, 3, 1, 2, 3, 4, 5, 6, 7, 1, 2, 3, 4, 7, 1, 2, 3, 4, 5, 6, 7, 1, 2, 3, 4, 5, 6, 7, 1, 2, 3, 4, 5, 6, 7, 1, 2, 3, 4, 5, 6, 7, 2, 1, 2, 3, 4, 5, 6, 7, 1, 2, 3, 4, 5, 6, 7, 1, 2, 3, 4, 5, 6, 7, 1, 2, 3, 4, 5, 6, 7, 1, 2, 3, 4, 5, 6, 7, 1, 2, 3, 4, 5, 6, 7, 1, 2, 3, 4, 5, 6, 7, 1, 2, 3, 4, 5, 6, 7, 1, 2, 3, 4, 5, 6, 7, 3, 5, 7, 1, 2, 3, 5, 6, 1, 2, 3, 5, 6, 1, 5, 6, 6, 3, 5, 1, 2, 3, 4, 5, 6, 7, 1, 2, 3, 4, 5, 6, 7, 1, 2, 3, 4, 5, 6, 7, 2, 5, 1, 2, 3, 4, 5, 6, 7, 1, 2, 3, 4, 5, 6, 7, 1, 2, 3, 4, 5, 6, 7, 2, 1, 2, 3, 4, 5, 6, 1, 2, 3, 4, 5, 6, 7, 1, 2, 3, 4, 5, 6, 1, 2, 3, 4, 5, 6, 7, 1, 3, 4, 5, 6, 1, 2, 3, 4, 5, 6, 7, 1, 2, 3, 4, 5, 6, 7, 1, 2, 3, 4, 5, 6, 7, 1, 2, 3, 4, 5, 6, 7, 1, 2, 3, 4, 5, 6, 7, 1, 2, 4, 7, 1, 2, 3, 4, 5, 6, 7, 7, 3, 4, 1, 2, 3, 4, 5, 6, 7, 1, 1, 2, 3, 4, 5, 6, 7, 1, 2, 3, 4, 5, 6, 7, 2, 4, 5, 1, 2, 3, 4, 5, 6, 7, 1, 2, 3, 4, 5, 6, 7, 1, 2, 3, 4, 5, 6, 7, 3, 1, 2, 3, 4, 5, 6, 7, 5, 4, 2, 2, 4, 5, 6, 6, 1, 2, 3, 4, 5, 6, 7, 2, 4, 5, 6, 1, 2, 3, 4, 5, 6, 1, 1, 2, 3, 4, 6, 7, 6, 7, 3, 6, 7, 1, 2, 3, 4, 5, 6, 7, 6, 1, 2, 3, 4, 5, 6, 7, 2, 1, 3, 4, 5, 1, 2, 3, 4, 5, 6, 7, 3, 1, 2, 3, 4, 5, 6, 7, 1, 2, 3, 4, 5, 6, 7, 1, 2, 3, 4, 5, 6, 7, 2, 3, 1, 2, 3, 4, 5, 6, 7, 1, 2, 3, 4, 5, 6, 7, 1, 2, 3, 4, 5, 6, 7, 3, 7, 1, 2, 3, 4, 5, 6, 7, 1, 2, 3, 4, 5, 6, 7, 1, 1, 2, 3, 4, 5, 6, 7, 1, 3, 1, 2, 3, 4, 5, 6, 7, 1, 2, 3, 4, 5, 6, 7, 1, 2, 3, 4, 5, 6, 7, 1, 2, 4, 5, 1, 2, 3, 4, 5, 6, 7, 1, 2, 3, 4, 5, 6, 7, 1, 2, 3, 4, 5, 6, 7, 2, 4, 5, 1, 2, 3, 4, 5, 6, 7, 1, 2, 3, 4, 5, 6, 2, 5, 1, 3, 4, 6, 1, 2, 3, 4, 5, 6, 7, 1, 2, 3, 4, 5, 6, 7, 7, 1, 3, 7, 4, 1, 2, 3, 4, 5, 6, 7, 1, 2, 3, 4, 5, 6, 7, 1, 2, 3, 4, 5, 6, 7, 1, 2, 3, 4, 5, 6, 7, 1, 2, 3, 4, 5, 6, 7, 3, 4, 6, 7, 1, 2, 3, 4, 5, 6, 6, 3, 6, 3, 2, 1, 2, 2, 5, 1, 2, 3, 4, 5, 6, 7, 1, 2, 3, 4, 5, 6, 1, 2, 3, 4, 5, 6, 1, 2, 3, 4, 5, 6, 7, 4, 3, 3, 1, 2, 3, 4, 5, 6, 7, 4, 1, 2, 3, 4, 5, 6, 7, 1, 7, 3, 1, 2, 3, 4, 5, 6, 7, 1, 3, 4, 5, 2, 3, 5, 1, 2, 3, 4, 5, 6, 7, 1, 2, 3, 4, 5, 6, 7, 2, 1, 2, 3, 4, 5, 6, 7, 1, 2, 3, 4, 5, 6, 7, 1, 2, 3, 4, 5, 6, 7, 1, 2, 3, 4, 5, 6, 7, 1, 2, 3, 4, 5, 6, 7, 4, 1, 2, 3, 4, 6, 1, 2, 3, 4, 5, 6, 7, 1, 2, 3, 4, 5, 6, 7, 1, 1, 2, 3, 4, 5, 6, 7, 2, 5, 1, 2, 3, 4, 5, 6, 7, 1, 2, 3, 4, 5, 6, 7, 5, 7, 1, 2, 3, 4, 5, 6, 7, 1, 2, 3, 4, 5, 6, 1, 2, 3, 4, 5, 6, 7, 7, 1, 2, 3, 4, 5, 6, 7, 6, 2, 7, 3, 1, 2, 3, 4, 5, 6, 7, 1, 2, 3, 4, 5, 6, 7, 1, 1, 2, 3, 4, 5, 6, 7, 1, 5, 2, 4, 5, 6, 7, 1, 2, 3, 4, 5, 6, 7, 1, 1, 2, 3, 4, 5, 6, 7, 3, 4, 3, 4, 1, 4, 5, 1, 2, 3, 4, 5, 6, 7, 2, 3, 5, 6, 7, 1, 2, 3, 4, 5, 6, 7, 5, 5, 1, 2, 3, 4, 5, 6, 7, 1, 2, 3, 4, 5, 6, 7, 1, 2, 3, 4, 5, 6, 7, 6, 1, 2, 3, 4, 5, 6, 7, 3, 1, 2, 3, 4, 5, 6, 7, 1, 2, 3, 4, 5, 6, 7, 1, 2, 3, 4, 5, 6, 7, 1, 2, 3, 4, 5, 6, 7, 1, 2, 3, 4, 5, 6, 7, 1, 2, 3, 4, 5, 6, 7, 1, 2, 5, 2, 2, 5, 1, 2, 3, 4, 5, 6, 7, 1, 2, 3, 4, 5, 6, 7, 2, 3, 2, 6, 1, 2, 3, 4, 5, 6, 7, 2, 7, 1, 2, 3, 4, 5, 6, 7, 1, 2, 3, 4, 5, 6, 7, 1, 2, 3, 4, 5, 6, 7, 2, 3, 4, 5, 1, 2, 3, 4, 6, 7, 1, 2, 3, 4, 5, 6, 7, 4, 6, 7, 1, 2, 3, 4, 5, 6, 7, 1, 2, 3, 4, 5, 6, 7, 1, 2, 3, 4, 6, 7, 3, 1, 2, 3, 4, 5, 6, 7, 1, 2, 3, 4, 5, 6, 7, 7, 1, 2, 3, 4, 5, 6, 7, 1, 1, 2, 3, 4, 5, 6, 7, 5, 1, 2, 3, 4, 5, 6, 7, 1, 2, 3, 4, 5, 6, 7, 1, 2, 3, 4, 5, 6, 7, 1, 2, 3, 4, 5, 6, 7, 1, 3, 6, 7, 1, 2, 3, 4, 5, 6, 7, 5, 1, 2, 3, 4, 5, 6, 7, 1, 2, 3, 4, 5, 6, 7, 3, 6, 7, 1, 2, 3, 4, 5, 6, 7, 4, 1, 2, 3, 4, 6, 7, 1, 2, 3, 4, 5, 6, 7, 1, 1, 2, 3, 4, 5, 6, 7, 6, 1, 2, 3, 4, 5, 6, 7, 7, 6, 2, 3, 5, 2, 4, 1, 2, 3, 7, 3, 1, 3, 4, 5, 6, 1, 2, 3, 4, 5, 6, 7, 1, 2, 3, 4, 5, 6, 7, 1, 2, 3, 4, 5, 6, 7, 1, 2, 3, 4, 5, 6, 7, 1, 2, 3, 4, 5, 6, 7, 7, 5, 1, 2, 3, 4, 5, 6, 7, 1, 2, 3, 4, 5, 6, 7, 5, 1, 3, 1, 2, 3, 4, 5, 6, 7, 1, 2, 3, 4, 5, 6, 7, 1, 2, 3, 4, 5, 6, 7, 6, 4, 1, 2, 3, 4, 5, 6, 7, 1, 2, 3, 4, 5, 6, 7, 3, 4, 1, 2, 3, 4, 5, 6, 7, 1, 6, 7, 1, 5, 5, 3, 1, 2, 3, 4, 5, 6, 7, 1, 2, 3, 4, 5, 6, 7, 1, 3, 4, 5, 7, 1, 2, 3, 4, 5, 6, 7, 1, 2, 3, 4, 5, 6, 7, 7, 1, 2, 3, 4, 5, 6, 7, 1, 2, 3, 4, 5, 6, 7, 1, 2, 3, 4, 5, 6, 7, 6, 3, 2, 4, 4, 1, 2, 3, 4, 5, 6, 7, 2, 3, 4, 1, 2, 3, 4, 5, 6, 7, 1, 2, 3, 4, 5, 6, 7, 6, 6, 1, 3, 5, 1, 2, 3, 4, 5, 6, 7, 1, 2, 3, 4, 5, 6, 7, 5, 6, 1, 2, 3, 4, 5, 6, 7, 1, 2, 3, 4, 5, 6, 7, 7, 1, 2, 3, 4, 5, 6, 7, 1, 2, 3, 4, 5, 6, 7, 7, 1, 2, 3, 4, 5, 6, 7, 1, 2, 3, 4, 5, 6, 7, 6, 1, 2, 3, 4, 5, 6, 1, 2, 3, 4, 5, 6, 7, 1, 1, 2, 3, 4, 5, 7, 6, 1, 2, 3, 4, 5, 6, 7, 6, 1, 6, 1, 2, 3, 4, 5, 6, 7, 5, 1, 2, 3, 4, 5, 6, 7, 1, 2, 3, 4, 5, 6, 7, 1, 2, 3, 4, 5, 6, 7, 1, 2, 3, 4, 5, 6, 7, 1, 2, 1, 2, 3, 4, 5, 6, 7, 1, 2, 3, 4, 5, 6, 7, 1, 2, 1, 2, 3, 4, 5, 6, 7, 1, 7, 1, 2, 4, 6, 7, 1, 2, 3, 4, 5, 6, 7, 1, 2, 3, 4, 5, 6, 7, 5, 1, 2, 3, 4, 5, 6, 7, 2, 5, 1, 2, 3, 4, 5, 6, 7, 1, 2, 3, 4, 5, 6, 7, 1, 2, 3, 4, 5, 6, 7, 1, 2, 3, 4, 5, 6, 7, 3, 1, 2, 3, 4, 5, 6, 7, 4, 5, 1, 3, 5, 1, 6, 1, 3, 1, 4, 5, 7, 1, 2, 3, 4, 5, 6, 7, 1, 2, 3, 4, 5, 6, 7, 2, 3, 5, 1, 2, 6, 2, 3, 7, 1, 2, 3, 4, 5, 6, 7, 1, 2, 3, 4, 5, 6, 7, 4, 4, 1, 2, 3, 4, 5, 6, 7, 1, 2, 3, 4, 5, 6, 7, 1, 2, 3, 4, 5, 6, 7, 5, 1, 2, 3, 4, 5, 6, 7, 1, 2, 3, 4, 5, 6, 7, 1, 2, 3, 4, 5, 6, 7, 1, 2, 3, 4, 5, 6, 7, 1, 2, 6, 7, 7, 4, 1, 2, 3, 4, 5, 6, 7, 4, 6, 1, 2, 3, 4, 5, 6, 7, 1, 1, 2, 3, 4, 5, 6, 7, 1, 2, 3, 4, 5, 6, 1, 3, 4, 5, 6, 7, 1, 2, 3, 4, 5, 6, 7, 3, 4, 1, 2, 3, 4, 5, 6, 7, 1, 2, 3, 4, 5, 6, 7, 1, 1, 2, 3, 4, 5, 6, 7, 1, 2, 3, 4, 5, 6, 7, 1, 2, 3, 4, 5, 6, 7, 5, 1, 2, 3, 4, 5, 6, 7, 1, 2, 3, 4, 5, 6, 7, 1, 2, 3, 4, 5, 6, 7, 1, 2, 3, 4, 5, 6, 7, 3, 7, 1, 2, 3, 4, 5, 6, 7, 1, 2, 3, 4, 5, 6, 7, 1, 2, 3, 4, 5, 6, 7, 1, 2, 3, 4, 5, 6, 7, 1, 2, 3, 4, 5, 6, 7, 3, 7, 1, 2, 3, 4, 5, 6, 7, 3, 4, 5, 6, 1, 2, 3, 4, 5, 6, 7, 1, 4, 5, 6], \"Freq\": [0.2662203226256695, 0.08105967718153914, 0.07815356839654158, 0.05646154210852406, 0.3826722532245004, 0.06144344288280559, 0.07389819481850943, 0.027877080930819483, 0.052656708424881245, 0.04723616491055523, 0.01781035726135689, 0.0061949068735154406, 0.1827497527687055, 0.6655653072233151, 0.15827751955859393, 0.2133573386030717, 0.20293811230059094, 0.12810912340095648, 0.11551133159886612, 0.06256271793444122, 0.11925278104384784, 0.9907954469639004, 0.9590675265722456, 0.9596364478539775, 0.11716442848415688, 0.048176163028025035, 0.02948381177315132, 0.018692351254873712, 0.005106673280970654, 0.12805224132849055, 0.6532687706600194, 0.9666861413682524, 0.029190306545356582, 0.8487642980111375, 0.011975510377582188, 0.029938775943955467, 0.0037423469929944333, 0.025447959552362148, 0.05164438850332318, 0.2482280922863616, 0.05603156937916212, 0.03532872848722906, 0.02935477439900957, 0.4053018851231672, 0.08250236594247952, 0.14316889970043264, 0.4852604327312437, 0.15470027361296432, 0.027115650795382803, 0.020480414473583928, 0.09811790403415974, 0.05611215598119678, 0.15814850666208813, 0.2842088826712671, 0.08762436278769473, 0.0467643038767406, 0.036566062572200325, 0.1853798731871367, 0.18893583890516719, 0.17055216707987747, 0.02068035072170293, 0.9719764839200378, 0.8464554030400141, 0.0028309545252174387, 0.048126226928696454, 0.0028309545252174387, 0.01981668167652207, 0.02547859072695695, 0.05378813597913133, 0.9735195807004787, 0.02116346914566258, 0.01425522921729214, 0.9551003575585734, 0.01425522921729214, 0.9578591376044265, 0.001797891062008266, 0.05573462292225625, 0.8126467600277363, 0.1249534288095745, 0.001797891062008266, 0.000898945531004133, 0.001797891062008266, 0.00662774777346891, 0.04717816157028407, 0.8613934122356852, 0.03185594897570541, 0.02045337216113524, 0.01183017344511655, 0.020595904371317367, 0.0036218871171040715, 0.010865661351312214, 0.8801185694562893, 0.01992037914407239, 0.023542266261176465, 0.03802981472959275, 0.023542266261176465, 0.005198862591956138, 0.04678976332760524, 0.005198862591956138, 0.940994129144061, 0.9733539969422799, 0.009932183642268161, 0.049932850542522986, 0.019418330766536717, 0.009246824174541294, 0.0018493648349082587, 0.8710508372417898, 0.01387023626181194, 0.034213249445802785, 0.9718262748186001, 0.027872184816226036, 0.9615903761597983, 0.022701911984217775, 0.004540382396843555, 0.022701911984217775, 0.004540382396843555, 0.049944206365279104, 0.004540382396843555, 0.8944553321781804, 0.9852418630536581, 0.004840785665018153, 0.09197492763534491, 0.07938888490629771, 0.7609715065408537, 0.004840785665018153, 0.0474396995171779, 0.009681571330036306, 0.9335980202604766, 0.024796760166280917, 0.0037195140249421375, 0.013638218091454504, 0.008678866058198322, 0.0037195140249421375, 0.011158542074826413, 0.05296073173305275, 0.7218351584356819, 0.02981493045712599, 0.015888219519915824, 0.019418934968786005, 0.08905248965483684, 0.07120276155221536, 0.9578498507474486, 0.004926396609360207, 0.9754265286533209, 0.009852793218720414, 0.009852793218720414, 0.0750907212953014, 0.04643014064823979, 0.051589045164710884, 0.044137294196474865, 0.16049925162354498, 0.5932740193941751, 0.029233792260002833, 0.003754187989343972, 0.022525127936063833, 0.01877093994671986, 0.9272844333679611, 0.022525127936063833, 0.003754187989343972, 0.032141509952954256, 0.010713836650984751, 0.09948562604485842, 0.013774932836980395, 0.01836657711597386, 0.015305480929978217, 0.8111904892888455, 0.01691371494415112, 0.023679200921811572, 0.006765485977660449, 0.8558339761740468, 0.006765485977660449, 0.08795131770958584, 0.030257748741813518, 0.015128874370906759, 0.015128874370906759, 0.8396525275853252, 0.08068732997816938, 0.012607395309088967, 0.010085916247271173, 0.9556696161212485, 0.6305197981348252, 0.01740031639160882, 0.04446747522300032, 0.01740031639160882, 0.03480063278321764, 0.2397376925066104, 0.015708618964646853, 0.9640173210331566, 0.9536040904920347, 0.017654432921501716, 0.9215613985023896, 0.007061773168600687, 0.0035308865843003434, 0.04590152559590446, 0.0035308865843003434, 0.9608732465875804, 0.10174720994584806, 0.0012484320238754362, 0.036828744704325365, 0.022471776429757853, 0.1510602748889278, 0.05805208911020778, 0.6285855240212821, 0.022189837730787018, 0.8792723200824356, 0.013868648581741886, 0.029956280936562475, 0.014978140468281238, 0.023299329617326368, 0.016642378298090264, 0.9814389610843159, 0.9836503918906566, 0.05065243467693482, 0.6606436449631925, 0.053740997766991816, 0.058991555020088716, 0.06393325596417992, 0.05343214145798612, 0.05868269871108302, 0.978964163686464, 0.007251586397677511, 0.007251586397677511, 0.02608145648336961, 0.10156425995288637, 0.0036820879741227687, 0.8293903161711537, 0.009512060599817154, 0.002454725316081846, 0.027615659805920765, 0.03532601386693006, 0.013853338771345123, 0.03047734529695927, 0.008312003262807073, 0.7141396136628411, 0.1814787379046211, 0.016624006525614146, 0.44861723764676376, 0.0356200137337545, 0.0709742064694959, 0.06610082150592253, 0.1581634938177905, 0.07717669642313474, 0.14336612492839496, 0.9755086330478397, 0.008743569872134349, 0.008743569872134349, 0.008743569872134349, 0.008743569872134349, 0.953049116062644, 0.008743569872134349, 0.9506486869475046, 0.045294780842417295, 0.8018853793583506, 0.04420435093324799, 0.01182697055329785, 0.011994729000862358, 0.0043617196366772205, 0.08035629638339957, 0.005245535182221577, 0.1437276639928712, 0.01888392665599768, 0.057700887004437346, 0.008392856291554522, 0.7333258184745765, 0.03357142516621809, 0.014845779126334838, 0.16412833589670184, 0.02639249622459527, 0.01154671709826043, 0.02639249622459527, 0.7117726325570537, 0.04453733737900452, 0.00913891005622591, 0.9630126471748052, 0.002855909392570597, 0.006854182542169432, 0.0062830006636553125, 0.0022847275140564774, 0.009710091934740029, 0.019694690940104252, 0.009847345470052126, 0.019694690940104252, 0.009847345470052126, 0.009847345470052126, 0.019694690940104252, 0.9256504741848999, 0.012332478580177376, 0.9434346113835692, 0.003083119645044344, 0.009249358935133031, 0.02466495716035475, 0.003083119645044344, 0.006166239290088688, 0.04409592999785341, 0.0656845623926358, 0.12218247270238548, 0.03215328229010144, 0.10243117072418031, 0.012861312916040578, 0.6214770134072465, 0.9686134810490197, 0.10949715777762785, 0.011992545851835432, 0.005735565407399554, 0.003649905259254262, 0.06361263451843142, 0.7628301991841407, 0.042756033036978495, 0.9475713220569338, 0.9643645550544341, 0.14676891976991022, 0.27991951482042915, 0.09973420162142436, 0.2747697281618358, 0.055217156950473044, 0.07192535366502033, 0.0716392544062096, 0.9805239435377311, 0.027955264530915246, 0.023453993123394995, 0.11916523778856244, 0.7848795880586628, 0.013029996179663886, 0.028665991595260547, 0.0028429082573812113, 0.011703198885481415, 0.008777399164111062, 0.005851599442740708, 0.02925799721370354, 0.008777399164111062, 0.002925799721370354, 0.9333301111171428, 0.020103212088993377, 0.8422187801494068, 0.04338061556045939, 0.010580637941575462, 0.0021161275883150926, 0.004232255176630185, 0.07723865697350087, 0.01012606552203207, 0.02025213104406414, 0.9619762245930467, 0.01012606552203207, 0.023539333623171222, 0.8591856772457497, 0.01883146689853698, 0.04354776720286676, 0.010592700130427051, 0.02236236694201266, 0.02000843357969554, 0.0036489970394634904, 0.05929620189128172, 0.7927446068234433, 0.09578617228591663, 0.03557772113476903, 0.0009122492598658726, 0.01094699111839047, 0.973742084632729, 0.05693535538319875, 0.19874242176247225, 0.1887032309065939, 0.15615276250480445, 0.04373619637491299, 0.027349104894287022, 0.32835704465104115, 0.0035145290064412505, 0.042174348077295004, 0.0035145290064412505, 0.035145290064412506, 0.9137775416747251, 0.012560707475489614, 0.8370814339022721, 0.016149481039915217, 0.026018608342085626, 0.010766320693276812, 0.008074740519957609, 0.08882214571953369, 0.7930273151662619, 0.017450478817839506, 0.03005360240850137, 0.026175718226759258, 0.06301561795330933, 0.03199254449937242, 0.037809370771985595, 0.10114695294637839, 0.6682641899031396, 0.07873998365092483, 0.0547550587712844, 0.025720676022245988, 0.022564764853872245, 0.04891662310979298, 0.15815227857811337, 0.07408935573028735, 0.02126232989892862, 0.022029527369508518, 0.4133002373652568, 0.26610792265257055, 0.045045451486905475, 0.971820148210963, 0.004785117861851086, 0.04785117861851087, 0.011962794654627717, 0.05981397327313858, 0.05981397327313858, 0.7871518882745038, 0.02871070717110652, 0.966941322728815, 0.061638314559030793, 0.04524514579333111, 0.017048895516327666, 0.026229070025119487, 0.7370368677058575, 0.08524447758163833, 0.02754052352637546, 0.11423400193200868, 0.2066572159056386, 0.018811804614101667, 0.007088506086473092, 0.6077030794903278, 0.02726348494797343, 0.018539169764621933, 0.16970027215600994, 0.15115312312911539, 0.22295884048754286, 0.16756305100986446, 0.13432557732325742, 0.09728041079006938, 0.05699256389721237, 0.9580888274123558, 0.021290862831385683, 0.012424553648131727, 0.956690630906143, 0.024849107296263453, 0.9652637324757773, 0.035141675112457645, 0.055669980376170526, 0.5636585513087266, 0.04836329545179814, 0.09359515450743669, 0.04244836003683002, 0.1607470683361924, 0.015685038963263707, 0.01764566883367167, 0.9509054871478622, 0.015685038963263707, 0.97059287154684, 0.009474265127104009, 0.7653558524417065, 0.07435238501922928, 0.0572575153333677, 0.02028728510912489, 0.04170736278779482, 0.031615210804575335, 0.9857809241167635, 0.009038246627111153, 0.11960320536652914, 0.3444186214700124, 0.32397287909994543, 0.10117571224329282, 0.007370997249294533, 0.09433121479751932, 0.9692287602886902, 0.49505871517521066, 0.027708510177717017, 0.09590838989513784, 0.11157293431560718, 0.04196915674918204, 0.21051078799017542, 0.017216220990421506, 0.9575553071744946, 0.019592371309052347, 0.960026194143565, 0.0934662147988859, 0.030400775747734515, 0.022638875556823573, 0.7904201694410974, 0.023932525588642065, 0.008408725206820185, 0.031047600763643757, 0.008239058022115072, 0.06591246417692058, 0.004943434813269043, 0.914535440454773, 0.0032956232088460287, 0.0016478116044230144, 0.0016478116044230144, 0.012382272639058424, 0.006191136319529212, 0.9162881752903234, 0.024764545278116848, 0.012382272639058424, 0.012382272639058424, 0.024764545278116848, 0.15257843204742944, 0.4985105667756531, 0.033540948424219404, 0.13850438702236484, 0.015126310073667574, 0.03314634903099329, 0.12863940219171205, 0.874166193949897, 0.05225226038149627, 0.03813002784595674, 0.004236669760661859, 0.016946679042647437, 0.0014122232535539532, 0.014122232535539531, 0.015934168990569087, 0.015934168990569087, 0.9719843084247143, 0.6600563583176069, 0.023510180120607613, 0.014975662679565124, 0.024798409168312142, 0.11288107030510916, 0.06795408226641379, 0.09565100679206112, 0.019667727881249708, 0.9637186661812357, 0.08431676958907189, 0.004380091926705033, 0.021900459633525163, 0.008760183853410066, 0.7938916617152872, 0.0657013789005755, 0.021900459633525163, 0.14958299779849157, 0.22741881513478038, 0.024683663003051415, 0.010367138461281594, 0.5037112830156025, 0.012506389254879383, 0.07174718046220278, 0.0057019452139791486, 0.9408209603065595, 0.02850972606989574, 0.017105835641937444, 0.0057019452139791486, 0.07725227918798461, 0.04918484211276528, 0.055332947376860946, 0.014701990848924405, 0.3552535606949188, 0.003742324943362576, 0.44453474148656885, 0.01603842891910137, 0.962305735146082, 0.9610085160236342, 0.018480933000454506, 0.018480933000454506, 0.08910557943734503, 0.048795912549022276, 0.021215614151748816, 0.010607807075874408, 0.806193337766455, 0.0021215614151748816, 0.021215614151748816, 0.9805073842633495, 0.06006935685870604, 0.934412217802094, 0.006674372984300672, 0.18568024753613874, 0.1436288979652126, 0.10245528054851832, 0.1470201358338357, 0.12918621433648844, 0.12926600816869135, 0.16273952077780618, 0.011925120735639368, 0.023850241471278736, 0.005962560367819684, 0.053663043310377155, 0.8943840551729526, 0.011925120735639368, 0.16944688357315207, 0.667559352185577, 0.01534227316054697, 0.0814845174526828, 0.020115424810494914, 0.020456364214062626, 0.02557045526757828, 0.9122628321652203, 0.037344092544775095, 0.0106697407270786, 0.0320092221812358, 0.0053348703635393, 0.0053348703635393, 0.9784973235319645, 0.03786028879847555, 0.0275347554898004, 0.07141827205166978, 0.06281366096110716, 0.7804382259140301, 0.015488299963012726, 0.0043023055452813125, 0.9819065681872683, 0.06139563873616337, 0.2965202399365445, 0.13283532803410808, 0.15066075842672, 0.24616201940014087, 0.04299074388806406, 0.06942536047648856, 0.26463994284071185, 0.11007678637416106, 0.07710171420325225, 0.13381883833721542, 0.08717409988454802, 0.06630987240186391, 0.2609227528869003, 0.0017968826962301186, 0.11020880536878061, 0.6253151782880813, 0.08774777166590413, 0.13716204581223237, 0.034739732127115626, 0.002994804493716864, 0.018930607014589335, 0.16833808838533923, 0.12487409380475745, 0.3128219141200076, 0.032258433477775544, 0.29015612007114955, 0.05271707155183846, 0.9712603064047064, 0.015665488812979137, 0.047672784023706574, 0.12880015332720723, 0.10370921436736168, 0.23278815590523386, 0.06412128845293867, 0.39420652988024035, 0.028436397487824974, 0.6220087575544188, 0.0653345700663149, 0.08395935700829607, 0.04789230927938016, 0.08188993623696483, 0.0706559377640238, 0.028676259259875773, 0.35688985137284907, 0.00427318225590551, 0.0069637044170312015, 0.0018991921137357824, 0.6186618310494311, 0.003165320189559637, 0.008229832492855057, 0.9727920591962465, 0.16507756784506653, 0.023553750533991197, 0.4585935360378799, 0.09381237392170853, 0.03986019321136972, 0.14575141356076604, 0.07327833499463929, 0.9855311654182213, 0.9848922816486411, 0.011250316150128958, 0.9262760296939508, 0.022500632300257915, 0.026250737683634232, 0.003750105383376319, 0.011250316150128958, 0.017386460454762408, 0.017386460454762408, 0.9562553250119324, 0.9856030989389751, 0.9574851754977948, 0.009870981190698916, 0.029612943572096744, 0.009870981190698916, 0.4161327049421116, 0.01032343390878245, 0.032199281953583354, 0.018188907363092886, 0.05948264299822269, 0.04276851190781301, 0.4210486258510556, 0.9670410268357342, 0.019735531159912945, 0.9339167672718638, 0.013939056227938266, 0.006969528113969133, 0.0209085843419074, 0.013939056227938266, 0.006969528113969133, 0.0209085843419074, 0.0075999820270523715, 0.19409184869087595, 0.48157578421418396, 0.1306612294650927, 0.14571504001867722, 0.03478453312381662, 0.005553833019769041, 0.018933404874361567, 0.05852143324802666, 0.7504513204746948, 0.09466702437180782, 0.04130924699860705, 0.019794014186832545, 0.015490967624477645, 0.020615847560497134, 0.017670726480426117, 0.10307923780248568, 0.017670726480426117, 0.020615847560497134, 0.8187436602597433, 0.11917422562949069, 0.49152687902566844, 0.08216608605620715, 0.12866006645874387, 0.028457522487759547, 0.07615393341794809, 0.07374907236264445, 0.0180712161150982, 0.7507236783685126, 0.002853349912910242, 0.039727410325904135, 0.005194560097862235, 0.005414048552701485, 0.1779319740563515, 0.3062517861181112, 0.027896809346094217, 0.035560767957658564, 0.01594103391205384, 0.058552643792351595, 0.10331016208388738, 0.45248011642675895, 0.9894624271889265, 0.9694145222940582, 0.9649276898592151, 0.009428238356226765, 0.028284715068680296, 0.030641774657736986, 0.8603267500056924, 0.04949825137019052, 0.0023570595890566913, 0.02121353630151022, 0.08454181362610608, 0.06645379768749733, 0.08690112005288113, 0.012189749871671108, 0.6271822917843684, 0.008650790231508528, 0.11403314396079424, 0.8846819558464402, 0.0041084301355097845, 0.050670638337954, 0.006847383559182974, 0.0260200575248953, 0.0027389534236731895, 0.024650580813058705, 0.9885113915925772, 0.981796887303118, 0.009917140275789072, 0.9835857492329549, 0.9778272622325631, 0.8675339045319732, 0.04781682938365207, 0.011384959377060017, 0.00683097562623601, 0.02732390250494404, 0.009107967501648013, 0.02732390250494404, 0.013252433225602473, 0.5021851245312371, 0.23842651989070646, 0.16430671636344307, 0.0197027325831966, 0.009264975440907925, 0.05277517656213374, 0.008953052127111793, 0.04028873457200307, 0.004476526063555896, 0.9355939472831823, 0.004476526063555896, 0.004476526063555896, 0.004476526063555896, 0.9770736084544618, 0.9572723701196902, 0.9898420852650761, 0.7762853803341512, 0.020811940491532205, 0.009365373221189492, 0.006243582147459661, 0.027055522638991865, 0.14568358344072543, 0.013527761319495932, 0.017034497850657325, 0.01735590347048105, 0.034390401321138374, 0.0764945375180461, 0.08870795107134757, 0.06749518016298185, 0.6984144118769503, 0.9831950907835971, 0.6947077649776443, 0.018352808087987494, 0.02321090434657242, 0.039944347015031606, 0.05721757815666689, 0.136566483713554, 0.030228154497861755, 0.14730597539308818, 0.03982539399878279, 0.18137348110289034, 0.0446236342396, 0.5546765718384689, 0.014394720722451614, 0.017753488891023655, 0.4299694117043934, 0.03630643249010317, 0.18557724002801881, 0.053553849154916365, 0.13006289315149058, 0.07318364279789082, 0.09134926725637031, 0.9842037313767223, 0.011312686567548533, 0.03613471011604716, 0.465821172402336, 0.02674623558438536, 0.020196137073923637, 0.10687577402903374, 0.3223740150232243, 0.021942830010046762, 0.10303133214161522, 0.1748814547550562, 0.22185840858368713, 0.20867819337194243, 0.12918662302873507, 0.07631190752947907, 0.08600475062294113, 0.043802110713387785, 0.044419041850196066, 0.024677245472331147, 0.858768142437124, 0.016657140693823524, 0.00987089818893246, 0.0012338622736165574, 0.9775367427619844, 0.03513341205179102, 0.00638789310032564, 0.0159697327508141, 0.01916367930097692, 0.03513341205179102, 0.8815292478449382, 0.00638789310032564, 0.03356208241687601, 0.08607050168198849, 0.25669579809810655, 0.11757555324105597, 0.05824645271057837, 0.02879843200931942, 0.4190929710829905, 0.2760368093917229, 0.04153531928151317, 0.039560134261332515, 0.2344638675383968, 0.07123833972784889, 0.3136217586328748, 0.023532918669009497, 0.9780078953667178, 0.9575417205074775, 0.016509340008749613, 0.24967834005108058, 0.1256408894660713, 0.19813923315980247, 0.18126494779243588, 0.08219533121253464, 0.0966262811420925, 0.06642818221542511, 0.9734650943697154, 0.13325119552770168, 0.06900508339827409, 0.018639304136315413, 0.01665639944096271, 0.7059140715455625, 0.03370937982099596, 0.02260511352702082, 0.004264651622660408, 0.017058606490641632, 0.03838186460394367, 0.008529303245320816, 0.9296940537399689, 0.9769717663697132, 0.8442070262963551, 0.02149601224365719, 0.00781673172496625, 0.009770914656207814, 0.025404378106140317, 0.050808756212280634, 0.039083658624831256, 0.2140792413939838, 0.10946462343140494, 0.17949870240125373, 0.16562768676041112, 0.14428766269757629, 0.09384760582178492, 0.09321710511083753, 0.013456209854433515, 0.28102776734451534, 0.018114128650198964, 0.6515910848742998, 0.008798291058668068, 0.01035093065725655, 0.01707903558447331, 0.0152503057317421, 0.014733346215411858, 0.1680118428073282, 0.6924672721243573, 0.07857784648219658, 0.009563751052109453, 0.02119534016953987, 0.975088990798701, 0.011480086295424487, 0.011480086295424487, 0.017220129443136733, 0.034440258886273466, 0.022960172590848975, 0.005740043147712244, 0.9069268173385345, 0.2835482586981953, 0.2894140520070608, 0.040432075307537264, 0.04493616659827328, 0.09071030366924163, 0.013721766490381817, 0.2372503900817925, 0.9754704764316526, 0.05937015679981222, 0.06091446723680155, 0.096776787384665, 0.5006997616816533, 0.07893142233501046, 0.16815824758328315, 0.0350043699050916, 0.033723998082152117, 0.011241332694050706, 0.9442719463002593, 0.011241332694050706, 0.9593967519329326, 0.9723621730852963, 0.005806601809135941, 0.047282329017249804, 0.07133825079795585, 0.012442718162434158, 0.014101747250758714, 0.09290562894617506, 0.7565172642759969, 0.00966811650215312, 0.01933623300430624, 0.10957198702440203, 0.8507942521894746, 0.0032227055007177066, 0.0032227055007177066, 0.006445411001435413, 0.03852541335027529, 0.07299552003210054, 0.6721670802955925, 0.044608373352950335, 0.14852560673198237, 0.01622122667380012, 0.007096786669787553, 0.12609068971300338, 0.22044795369594336, 0.24314909506261112, 0.19846939507834727, 0.1462326838433757, 0.03197428664642063, 0.033660313060921154, 0.8823708261909516, 0.00528999296277549, 0.003173995777665294, 0.0518419310351998, 0.04231994370220392, 0.008463988740440784, 0.00528999296277549, 0.0037488202587546253, 0.0037488202587546253, 0.8772239405485823, 0.06372994439882863, 0.044985843105055504, 0.007497640517509251, 0.9801894437402559, 0.17705598758075744, 0.12074610145416731, 0.19310591011908945, 0.14226989231083573, 0.1682538721676301, 0.1133800317418381, 0.08519974669558776, 0.035615073637558343, 0.8931885572787659, 0.016870298038843427, 0.03186611851781536, 0.010309626579293204, 0.0009372387799357459, 0.012184104139164697, 0.9687223159663912, 0.4335806833567469, 0.04940715759221163, 0.005823657358777796, 0.47472200469779, 0.018222411735530523, 0.005072217699580661, 0.013150194035949862, 0.01800237579726968, 0.00900118789863484, 0.03600475159453936, 0.9271223535593884, 0.00900118789863484, 0.03948745534639022, 0.11478253149076152, 0.10289383525743974, 0.05208381206979068, 0.4613946395312979, 0.01754998015395121, 0.21173201863154037, 0.002261639005215907, 0.004523278010431814, 0.9001323240759309, 0.004523278010431814, 0.0678491701564772, 0.011308195026079534, 0.009046556020863628, 0.08478317516162354, 0.15197835122056985, 0.03577729731997589, 0.0703519964107089, 0.559809475712564, 0.032921126525524036, 0.06448933004314983, 0.012836553270390696, 0.7477292280002581, 0.025673106540781393, 0.014084551505012014, 0.012123411422035659, 0.013371409656656976, 0.1741848964607182, 0.9720785453657681, 0.9596281914697498, 0.006462142703499998, 0.005385118919583332, 0.002154047567833333, 0.010770237839166663, 0.007539166487416665, 0.007539166487416665, 0.0023455002418843554, 0.005863750604710888, 0.017591251814132663, 0.06332850653087758, 0.01524575157224831, 0.014073001451306131, 0.8807353408275754, 0.8499327185939756, 0.002719784699500722, 0.025837954645256858, 0.005439569399001444, 0.010879138798002888, 0.10471171093077779, 0.002719784699500722, 0.358782097260645, 0.03387307917707663, 0.0200513054898787, 0.01771523106387341, 0.5090695520003183, 0.037571863684918334, 0.022971398522385302, 0.015544108610190004, 0.8888403923463193, 0.021196511741168187, 0.0339144187858691, 0.007065503913722729, 0.01978341095842364, 0.014131007827445459, 0.04186079193368129, 0.768096856643594, 0.01898338238852989, 0.08323483047278489, 0.01703636881021913, 0.003407273762043826, 0.06765872184629883, 0.1362162141444765, 0.40295837641839666, 0.024336830033524718, 0.24240533224039548, 0.06907107516708993, 0.02486208535798928, 0.10023622441865396, 0.2199636328520793, 0.14545398789725233, 0.048157412689250154, 0.03839158543788934, 0.3744600533894806, 0.05394456957894545, 0.11961846606825548, 0.008690897559188894, 0.013036346338783342, 0.01086362194898612, 0.0021727243897972236, 0.8712624803086867, 0.08690897559188895, 0.008690897559188894, 0.01112829780070075, 0.9681619086609652, 0.01112829780070075, 0.01227982739359752, 0.01227982739359752, 0.01227982739359752, 0.9578265367006065, 0.01227982739359752, 0.01145971299417527, 0.01145971299417527, 0.01145971299417527, 0.9626158915107227, 0.01145971299417527, 0.013707289666077411, 0.9595102766254188, 0.013707289666077411, 0.9829983868452604, 0.010919475005128684, 0.9827527504615816, 0.05051195959330772, 0.7407412517605425, 0.03448121792597054, 0.05928349748675637, 0.017543075786897292, 0.021777611321665603, 0.07531423915409355, 0.08650952761452314, 0.19731247037996769, 0.21114983318541758, 0.028975229633968366, 0.08177569297055344, 0.01924745954141525, 0.3750653602529837, 0.050245690503436, 0.6997797312153875, 0.03131859376853086, 0.012286927438405265, 0.1580569431757409, 0.03780190867220003, 0.010509244319657269, 0.012561390190267278, 0.9672270446505804, 0.006412286638811429, 0.9160409484016327, 0.014198634700225306, 0.014198634700225306, 0.02244300323584, 0.01511467564862694, 0.011450511855020409, 0.17251957559742848, 0.19121364725659254, 0.09400447462893935, 0.056373551159193486, 0.05685911146202891, 0.3754837821826384, 0.05355730140274799, 0.15233486036676439, 0.008960874139221435, 0.006720655604416076, 0.004480437069610718, 0.004480437069610718, 0.8199199837387613, 0.004480437069610718, 0.9701565703936377, 0.007459905313511807, 0.007459905313511807, 0.007459905313511807, 0.9623277854430231, 0.007459905313511807, 0.007459905313511807, 0.14152530363005122, 0.1871160457178676, 0.4612425077182273, 0.0582979489250588, 0.0503438194544185, 0.032204524198202196, 0.06925912734191678, 0.007332692226193461, 0.017109615194451408, 0.9434730664368919, 0.012221153710322435, 0.017109615194451408, 0.0024442307420644866, 0.8676914789366917, 0.009950590354778575, 0.029851771064335723, 0.029851771064335723, 0.027861652993380007, 0.029851771064335723, 0.005970354212867145, 0.007081200967701146, 0.007081200967701146, 0.007081200967701146, 0.970124532575057, 0.007081200967701146, 0.047399523971710614, 0.4231358964773875, 0.12066119697178158, 0.2330188277003438, 0.039960912545493256, 0.06270922423264634, 0.07317517751837077, 0.5869896877139646, 0.016284230046258376, 0.030106890434361412, 0.02063931482607166, 0.05850961725923067, 0.26660692912943945, 0.02063931482607166, 0.6254050792652778, 0.011110715449878525, 0.021580428085340983, 0.021580428085340983, 0.04700687305717838, 0.25276877648473645, 0.020725757666119556, 0.011456316241690813, 0.02204168446500747, 0.7900168486667722, 0.05741557321128085, 0.05084996507276799, 0.046428228979483815, 0.02177370045935388, 0.019840148623168026, 0.027209346683201865, 0.7145287811286657, 0.14369936217065984, 0.021257302096251457, 0.02607562390473512, 0.04704949530636989, 0.012970879143385877, 0.012970879143385877, 0.025941758286771754, 0.9468741774671691, 0.028448365739832934, 0.011488763087240223, 0.021883358261409948, 0.011488763087240223, 0.0076591753914934824, 0.5645906431443767, 0.35451040383484117, 0.974591033689012, 0.01958624543508784, 0.959726026319304, 0.01468973451265205, 0.9107635397844271, 0.012241445427210042, 0.022034601768978077, 0.036724336281630125, 0.0024482890854420087, 0.0024482890854420087, 0.9746553535298828, 0.010203686186897628, 0.6373019876427205, 0.1263387709553279, 0.05218679194825504, 0.024146127617849348, 0.031000512231948517, 0.11886126046721969, 0.5327011408431278, 0.28816908700942, 0.017839038719630763, 0.07300283537571974, 0.05068116641372022, 0.011069352231155499, 0.026621334704679752, 0.008854851394293997, 0.008854851394293997, 0.9828885047666337, 0.08380839166960448, 0.00364384311606976, 0.062400813362694645, 0.00865412740066568, 0.034161029213154004, 0.18264763619299673, 0.6244636140164551, 0.02216061846576832, 0.005010226783565012, 0.2786456895782695, 0.036227793665777774, 0.02183945008220646, 0.17310975873984238, 0.462996341742777, 0.0053022237585968295, 0.0874866920168477, 0.8642624726512833, 0.010604447517193659, 0.0026511118792984147, 0.026511118792984147, 0.0026511118792984147, 0.9852332753493179, 0.010668508493201488, 0.007620363209429635, 0.16612391796556603, 0.01981294434451705, 0.006096290567543708, 0.01524072641885927, 0.7757529747199368, 0.9872247426194977, 0.9882352726797183, 0.9731532895454413, 0.975123679597225, 0.02683410301336921, 0.952610656974607, 0.013417051506684605, 0.9658733478761354, 0.006204706785768444, 0.8225668424561595, 0.041660174133016696, 0.021273280408348954, 0.047864880918785144, 0.04343294750037911, 0.01684134698994292, 0.982620524710367, 0.0046350024750489004, 0.009270004950097801, 0.9751607449856874, 0.0069752833717813415, 0.9625891053058251, 0.0069752833717813415, 0.0069752833717813415, 0.0069752833717813415, 0.0069752833717813415, 0.9745204781885995, 0.008015722252866527, 0.002671907417622176, 0.03206288901146611, 0.002671907417622176, 0.8443227439686076, 0.10954820412250921, 0.9581273579377338, 0.038325094317509356, 0.010742369094295386, 0.9453284802979939, 0.02148473818859077, 0.10230805082075606, 0.0380001331619951, 0.02046161016415121, 0.017538522997843895, 0.03507704599568779, 0.773156555488285, 0.01315389224838292, 0.9757885927103741, 0.08078291647883883, 0.023080833279668235, 0.005245643927197326, 0.0031473863563183956, 0.769011399727128, 0.0755372725516415, 0.04301428020301808, 0.9799377289369599, 0.018842544511006337, 0.018842544511006337, 0.9232846810393105, 0.028263816766509506, 0.04641057702880863, 0.1257765637965612, 0.03334541458792553, 0.03120038791852681, 0.016965210930698953, 0.022425278816441144, 0.723848999709822, 0.9845931510388546, 0.053089232774396, 0.09898929861059254, 0.1935544944899854, 0.5690502138005571, 0.04313500162919675, 0.012166282510799082, 0.029862693435597748, 0.07617767036182829, 0.8303727101052373, 0.024550149690067885, 0.03465903485656643, 0.01119198000576624, 0.006137537422516971, 0.01696848581519398, 0.7058108233874105, 0.018895359947034823, 0.02212139701116272, 0.028112608701685957, 0.012212854599912752, 0.19609696725520287, 0.01659104775837204, 0.015955910277029663, 0.9733105268988095, 0.2536738143863358, 0.11838498596733509, 0.08521627792643796, 0.39471343456724334, 0.018820773038967894, 0.09787963756376822, 0.031309866259270666, 0.018290783621416312, 0.010451876355095036, 0.036581567242832624, 0.015677814532642553, 0.002612969088773759, 0.002612969088773759, 0.9171521501595893, 0.037935371776017204, 0.14583144915760543, 0.4733081671654877, 0.10557247271887611, 0.06526298313530524, 0.10693632762959844, 0.06511144370078054, 0.016295377861473715, 0.977722671688423, 0.767328594357147, 0.11392651619276417, 0.00837694972005619, 0.02261776424415171, 0.02345545921615733, 0.027643934076185425, 0.03853396871225847, 0.5857839430122952, 0.0695082654330443, 0.09936895911342715, 0.08315274508125751, 0.09072507410068474, 0.03528991071317974, 0.036147155507831874, 0.9766029391713045, 0.701204740682075, 0.04108404656411207, 0.19487162627031537, 0.018321264008320248, 0.015545314916150512, 0.0072174676396413095, 0.02109721310048998, 0.978043727822884, 0.020375910996310084, 0.21079725651325346, 0.1875940204154801, 0.12637476803251557, 0.22597258726469896, 0.12176519657559186, 0.07313162805816066, 0.054330791666438054, 0.009953054715761666, 0.009953054715761666, 0.009953054715761666, 0.019906109431523333, 0.009953054715761666, 0.009953054715761666, 0.9355871432815965, 0.03687790990122172, 0.09585730690077839, 0.4070462452453343, 0.2870667438543732, 0.09661507217272129, 0.03372055460145959, 0.04268744365278405, 0.0054990576915519, 0.0054990576915519, 0.98433132678779, 0.0054990576915519, 0.0071933783937558, 0.7951952842551866, 0.013078869806828727, 0.03923660942048618, 0.013732813297170163, 0.036620835459120434, 0.09547574958984971, 0.0034848349009231287, 0.052272523513846925, 0.010454504702769386, 0.9095419091409366, 0.006969669801846257, 0.01742417450461564, 0.0034848349009231287, 0.013496831275321206, 0.16300019309426378, 0.06333128521496874, 0.735058195609801, 0.006229306742455941, 0.014535049065730528, 0.004152871161637294, 0.027763621808867302, 0.009254540602955767, 0.9624722227073997, 0.008362401798320871, 0.04778515313326212, 0.05734218375991454, 0.7777033672438409, 0.03524155043578081, 0.06988578645739585, 0.0035838864849946587, 0.9330357429944914, 0.007015306338304447, 0.03507653169152223, 0.014030612676608894, 0.007015306338304447, 0.007015306338304447, 0.018641448765101657, 0.9693553357852861, 0.013965252594557664, 0.013965252594557664, 0.013965252594557664, 0.9636024290244788, 0.02682588796449868, 0.034490427382926875, 0.0637799173033489, 0.045987236510569164, 0.6076884824610925, 0.21542830436796387, 0.005474671013162995, 0.07908633658296838, 0.08868419296439657, 0.2796175492456082, 0.12490010437698565, 0.1263077899795951, 0.08145380782372066, 0.21991888255312483, 0.965536294673409, 0.011929154023835, 0.97819062995447, 0.011929154023835, 0.9761083982943994, 0.023538103816468852, 0.9251498195690366, 0.00716377072675139, 0.00716377072675139, 0.004093583272429365, 0.005116979090536707, 0.02865508290700556, 0.018514750452709842, 0.04034818259033937, 0.02419144280849352, 0.0698669828404145, 0.05440891288697279, 0.022968770608786267, 0.7697594834442667, 0.5629338281329592, 0.0709466191466233, 0.027354840753264, 0.09670176161022274, 0.018476515245625685, 0.1862848658314382, 0.03727297014918428, 0.01350449861647725, 0.08057684174498092, 0.037362446172253726, 0.6774756805932753, 0.049966644880965826, 0.11523838819393921, 0.025658547371306777, 0.012987879857754401, 0.03636606360171232, 0.012122021200570775, 0.04502465017354859, 0.05108566077383398, 0.8242974416388127, 0.017317173143672537, 0.01061221193026769, 0.01061221193026769, 0.9550990737240921, 0.01061221193026769, 0.0424830846039664, 0.002499004976703906, 0.09246318413804452, 0.007497014930111718, 0.007497014930111718, 0.8471626871026241, 0.9802416470808122, 0.9833424159989674, 0.009833424159989675, 0.9801840821067824, 0.978755731223584, 0.9860054366197643, 0.006486877872498449, 0.017102924289099174, 0.9748666844786529, 0.1433346218509049, 0.08666554497390772, 0.200930020176853, 0.12156606780055838, 0.10415667350998088, 0.06974655615630422, 0.2736190091710013, 0.004199151708786333, 0.012597455126358998, 0.9490082861857112, 0.004199151708786333, 0.020995758543931663, 0.016796606835145333, 0.0017738521975406419, 0.00886926098770321, 0.8851522465727804, 0.03547704395081284, 0.04257245274097541, 0.024833930765568987, 0.00333600742249838, 0.9207380486095529, 0.00166800371124919, 0.020016044534990278, 0.00166800371124919, 0.04170009278122975, 0.010008022267495139, 0.9821005119780721, 0.9837486148715208, 0.9631448496462164, 0.13626801545964493, 0.10362442401248764, 0.025431635197203928, 0.05276115361807979, 0.5872050694040967, 0.075535752302143, 0.018978832236719347, 0.9638375953671744, 0.48272226390248074, 0.13555317093740438, 0.07478795637925759, 0.10552467330027822, 0.10977398900364513, 0.06260658469627245, 0.02903699063967387, 0.01729035098333189, 0.9682596550665858, 0.9581811000766083, 0.059210294247501925, 0.04054038164693825, 0.03947352949833462, 0.01866991260056367, 0.13495679679836023, 0.6246419330074302, 0.08268104151678196, 0.018073451207688374, 0.9398194627997954, 0.009036725603844187, 0.02711017681153256, 0.982539253978959, 0.015346387364513792, 0.9821687913288827, 0.509470569323996, 0.023339620322434376, 0.32608783821915455, 0.07652061234283841, 0.021839216158849307, 0.032675468451408125, 0.010002694423900447, 0.03340076704138459, 0.07336500358871811, 0.15584593704680977, 0.5825443823724457, 0.08167873162958678, 0.04390231825090289, 0.029170975581995277, 0.9805658942832703, 0.09246215360560292, 0.02521695098334625, 0.06444331917966264, 0.038292407048785046, 0.030820717868534308, 0.6976689772059129, 0.0504339019666925, 0.09868995704563865, 0.01138730273603523, 0.009489418946696025, 0.0018978837893392048, 0.8445582862559462, 0.009489418946696025, 0.02277460547207046, 0.06941610753817912, 0.015090458160473722, 0.009054274896284234, 0.0030180916320947447, 0.8601561151470022, 0.009054274896284234, 0.036217099585136935, 0.07324120952429113, 0.06816658590678595, 0.3858228762324085, 0.19897069019680746, 0.11209616349115913, 0.052715493101247804, 0.10899079679984999, 0.006135629035899964, 0.9264799844208945, 0.024542516143599855, 0.01840688710769989, 0.010226048393166607, 0.008180838714533286, 0.004090419357266643, 0.9499148471001471, 0.0183970625201987, 0.0183970625201987, 0.006132354173399566, 0.9137207718365353, 0.04292647921379696, 0.01564757257005465, 0.027942093875097593, 0.7807021028702268, 0.04806040146516786, 0.051413452730179575, 0.0625902902802186, 0.013412205060046844, 0.16203035035420865, 0.03794970318284566, 0.07571337840891265, 0.05785469455816176, 0.06752814831065182, 0.09320000634610624, 0.5056239865243848, 0.9639134596453812, 0.11948916790822835, 0.057841298839802845, 0.2383284335823016, 0.28391443314946563, 0.06796120505736064, 0.20146969258807731, 0.03100962088682849, 0.9671685312219158, 0.015855221823310093, 0.5787243600640605, 0.020701011942310193, 0.048453023585494595, 0.06526694594911772, 0.08416000925017812, 0.16117862136741953, 0.041492421316682876, 0.14587500415492122, 0.27861469027688307, 0.04502495125742191, 0.171999692242696, 0.08384711344372411, 0.03261937311518249, 0.24190877377366876, 0.9806235617116508, 0.979072609066222, 0.03902442144639528, 0.04778500585272891, 0.6817327501655991, 0.041413671739031724, 0.07327034230751767, 0.06530617466539618, 0.05176708967378965, 0.0076571412061277495, 0.0076571412061277495, 0.015314282412255499, 0.02297142361838325, 0.0076571412061277495, 0.9418283683537132, 0.04418968831990061, 0.18047999019075195, 0.040003296794857396, 0.025583503764152984, 0.026978967605834056, 0.02628123568499352, 0.6567983148178912, 0.9561305541860957, 0.22181770049118038, 0.08629483203487152, 0.08679460905437851, 0.17125692535105777, 0.07596610696506065, 0.3098617520943263, 0.04797859387266988, 0.9854425543032925, 0.9783644127701115, 0.012384359655317869, 0.9747081382432815, 0.03224778356243622, 0.02625890947226949, 0.11010314673460365, 0.146036391275604, 0.01612389178121811, 0.030865735695474666, 0.6385061145362371, 0.6794374777037632, 0.07486914354862405, 0.11286523389955075, 0.0342526331734955, 0.04173954752835791, 0.011979062967779846, 0.04510865898804599, 0.9831851411795275, 0.9115254907524027, 0.013810992284127313, 0.024169236497222798, 0.031074732639286458, 0.0034527480710318283, 0.0034527480710318283, 0.010358244213095485, 0.9890897185361843, 0.00526111552412864, 0.04509704869254144, 0.013529114607762432, 0.013529114607762432, 0.9109603835893372, 0.013529114607762432, 0.20023351727484967, 0.002268935039941639, 0.021554882879445573, 0.013613610239649835, 0.011344675199708196, 0.7481813294207555, 0.002836168799927049, 0.9802918053804509, 0.07862130087007858, 0.06568361844842008, 0.008956857061148193, 0.001990412680255154, 0.7712849135988721, 0.017913714122296386, 0.05672676138727189, 0.022991157171549308, 0.9656286012050709, 0.022992422165439414, 0.9656817309484553, 0.008366653601293237, 0.9788984713513089, 0.008366653601293237, 0.05085406086114165, 0.00953513641146406, 0.01589189401910677, 0.012713515215285413, 0.06356757607642707, 0.006356757607642706, 0.8390920042088372, 0.021551937755689567, 0.010775968877844783, 0.9123653649908583, 0.04310387551137913, 0.010775968877844783, 0.040634245183469773, 0.008126849036693954, 0.018962647752285892, 0.005417899357795969, 0.8695728469262531, 0.018962647752285892, 0.037925295504571785, 0.9802321739051525, 0.9897984842148859, 0.8834639711230104, 0.0209351651924884, 0.016748132153990722, 0.0209351651924884, 0.016748132153990722, 0.033496264307981444, 0.01256109911549304, 0.03233351032357775, 0.0637883926492322, 0.42964909098449783, 0.22976122145694516, 0.06747863024051008, 0.17080528279629117, 0.00623825878525549, 0.018012650007105415, 0.009906957503907977, 0.6934870252735584, 0.08826198503481653, 0.119784122547251, 0.06304427502486895, 0.008105692503197436, 0.9710593886800749, 0.2074627411496668, 0.043622345077852016, 0.08211264955830969, 0.05568264048172875, 0.09135032263361952, 0.4904947800959655, 0.029252631405147823, 0.9744612545829536, 0.03594563388410169, 0.08626952132184405, 0.62262972977819, 0.03851317916153753, 0.029526770690512103, 0.01617553524784576, 0.17074176094948304, 0.20370873762832412, 0.024648496422377247, 0.1780169186060579, 0.23292177042521567, 0.043689133870351206, 0.30465019916758335, 0.012519871198667808, 0.5129191090886337, 0.04246191105619829, 0.11784154215137597, 0.08362529272229877, 0.05531735201816657, 0.05570691083519592, 0.13206043897294698, 0.030912868795564676, 0.7224203033746093, 0.027216764917834115, 0.1044989369067458, 0.026544746030974016, 0.01612845328464244, 0.07224203033746093, 0.09138376916129459, 0.15350615353396627, 0.25406313459328156, 0.14920983910071609, 0.05561985441964436, 0.04818839161618457, 0.24790895445916641, 0.1785010958145143, 0.024515171957358185, 0.05592523602772336, 0.014555883349681423, 0.6703367332090129, 0.022216874586355854, 0.03447446056503495, 0.9767898072135118, 0.01395414010305017, 0.01395414010305017, 0.9891673911974248, 0.018358002254074277, 0.9729741194659366, 0.04427600723968692, 0.6917920387673017, 0.02863949910671199, 0.057443593035876345, 0.01810543046976045, 0.12081259968003792, 0.038844378098758785, 0.529805586667425, 0.014259777694982455, 0.030347732017526764, 0.02504601979759739, 0.00786115949851597, 0.3495473711898263, 0.043144968410459734, 0.0134252310619416, 0.9800418675217368, 0.019432288617141562, 0.9716144308570782, 0.16633983418888482, 0.03641039242614837, 0.10465088905923217, 0.12546511020730108, 0.012175449696641971, 0.5494606513098855, 0.005507941529433272, 0.01385322654216783, 0.969725857951748, 0.06902224172912391, 0.38255944617950594, 0.1475085260594043, 0.08378941164989392, 0.06257690237143976, 0.015746208810544816, 0.23880390253090505, 0.023033336085140996, 0.011516668042570498, 0.049905561517805494, 0.049905561517805494, 0.0038388893475234994, 0.015355557390093998, 0.8522334351502169, 0.03332235286351028, 0.018273548344505633, 0.10426671702453215, 0.7449158236907296, 0.04407149894851359, 0.008599316868002652, 0.047296242774014584, 0.01473437201665458, 0.9577341810825477, 0.01473437201665458, 0.01473437201665458, 0.923761192863487, 0.017106688756731242, 0.02280891834230832, 0.0285111479278854, 0.00570222958557708, 0.00570222958557708, 0.016389230164667645, 0.102721231313762, 0.5669288631608976, 0.1858215532754571, 0.05655438577948694, 0.06140190456058582, 0.010387540245211886, 0.013874753594746872, 0.9712327516322811, 0.013874753594746872, 0.23930519897435282, 0.6075624222664916, 0.014347684024369044, 0.044814371088461334, 0.010805045993660637, 0.009210858879841854, 0.07386400294027026, 0.09221895659809218, 0.08518347282006872, 0.09957915501202441, 0.307288283781671, 0.13075176005926684, 0.2481902200462739, 0.0368009920696612, 0.05613198843171507, 0.012953535791934246, 0.008635690527956165, 0.9067475054353972, 0.012953535791934246, 0.004317845263978082, 0.9627726473638447, 0.013747462817167277, 0.8798376202987057, 0.03513240497720526, 0.00916497521144485, 0.02596742976576041, 0.004582487605722425, 0.030549917371482837, 0.13619600724252998, 0.028926585609032916, 0.021694939206774688, 0.004821097601505486, 0.791865281047276, 0.004821097601505486, 0.012052744003763714, 0.9558296454625064, 0.012523538919635832, 0.006261769459817916, 0.037570616758907494, 0.012523538919635832, 0.006261769459817916, 0.012523538919635832, 0.9142183411334157, 0.9728782236887734, 0.07730343912749053, 0.6884553343471804, 0.014551235600468808, 0.06434374492082301, 0.014778598656726132, 0.016142776994270084, 0.12459495482901416, 0.9830970127808868, 0.07663843258955627, 0.10072479711770253, 0.1617618345015277, 0.4699578169866719, 0.10373559268372082, 0.046530476929373454, 0.04105630317297658, 0.03803260360981857, 0.03380675876428318, 0.01690337938214159, 0.004225844845535397, 0.8916532624079687, 0.004225844845535397, 0.008451689691070794, 0.21489034953863625, 0.050244146474860994, 0.008502855557284169, 0.012367789901504245, 0.6570388385174131, 0.012367789901504245, 0.04483323839295289, 0.1836377788807433, 0.058736577964102914, 0.02496648454446061, 0.025929379265183607, 0.5880535615844027, 0.05529766824723507, 0.06327593879036848, 0.0066410579380776665, 0.013282115876155333, 0.936389169268951, 0.033205289690388336, 0.43804781416840666, 0.12386809444167872, 0.07751745265059894, 0.09829532655694505, 0.08722140474971662, 0.07854492993168198, 0.09658286442180662, 0.9851466259596927, 0.11914897443826288, 0.04514726275687831, 0.03295874553876792, 0.012437262467459591, 0.7162619455009979, 0.04925155937113998, 0.02462577968556999, 0.07644748954952917, 0.06466129226804297, 0.3337903163806529, 0.20179793025041812, 0.12671790005398956, 0.07748936334236772, 0.11916431505591002, 0.08245490809319199, 0.8952247164403702, 0.01766890887711257, 0.06474941528683617, 0.10140853697659714, 0.422224172221175, 0.08005089402377506, 0.17917226259969293, 0.04384276328626071, 0.10859217857309687, 0.9790465719577401, 0.001980417122299284, 0.9624827214374521, 0.003960834244598568, 0.005941251366897852, 0.02376500546759141, 0.001980417122299284, 0.036481707569892906, 0.30676883381976244, 0.34798711668187904, 0.2035719593679107, 0.033055248847858765, 0.024287545647359642, 0.04786964391077108, 0.9834282141586702, 0.908242147304963, 0.004945057063366405, 0.05192309916534725, 0.004945057063366405, 0.01401099501287148, 0.014835171190099215, 0.0016483523544554683, 0.9852822605762374, 0.4967311464202097, 0.043818003285305676, 0.07408154511131189, 0.058447115141634, 0.09540122234269084, 0.17870396118334714, 0.05283120016361222, 0.9575252589922536, 0.9878319172464801, 0.0130502101826846, 0.0130502101826846, 0.9657155535186603, 0.02552573585774955, 0.9699779625944829, 0.012820929165368585, 0.012820929165368585, 0.012820929165368585, 0.9615696874026439, 0.9827128764540257, 0.0069811003856346384, 0.0069811003856346384, 0.013962200771269277, 0.027924401542538554, 0.9354674516750415, 0.05098858661571643, 0.0610191282450377, 0.028419867949743584, 0.0468091942701659, 0.024240475604193058, 0.7180196049655806, 0.07021379140524886, 0.06061336360717244, 0.03413179698267963, 0.04943225769905325, 0.052374653990663565, 0.040016589565900255, 0.06708663544871513, 0.6967594418533221, 0.08010840684093383, 0.05055384897728834, 0.04044307918183067, 0.030332309386373, 0.03888757613637564, 0.055998109636380924, 0.7030873765456717, 0.4180098607483747, 0.22575036470592683, 0.03599485884392594, 0.09828161458254561, 0.07973643730860985, 0.0931953845285126, 0.04898430790499487, 0.010498505952753319, 0.7198475581604525, 0.008748754960627766, 0.021696912302356857, 0.010498505952753319, 0.03919442222361239, 0.19002295774483507, 0.9838298993003461, 0.9690569947025688, 0.32515087603534454, 0.0930962423850444, 0.43382848951430686, 0.043412247764815434, 0.038806433667871135, 0.034886591883237686, 0.030770758009372567, 0.013616474667710404, 0.051061780003914016, 0.017020593334638005, 0.8731564380669297, 0.008510296667319003, 0.023828830668493207, 0.011914415334246604, 0.984603214926114, 0.9727227049294989, 0.017685867362354526, 0.4320879346780682, 0.09995778719020522, 0.01733961614523968, 0.05361256315495063, 0.24932073067658966, 0.1258397142305262, 0.021929514536626653, 0.1525144736106738, 0.018904997425278507, 0.036004461388592215, 0.018904997425278507, 0.27040518789190493, 0.07657586035744833, 0.4268493519786198, 0.11928691208127971, 0.1558066225077945, 0.1434847668255964, 0.20493191555655801, 0.16869593207009384, 0.1086674180393853, 0.0991422993376861, 0.9610157432794902, 0.9784816137409996, 0.7446471523945798, 0.027889406456725833, 0.04462305033076133, 0.011155762582690333, 0.10765310892296172, 0.054105448526048115, 0.009482398195286783, 0.035353318792198406, 0.1329958183135083, 0.1481472406530219, 0.6290646089849907, 0.034792155001846056, 0.00392814653246649, 0.01571258612986596, 0.0153691663375095, 0.983626645600608, 0.23031543343789623, 0.31175497070153635, 0.08460867762774556, 0.129050343663922, 0.0566760218603975, 0.08505088325994632, 0.10251800573187637, 0.9790643435997523, 0.9886341571776835, 0.9484646678708508, 0.02415862850408348, 0.9663451401633393, 0.9866879539393454, 0.9784501930250229, 0.12552813301797733, 0.17233144995236246, 0.20484822181297663, 0.2546279023043974, 0.09457395202480687, 0.08311495233021972, 0.06495913463230243, 0.232588840946297, 0.05463832686022926, 0.15263642687100742, 0.15514277213982527, 0.2882297059140534, 0.023225466157712128, 0.09357022336919994, 0.004559106608421124, 0.009118213216842247, 0.06382749251789573, 0.9118213216842247, 0.009118213216842247, 0.041514781964332545, 0.07336173799176572, 0.5564686870150602, 0.1689026060740653, 0.0779113031385419, 0.03440608642249478, 0.047201738397802756, 0.027328845856858682, 0.2390583890105012, 0.0703924817525148, 0.5007527917610268, 0.04665227222029412, 0.0739811180771528, 0.04168339115541072, 0.9788014704548098, 0.028119837165998727, 0.004686639527666454, 0.009373279055332908, 0.025776517402165498, 0.002343319763833227, 0.9162380276587918, 0.014059918582999363, 0.03397795212918672, 0.00822903528128741, 0.05017056994075227, 0.017785334317621176, 0.13989359978188595, 0.01831623981963972, 0.7313223290305424, 0.02582297887364682, 0.004131676619783491, 0.0609422301418065, 0.005164595774729364, 0.0454484428176184, 0.030987574648376183, 0.8273682431116441, 0.9693704416466298, 0.9694414956303837, 0.05123993867146959, 0.9428148715550404, 0.9680534151638654, 0.32636820219162593, 0.11025154827202252, 0.09203094044741895, 0.08722272449370412, 0.07035179132277489, 0.2502802935907351, 0.06351906338854856, 0.04033930426391415, 0.006723217377319024, 0.9479736502019823, 0.06477628240945356, 0.5973329666482496, 0.08477432932780836, 0.08303536872621228, 0.09187508511765898, 0.05014003067935332, 0.02796828300900344, 0.008461839065383208, 0.016923678130766416, 0.7400583415933063, 0.037020545911051535, 0.1216389365648836, 0.07227820868348156, 0.0038783429049673033, 0.9635824631393678, 0.970872291976212, 0.016683798143485203, 0.9676602923221417, 0.016683798143485203, 0.034472984931380804, 0.013683932949861081, 0.2184166220843211, 0.041051798849583244, 0.14183922807644467, 0.5220946725485459, 0.028683628683362654, 0.012356405475668766, 0.025060063564236887, 0.602656909686833, 0.15571385916761973, 0.09109593545059783, 0.04557690544304053, 0.06754063320892482, 0.018536438085111937, 0.9638947804258208, 0.008440260870690624, 0.9256152754857383, 0.005626840580460415, 0.028134202902302077, 0.005626840580460415, 0.016880521741381247, 0.01125368116092083, 0.009721811172706986, 0.09060728012962913, 0.6956928075189119, 0.07155253023112343, 0.11782835141320869, 0.00777744893816559, 0.00699970404434903, 0.9668270509896589, 0.012828707317031118, 0.012828707317031118, 0.012828707317031118, 0.019243060975546677, 0.012828707317031118, 0.016035884146288898, 0.9140453963384672, 0.011809178228410893, 0.020666061899719063, 0.020666061899719063, 0.0575697438635031, 0.005904589114205446, 0.04280827107798949, 0.8414039487742762, 0.9601104008363402, 0.5487167048405227, 0.03246027077093086, 0.07286294821985544, 0.12915043902476744, 0.019165372636028324, 0.16920779444421405, 0.02866172844667299, 0.02332528472725396, 0.749816175333411, 0.015331788275779289, 0.1402137902143918, 0.008386619227776705, 0.014021379021439179, 0.0487472242614521, 0.981698284567354, 0.11772171139904375, 0.010090432405632321, 0.02690781974835286, 0.01345390987417643, 0.0033634774685441073, 0.8240519797933062, 0.041366029093796886, 0.8977308441632516, 0.0017602565571828463, 0.03080448975069981, 0.005280769671548538, 0.009681411064505655, 0.013201924178871347, 0.9761492125965026, 0.03447194507200886, 0.8603622957555545, 0.06607122805468364, 0.012926979402003323, 0.02441762775933961, 0.0014363310446670358, 0.9887338124950068, 0.1584759197904131, 0.02622263420992447, 0.034203435925988436, 0.02622263420992447, 0.010261030777796531, 0.7365139869396177, 0.006840687185197688, 0.9846418858603364, 0.968563288697833, 0.017295773012461303, 0.19478844322890518, 0.022596860770259682, 0.2290340733109654, 0.1195531587263739, 0.1724543366536485, 0.21799839712083857, 0.04352961163883357, 0.9768509206897166, 0.06049281006815943, 0.181167413186133, 0.11460977126024037, 0.3985683090094926, 0.024881361467623417, 0.020527123210789318, 0.19967292577767792, 0.00457760179183069, 0.07171576140534748, 0.891106482143041, 0.01831040716732276, 0.0030517345278871268, 0.0015258672639435634, 0.010681070847604944, 0.10233337609467974, 0.08025811603412174, 0.1292001654707077, 0.01608584841622056, 0.1620563664910731, 0.36535411030458403, 0.14477263574598506, 0.8095835001744487, 0.041014142079322295, 0.013819982657162947, 0.12571726159096616, 0.0017832235686661866, 0.005795476598165107, 0.002229029460832733, 0.9600342178295675, 0.018113853166595615, 0.011422961551164611, 0.09823746934001566, 0.8110302701326875, 0.006853776930698767, 0.03655347696372676, 0.00913836924093169, 0.027415107722795068, 0.5243251809544581, 0.06746528891904482, 0.1508370280710352, 0.07412562522348015, 0.08297995466349416, 0.019510867527110527, 0.08070760463021623, 0.9660422718614922, 0.020125880663781088, 0.05084725064276406, 0.4232285862324185, 0.03806746037426186, 0.36809874629754996, 0.051662981936498244, 0.019509573441809206, 0.04860398958499506, 0.012595942507108427, 0.9698875730473488, 0.05716077150794808, 0.00714509643849351, 0.00714509643849351, 0.00714509643849351, 0.9217174405656627, 0.0028249330084458937, 0.03954906211824251, 0.008474799025337681, 0.008474799025337681, 0.016949598050675363, 0.008474799025337681, 0.9152782947364695, 0.014277680856387575, 0.06370042228234456, 0.08127295256712927, 0.13069569399308625, 0.002196566285598088, 0.015375963999186618, 0.6919183799633979, 0.9807719492463253, 0.05307982999087705, 0.09533243097863987, 0.12464517291390034, 0.021918536762401967, 0.07420613048475846, 0.5548294667205607, 0.07552652426562605, 0.9851006212841277, 0.010369480224043449, 0.07263161225996126, 0.0878487109002288, 0.1051181156071114, 0.18560855841484242, 0.08169179270038371, 0.444599572772554, 0.022525310487238156, 0.020385722063175217, 0.13015499471104178, 0.012545059731184749, 0.009408794798388562, 0.0015681324663980936, 0.8217014123926011, 0.0015681324663980936, 0.020956655815570012, 0.019604613504888076, 0.06219394629136907, 0.044617396252503896, 0.13926035800023945, 0.5698858339524361, 0.14331648493228524, 0.008887243107561697, 0.005332345864537018, 0.03199407518722211, 0.08531753383259229, 0.019551934836635733, 0.8425106465968489, 0.007109794486049358, 0.9861860483877591, 0.08138232045915864, 0.06439040739625738, 0.04888901302308431, 0.020569157918248884, 0.6680504767361704, 0.029810373794563604, 0.08734439521807136, 0.9797385936569614, 0.9606170780722151, 0.01473369936758498, 0.01473369936758498, 0.9576904588930237, 0.017542623583630606, 0.9648442970996834, 0.9830405505345198, 0.9791306809162529, 0.01612990996872241, 0.01612990996872241, 0.01612990996872241, 0.951664688154622, 0.240529492000007, 0.15175202370336618, 0.16442417456136957, 0.13401101250216146, 0.12814561696217133, 0.1121666381659842, 0.06896063809774411, 0.09601987002587746, 0.14466834116533905, 0.2804769935751732, 0.16518131422988644, 0.1778323112366209, 0.039549331336510625, 0.09621941256541586, 0.9796045503557836, 0.9747021311608584, 0.9708439151558282, 0.013067736947524675, 0.967012534116826, 0.013067736947524675, 0.9872261144293517, 0.02013378944233834, 0.9664218932322404, 0.17596047754194027, 0.1458125267148684, 0.11595686903985956, 0.18573142005376136, 0.1575460089619698, 0.12427678483251063, 0.0947134203095648, 0.25729011141728025, 0.10639404820182372, 0.06444804635820467, 0.05782979797156183, 0.18800389727297806, 0.10936084920273256, 0.21666775925098977, 0.9867613637487612, 0.9832713125642246, 0.01948393559710962, 0.11615423144430735, 0.6047513856487485, 0.0599505710680296, 0.04046663547091998, 0.027727139118963687, 0.13114187421131474, 0.028566242658089967, 0.16078555397177116, 0.5455016347744668, 0.11772838511563945, 0.08262321591311764, 0.023301852643505008, 0.04147785185175624, 0.14066569441774096, 0.3783492457393564, 0.16520910460855992, 0.1076918607818761, 0.1555549100182655, 0.012441673310027353, 0.04004451136396782, 0.9671268197517943, 0.008685856855589503, 0.06125814834994702, 0.2656043596367106, 0.5440089293763952, 0.020571766236922508, 0.09508727505066404, 0.0050286539690255014, 0.40943853690221443, 0.03687451043354806, 0.06886580895908806, 0.06166620165881976, 0.11087395242413177, 0.17354183857690192, 0.1386706971312546, 0.011823715457622331, 0.1486832218796008, 0.011232529684741215, 0.02098709493727964, 0.23499634472024383, 0.5237905947726693, 0.04847723337625156, 0.06593505791539288, 0.42624426757917433, 0.1653892250670537, 0.05074538562857779, 0.03911977052637853, 0.02104490909011253, 0.23149399999123782, 0.009432674001477669, 0.9527000741492445, 0.009432674001477669, 0.028298022004433005, 0.965584425082293, 0.976842452089785, 0.02994852483873183, 0.04461403957934793, 0.4679071071453411, 0.045385908776222464, 0.16240127902240148, 0.08305312558369961, 0.16687812036427377, 0.9727504883777919, 0.9611680349631524, 0.09399126544320077, 0.22387780574773658, 0.16016986953858248, 0.25624355505731794, 0.10045029720291003, 0.09956791581497161, 0.06575506102917125, 0.9596939072884981, 0.23726613454139447, 0.10773454753649161, 0.032338230686741264, 0.06253249027822896, 0.3537552307168381, 0.07932693052438189, 0.1270302873937737, 0.0070587838894266616, 0.021176351668279983, 0.0070587838894266616, 0.0070587838894266616, 0.042352703336559966, 0.917641905625466, 0.00724867372977288, 0.00724867372977288, 0.00724867372977288, 0.9350789111407015, 0.0362433686488644, 0.00724867372977288, 0.16797901494196266, 0.06977589851435372, 0.7300626418631454, 0.021966486569333577, 0.002584292537568656, 0.00646073134392164, 0.002584292537568656, 0.9840785875719974, 0.969938772530833, 0.009231400361870682, 0.9277557363680035, 0.006154266907913788, 0.009231400361870682, 0.006154266907913788, 0.01538566726978447, 0.02461706763165515, 0.8556805738899611, 0.08047546910941589, 0.005029716819338493, 0.03520801773536945, 0.012574292048346232, 0.005658431421755804, 0.005658431421755804, 0.9723935113363604, 0.022928187041783288, 0.06223365054198321, 0.03275455291683327, 0.8581692864210316, 0.003275455291683327, 0.006550910583366654, 0.013101821166733307, 0.03330022582221985, 0.15472832200223363, 0.03969117825274689, 0.019172857291581125, 0.5523128363644949, 0.017491027704600325, 0.18331942498090725, 0.020792031646856956, 0.7052317672872707, 0.030127229529119264, 0.039250263823148335, 0.012093324529294352, 0.02248934035272283, 0.16994303417482062, 0.9600201842049687, 0.45185310818479657, 0.13478572829376034, 0.048285876289852606, 0.08857347859304252, 0.06141884468770618, 0.1893912284743094, 0.02567347205595435, 0.06160668454964401, 0.06643858137706707, 0.7706875439739781, 0.06643858137706707, 0.01207974206855765, 0.00483189682742306, 0.01932758730969224, 0.010678823362519567, 0.052444888069262764, 0.061462561130945954, 0.7475176353763697, 0.020408417981704063, 0.09231249528933581, 0.015187659893361162, 0.11140759325098323, 0.013368911190117988, 0.031194126110275305, 0.8266443419222956, 0.008912607460078659, 0.006684455595058994, 0.0022281518650196647, 0.9607875444344428, 0.015012305381788169, 0.8786871904583892, 0.007845421343378475, 0.07060879209040627, 0.01569084268675695, 0.005230280895585649, 0.013075702238964124, 0.005230280895585649, 0.12789849853819144, 0.011780124865359738, 0.0218773747499538, 0.7825368660560397, 0.011780124865359738, 0.035340374596079215, 0.01009724988459406, 0.08517083129683897, 0.05770531892424269, 0.07185421923739835, 0.08045453119245376, 0.030517235969551422, 0.08628054896845902, 0.5878729365407224, 0.014892975104171235, 0.09308109440107022, 0.024201084544278256, 0.007446487552085618, 0.013962164160160533, 0.023270273600267555, 0.82190606356145, 0.017376073041101822, 0.10425643824661093, 0.07033172421398357, 0.6739434043798778, 0.05171450309851733, 0.04674991080105966, 0.03599329415656806, 0.9589788530662032, 0.9716443194554469, 0.054489480781967754, 0.016026317877049338, 0.11859475229016511, 0.08269580024557459, 0.04936105906131196, 0.6628485073947606, 0.016026317877049338, 0.010848328535991486, 0.032544985607974454, 0.010848328535991486, 0.9438045826312592, 0.03702329394923571, 0.053992303675968745, 0.030852744957696427, 0.021596921470387498, 0.0941008721209741, 0.7481790652241384, 0.01234109798307857, 0.9543838567957725, 0.012157756137525766, 0.018236634206288647, 0.012157756137525766], \"Term\": [\"access\", \"access\", \"access\", \"access\", \"access\", \"access\", \"access\", \"activity\", \"activity\", \"activity\", \"activity\", \"activity\", \"activity\", \"activity\", \"add\", \"add\", \"add\", \"add\", \"add\", \"add\", \"add\", \"africa\", \"alignparentleft\", \"allude\", \"android\", \"android\", \"android\", \"android\", \"android\", \"android\", \"android\", \"angeles\", \"animation\", \"animation\", \"animation\", \"animation\", \"animation\", \"animation\", \"animation\", \"api\", \"api\", \"api\", \"api\", \"api\", \"api\", \"api\", \"app\", \"app\", \"app\", \"app\", \"app\", \"app\", \"app\", \"application\", \"application\", \"application\", \"application\", \"application\", \"application\", \"application\", \"appsetting\", \"appsetting\", \"appsettings\", \"appsettings\", \"appsettings\", \"appsettings\", \"appsettings\", \"appsettings\", \"appsettings\", \"argumentexception\", \"argumentexception\", \"argumentnullexception\", \"argumentnullexception\", \"argumentnullexception\", \"armeabi\", \"arr\", \"arr\", \"arr\", \"arr\", \"arr\", \"arr\", \"arr\", \"array\", \"array\", \"array\", \"array\", \"array\", \"array\", \"array\", \"arraylist\", \"arraylist\", \"arraylist\", \"arraylist\", \"arraylist\", \"arraylist\", \"arraylist\", \"asyncio\", \"asyncio\", \"asyncio\", \"asyncio\", \"authdata\", \"authdata\", \"authorization\", \"authorization\", \"authorization\", \"authorization\", \"authorization\", \"authorization\", \"authorization\", \"autofac\", \"automapper\", \"automapper\", \"autowired\", \"autowired\", \"autowired\", \"autowired\", \"autowired\", \"autowired\", \"autowired\", \"avec\", \"ax\", \"ax\", \"ax\", \"ax\", \"ax\", \"ax\", \"ax\", \"babel\", \"babel\", \"babel\", \"babel\", \"babel\", \"babel\", \"babel\", \"background\", \"background\", \"background\", \"background\", \"background\", \"background\", \"background\", \"backpressure\", \"barcode\", \"barcode\", \"barcode\", \"barcode\", \"batch\", \"batch\", \"batch\", \"batch\", \"batch\", \"batch\", \"batch\", \"baz\", \"baz\", \"baz\", \"baz\", \"baz\", \"baz\", \"bean\", \"bean\", \"bean\", \"bean\", \"bean\", \"bean\", \"bean\", \"bearer\", \"bearer\", \"bearer\", \"bearer\", \"bearer\", \"bearer\", \"beautifulsoup\", \"beautifulsoup\", \"beautifulsoup\", \"beautifulsoup\", \"beautifulsoup\", \"beautifulsoup\", \"beautifulsoup\", \"bigdecimal\", \"bin\", \"bin\", \"bin\", \"bin\", \"bin\", \"bin\", \"bin\", \"bison\", \"bitbake\", \"blur\", \"blur\", \"blur\", \"blur\", \"blur\", \"blur\", \"bokeh\", \"boot\", \"boot\", \"boot\", \"boot\", \"boot\", \"boot\", \"boot\", \"border\", \"border\", \"border\", \"border\", \"border\", \"border\", \"border\", \"bottomanchor\", \"bottomnavigationbar\", \"box\", \"box\", \"box\", \"box\", \"box\", \"box\", \"box\", \"boxplot\", \"boxplot\", \"boxplot\", \"branch\", \"branch\", \"branch\", \"branch\", \"branch\", \"branch\", \"branch\", \"bucket\", \"bucket\", \"bucket\", \"bucket\", \"bucket\", \"bucket\", \"bucket\", \"build\", \"build\", \"build\", \"build\", \"build\", \"build\", \"build\", \"buildconfigfield\", \"buildcontext\", \"buildcontext\", \"buildcontext\", \"buildcontext\", \"buildcontext\", \"buildcontext\", \"buildpacks\", \"button\", \"button\", \"button\", \"button\", \"button\", \"button\", \"button\", \"calendar\", \"calendar\", \"calendar\", \"calendar\", \"calendar\", \"calendar\", \"calendar\", \"camera\", \"camera\", \"camera\", \"camera\", \"camera\", \"camera\", \"camera\", \"canvas\", \"canvas\", \"canvas\", \"canvas\", \"canvas\", \"canvas\", \"canvas\", \"cardview\", \"cardview\", \"cardview\", \"cardview\", \"cardview\", \"cardview\", \"cardview\", \"carousel\", \"carousel\", \"carousel\", \"carousel\", \"carousel\", \"carousel\", \"carousel\", \"category\", \"category\", \"category\", \"category\", \"category\", \"category\", \"category\", \"cefsharp\", \"certificate\", \"certificate\", \"certificate\", \"certificate\", \"certificate\", \"certificate\", \"certificate\", \"chaincode\", \"chalk\", \"change\", \"change\", \"change\", \"change\", \"change\", \"change\", \"change\", \"changetype\", \"character\", \"character\", \"character\", \"character\", \"character\", \"character\", \"character\", \"charfield\", \"charfield\", \"charfield\", \"charfield\", \"charfield\", \"charfield\", \"charfield\", \"checkbox\", \"checkbox\", \"checkbox\", \"checkbox\", \"checkbox\", \"checkbox\", \"checkbox\", \"checkpoint\", \"checkpoint\", \"checkpoint\", \"checkpoint\", \"circle\", \"circle\", \"circle\", \"circle\", \"circle\", \"circle\", \"circle\", \"city\", \"city\", \"city\", \"city\", \"city\", \"city\", \"city\", \"ckeditor\", \"class\", \"class\", \"class\", \"class\", \"class\", \"class\", \"class\", \"classloader\", \"classloader\", \"classloader\", \"classloader\", \"classloader\", \"classname\", \"classname\", \"classname\", \"classname\", \"classname\", \"classname\", \"classname\", \"cli\", \"cli\", \"cli\", \"cli\", \"cli\", \"cli\", \"cli\", \"click\", \"click\", \"click\", \"click\", \"click\", \"click\", \"click\", \"client\", \"client\", \"client\", \"client\", \"client\", \"client\", \"client\", \"cllocationcoordinate\", \"clock\", \"clock\", \"clock\", \"clock\", \"clock\", \"clock\", \"clock\", \"clonenode\", \"cluster\", \"cluster\", \"cluster\", \"cluster\", \"cluster\", \"cluster\", \"cluster\", \"clutter\", \"clutter\", \"clutter\", \"clutter\", \"clutter\", \"clutter\", \"clutter\", \"code\", \"code\", \"code\", \"code\", \"code\", \"code\", \"code\", \"codelabs\", \"codelabs\", \"coin\", \"coin\", \"coin\", \"coiname\", \"collection\", \"collection\", \"collection\", \"collection\", \"collection\", \"collection\", \"collection\", \"collectionview\", \"collectionview\", \"collectionview\", \"collectionview\", \"colonize\", \"color\", \"color\", \"color\", \"color\", \"color\", \"color\", \"color\", \"colspan\", \"column\", \"column\", \"column\", \"column\", \"column\", \"column\", \"column\", \"combinelatest\", \"command\", \"command\", \"command\", \"command\", \"command\", \"command\", \"command\", \"commandnotfoundexception\", \"commandtype\", \"commandtype\", \"commit\", \"commit\", \"commit\", \"commit\", \"commit\", \"commit\", \"commit\", \"commits\", \"commits\", \"commits\", \"commits\", \"commits\", \"commits\", \"commits\", \"comparator\", \"comparator\", \"comparator\", \"comparator\", \"comparator\", \"comparator\", \"comparator\", \"component\", \"component\", \"component\", \"component\", \"component\", \"component\", \"component\", \"composer\", \"composer\", \"composer\", \"composer\", \"composer\", \"composer\", \"composer\", \"computername\", \"computername\", \"computername\", \"config\", \"config\", \"config\", \"config\", \"config\", \"config\", \"config\", \"connectionimpl\", \"connectionimpl\", \"consumer\", \"consumer\", \"consumer\", \"consumer\", \"consumer\", \"consumer\", \"consumer\", \"container\", \"container\", \"container\", \"container\", \"container\", \"container\", \"container\", \"contour\", \"contour\", \"contour\", \"contour\", \"contour\", \"controller\", \"controller\", \"controller\", \"controller\", \"controller\", \"controller\", \"controller\", \"coordinatorlayout\", \"coordinatorlayout\", \"copytooutputdirectory\", \"copytooutputdirectory\", \"copytooutputdirectory\", \"cor\", \"cor\", \"cor\", \"cor\", \"cor\", \"cor\", \"cor\", \"cornerradius\", \"coupon\", \"coupon\", \"coupon\", \"create\", \"create\", \"create\", \"create\", \"create\", \"create\", \"create\", \"crt\", \"crt\", \"crt\", \"crt\", \"crt\", \"crt\", \"cs\", \"cs\", \"cs\", \"cs\", \"cs\", \"cs\", \"cs\", \"cypress\", \"cypress\", \"cypress\", \"cypress\", \"cypress\", \"cypress\", \"dalvikvm\", \"dart\", \"dart\", \"dart\", \"dart\", \"dart\", \"dart\", \"dart\", \"dartlang\", \"data\", \"data\", \"data\", \"data\", \"data\", \"data\", \"data\", \"database\", \"database\", \"database\", \"database\", \"database\", \"database\", \"database\", \"dataframe\", \"dataframe\", \"dataframe\", \"dataframe\", \"dataframe\", \"dataframe\", \"dataframe\", \"date\", \"date\", \"date\", \"date\", \"date\", \"date\", \"date\", \"dateformatter\", \"dateformatter\", \"day\", \"day\", \"day\", \"day\", \"day\", \"day\", \"day\", \"debug\", \"debug\", \"debug\", \"debug\", \"debug\", \"debug\", \"debug\", \"decker\", \"decker\", \"decker\", \"decker\", \"decker\", \"decker\", \"decker\", \"decompiling\", \"def\", \"def\", \"def\", \"def\", \"def\", \"def\", \"def\", \"defaultdict\", \"defaultprops\", \"deg\", \"deg\", \"deg\", \"deg\", \"deg\", \"deg\", \"delegatingmethodaccessorimpl\", \"delegatingmethodaccessorimpl\", \"delegatingmethodaccessorimpl\", \"delims\", \"denise\", \"denise\", \"denise\", \"denise\", \"dependency\", \"dependency\", \"dependency\", \"dependency\", \"dependency\", \"dependency\", \"dependency\", \"desiredcapabilities\", \"desiredcapabilities\", \"devdependencies\", \"devdependencies\", \"devdependencies\", \"devdependencies\", \"devdependencies\", \"devdependencies\", \"devdependencies\", \"df\", \"df\", \"df\", \"df\", \"df\", \"df\", \"df\", \"dict\", \"dict\", \"dict\", \"dict\", \"dict\", \"dict\", \"dict\", \"discord\", \"discord\", \"discord\", \"discord\", \"discord\", \"discord\", \"display\", \"display\", \"display\", \"display\", \"display\", \"display\", \"display\", \"div\", \"div\", \"div\", \"div\", \"div\", \"div\", \"div\", \"django\", \"django\", \"django\", \"django\", \"django\", \"django\", \"django\", \"docker\", \"documentdb\", \"dodge\", \"dog\", \"dog\", \"dog\", \"dog\", \"dog\", \"dog\", \"dog\", \"domain\", \"domain\", \"domain\", \"domain\", \"domain\", \"domain\", \"domain\", \"dotnet\", \"dotnet\", \"dotnet\", \"dotnet\", \"dotnet\", \"dotnet\", \"dotnet\", \"drawimage\", \"dropzone\", \"dropzone\", \"duck\", \"editorconfig\", \"electron\", \"electron\", \"electron\", \"electron\", \"electron\", \"electron\", \"electron\", \"element\", \"element\", \"element\", \"element\", \"element\", \"element\", \"element\", \"emacs\", \"emacs\", \"emacs\", \"emacs\", \"emacs\", \"emacs\", \"emacs\", \"emmet\", \"emplace\", \"employeeid\", \"emulator\", \"emulator\", \"emulator\", \"emulator\", \"emulator\", \"emulator\", \"emulator\", \"entity\", \"entity\", \"entity\", \"entity\", \"entity\", \"entity\", \"entity\", \"entryset\", \"env\", \"env\", \"env\", \"env\", \"env\", \"env\", \"env\", \"err\", \"err\", \"err\", \"err\", \"err\", \"err\", \"err\", \"error\", \"error\", \"error\", \"error\", \"error\", \"error\", \"error\", \"eureka\", \"eureka\", \"event\", \"event\", \"event\", \"event\", \"event\", \"event\", \"event\", \"example\", \"example\", \"example\", \"example\", \"example\", \"example\", \"example\", \"excel\", \"excel\", \"excel\", \"excel\", \"excel\", \"excel\", \"excel\", \"familyname\", \"ffmpeg\", \"ffmpeg\", \"ffmpeg\", \"ffmpeg\", \"ffmpeg\", \"ffmpeg\", \"ffmpeg\", \"field\", \"field\", \"field\", \"field\", \"field\", \"field\", \"field\", \"file\", \"file\", \"file\", \"file\", \"file\", \"file\", \"file\", \"fileaccess\", \"fileinput\", \"fileinput\", \"find\", \"find\", \"find\", \"find\", \"find\", \"find\", \"find\", \"findoneandupdate\", \"firebase\", \"firebase\", \"firebase\", \"firebase\", \"firebase\", \"firebase\", \"firebase\", \"firestore\", \"firestore\", \"firestore\", \"firestore\", \"firestore\", \"fixtures\", \"flask\", \"flask\", \"flask\", \"flask\", \"flask\", \"flask\", \"flask\", \"follow\", \"follow\", \"follow\", \"follow\", \"follow\", \"follow\", \"follow\", \"font\", \"font\", \"font\", \"font\", \"font\", \"font\", \"font\", \"foo\", \"foo\", \"foo\", \"foo\", \"foo\", \"foo\", \"foo\", \"forecast\", \"foreignkey\", \"foreignkey\", \"foreignkey\", \"foreignkey\", \"foreignkey\", \"foreignkey\", \"foreignkey\", \"form\", \"form\", \"form\", \"form\", \"form\", \"form\", \"form\", \"formarray\", \"format\", \"format\", \"format\", \"format\", \"format\", \"format\", \"format\", \"formatting\", \"formatting\", \"formatting\", \"formatting\", \"formset\", \"fourcc\", \"fragment\", \"fragment\", \"fragment\", \"fragment\", \"fragment\", \"fragment\", \"fragment\", \"fruit\", \"fruit\", \"fruit\", \"fruit\", \"fruit\", \"fruit\", \"fruit\", \"func\", \"func\", \"func\", \"func\", \"func\", \"func\", \"func\", \"function\", \"function\", \"function\", \"function\", \"function\", \"function\", \"function\", \"gem\", \"gem\", \"gem\", \"gem\", \"gem\", \"gem\", \"gem\", \"geocode\", \"geocode\", \"geocode\", \"geocode\", \"geocode\", \"geocode\", \"geopandas\", \"get\", \"get\", \"get\", \"get\", \"get\", \"get\", \"get\", \"getelementbyid\", \"getelementbyid\", \"getelementbyid\", \"getelementbyid\", \"getelementbyid\", \"getelementbyid\", \"getelementbyid\", \"getresource\", \"git\", \"git\", \"git\", \"git\", \"git\", \"git\", \"git\", \"grammar\", \"grammar\", \"grammar\", \"grammar\", \"grammar\", \"group\", \"group\", \"group\", \"group\", \"group\", \"group\", \"group\", \"hashmap\", \"hashmap\", \"hashmap\", \"hashmap\", \"hashmap\", \"hashmap\", \"hashmap\", \"header\", \"header\", \"header\", \"header\", \"header\", \"header\", \"header\", \"height\", \"height\", \"height\", \"height\", \"height\", \"height\", \"height\", \"helmet\", \"heroku\", \"heroku\", \"heroku\", \"heroku\", \"heroku\", \"heroku\", \"heroku\", \"hibernate\", \"hibernate\", \"hibernate\", \"hibernate\", \"hibernate\", \"hibernate\", \"hibernate\", \"honda\", \"honda\", \"honda\", \"honda\", \"honda\", \"honda\", \"honda\", \"host\", \"host\", \"host\", \"host\", \"host\", \"host\", \"host\", \"hover\", \"hover\", \"hover\", \"hover\", \"hover\", \"hover\", \"hover\", \"href\", \"href\", \"href\", \"href\", \"href\", \"href\", \"href\", \"html\", \"html\", \"html\", \"html\", \"html\", \"html\", \"html\", \"http\", \"http\", \"http\", \"http\", \"http\", \"http\", \"http\", \"httpclient\", \"httpclient\", \"httpclient\", \"httpclient\", \"httpclient\", \"httpclient\", \"httpclient\", \"httpheaders\", \"httpheaders\", \"httpheaders\", \"httprequestmessage\", \"httprequestmessage\", \"httprequestmessage\", \"httprequestmessage\", \"httprequestmessage\", \"httpresponsemessage\", \"httpresponsemessage\", \"httpresponsemessage\", \"httpresponsemessage\", \"httpresponsemessage\", \"httpstatuscode\", \"httpstatuscode\", \"httpstatuscode\", \"hw\", \"hystrix\", \"hystrix\", \"icon\", \"icon\", \"icon\", \"icon\", \"icon\", \"icon\", \"icon\", \"id\", \"id\", \"id\", \"id\", \"id\", \"id\", \"id\", \"image\", \"image\", \"image\", \"image\", \"image\", \"image\", \"image\", \"imagepickercontroller\", \"imagepickercontroller\", \"img\", \"img\", \"img\", \"img\", \"img\", \"img\", \"img\", \"import\", \"import\", \"import\", \"import\", \"import\", \"import\", \"import\", \"importerror\", \"importerror\", \"importerror\", \"importerror\", \"importerror\", \"importerror\", \"importerror\", \"imputer\", \"indentation\", \"indentation\", \"indentation\", \"indentation\", \"indentation\", \"indentation\", \"index\", \"index\", \"index\", \"index\", \"index\", \"index\", \"index\", \"indexpath\", \"indexpath\", \"indexpath\", \"indexpath\", \"indexpath\", \"indexpath\", \"ini\", \"ini\", \"ini\", \"ini\", \"ini\", \"ini\", \"ini\", \"initstate\", \"initstate\", \"initstate\", \"initstate\", \"initstate\", \"input\", \"input\", \"input\", \"input\", \"input\", \"input\", \"input\", \"instal\", \"instal\", \"instal\", \"instal\", \"instal\", \"instal\", \"instal\", \"install\", \"install\", \"install\", \"install\", \"install\", \"install\", \"install\", \"int\", \"int\", \"int\", \"int\", \"int\", \"int\", \"int\", \"integer\", \"integer\", \"integer\", \"integer\", \"integer\", \"integer\", \"integer\", \"integerfield\", \"integerfield\", \"integerfield\", \"integerfield\", \"intent\", \"intent\", \"intent\", \"intent\", \"intent\", \"intent\", \"intent\", \"invokemethod\", \"ioctl\", \"ioctl\", \"ion\", \"ion\", \"ion\", \"ion\", \"ion\", \"ion\", \"ion\", \"isip\", \"item\", \"item\", \"item\", \"item\", \"item\", \"item\", \"item\", \"j\", \"j\", \"j\", \"j\", \"j\", \"j\", \"j\", \"jacoco\", \"jacoco\", \"jacoco\", \"jar\", \"jar\", \"jar\", \"jar\", \"jar\", \"jar\", \"jar\", \"java\", \"java\", \"java\", \"java\", \"java\", \"java\", \"java\", \"javafx\", \"javafx\", \"javafx\", \"javafx\", \"javafx\", \"javafx\", \"javafx\", \"javase\", \"jbc\", \"jbc\", \"jbc\", \"jbc\", \"jbc\", \"jbc\", \"jbc\", \"joblib\", \"jon\", \"jsbin\", \"jstree\", \"kerberos\", \"kerberos\", \"kerberos\", \"keyalias\", \"keyboard\", \"keyboard\", \"keyboard\", \"keyboard\", \"keyboard\", \"keyboard\", \"keyboard\", \"keycode\", \"keycode\", \"keycode\", \"keypassword\", \"keypress\", \"keypress\", \"keypress\", \"keypress\", \"keypress\", \"keypress\", \"keyring\", \"keystone\", \"keystone\", \"keystone\", \"keystone\", \"keystone\", \"keystone\", \"keystore\", \"keystore\", \"keytool\", \"keytool\", \"keytool\", \"kill\", \"kill\", \"kill\", \"kill\", \"kill\", \"kill\", \"kill\", \"kubeadm\", \"kubernetes\", \"kubernetes\", \"kubernetes\", \"kubernetes\", \"kubernetes\", \"kubernetes\", \"kubernetes\", \"landmark\", \"latlng\", \"latlng\", \"latlng\", \"latlng\", \"layout\", \"layout\", \"layout\", \"layout\", \"layout\", \"layout\", \"layout\", \"leetcode\", \"letter\", \"letter\", \"letter\", \"letter\", \"letter\", \"letter\", \"letter\", \"li\", \"li\", \"li\", \"li\", \"li\", \"li\", \"li\", \"lib\", \"lib\", \"lib\", \"lib\", \"lib\", \"lib\", \"lib\", \"licence\", \"licence\", \"line\", \"line\", \"line\", \"line\", \"line\", \"line\", \"line\", \"linearlayout\", \"linearlayout\", \"linearlayout\", \"linearlayout\", \"linearlayout\", \"linearlayout\", \"linearlayout\", \"list\", \"list\", \"list\", \"list\", \"list\", \"list\", \"list\", \"loadclass\", \"loadclass\", \"loader\", \"loader\", \"loader\", \"loader\", \"loader\", \"loader\", \"loader\", \"log\", \"log\", \"log\", \"log\", \"log\", \"log\", \"log\", \"logger\", \"mail\", \"mail\", \"mail\", \"mail\", \"mail\", \"mail\", \"mail\", \"mailer\", \"mailer\", \"make\", \"make\", \"make\", \"make\", \"make\", \"make\", \"make\", \"manytoone\", \"manytoone\", \"manytoone\", \"manytoone\", \"manytoone\", \"manytoone\", \"manytoone\", \"map\", \"map\", \"map\", \"map\", \"map\", \"map\", \"map\", \"mapbox\", \"mapbox\", \"mapbox\", \"mapbox\", \"margin\", \"margin\", \"margin\", \"margin\", \"margin\", \"margin\", \"margin\", \"markdown\", \"markdown\", \"markdown\", \"markdown\", \"markdown\", \"markdown\", \"markdown\", \"marker\", \"marker\", \"marker\", \"marker\", \"marker\", \"marker\", \"marker\", \"materialapp\", \"materialapp\", \"materialapp\", \"matrix\", \"matrix\", \"matrix\", \"matrix\", \"matrix\", \"matrix\", \"matrix\", \"mecha\", \"mecha\", \"mecha\", \"mecha\", \"mecha\", \"mecha\", \"mediaquery\", \"mediaquery\", \"mediastore\", \"mediastore\", \"mediastore\", \"mediastore\", \"memory\", \"memory\", \"memory\", \"memory\", \"memory\", \"memory\", \"memory\", \"method\", \"method\", \"method\", \"method\", \"method\", \"method\", \"method\", \"methodchannel\", \"middlename\", \"middlename\", \"middlename\", \"midpoint\", \"modal\", \"modal\", \"modal\", \"modal\", \"modal\", \"modal\", \"modal\", \"model\", \"model\", \"model\", \"model\", \"model\", \"model\", \"model\", \"module\", \"module\", \"module\", \"module\", \"module\", \"module\", \"module\", \"month\", \"month\", \"month\", \"month\", \"month\", \"month\", \"month\", \"mp\", \"mp\", \"mp\", \"mp\", \"mp\", \"mp\", \"mp\", \"mq\", \"mq\", \"mq\", \"mq\", \"multiprocessing\", \"multiprocessing\", \"multiprocessing\", \"multiprocessing\", \"multiprocessing\", \"multiprocessing\", \"multivariate\", \"myenum\", \"myenum\", \"mymap\", \"mypage\", \"mysqld\", \"mysqld\", \"mystruct\", \"mystruct\", \"name\", \"name\", \"name\", \"name\", \"name\", \"name\", \"name\", \"nan\", \"nan\", \"nan\", \"nan\", \"nan\", \"nan\", \"nat\", \"nat\", \"nat\", \"nat\", \"nat\", \"nat\", \"navbar\", \"navbar\", \"navbar\", \"navbar\", \"navbar\", \"navbar\", \"navbar\", \"navlink\", \"netcoreapp\", \"netframework\", \"network\", \"network\", \"network\", \"network\", \"network\", \"network\", \"network\", \"nhibernate\", \"node\", \"node\", \"node\", \"node\", \"node\", \"node\", \"node\", \"nodeport\", \"nodeport\", \"nosuchelementexception\", \"notification\", \"notification\", \"notification\", \"notification\", \"notification\", \"notification\", \"notification\", \"nsindexpath\", \"nsindexpath\", \"nsindexpath\", \"nsindexpath\", \"nstableview\", \"nullptr\", \"nullptr\", \"num\", \"num\", \"num\", \"num\", \"num\", \"num\", \"num\", \"number\", \"number\", \"number\", \"number\", \"number\", \"number\", \"number\", \"nv\", \"o\", \"o\", \"o\", \"o\", \"o\", \"o\", \"o\", \"oath\", \"oath\", \"oath\", \"oath\", \"oath\", \"oath\", \"oath\", \"oauth\", \"oauth\", \"oauth\", \"oauth\", \"oauth\", \"oauth\", \"oauth\", \"object\", \"object\", \"object\", \"object\", \"object\", \"object\", \"object\", \"onchange\", \"onchange\", \"onchange\", \"onchange\", \"onchange\", \"onchange\", \"onchange\", \"openoffice\", \"openpyxl\", \"openpyxl\", \"openpyxl\", \"openpyxl\", \"openpyxl\", \"operator\", \"operator\", \"operator\", \"operator\", \"operator\", \"operator\", \"operator\", \"org\", \"org\", \"org\", \"org\", \"org\", \"org\", \"org\", \"organisation\", \"output\", \"output\", \"output\", \"output\", \"output\", \"output\", \"output\", \"owl\", \"owl\", \"package\", \"package\", \"package\", \"package\", \"package\", \"package\", \"package\", \"page\", \"page\", \"page\", \"page\", \"page\", \"page\", \"page\", \"pageid\", \"pam\", \"param\", \"param\", \"param\", \"param\", \"param\", \"param\", \"param\", \"paramiko\", \"paramiko\", \"paramiko\", \"paramiko\", \"paramiko\", \"paramiko\", \"parent\", \"parent\", \"parent\", \"parent\", \"parent\", \"parent\", \"parent\", \"parentheses\", \"path\", \"path\", \"path\", \"path\", \"path\", \"path\", \"path\", \"pdfminer\", \"peak\", \"peak\", \"perimeter\", \"person\", \"person\", \"person\", \"person\", \"person\", \"person\", \"person\", \"php\", \"php\", \"php\", \"php\", \"php\", \"php\", \"php\", \"phpmailer\", \"phpmyadmin\", \"phpmyadmin\", \"phpmyadmin\", \"phpmyadmin\", \"phpmyadmin\", \"phpmyadmin\", \"phpmyadmin\", \"phpunit\", \"phpunit\", \"pickle\", \"pickle\", \"pickle\", \"pickle\", \"pickle\", \"pip\", \"pip\", \"pip\", \"pip\", \"pip\", \"pip\", \"pip\", \"plexus\", \"pod\", \"pod\", \"pod\", \"pod\", \"pod\", \"pod\", \"pod\", \"pointcolor\", \"pointcolor\", \"pointstrokecolor\", \"pointstrokecolor\", \"polyline\", \"polyline\", \"polyline\", \"pom\", \"pom\", \"pom\", \"pom\", \"pom\", \"pom\", \"pom\", \"portfolio\", \"portfolio\", \"portfolio\", \"portfolio\", \"portfolio\", \"postman\", \"postman\", \"postman\", \"postman\", \"postman\", \"postman\", \"postman\", \"pq\", \"presentviewcontroller\", \"preset\", \"preset\", \"preset\", \"preset\", \"preset\", \"preset\", \"preset\", \"print\", \"print\", \"print\", \"print\", \"print\", \"print\", \"print\", \"println\", \"println\", \"println\", \"println\", \"println\", \"println\", \"println\", \"printwriter\", \"process\", \"process\", \"process\", \"process\", \"process\", \"process\", \"process\", \"processname\", \"product\", \"product\", \"product\", \"product\", \"product\", \"product\", \"product\", \"program\", \"program\", \"program\", \"program\", \"program\", \"program\", \"program\", \"project\", \"project\", \"project\", \"project\", \"project\", \"project\", \"project\", \"prop\", \"prop\", \"prop\", \"prop\", \"prop\", \"prop\", \"prop\", \"property\", \"property\", \"property\", \"property\", \"property\", \"property\", \"property\", \"proxy\", \"proxy\", \"proxy\", \"proxy\", \"proxy\", \"proxy\", \"proxy\", \"pts\", \"pts\", \"pts\", \"publication\", \"pubspec\", \"pubspec\", \"px\", \"px\", \"px\", \"px\", \"px\", \"px\", \"px\", \"py\", \"py\", \"py\", \"py\", \"py\", \"py\", \"py\", \"pyaudio\", \"pyaudio\", \"pyenv\", \"pyenv\", \"python\", \"python\", \"python\", \"python\", \"python\", \"python\", \"python\", \"quark\", \"quark\", \"query\", \"query\", \"query\", \"query\", \"query\", \"query\", \"query\", \"queryset\", \"queryset\", \"queryset\", \"queryset\", \"queryset\", \"queryset\", \"queryset\", \"quote\", \"quote\", \"quote\", \"quote\", \"quote\", \"quote\", \"quote\", \"rain\", \"rain\", \"rain\", \"rain\", \"rake\", \"rake\", \"rake\", \"rake\", \"rake\", \"rake\", \"range\", \"range\", \"range\", \"range\", \"range\", \"range\", \"range\", \"rbenv\", \"rbenv\", \"rbenv\", \"react\", \"react\", \"react\", \"react\", \"react\", \"react\", \"react\", \"read\", \"read\", \"read\", \"read\", \"read\", \"read\", \"read\", \"rebate\", \"rebate\", \"rebate\", \"rebate\", \"rebate\", \"rebate\", \"recount\", \"rectangle\", \"rectangle\", \"rectangle\", \"rectangle\", \"rectangle\", \"rectangle\", \"rectangle\", \"redir\", \"redir\", \"redir\", \"redir\", \"redir\", \"redir\", \"redir\", \"referencedcolumnname\", \"relativelayout\", \"relativelayout\", \"relativelayout\", \"relativelayout\", \"relativelayout\", \"relativelayout\", \"relativelayout\", \"reloadonchange\", \"render\", \"render\", \"render\", \"render\", \"render\", \"render\", \"render\", \"renderobject\", \"replace\", \"replace\", \"replace\", \"replace\", \"replace\", \"replace\", \"replace\", \"replica\", \"replica\", \"replica\", \"replica\", \"replica\", \"replica\", \"replica\", \"req\", \"req\", \"req\", \"req\", \"req\", \"req\", \"req\", \"request\", \"request\", \"request\", \"request\", \"request\", \"request\", \"request\", \"requestcode\", \"requestcode\", \"requestcode\", \"requestcode\", \"require\", \"require\", \"require\", \"require\", \"require\", \"require\", \"require\", \"resourcegroupname\", \"response\", \"response\", \"response\", \"response\", \"response\", \"response\", \"response\", \"result\", \"result\", \"result\", \"result\", \"result\", \"result\", \"result\", \"resultcode\", \"resultcode\", \"resultcode\", \"return\", \"return\", \"return\", \"return\", \"return\", \"return\", \"return\", \"revenue\", \"rgba\", \"rgba\", \"rgba\", \"rgba\", \"rgba\", \"rgba\", \"row\", \"row\", \"row\", \"row\", \"row\", \"row\", \"row\", \"rowspan\", \"rr\", \"rr\", \"rr\", \"rr\", \"rr\", \"rr\", \"rr\", \"ruble\", \"run\", \"run\", \"run\", \"run\", \"run\", \"run\", \"run\", \"runworker\", \"saga\", \"sagemaker\", \"sagemaker\", \"sagemaker\", \"sal\", \"sal\", \"sampler\", \"sampler\", \"sampler\", \"sampler\", \"sayhello\", \"sch\", \"sch\", \"sch\", \"sch\", \"sch\", \"schedule\", \"schedule\", \"schedule\", \"schedule\", \"schedule\", \"schedule\", \"schedule\", \"schema\", \"schema\", \"schema\", \"schema\", \"schema\", \"schema\", \"schema\", \"scheme\", \"scheme\", \"scheme\", \"scheme\", \"scheme\", \"scheme\", \"scheme\", \"script\", \"script\", \"script\", \"script\", \"script\", \"script\", \"script\", \"scroll\", \"scroll\", \"scroll\", \"scroll\", \"scroll\", \"scroll\", \"scroll\", \"scrolltop\", \"seg\", \"self\", \"self\", \"self\", \"self\", \"self\", \"self\", \"self\", \"sentence\", \"sentence\", \"sentence\", \"sentence\", \"sentence\", \"sentence\", \"sentence\", \"sentinel\", \"serilog\", \"serilog\", \"server\", \"server\", \"server\", \"server\", \"server\", \"server\", \"server\", \"service\", \"service\", \"service\", \"service\", \"service\", \"service\", \"service\", \"set\", \"set\", \"set\", \"set\", \"set\", \"set\", \"set\", \"setaction\", \"setmap\", \"sh\", \"sh\", \"sh\", \"sh\", \"sh\", \"sh\", \"sh\", \"sheet\", \"sheet\", \"sheet\", \"sheet\", \"sheet\", \"sheet\", \"sheet\", \"shinyapps\", \"shinyapps\", \"show\", \"show\", \"show\", \"show\", \"show\", \"show\", \"show\", \"signingconfig\", \"signingconfigs\", \"signinmanager\", \"sitio\", \"sitio\", \"sloop\", \"somefunction\", \"something\", \"something\", \"something\", \"something\", \"something\", \"something\", \"something\", \"son\", \"son\", \"son\", \"son\", \"son\", \"son\", \"son\", \"sonar\", \"sonar\", \"sonar\", \"sonar\", \"sonar\", \"sort\", \"sort\", \"sort\", \"sort\", \"sort\", \"sort\", \"sort\", \"space\", \"space\", \"space\", \"space\", \"space\", \"space\", \"space\", \"sparql\", \"speech\", \"speech\", \"speech\", \"speech\", \"speech\", \"speech\", \"speech\", \"spring\", \"spring\", \"spring\", \"spring\", \"spring\", \"spring\", \"spring\", \"springframework\", \"springframework\", \"springframework\", \"springframework\", \"springframework\", \"springframework\", \"springframework\", \"sps\", \"sqlsrv\", \"squash\", \"squash\", \"srpos\", \"start\", \"start\", \"start\", \"start\", \"start\", \"start\", \"start\", \"stash\", \"stash\", \"stash\", \"state\", \"state\", \"state\", \"state\", \"state\", \"state\", \"state\", \"std\", \"std\", \"std\", \"std\", \"std\", \"std\", \"std\", \"storefile\", \"storepassword\", \"strap\", \"strap\", \"strap\", \"stream\", \"stream\", \"stream\", \"stream\", \"stream\", \"stream\", \"stream\", \"string\", \"string\", \"string\", \"string\", \"string\", \"string\", \"string\", \"stringstream\", \"stringstream\", \"stroke\", \"stroke\", \"stroke\", \"stroke\", \"stroke\", \"stroke\", \"stroke\", \"struct\", \"struct\", \"struct\", \"struct\", \"struct\", \"struct\", \"struct\", \"structfield\", \"strut\", \"strut\", \"strut\", \"strut\", \"strut\", \"strut\", \"strut\", \"student\", \"student\", \"student\", \"student\", \"student\", \"student\", \"student\", \"studentid\", \"studio\", \"studio\", \"studio\", \"studio\", \"studio\", \"studio\", \"studio\", \"style\", \"style\", \"style\", \"style\", \"style\", \"style\", \"style\", \"submenu\", \"subprocess\", \"subprocess\", \"subprocess\", \"subprocess\", \"subprocess\", \"subprocess\", \"svg\", \"svg\", \"svg\", \"svg\", \"svg\", \"svg\", \"svg\", \"sweetalert\", \"swiftui\", \"swiftui\", \"swiftui\", \"swiftui\", \"swiftui\", \"swiftui\", \"sympy\", \"sys\", \"sys\", \"sys\", \"sys\", \"sys\", \"sys\", \"sys\", \"sysdate\", \"syslog\", \"syslog\", \"system\", \"system\", \"system\", \"system\", \"system\", \"system\", \"system\", \"tabbarview\", \"table\", \"table\", \"table\", \"table\", \"table\", \"table\", \"table\", \"tableview\", \"tableview\", \"tableview\", \"tableview\", \"tableview\", \"tableview\", \"tableview\", \"task\", \"task\", \"task\", \"task\", \"task\", \"task\", \"task\", \"td\", \"td\", \"td\", \"td\", \"td\", \"td\", \"td\", \"telemetry\", \"telemetry\", \"tensor\", \"tensor\", \"tensor\", \"tensor\", \"tensor\", \"tensor\", \"tensor\", \"test\", \"test\", \"test\", \"test\", \"test\", \"test\", \"test\", \"testflight\", \"testflight\", \"text\", \"text\", \"text\", \"text\", \"text\", \"text\", \"text\", \"textappearance\", \"textappearance\", \"textinputlayout\", \"textinputlayout\", \"textinputlayout\", \"textinputlayout\", \"textinputlayout\", \"texture\", \"texture\", \"texture\", \"texture\", \"texture\", \"texture\", \"texture\", \"textview\", \"textview\", \"textview\", \"textview\", \"textview\", \"textview\", \"textview\", \"themedata\", \"thread\", \"thread\", \"thread\", \"thread\", \"thread\", \"thread\", \"thread\", \"thrush\", \"thrush\", \"time\", \"time\", \"time\", \"time\", \"time\", \"time\", \"time\", \"timer\", \"timer\", \"timer\", \"timer\", \"timer\", \"timer\", \"timer\", \"timestamp\", \"timestamp\", \"timestamp\", \"timestamp\", \"timestamp\", \"timestamp\", \"timestamp\", \"timezone\", \"timezone\", \"timezone\", \"timezone\", \"timezone\", \"timezone\", \"timezone\", \"tochararray\", \"token\", \"token\", \"token\", \"token\", \"token\", \"token\", \"token\", \"topanchor\", \"tower\", \"traefik\", \"traefik\", \"traefik\", \"transcribe\", \"transcribe\", \"transportexception\", \"truck\", \"truststore\", \"truststore\", \"truststore\", \"truststore\", \"try\", \"try\", \"try\", \"try\", \"try\", \"try\", \"try\", \"type\", \"type\", \"type\", \"type\", \"type\", \"type\", \"type\", \"typewriter\", \"uicollectionviewcell\", \"uiimagepickercontroller\", \"uiscrollview\", \"uiscrollview\", \"uiscrollview\", \"uisegmentedcontrol\", \"urlclassloader\", \"urlclassloader\", \"use\", \"use\", \"use\", \"use\", \"use\", \"use\", \"use\", \"user\", \"user\", \"user\", \"user\", \"user\", \"user\", \"user\", \"userdefaults\", \"vaadin\", \"val\", \"val\", \"val\", \"val\", \"val\", \"val\", \"val\", \"value\", \"value\", \"value\", \"value\", \"value\", \"value\", \"value\", \"var\", \"var\", \"var\", \"var\", \"var\", \"var\", \"var\", \"varname\", \"vector\", \"vector\", \"vector\", \"vector\", \"vector\", \"vector\", \"vector\", \"version\", \"version\", \"version\", \"version\", \"version\", \"version\", \"version\", \"video\", \"video\", \"video\", \"video\", \"video\", \"video\", \"video\", \"view\", \"view\", \"view\", \"view\", \"view\", \"view\", \"view\", \"viewbox\", \"viewbox\", \"viewbox\", \"viewbox\", \"viewdata\", \"virtualenvwrapper\", \"void\", \"void\", \"void\", \"void\", \"void\", \"void\", \"void\", \"vowel\", \"vvv\", \"way\", \"way\", \"way\", \"way\", \"way\", \"way\", \"way\", \"weapon\", \"web\", \"web\", \"web\", \"web\", \"web\", \"web\", \"web\", \"webcam\", \"webcam\", \"webcam\", \"webcam\", \"webcam\", \"webcam\", \"webclient\", \"webclient\", \"webclient\", \"webclient\", \"webclient\", \"webclient\", \"webdriver\", \"webdriver\", \"webdriver\", \"webdriver\", \"webdriver\", \"webdriver\", \"webdriver\", \"webdriverwait\", \"webfont\", \"webkit\", \"webkit\", \"webkit\", \"webkit\", \"webkit\", \"webkit\", \"webkit\", \"webpack\", \"webpack\", \"webpack\", \"webpack\", \"webpack\", \"webpack\", \"webpack\", \"webpacker\", \"whitespace\", \"whitespace\", \"whitespace\", \"whitespace\", \"whitespace\", \"whitespace\", \"whitespace\", \"widget\", \"widget\", \"widget\", \"widget\", \"widget\", \"widget\", \"widget\", \"width\", \"width\", \"width\", \"width\", \"width\", \"width\", \"width\", \"wikidata\", \"window\", \"window\", \"window\", \"window\", \"window\", \"window\", \"window\", \"woocommerce\", \"woocommerce\", \"woocommerce\", \"woocommerce\", \"woocommerce\", \"woocommerce\", \"woocommerce\", \"word\", \"word\", \"word\", \"word\", \"word\", \"word\", \"word\", \"workbook\", \"workbook\", \"workbook\", \"workbook\", \"workbook\", \"workbook\", \"workbook\", \"workspacefolder\", \"workspacefolder\", \"xampp\", \"xampp\", \"xampp\", \"xampp\", \"xampp\", \"xampp\", \"xampp\", \"xl\", \"xl\", \"xl\", \"xl\", \"xl\", \"xl\", \"xl\", \"xml\", \"xml\", \"xml\", \"xml\", \"xml\", \"xml\", \"xml\", \"xmlns\", \"xmlns\", \"xmlns\", \"xmlns\", \"xmlns\", \"xmlns\", \"xmlns\", \"year\", \"year\", \"year\", \"year\", \"year\", \"year\", \"year\", \"yocto\", \"zeppelin\", \"zip\", \"zip\", \"zip\", \"zip\", \"zip\", \"zip\", \"zip\", \"zipfile\", \"zipfile\", \"zipfile\", \"zipfile\", \"zone\", \"zone\", \"zone\", \"zone\", \"zone\", \"zone\", \"zone\", \"zookeeper\", \"zookeeper\", \"zookeeper\", \"zookeeper\"]}, \"R\": 30, \"lambda.step\": 0.01, \"plot.opts\": {\"xlab\": \"PC1\", \"ylab\": \"PC2\"}, \"topic.order\": [7, 1, 4, 2, 3, 6, 5]};\n",
       "\n",
       "function LDAvis_load_lib(url, callback){\n",
       "  var s = document.createElement('script');\n",
       "  s.src = url;\n",
       "  s.async = true;\n",
       "  s.onreadystatechange = s.onload = callback;\n",
       "  s.onerror = function(){console.warn(\"failed to load library \" + url);};\n",
       "  document.getElementsByTagName(\"head\")[0].appendChild(s);\n",
       "}\n",
       "\n",
       "if(typeof(LDAvis) !== \"undefined\"){\n",
       "   // already loaded: just create the visualization\n",
       "   !function(LDAvis){\n",
       "       new LDAvis(\"#\" + \"ldavis_el942422025248682721733766457\", ldavis_el942422025248682721733766457_data);\n",
       "   }(LDAvis);\n",
       "}else if(typeof define === \"function\" && define.amd){\n",
       "   // require.js is available: use it to load d3/LDAvis\n",
       "   require.config({paths: {d3: \"https://d3js.org/d3.v5\"}});\n",
       "   require([\"d3\"], function(d3){\n",
       "      window.d3 = d3;\n",
       "      LDAvis_load_lib(\"https://cdn.jsdelivr.net/gh/bmabey/pyLDAvis/pyLDAvis/js/ldavis.v3.0.0.js\", function(){\n",
       "        new LDAvis(\"#\" + \"ldavis_el942422025248682721733766457\", ldavis_el942422025248682721733766457_data);\n",
       "      });\n",
       "    });\n",
       "}else{\n",
       "    // require.js not available: dynamically load d3 & LDAvis\n",
       "    LDAvis_load_lib(\"https://d3js.org/d3.v5.js\", function(){\n",
       "         LDAvis_load_lib(\"https://cdn.jsdelivr.net/gh/bmabey/pyLDAvis/pyLDAvis/js/ldavis.v3.0.0.js\", function(){\n",
       "                 new LDAvis(\"#\" + \"ldavis_el942422025248682721733766457\", ldavis_el942422025248682721733766457_data);\n",
       "            })\n",
       "         });\n",
       "}\n",
       "</script>"
      ],
      "text/plain": [
       "PreparedData(topic_coordinates=              x         y  topics  cluster       Freq\n",
       "topic                                                \n",
       "6     -0.101244  0.028877       1        1  17.720843\n",
       "0      0.099283  0.008770       2        1  16.993011\n",
       "3      0.057206 -0.049997       3        1  15.812501\n",
       "1      0.041954 -0.075218       4        1  14.881099\n",
       "2     -0.039360  0.026086       5        1  13.094235\n",
       "5     -0.090872 -0.057016       6        1  10.941420\n",
       "4      0.033032  0.118498       7        1  10.556889, topic_info=       Term          Freq         Total Category  logprob  loglift\n",
       "36     file  53159.000000  53159.000000  Default  30.0000  30.0000\n",
       "291  string  34556.000000  34556.000000  Default  29.0000  29.0000\n",
       "430   array  14031.000000  14031.000000  Default  28.0000  28.0000\n",
       "97    model  11450.000000  11450.000000  Default  27.0000  27.0000\n",
       "11   python  17247.000000  17247.000000  Default  26.0000  26.0000\n",
       "..      ...           ...           ...      ...      ...      ...\n",
       "63      try   2857.088693  41429.431032   Topic7  -5.2824  -0.4258\n",
       "189     add   2517.501186  21114.811562   Topic7  -5.4089   0.1217\n",
       "284     set   2446.251622  24671.608550   Topic7  -5.4376  -0.0627\n",
       "232    data   2516.111386  36240.359182   Topic7  -5.4095  -0.4191\n",
       "180    type   2411.461584  25057.313651   Topic7  -5.4520  -0.0925\n",
       "\n",
       "[742 rows x 6 columns], token_table=      Topic      Freq       Term\n",
       "term                            \n",
       "461       1  0.266220     access\n",
       "461       2  0.081060     access\n",
       "461       3  0.078154     access\n",
       "461       4  0.056462     access\n",
       "461       5  0.382672     access\n",
       "...     ...       ...        ...\n",
       "3168      7  0.012341       zone\n",
       "8783      1  0.954384  zookeeper\n",
       "8783      4  0.012158  zookeeper\n",
       "8783      5  0.018237  zookeeper\n",
       "8783      6  0.012158  zookeeper\n",
       "\n",
       "[2843 rows x 3 columns], R=30, lambda_step=0.01, plot_opts={'xlab': 'PC1', 'ylab': 'PC2'}, topic_order=[7, 1, 4, 2, 3, 6, 5])"
      ]
     },
     "execution_count": 94,
     "metadata": {},
     "output_type": "execute_result"
    }
   ],
   "source": [
    "viz_lda_bow = gensimvis.prepare(optimal_model_lda_bow, corpus_bow, dictionary)\n",
    "viz_lda_bow"
   ]
  },
  {
   "cell_type": "markdown",
   "id": "abba5f36-5205-4bbb-b91c-928c34b1db65",
   "metadata": {
    "tags": []
   },
   "source": [
    "### LDA - TF-IDF"
   ]
  },
  {
   "cell_type": "code",
   "execution_count": 95,
   "id": "e17c1a28-e808-42b5-819e-15dfd7cf4e52",
   "metadata": {},
   "outputs": [],
   "source": [
    "# Optimal model chosen\n",
    "optimal_model_lda_tfidf = model_list_lda_tfidf[6]"
   ]
  },
  {
   "cell_type": "code",
   "execution_count": 96,
   "id": "20779d05-e253-47e1-bdd8-89f53cc7471a",
   "metadata": {},
   "outputs": [
    {
     "data": {
      "text/plain": [
       "['optimal_model_lda_tfidf.pkl']"
      ]
     },
     "execution_count": 96,
     "metadata": {},
     "output_type": "execute_result"
    }
   ],
   "source": [
    "# save the model to disk\n",
    "joblib.dump(optimal_model_lda_tfidf, 'optimal_model_lda_tfidf.pkl')"
   ]
  },
  {
   "cell_type": "code",
   "execution_count": 97,
   "id": "5baba816-9b7e-488d-ba60-c21504c1abb2",
   "metadata": {},
   "outputs": [
    {
     "name": "stdout",
     "output_type": "stream",
     "text": [
      "[(0,\n",
      "  '0.005*\"file\" + 0.004*\"string\" + 0.004*\"error\" + 0.003*\"use\" + 0.003*\"get\" + '\n",
      "  '0.003*\"function\" + 0.003*\"data\" + 0.003*\"value\" + 0.003*\"run\" + '\n",
      "  '0.003*\"test\"'),\n",
      " (1,\n",
      "  '0.006*\"name\" + 0.006*\"array\" + 0.005*\"value\" + 0.005*\"column\" + '\n",
      "  '0.005*\"image\" + 0.004*\"list\" + 0.004*\"id\" + 0.004*\"string\" + 0.004*\"data\" + '\n",
      "  '0.004*\"class\"'),\n",
      " (2,\n",
      "  '0.019*\"div\" + 0.012*\"button\" + 0.009*\"style\" + 0.008*\"class\" + '\n",
      "  '0.007*\"image\" + 0.007*\"color\" + 0.007*\"component\" + 0.007*\"page\" + '\n",
      "  '0.007*\"android\" + 0.007*\"element\"'),\n",
      " (3,\n",
      "  '0.020*\"column\" + 0.016*\"string\" + 0.013*\"row\" + 0.011*\"character\" + '\n",
      "  '0.010*\"number\" + 0.010*\"col\" + 0.010*\"mysql\" + 0.010*\"table\" + 0.010*\"df\" + '\n",
      "  '0.009*\"list\"'),\n",
      " (4,\n",
      "  '0.015*\"digit\" + 0.011*\"float\" + 0.008*\"number\" + 0.007*\"prometheus\" + '\n",
      "  '0.007*\"char\" + 0.007*\"slide\" + 0.007*\"array\" + 0.006*\"integer\" + '\n",
      "  '0.006*\"myarray\" + 0.005*\"int\"'),\n",
      " (5,\n",
      "  '0.009*\"student\" + 0.009*\"fruit\" + 0.007*\"monday\" + 0.006*\"vehicle\" + '\n",
      "  '0.006*\"curve\" + 0.005*\"tsconfig\" + 0.004*\"ball\" + 0.004*\"wikidata\" + '\n",
      "  '0.004*\"pv\" + 0.004*\"priority\"'),\n",
      " (6,\n",
      "  '0.017*\"tweet\" + 0.010*\"cola\" + 0.007*\"twitter\" + 0.007*\"winston\" + '\n",
      "  '0.005*\"punctuation\" + 0.004*\"uitextfield\" + 0.004*\"twin\" + 0.004*\"hateoas\" '\n",
      "  '+ 0.003*\"somevar\" + 0.003*\"photoshop\"'),\n",
      " (7,\n",
      "  '0.035*\"recyclerview\" + 0.008*\"viewholder\" + 0.008*\"webclient\" + '\n",
      "  '0.007*\"memo\" + 0.006*\"capacity\" + 0.005*\"dotenv\" + 0.005*\"curlopt\" + '\n",
      "  '0.004*\"adapter\" + 0.004*\"travis\" + 0.004*\"curl\"'),\n",
      " (8,\n",
      "  '0.016*\"spider\" + 0.016*\"jackson\" + 0.012*\"subprocess\" + 0.011*\"currency\" + '\n",
      "  '0.010*\"objectmapper\" + 0.007*\"coin\" + 0.005*\"provision\" + '\n",
      "  '0.004*\"workmanager\" + 0.004*\"modelbuilder\" + 0.004*\"xcodebuild\"'),\n",
      " (9,\n",
      "  '0.056*\"td\" + 0.028*\"tr\" + 0.013*\"th\" + 0.007*\"listitem\" + 0.007*\"tinymce\" + '\n",
      "  '0.006*\"localstorage\" + 0.005*\"mil\" + 0.005*\"quarter\" + 0.004*\"retina\" + '\n",
      "  '0.004*\"automapper\"'),\n",
      " (10,\n",
      "  '0.006*\"tweepy\" + 0.006*\"hashcode\" + 0.004*\"filestream\" + 0.004*\"mona\" + '\n",
      "  '0.003*\"gecko\" + 0.003*\"hammer\" + 0.002*\"elevate\" + 0.002*\"xgboost\" + '\n",
      "  '0.002*\"priorityqueue\" + 0.002*\"fileaccess\"')]\n"
     ]
    }
   ],
   "source": [
    "optimal_model_lda_tfidf.show_topics(formatted=False)\n",
    "pprint(optimal_model_lda_tfidf.print_topics(num_words=10))"
   ]
  },
  {
   "cell_type": "code",
   "execution_count": 98,
   "id": "6c79c4f7-0af5-439a-b878-1c5c6ffe2aed",
   "metadata": {},
   "outputs": [
    {
     "data": {
      "text/html": [
       "\n",
       "<link rel=\"stylesheet\" type=\"text/css\" href=\"https://cdn.jsdelivr.net/gh/bmabey/pyLDAvis/pyLDAvis/js/ldavis.v1.0.0.css\">\n",
       "\n",
       "\n",
       "<div id=\"ldavis_el942422034452395842515467299\"></div>\n",
       "<script type=\"text/javascript\">\n",
       "\n",
       "var ldavis_el942422034452395842515467299_data = {\"mdsDat\": {\"x\": [0.18023853238214477, 0.2360139918380912, 0.27483169137002766, 0.13167836891722404, -0.04574100457649536, -0.10651288608373755, -0.12188777370204582, -0.13707424803814244, -0.13678193338966566, -0.14603971565942683, -0.12872502305797406], \"y\": [-0.008378529309753918, -0.022087760152099546, 0.14267902849770375, -0.17426138351121595, -0.017854246034036063, 0.015415852284912013, 0.01424823890908154, 0.013795244158871964, 0.008504292514007125, 0.019083174496932788, 0.008856088145596172], \"topics\": [1, 2, 3, 4, 5, 6, 7, 8, 9, 10, 11], \"cluster\": [1, 1, 1, 1, 1, 1, 1, 1, 1, 1, 1], \"Freq\": [66.1978126704438, 11.834352199263897, 9.223322689801487, 3.6102301314367375, 1.8295915673279473, 1.5713858264574734, 1.3546377174898658, 1.233801155703321, 1.1418417779144194, 1.0651058065549321, 0.9379184576060984]}, \"tinfo\": {\"Term\": [\"string\", \"div\", \"column\", \"number\", \"array\", \"value\", \"list\", \"td\", \"row\", \"int\", \"button\", \"character\", \"table\", \"mysql\", \"df\", \"image\", \"class\", \"query\", \"recyclerview\", \"sql\", \"index\", \"style\", \"float\", \"name\", \"color\", \"page\", \"integer\", \"element\", \"dataframe\", \"convert\", \"branch\", \"emulator\", \"kafka\", \"commit\", \"git\", \"queue\", \"simulator\", \"master\", \"commits\", \"gem\", \"thread\", \"radio\", \"sh\", \"std\", \"timer\", \"blob\", \"volume\", \"audio\", \"honda\", \"timezone\", \"schedule\", \"bash\", \"webview\", \"txt\", \"timeout\", \"kubernetes\", \"markdown\", \"grant\", \"stp\", \"powershell\", \"exit\", \"grade\", \"w\", \"azure\", \"decker\", \"machine\", \"linux\", \"job\", \"remote\", \"process\", \"repository\", \"cache\", \"apache\", \"repo\", \"run\", \"debug\", \"bin\", \"device\", \"command\", \"system\", \"program\", \"file\", \"download\", \"time\", \"log\", \"java\", \"error\", \"build\", \"instal\", \"directory\", \"test\", \"version\", \"request\", \"window\", \"package\", \"start\", \"code\", \"server\", \"message\", \"response\", \"python\", \"project\", \"line\", \"date\", \"use\", \"function\", \"get\", \"data\", \"application\", \"find\", \"try\", \"string\", \"return\", \"way\", \"app\", \"value\", \"user\", \"create\", \"set\", \"name\", \"type\", \"class\", \"list\", \"lua\", \"javadoc\", \"popover\", \"campaign\", \"textformfield\", \"mysqldump\", \"cv\", \"gin\", \"linkedin\", \"sphere\", \"yup\", \"superuser\", \"raster\", \"gr\", \"telegram\", \"myvar\", \"floatingactionbutton\", \"virtualenvwrapper\", \"searchview\", \"packagereference\", \"mimetype\", \"announcement\", \"checkpoint\", \"formik\", \"tiff\", \"formdata\", \"quaternion\", \"scrollview\", \"autocompletion\", \"film\", \"contour\", \"blazer\", \"svg\", \"imshow\", \"cart\", \"gulf\", \"quantity\", \"opencv\", \"migration\", \"category\", \"product\", \"widget\", \"woocommerce\", \"groupby\", \"hibernate\", \"babel\", \"discord\", \"entity\", \"mongoose\", \"bot\", \"clutter\", \"schema\", \"person\", \"age\", \"shape\", \"column\", \"array\", \"name\", \"id\", \"field\", \"image\", \"child\", \"table\", \"dataframe\", \"color\", \"value\", \"property\", \"group\", \"list\", \"database\", \"df\", \"object\", \"data\", \"query\", \"et\", \"class\", \"string\", \"user\", \"get\", \"row\", \"index\", \"type\", \"create\", \"file\", \"use\", \"function\", \"import\", \"add\", \"return\", \"navbar\", \"serverless\", \"snackbar\", \"textinputlayout\", \"actionbar\", \"hudson\", \"nav\", \"strtotime\", \"modal\", \"pageview\", \"iframe\", \"div\", \"btn\", \"recaptcha\", \"textappearance\", \"flexbox\", \"vw\", \"indexpath\", \"stem\", \"divider\", \"collectionview\", \"linearlayout\", \"updateitem\", \"viewsets\", \"sessionstorage\", \"tablayout\", \"sayhello\", \"gravity\", \"monkey\", \"wi\", \"margin\", \"bootstrap\", \"classname\", \"textview\", \"border\", \"mat\", \"aria\", \"layout\", \"span\", \"tooltip\", \"webdriver\", \"cs\", \"hover\", \"style\", \"height\", \"material\", \"width\", \"li\", \"button\", \"px\", \"scroll\", \"background\", \"component\", \"href\", \"theme\", \"s\", \"color\", \"android\", \"parent\", \"element\", \"html\", \"react\", \"page\", \"click\", \"class\", \"image\", \"item\", \"text\", \"form\", \"view\", \"content\", \"id\", \"javascript\", \"input\", \"buf\", \"manifest\", \"qtwidgets\", \"ira\", \"qwidget\", \"processbuilder\", \"brightness\", \"microservice\", \"commerce\", \"cru\", \"fullcalendar\", \"isodate\", \"fox\", \"openshift\", \"bass\", \"testfile\", \"einen\", \"viewstate\", \"qtgui\", \"outputfile\", \"qtcore\", \"redhat\", \"exitcode\", \"jpl\", \"workbench\", \"pivot\", \"letterspacing\", \"sharedinstance\", \"qlineedit\", \"plexus\", \"mysqli\", \"holiday\", \"employee\", \"substring\", \"arr\", \"bigint\", \"matrix\", \"col\", \"column\", \"dataframe\", \"occurrence\", \"malloc\", \"panda\", \"character\", \"mysql\", \"row\", \"df\", \"csv\", \"sql\", \"table\", \"string\", \"comma\", \"regex\", \"number\", \"columns\", \"sizeof\", \"list\", \"pd\", \"index\", \"value\", \"array\", \"query\", \"match\", \"database\", \"int\", \"remove\", \"data\", \"python\", \"prometheus\", \"mx\", \"isip\", \"indexeddb\", \"ing\", \"typeface\", \"requestheader\", \"loginform\", \"ore\", \"salary\", \"copytooutputdirectory\", \"guild\", \"nsnumber\", \"scrolltop\", \"argparse\", \"tolerance\", \"spreadsheetapp\", \"odds\", \"advert\", \"intellijs\", \"eventtype\", \"mechanize\", \"mydict\", \"stringvalue\", \"deduction\", \"seamlessly\", \"objectstore\", \"qb\", \"argumentparser\", \"bull\", \"digit\", \"coroutine\", \"rake\", \"myarray\", \"slide\", \"formgroup\", \"jekyll\", \"shuffle\", \"float\", \"blah\", \"sharepoint\", \"char\", \"integer\", \"asyncio\", \"number\", \"paragraph\", \"str\", \"array\", \"convert\", \"int\", \"chart\", \"random\", \"string\", \"range\", \"wikidata\", \"pv\", \"mypath\", \"mob\", \"addsingleton\", \"nameof\", \"jd\", \"monday\", \"newdata\", \"serviceprovider\", \"experimentaldecorators\", \"complication\", \"saturday\", \"chalk\", \"fruit\", \"lunch\", \"sarah\", \"resemble\", \"friday\", \"seat\", \"phantom\", \"emitdecoratormetadata\", \"metaclasses\", \"nslayoutconstraint\", \"recalculate\", \"userprofile\", \"wednesday\", \"dinner\", \"resample\", \"licensing\", \"vehicle\", \"moduleresolution\", \"ball\", \"tsconfig\", \"bezier\", \"student\", \"pmc\", \"curve\", \"myform\", \"subtract\", \"sourcemap\", \"lodash\", \"priority\", \"compileroptions\", \"tick\", \"david\", \"winston\", \"hateoas\", \"tweet\", \"applicationinsights\", \"erasure\", \"somevar\", \"nsnotificationcenter\", \"nextpage\", \"twin\", \"workitem\", \"defaultcenter\", \"nsnotification\", \"uitextfield\", \"photoshop\", \"cola\", \"coyote\", \"punctuation\", \"requestdata\", \"mycontext\", \"readdir\", \"doesnotexist\", \"readdirsync\", \"addobserver\", \"myinput\", \"userinfo\", \"issuccessstatuscode\", \"opus\", \"cachemanager\", \"twitter\", \"avatar\", \"draft\", \"pdb\", \"lb\", \"gradient\", \"clapboard\", \"viewholder\", \"recyclerview\", \"memo\", \"webclient\", \"ischecked\", \"blogspot\", \"dotenv\", \"onbindviewholder\", \"notifydatasetchanged\", \"configparser\", \"clazz\", \"curlopt\", \"travis\", \"capacity\", \"emitter\", \"oncheckedchanged\", \"bodytomono\", \"libcurl\", \"hire\", \"recycleview\", \"circuit\", \"webflux\", \"setoncheckedchangelistener\", \"gratefully\", \"oncheckedchangelistener\", \"eventemitter\", \"knit\", \"adapter\", \"gopath\", \"condense\", \"curl\", \"guid\", \"position\", \"br\", \"ini\", \"objectmapper\", \"coin\", \"workmanager\", \"xcodebuild\", \"modelbuilder\", \"avec\", \"jsonmappingexception\", \"hilt\", \"jackson\", \"provisioning\", \"fasterxml\", \"spider\", \"subprocess\", \"evolution\", \"currency\", \"aero\", \"paginator\", \"bloom\", \"onmodelcreating\", \"blame\", \"databind\", \"reproduction\", \"nosuchmethodexception\", \"assertthat\", \"propagation\", \"insurance\", \"pie\", \"provision\", \"goroutine\", \"randomize\", \"sd\", \"stderr\", \"whitespace\", \"stout\", \"profile\", \"retina\", \"td\", \"sanctum\", \"particle\", \"quarter\", \"tinymce\", \"listitem\", \"mil\", \"tr\", \"automapper\", \"interactivity\", \"fence\", \"rdi\", \"th\", \"localstorage\", \"dereferenced\", \"createmap\", \"dereferencing\", \"anim\", \"shadowopacity\", \"al\", \"safe\", \"putextra\", \"serialise\", \"activetintcolor\", \"icc\", \"shortcoming\", \"bounce\", \"codebehind\", \"toshortdatestring\", \"precedence\", \"vulnerability\", \"redirects\", \"mediastore\", \"startdate\", \"reactjs\", \"asp\", \"tab\", \"date\", \"viewmode\", \"camera\", \"intent\", \"tweepy\", \"hammer\", \"gecko\", \"priorityqueue\", \"fileaccess\", \"mona\", \"hashcode\", \"getsupportactionbar\", \"bdc\", \"elevate\", \"filestream\", \"xgboost\", \"deprecationwarning\", \"rv\", \"outfile\", \"actionbaractivity\", \"oauthhandler\", \"tear\", \"merger\", \"filemode\", \"allowbackup\", \"webscrape\", \"argtypes\", \"hardwareaccelerated\", \"incur\", \"applicationdidfinishlaunching\", \"setdisplayhomeasupenabled\", \"fprintf\", \"supportsrtl\", \"androidmanifest\", \"rootviewcontroller\", \"connectionstate\", \"writer\", \"tweet\", \"scrape\", \"opengl\", \"heap\", \"stream\", \"category\", \"java\"], \"Freq\": [1419.0, 808.0, 820.0, 861.0, 906.0, 1301.0, 996.0, 261.0, 635.0, 704.0, 720.0, 437.0, 512.0, 414.0, 457.0, 1001.0, 1143.0, 753.0, 178.0, 398.0, 583.0, 505.0, 276.0, 1120.0, 595.0, 740.0, 315.0, 620.0, 314.0, 409.0, 257.35258898510665, 99.67380546069077, 72.32247924345411, 234.80528892521747, 350.56196478310875, 90.60333179980795, 62.53121699229962, 151.51424959018138, 63.39730367248938, 56.682227631385096, 224.4845556963403, 56.95975367821507, 126.09187341634357, 169.88313885441713, 57.649362294560326, 77.21463039553744, 71.65862831675408, 61.3599336937987, 55.08866463173558, 53.97229575640286, 87.23817535948214, 182.78284880350935, 82.66876415931722, 182.8202677151162, 103.2906456499663, 73.33724834296407, 42.76437896785646, 52.7029441562379, 44.12259496515928, 152.80526825575768, 150.00869386946243, 157.58110147773797, 115.6550209027848, 167.25828239908995, 358.00640059655746, 208.6979244803921, 174.38984431655115, 189.66945884463593, 138.718482697161, 365.2112847462392, 219.02424921002057, 200.54525152441087, 151.7726504972705, 120.38242142812572, 797.0090444763838, 211.6897011008109, 202.7705216786782, 275.1113425160442, 594.1840056653803, 456.19524324521734, 396.29376055692666, 1307.7357225172789, 258.38745805837004, 654.6178875120502, 521.0983822134632, 609.9948274793157, 887.1542190047618, 440.7831837217047, 282.09147776447435, 333.41615745032084, 787.15917446867, 544.8760920136796, 541.1386151956945, 488.8698547514152, 428.2510708035845, 425.70058130824987, 786.3272180147768, 581.7488611418685, 472.2238098699896, 353.1693110123989, 701.1976785182322, 583.683991265045, 621.2074933648818, 559.4886257876567, 871.8632301869908, 840.9846675800185, 848.5576784817961, 821.0948165390463, 537.8016075473088, 668.7626186758014, 663.1086108318755, 947.1510809242894, 672.3762584666206, 709.0084753466974, 578.321506612922, 808.6550810991282, 603.6843774471853, 614.6029303932322, 623.0000107899485, 699.7006866223483, 622.0737051181147, 650.4208481902095, 618.3754276632914, 28.550058927048237, 21.123107364552293, 16.512281195866752, 16.476692560272138, 16.251863873649455, 13.7413919593483, 98.78672897495588, 12.054384358168608, 11.460912490386088, 11.4269613686992, 14.474679894134248, 10.901932321170834, 10.46457077022779, 10.399213578590123, 19.97193114160311, 10.288920769361644, 10.25318876909559, 10.251688701134334, 10.21704969207898, 12.934942007600625, 9.998323868534094, 9.63037975455655, 9.508808486084083, 9.633562713316952, 9.396413871855968, 22.05334284554646, 14.68415409291853, 43.45766724712473, 11.022173191797785, 8.81432765800296, 14.990328420224934, 27.114639225706267, 89.6243954144832, 19.368475042436202, 32.36827312296057, 41.78786340651779, 37.34470813980584, 42.84831215207336, 78.41334124097206, 100.01275207857427, 148.23909131291177, 129.14916725072163, 48.45124026093201, 31.485614983801124, 51.08263698741194, 38.09582853528333, 28.174151497444722, 113.85247773453577, 24.5028689912192, 44.552584016347694, 128.238862089602, 71.21432503807073, 77.56058713089382, 62.32043853668819, 67.46086958493822, 245.14569652844216, 256.9936265528322, 270.4467147884599, 198.8136228603863, 162.69161807712806, 233.55568612433302, 106.6093893902528, 146.3848100219674, 107.38084389417484, 156.1613020516208, 248.0054560779866, 135.41327217990434, 116.83635689246931, 200.25088920391818, 134.416043308637, 124.31605744714953, 144.27986941336917, 195.4992421002569, 157.22886115877088, 102.54552443328146, 185.32789482947013, 197.98573791735006, 154.01242082886242, 165.0251845632338, 134.80500613024702, 130.50474992861055, 147.26655799275406, 144.81025030354056, 168.8894227644949, 154.81340056346775, 152.30392431023338, 137.14720080208343, 133.11155632575804, 134.3996497557487, 52.06766895705731, 21.956819349382876, 20.7234531259177, 19.298757418716544, 19.51480572703575, 14.470873908882673, 33.661969027345144, 13.546419186812043, 87.14461386516676, 14.676868214070408, 84.64501319266469, 681.1172824475751, 106.39133812738316, 27.058629340946336, 10.386449487869616, 16.60376486296687, 10.211226090716183, 30.615011531016407, 9.995583714823576, 11.368511761732895, 40.433149471159126, 27.84014151951495, 8.641327534455828, 10.350743835639259, 9.156372752174516, 11.520105996347226, 8.313491483834975, 20.57853934995017, 8.956579167311235, 8.518428929598919, 100.31915487069503, 156.05147926688014, 81.15989879559139, 77.92543742112278, 130.52863785737742, 71.36373246057917, 25.899991586922855, 226.89341224519808, 117.03188491299224, 50.741196596109965, 64.64281588193123, 163.41386338708458, 59.247502394791844, 327.98477360110655, 225.30989855133657, 101.99178508334094, 198.89075014325292, 145.01165898660142, 408.2110606181455, 237.63759890974313, 173.2817280494854, 221.85309281560896, 263.45475362951123, 106.36788425384646, 86.02672516624953, 109.16356137745666, 263.5707108923815, 247.26298660265678, 150.13829851159173, 244.3315476341514, 243.9852175686961, 172.2754584668997, 249.13504854626046, 175.10284752371493, 285.2973788568666, 263.60433357822086, 214.39010305884918, 214.59882613201572, 166.94055510542748, 172.69531560582706, 141.61881836051938, 158.36517928931102, 150.32755322959176, 151.12275435165728, 38.33164185002395, 18.92391552486895, 15.490257731838065, 14.867313970869175, 18.551224595995368, 13.723166894785487, 23.39783571258083, 23.14582383695164, 11.558112520277012, 12.737363428635325, 18.940345569263396, 16.65271426835468, 12.62706690515431, 10.055855638043543, 10.046355839980563, 10.216965408132763, 9.606050070306802, 9.57582934930209, 16.993047463025228, 9.191738341759589, 15.92704140202725, 11.568543199042226, 8.851195698931036, 8.789646829879299, 26.683148035910204, 43.203483043573435, 8.271743326357253, 7.790984370304471, 7.737889663492428, 7.246831635946128, 35.28268334692548, 13.418046670127067, 72.43989721360873, 72.89622135371121, 91.78070926594033, 21.338393766157726, 111.35544200894319, 138.237684562494, 269.0215184481818, 126.06600208942291, 39.760781263030324, 23.06476499235444, 107.14063246469841, 148.0259272458289, 135.92395168768795, 178.8785364910845, 131.36659088475454, 74.611776709128, 114.144655906717, 132.341332117732, 219.65679925105871, 35.147850092106935, 55.215477747076285, 141.4055935696708, 46.141149943819535, 30.307861068241166, 126.78578472785861, 48.1788124917438, 90.36872373732272, 122.59894012388236, 102.45068857029909, 89.38729300302298, 58.200459066463566, 61.72676998373466, 59.29523897096097, 49.912186187774736, 52.047209227352404, 50.10600838971387, 50.4157054969532, 30.067569926849014, 25.58366951482272, 25.340149763343458, 27.166200592729528, 19.640130917596007, 17.561408357613768, 17.553347913866116, 17.14312582254263, 15.961759207142574, 13.516376740119064, 12.978763849537785, 12.756890985031278, 12.648305176635816, 23.754521392824035, 17.983198121084488, 12.411584340321703, 12.132756429096167, 11.689918415040003, 11.419377876301331, 10.442112921024085, 12.542923211622998, 12.151164498006041, 9.2673589602828, 9.231799470857615, 9.228336164149491, 8.658869473518838, 8.192217769044536, 8.088212017030813, 7.555136074504468, 107.7799201867107, 23.987849685155158, 30.316319613070696, 38.97234149692652, 48.47291569185316, 26.298428347439934, 17.585557154270454, 26.99565103805923, 75.80803910993963, 28.733560793060022, 20.651958177229353, 48.786288826777, 41.74171801456074, 15.893569967785547, 55.43418494939137, 19.94669619034348, 32.23036185774521, 46.700311054057224, 31.983831030306934, 36.115346085016604, 23.96030427769219, 23.818650315814942, 27.26351804717141, 17.662589294174857, 25.255223036628646, 25.08698066408047, 20.533846185376547, 19.8017324134759, 16.047107212562388, 15.925325766592609, 15.682954646180427, 40.13873650395329, 12.562579633773579, 16.870591997765906, 13.14691094197353, 12.424531135173975, 13.183601577472272, 11.157260252819606, 55.38145242450456, 13.843363780152313, 10.477258891469493, 10.712449343927455, 17.98146696804177, 9.727829503596354, 7.9064582115456705, 8.328616379923034, 8.07110361363988, 7.364601053777139, 9.934022045092188, 7.249245114553436, 7.066621845954522, 9.494930382093722, 10.477654285774591, 6.784949509622845, 38.989541817755565, 10.642712546586665, 25.450997706619344, 30.181559441835066, 9.819468770279363, 55.54830602694932, 17.44469335154212, 33.80311140605869, 19.367677487120098, 20.959650923140135, 12.800120796190287, 13.351842552867422, 21.20700708553318, 13.404932970533038, 17.568000488611425, 12.406018857638529, 34.33863413053425, 20.15165633239638, 86.2105410771342, 14.845660635120982, 13.468065854319295, 17.5349397577099, 12.853846035932708, 10.68162595463743, 21.757690771398043, 11.017159386852162, 8.14073053379154, 12.070908597950243, 23.170317824355397, 16.208346887257925, 51.100442981235055, 6.175099805899702, 25.661289908726136, 5.674751734145491, 4.6240012715724585, 5.329080550616235, 4.045135310181859, 3.6929487214327015, 6.8074656812311165, 5.862647011494192, 2.2988472738201975, 2.2757155979674977, 2.8153575432304248, 1.7554289650040122, 37.61624368520754, 8.400004396877755, 8.186411238805912, 8.749715866350288, 3.047940466788836, 3.8088291688794746, 3.367043262316517, 39.06168025728037, 166.06503949242202, 31.051563146375063, 38.33028894295172, 10.948417432066872, 8.926932007964856, 25.428217936030187, 10.29201588684098, 13.296613355352935, 7.782553948961302, 7.3935437675537745, 25.0555585278709, 17.51222993947166, 26.610837936048192, 6.486612833390345, 3.9194254257495738, 4.618915180256767, 6.551101577540486, 3.257007662597705, 3.0192813514582384, 9.74080669301041, 8.231197556008622, 1.8378728499444963, 1.8595003265252252, 1.63225707697629, 4.055088575744682, 7.344598953731778, 20.26380453983821, 3.2783094675375035, 1.8489776358381769, 16.678093678988667, 2.097500887467581, 3.2180238758664403, 2.5293974303014832, 2.379315322669682, 44.700859685764286, 32.6261018839226, 16.8509667072008, 16.323482493360178, 16.58065602241667, 10.220371112938432, 10.974696645505203, 8.08288074857686, 69.08335168020334, 11.783224620664159, 10.57334130948366, 70.53301955573376, 50.15423719183972, 6.228590507107465, 47.830897698614045, 16.192625660809753, 10.68618785280624, 4.165089030203134, 3.964203746400531, 12.217408632698756, 6.791282602869002, 3.0744891133191077, 2.940026415787566, 7.050890160585232, 7.436930151728159, 2.7337355071262452, 12.88313349157876, 22.705252845393595, 1.917080312810513, 3.5299121193344716, 9.240464169702546, 7.1776779266629855, 8.466697372560319, 7.702478363751984, 10.192739430756118, 17.62192353165195, 226.7289357909559, 11.8175282638258, 15.334270043040451, 18.985074139085636, 26.899063508974255, 28.601237491358, 20.93939482705859, 113.30539729084244, 15.376610794824048, 5.802989907154114, 4.7538630697508, 7.3428504139686, 53.10495085962757, 25.42423029050628, 1.500712475944431, 2.0234044873967396, 1.9861674013825394, 1.8177369609070382, 0.861377481918007, 3.817279910895964, 0.6877370739645934, 0.9253888076661541, 0.5623949301382494, 0.36369007677423465, 0.3178249143362729, 0.308967602658013, 1.732837290247646, 0.5602654630619937, 0.4189745708644011, 1.1172049137585665, 1.249183456674857, 1.570043089468724, 0.8113317502841452, 1.300683083168387, 1.7952691833166592, 1.3388835136189965, 2.223688980598006, 1.631773012458122, 1.057568471520938, 1.1648116248999512, 1.1626784881656065, 20.7123320381554, 9.918545469269567, 10.420097932172485, 7.879757561243397, 7.731029802390273, 13.86522781496723, 19.74080446053446, 3.382930654303328, 2.9748426721976227, 8.383772600314646, 15.329625877675817, 7.994256095103192, 5.186925517632616, 6.208071128009257, 7.2244779679569975, 3.522898255010746, 2.0188775669130714, 1.9958189560134876, 2.1256164423758745, 3.490053551549239, 1.6915691506304846, 1.1700302510928422, 0.5239780216068419, 0.5142724026650483, 0.8878240674394668, 0.3921914973375825, 0.41778375032586423, 0.9489329409223873, 0.5762262491593337, 1.6481524859254988, 1.104362943143231, 0.7797977182950242, 1.5084392318931032, 2.181516838004629, 1.1508706496328218, 0.9970245809066355, 1.1954186358394538, 1.229366307402769, 1.1303731221179198, 1.197436001086055], \"Total\": [1419.0, 808.0, 820.0, 861.0, 906.0, 1301.0, 996.0, 261.0, 635.0, 704.0, 720.0, 437.0, 512.0, 414.0, 457.0, 1001.0, 1143.0, 753.0, 178.0, 398.0, 583.0, 505.0, 276.0, 1120.0, 595.0, 740.0, 315.0, 620.0, 314.0, 409.0, 262.0559428490706, 102.64841552659703, 74.60770736222297, 242.60062856199232, 362.2716528839436, 94.1483728811615, 65.03725304131781, 157.64836469503905, 65.97096251758131, 59.026423237171805, 233.9715470361403, 59.39869056260216, 131.53625476380327, 177.25124997131377, 60.204048519004786, 80.66914487768675, 74.92811565568609, 64.20167252927715, 57.688403030157005, 56.525817750851154, 91.47320247113643, 191.9936906978087, 86.88344078673828, 192.41757755607978, 108.72516300281404, 77.24056489776541, 45.0422428161117, 55.53256863177363, 46.50129682285664, 161.12530749175383, 158.20258996758164, 166.3293680725565, 121.96588605501054, 177.06476364630723, 382.7271873971616, 222.0372315276597, 184.8774047790801, 202.11209252978955, 146.9142563302957, 396.84284478906767, 235.01127449739857, 214.76237414135363, 161.8738699160019, 127.58990532336233, 900.2951442927539, 228.37190190951196, 218.4808442366092, 300.75502457673565, 671.2746145028087, 511.649210153748, 441.50771763886615, 1584.483046295301, 284.59757425470485, 767.9086195909314, 603.6374890382777, 717.4553928411501, 1078.1241217679922, 505.92266028117325, 312.784026072043, 375.82473221288075, 972.5813837719992, 647.1271803301682, 643.6388417076889, 577.5701503800625, 499.66976187939997, 496.41824137213007, 994.5337931677249, 708.0755583704569, 561.353175963113, 403.7271879820542, 881.6795689229644, 716.4108959106944, 771.8614115582262, 690.732487540334, 1175.959612761576, 1138.2380619879107, 1160.8019735244372, 1144.8466047313625, 669.3580304359834, 887.0321070827422, 881.5111837271573, 1419.547544703026, 906.1189921305983, 980.2700368521429, 760.6250347950232, 1301.4321094213437, 831.466010122915, 859.5225405583476, 889.5448736733134, 1120.1699049278714, 900.6228322115702, 1143.3280731447994, 996.3167692413305, 30.68914505700024, 23.26140656213303, 18.650768898355608, 18.831981467068296, 18.77776723616721, 16.126183223766656, 116.06313304414631, 14.192597786353673, 13.599072654974385, 13.565109309652836, 17.28180222932271, 13.040245632779149, 12.603013278844422, 12.537426466015377, 24.093594745225285, 12.427738761784884, 12.391573286167878, 12.389885862797088, 12.355209377671338, 15.681403890448868, 12.136876767069433, 11.768703292161996, 11.647099151555553, 11.80026085509859, 11.53498056214974, 27.093565615922845, 18.046856350523793, 53.42459387102393, 13.556271279852616, 10.952877957383361, 18.641072498715477, 33.97024797995503, 118.23169000588095, 24.397817503689247, 41.93621165135932, 55.65022391197142, 51.41630732662759, 59.9618890299887, 117.74748503134771, 156.69926192195263, 257.87471920971313, 226.95733818080095, 73.92867102837002, 46.050436184450525, 82.95353767726172, 59.04186654376699, 40.75527819215782, 232.5461740912168, 34.66769048651818, 74.20863056650184, 296.06771936707696, 141.53277806528135, 158.715601103571, 120.75912585739005, 135.84436297611742, 820.1657168407954, 906.1345861932575, 1120.1699049278714, 749.3694707372674, 564.4001899889262, 1001.9354137958538, 305.20989655145144, 512.6698823959238, 314.8463888395823, 595.0831362176583, 1301.4321094213437, 476.0711401374869, 378.2960612294651, 996.3167692413305, 527.5773693367878, 457.5359037298497, 628.099407209104, 1144.8466047313625, 753.4396223026287, 323.2957702386365, 1143.3280731447994, 1419.547544703026, 831.466010122915, 1160.8019735244372, 635.1927784867158, 583.1697920253715, 900.6228322115702, 859.5225405583476, 1584.483046295301, 1175.959612761576, 1138.2380619879107, 740.057589799644, 765.9197989342301, 906.1189921305983, 56.12496793935466, 24.078905090370895, 22.84545353723126, 21.622821897460653, 22.195887239844865, 16.59286490672683, 38.840425791843295, 15.668365912345232, 101.08491509933042, 17.25905406372755, 99.58940840783075, 808.2223715296191, 126.79019205852477, 32.35686182288958, 12.508273799827421, 20.037775572123046, 12.333231405327794, 37.0594206054419, 12.118175487051552, 13.804765880160469, 49.6108146834883, 34.45536468726192, 10.76329660586932, 12.927899472089274, 11.468369896802056, 14.432239793621603, 10.435586617558076, 25.844263118083834, 11.267550528336347, 10.743856368225833, 127.01498983141664, 205.19274349063198, 105.84247726151061, 102.75746449119687, 176.47326640671767, 94.9510082181078, 33.34572970729038, 324.96859350153505, 163.4416393450603, 67.41170955316285, 87.51704288799426, 235.92971384601677, 79.8187373462588, 505.2295019754891, 344.4039497104905, 144.85932484078666, 305.56337641044394, 216.74448293641828, 720.2363899257092, 389.9669513353956, 276.2842968337562, 369.59587969706337, 476.5308315255427, 168.05264195015963, 132.09105251954767, 183.20826908293822, 595.0831362176583, 580.0990082126026, 292.6689620962743, 620.3722426357679, 634.7403828865953, 390.28059650553394, 740.303465828066, 413.96354574320014, 1143.3280731447994, 1001.9354137958538, 699.8142073794423, 732.4559010692159, 562.8330549249416, 626.0670128379287, 435.13694115497475, 749.3694707372674, 591.837532696511, 619.442579234188, 41.31585040681973, 20.98780606868127, 17.553623737799676, 16.931152416986258, 21.325390705462052, 15.938222403265973, 27.282951677145135, 27.053290212966353, 13.622059716112386, 15.097626232665398, 22.506283194165476, 19.792674639813594, 15.14682165569544, 12.119376106596006, 12.110097703221754, 12.366758282490771, 11.669499132854625, 11.639119129352219, 20.80528250129868, 11.305383794494585, 19.59139499640182, 14.2589655491653, 10.914545941481492, 10.85323814737329, 33.128805328713455, 53.90652723749992, 10.335961303438372, 9.854873065523787, 9.801169061220484, 9.310234478842135, 46.228245091620266, 17.38659780358579, 107.85685740713325, 109.56083883042542, 151.24113690779635, 29.460804705748036, 196.30027178437302, 310.34639956932466, 820.1657168407954, 314.8463888395823, 72.69307305649778, 36.043329670325775, 275.9392612029307, 437.1114719242266, 414.77135639386887, 635.1927784867158, 457.5359037298497, 201.07701709764066, 398.91749947704403, 512.6698823959238, 1419.547544703026, 70.45540296542673, 161.7264475738801, 861.3202101661814, 121.59896588104866, 56.844633966713474, 996.3167692413305, 152.21659100581425, 583.1697920253715, 1301.4321094213437, 906.1345861932575, 753.4396223026287, 336.96243054397945, 527.5773693367878, 704.7413979831335, 488.08254744399, 1144.8466047313625, 881.6795689229644, 52.38789132089622, 32.040046191420586, 27.555904836413294, 27.312303435702482, 29.65320855483403, 21.703275563548697, 19.533725780445817, 19.52552482037269, 19.11616703599821, 17.934161167865796, 15.488683296898907, 14.951357420360461, 14.730201500923554, 14.62084335039475, 27.467428599900614, 20.8170658798537, 14.385104975030352, 14.105063453263062, 13.662845423137037, 13.391486526627727, 12.414275855249288, 15.105635464557215, 14.725698306709626, 11.239475720377948, 11.203976846811948, 11.201171465340645, 10.630959985775611, 10.265068820145485, 10.192004164320288, 9.527244983689023, 152.88344203285985, 31.949725912813502, 41.764604473560915, 55.65609688367336, 87.81194569958328, 41.590826514743455, 25.086218123557266, 44.2216730746642, 276.3608506934935, 76.17307830165905, 40.63929857661329, 231.22032535215024, 315.44359848163737, 27.98046861775572, 861.3202101661814, 53.4415323312837, 213.90022382264334, 906.1345861932575, 409.74712672894924, 704.7413979831335, 154.7890618571935, 158.14093930109829, 1419.547544703026, 287.28891202131683, 27.202259064394198, 27.034417231623603, 22.543440737923714, 21.748885445746488, 17.994517762596693, 17.87319220247418, 17.672044111660014, 46.22416704583576, 14.509736872235784, 19.59573234651146, 15.283393516807834, 14.545924902069384, 15.450805740551901, 13.104310367228708, 65.12321267409851, 16.405108894983016, 12.424383215932167, 12.760038506212355, 21.470873438051825, 11.67497452047613, 9.853880381908871, 10.464395083209928, 10.204225171133084, 9.31197542296111, 12.59601341403312, 9.196807406881923, 9.013745273237053, 12.161694561841864, 13.484670503080498, 8.732420162390925, 51.87695846895957, 13.795332658519444, 34.86201532378442, 42.039785112308905, 12.736418858419732, 96.37566787176625, 25.081071849322907, 63.02561279616381, 30.75115473443829, 35.79845840824135, 18.43579367627972, 21.61036754598693, 55.896723787503255, 21.950204761214586, 49.01330844590813, 20.008467305564768, 36.28321981781375, 22.096351496082374, 95.76961423511312, 16.838228353412724, 15.412785344678449, 20.253001159897792, 14.867516771526974, 12.689959173015614, 25.895760438561528, 13.2404236705743, 10.347373651295698, 15.422737627484809, 30.107812355068933, 21.263510956638257, 67.05899895552956, 8.119758002976777, 34.31650802598754, 7.619373129241289, 6.6320503515324365, 7.77535825879821, 5.990515896158499, 5.638012732884997, 10.87933798286536, 10.396099609944109, 4.243698574704143, 4.22091320424739, 6.0728333233444705, 4.08283920029143, 92.151976150937, 21.390438920956747, 22.175637618246686, 27.22106491604449, 17.1111369042298, 55.23367694086308, 39.358197839377354, 41.76209488258343, 178.69641585865728, 35.0278477906362, 44.5510129663982, 12.915617925388405, 10.894630159784901, 31.1720465335363, 13.13868188348092, 17.59307713725095, 10.519349837353646, 10.152759168307165, 34.44978334585999, 25.003755187232215, 38.8806477957765, 9.6709081820546, 5.8865720247998405, 6.951264537202324, 10.466147847110001, 5.22527628394019, 5.270522933593653, 17.90295936129623, 15.447037069964699, 3.8050767907026555, 3.9045770090587273, 3.5995449624011733, 9.242032521939889, 21.965855893173437, 67.44358573632213, 11.243517737319985, 6.530480855342339, 98.29519851283023, 12.918709489530166, 277.84536679816614, 86.22486236227805, 51.6789387413852, 48.7931403844415, 35.75982804007969, 18.845871341346797, 18.31873816062607, 19.882106355964112, 12.416783937673245, 13.67882177733771, 10.171083284384741, 87.03064931147007, 15.08160354980208, 13.838045435707897, 92.35272896868608, 66.1750200114581, 8.223656638423027, 64.10063050921347, 22.29235348235668, 15.002112555167049, 6.1602887561902895, 5.960628371749423, 19.062693100190653, 10.949216590561358, 5.070997049160592, 4.935017283094539, 12.363799038644999, 13.618938709621627, 5.609203725247068, 26.750995650189445, 50.17492376761196, 5.418781232169757, 10.108366565827627, 34.667709729715654, 28.82784687084543, 51.270443473965024, 56.14384983363208, 150.2059438929744, 19.634534508762673, 261.30732101809076, 13.82971539169241, 18.843041039424026, 23.42687142704952, 33.71576907412212, 36.143794599656424, 26.861309995993484, 146.60668160231745, 20.002686916185702, 7.815060919871353, 6.766137932270479, 12.682999293635309, 104.6015952506266, 56.40323325751964, 3.5130592128748193, 4.9343350382200715, 6.272892775236534, 6.845698820447384, 4.574913545172141, 24.131185809682123, 4.922900545854415, 6.855117926081288, 4.356547525043337, 2.8381271405146897, 2.551134579520385, 2.6750289035523926, 15.018203828730185, 4.868346163622111, 3.807205641333503, 10.207584491708472, 15.084671650064923, 20.682830958856627, 9.870726633529653, 21.954520137741767, 40.27611092700376, 36.37797520113364, 255.9211276047739, 690.732487540334, 26.637652003990343, 94.031275090499, 124.03390793677458, 22.72917805878255, 11.937510383670602, 12.614462609714716, 9.896663358191422, 9.747866795419082, 19.073891017280772, 30.72699443037636, 5.513630490412281, 5.047044602093333, 14.418317345276058, 27.560364198907664, 14.658378250855266, 9.662632657230233, 11.661508180202528, 13.59514778511965, 6.665947944481124, 4.035565630093174, 4.0131194179461795, 6.254700086654298, 12.056717253173378, 6.030885800344973, 4.333504749745488, 2.543653752858117, 2.530962734793066, 5.31261134943871, 2.4094061712003367, 2.613109696548277, 6.251066400604558, 3.9656121355288176, 11.813511616237692, 9.338986435146705, 6.14136874440066, 38.714397656484294, 95.76961423511312, 37.255075351773776, 22.799923696432824, 65.08548346737003, 231.4676029701467, 156.69926192195263, 717.4553928411501], \"Category\": [\"Default\", \"Default\", \"Default\", \"Default\", \"Default\", \"Default\", \"Default\", \"Default\", \"Default\", \"Default\", \"Default\", \"Default\", \"Default\", \"Default\", \"Default\", \"Default\", \"Default\", \"Default\", \"Default\", \"Default\", \"Default\", \"Default\", \"Default\", \"Default\", \"Default\", \"Default\", \"Default\", \"Default\", \"Default\", \"Default\", \"Topic1\", \"Topic1\", \"Topic1\", \"Topic1\", \"Topic1\", \"Topic1\", \"Topic1\", \"Topic1\", \"Topic1\", \"Topic1\", \"Topic1\", \"Topic1\", \"Topic1\", \"Topic1\", \"Topic1\", \"Topic1\", \"Topic1\", \"Topic1\", \"Topic1\", \"Topic1\", \"Topic1\", \"Topic1\", \"Topic1\", \"Topic1\", \"Topic1\", \"Topic1\", \"Topic1\", \"Topic1\", \"Topic1\", \"Topic1\", \"Topic1\", \"Topic1\", \"Topic1\", \"Topic1\", \"Topic1\", \"Topic1\", \"Topic1\", \"Topic1\", \"Topic1\", \"Topic1\", \"Topic1\", \"Topic1\", \"Topic1\", \"Topic1\", \"Topic1\", \"Topic1\", \"Topic1\", \"Topic1\", \"Topic1\", \"Topic1\", \"Topic1\", \"Topic1\", \"Topic1\", \"Topic1\", \"Topic1\", \"Topic1\", \"Topic1\", \"Topic1\", \"Topic1\", \"Topic1\", \"Topic1\", \"Topic1\", \"Topic1\", \"Topic1\", \"Topic1\", \"Topic1\", \"Topic1\", \"Topic1\", \"Topic1\", \"Topic1\", \"Topic1\", \"Topic1\", \"Topic1\", \"Topic1\", \"Topic1\", \"Topic1\", \"Topic1\", \"Topic1\", \"Topic1\", \"Topic1\", \"Topic1\", \"Topic1\", \"Topic1\", \"Topic1\", \"Topic1\", \"Topic1\", \"Topic1\", \"Topic1\", \"Topic1\", \"Topic1\", \"Topic1\", \"Topic1\", \"Topic1\", \"Topic2\", \"Topic2\", \"Topic2\", \"Topic2\", \"Topic2\", \"Topic2\", \"Topic2\", \"Topic2\", \"Topic2\", \"Topic2\", \"Topic2\", \"Topic2\", \"Topic2\", \"Topic2\", \"Topic2\", \"Topic2\", \"Topic2\", \"Topic2\", \"Topic2\", \"Topic2\", \"Topic2\", \"Topic2\", \"Topic2\", \"Topic2\", \"Topic2\", \"Topic2\", \"Topic2\", \"Topic2\", \"Topic2\", \"Topic2\", \"Topic2\", \"Topic2\", \"Topic2\", \"Topic2\", \"Topic2\", \"Topic2\", \"Topic2\", \"Topic2\", \"Topic2\", \"Topic2\", \"Topic2\", \"Topic2\", \"Topic2\", \"Topic2\", \"Topic2\", \"Topic2\", \"Topic2\", \"Topic2\", \"Topic2\", \"Topic2\", \"Topic2\", \"Topic2\", \"Topic2\", \"Topic2\", \"Topic2\", \"Topic2\", \"Topic2\", \"Topic2\", \"Topic2\", \"Topic2\", \"Topic2\", \"Topic2\", \"Topic2\", \"Topic2\", \"Topic2\", \"Topic2\", \"Topic2\", \"Topic2\", \"Topic2\", \"Topic2\", \"Topic2\", \"Topic2\", \"Topic2\", \"Topic2\", \"Topic2\", \"Topic2\", \"Topic2\", \"Topic2\", \"Topic2\", \"Topic2\", \"Topic2\", \"Topic2\", \"Topic2\", \"Topic2\", \"Topic2\", \"Topic2\", \"Topic2\", \"Topic2\", \"Topic2\", \"Topic3\", \"Topic3\", \"Topic3\", \"Topic3\", \"Topic3\", \"Topic3\", \"Topic3\", \"Topic3\", \"Topic3\", \"Topic3\", \"Topic3\", \"Topic3\", \"Topic3\", \"Topic3\", \"Topic3\", \"Topic3\", \"Topic3\", \"Topic3\", \"Topic3\", \"Topic3\", \"Topic3\", \"Topic3\", \"Topic3\", \"Topic3\", \"Topic3\", \"Topic3\", \"Topic3\", \"Topic3\", \"Topic3\", \"Topic3\", \"Topic3\", \"Topic3\", \"Topic3\", \"Topic3\", \"Topic3\", \"Topic3\", \"Topic3\", \"Topic3\", \"Topic3\", \"Topic3\", \"Topic3\", \"Topic3\", \"Topic3\", \"Topic3\", \"Topic3\", \"Topic3\", \"Topic3\", \"Topic3\", \"Topic3\", \"Topic3\", \"Topic3\", \"Topic3\", \"Topic3\", \"Topic3\", \"Topic3\", \"Topic3\", \"Topic3\", \"Topic3\", \"Topic3\", \"Topic3\", \"Topic3\", \"Topic3\", \"Topic3\", \"Topic3\", \"Topic3\", \"Topic3\", \"Topic3\", \"Topic3\", \"Topic3\", \"Topic3\", \"Topic3\", \"Topic3\", \"Topic3\", \"Topic3\", \"Topic4\", \"Topic4\", \"Topic4\", \"Topic4\", \"Topic4\", \"Topic4\", \"Topic4\", \"Topic4\", \"Topic4\", \"Topic4\", \"Topic4\", \"Topic4\", \"Topic4\", \"Topic4\", \"Topic4\", \"Topic4\", \"Topic4\", \"Topic4\", \"Topic4\", \"Topic4\", \"Topic4\", \"Topic4\", \"Topic4\", \"Topic4\", \"Topic4\", \"Topic4\", \"Topic4\", \"Topic4\", \"Topic4\", \"Topic4\", \"Topic4\", \"Topic4\", \"Topic4\", \"Topic4\", \"Topic4\", \"Topic4\", \"Topic4\", \"Topic4\", \"Topic4\", \"Topic4\", \"Topic4\", \"Topic4\", \"Topic4\", \"Topic4\", \"Topic4\", \"Topic4\", \"Topic4\", \"Topic4\", \"Topic4\", \"Topic4\", \"Topic4\", \"Topic4\", \"Topic4\", \"Topic4\", \"Topic4\", \"Topic4\", \"Topic4\", \"Topic4\", \"Topic4\", \"Topic4\", \"Topic4\", \"Topic4\", \"Topic4\", \"Topic4\", \"Topic4\", \"Topic4\", \"Topic4\", \"Topic4\", \"Topic5\", \"Topic5\", \"Topic5\", \"Topic5\", \"Topic5\", \"Topic5\", \"Topic5\", \"Topic5\", \"Topic5\", \"Topic5\", \"Topic5\", \"Topic5\", \"Topic5\", \"Topic5\", \"Topic5\", \"Topic5\", \"Topic5\", \"Topic5\", \"Topic5\", \"Topic5\", \"Topic5\", \"Topic5\", \"Topic5\", \"Topic5\", \"Topic5\", \"Topic5\", \"Topic5\", \"Topic5\", \"Topic5\", \"Topic5\", \"Topic5\", \"Topic5\", \"Topic5\", \"Topic5\", \"Topic5\", \"Topic5\", \"Topic5\", \"Topic5\", \"Topic5\", \"Topic5\", \"Topic5\", \"Topic5\", \"Topic5\", \"Topic5\", \"Topic5\", \"Topic5\", \"Topic5\", \"Topic5\", \"Topic5\", \"Topic5\", \"Topic5\", \"Topic5\", \"Topic5\", \"Topic5\", \"Topic6\", \"Topic6\", \"Topic6\", \"Topic6\", \"Topic6\", \"Topic6\", \"Topic6\", \"Topic6\", \"Topic6\", \"Topic6\", \"Topic6\", \"Topic6\", \"Topic6\", \"Topic6\", \"Topic6\", \"Topic6\", \"Topic6\", \"Topic6\", \"Topic6\", \"Topic6\", \"Topic6\", \"Topic6\", \"Topic6\", \"Topic6\", \"Topic6\", \"Topic6\", \"Topic6\", \"Topic6\", \"Topic6\", \"Topic6\", \"Topic6\", \"Topic6\", \"Topic6\", \"Topic6\", \"Topic6\", \"Topic6\", \"Topic6\", \"Topic6\", \"Topic6\", \"Topic6\", \"Topic6\", \"Topic6\", \"Topic6\", \"Topic6\", \"Topic6\", \"Topic6\", \"Topic7\", \"Topic7\", \"Topic7\", \"Topic7\", \"Topic7\", \"Topic7\", \"Topic7\", \"Topic7\", \"Topic7\", \"Topic7\", \"Topic7\", \"Topic7\", \"Topic7\", \"Topic7\", \"Topic7\", \"Topic7\", \"Topic7\", \"Topic7\", \"Topic7\", \"Topic7\", \"Topic7\", \"Topic7\", \"Topic7\", \"Topic7\", \"Topic7\", \"Topic7\", \"Topic7\", \"Topic7\", \"Topic7\", \"Topic7\", \"Topic7\", \"Topic7\", \"Topic7\", \"Topic7\", \"Topic7\", \"Topic8\", \"Topic8\", \"Topic8\", \"Topic8\", \"Topic8\", \"Topic8\", \"Topic8\", \"Topic8\", \"Topic8\", \"Topic8\", \"Topic8\", \"Topic8\", \"Topic8\", \"Topic8\", \"Topic8\", \"Topic8\", \"Topic8\", \"Topic8\", \"Topic8\", \"Topic8\", \"Topic8\", \"Topic8\", \"Topic8\", \"Topic8\", \"Topic8\", \"Topic8\", \"Topic8\", \"Topic8\", \"Topic8\", \"Topic8\", \"Topic8\", \"Topic8\", \"Topic8\", \"Topic8\", \"Topic8\", \"Topic9\", \"Topic9\", \"Topic9\", \"Topic9\", \"Topic9\", \"Topic9\", \"Topic9\", \"Topic9\", \"Topic9\", \"Topic9\", \"Topic9\", \"Topic9\", \"Topic9\", \"Topic9\", \"Topic9\", \"Topic9\", \"Topic9\", \"Topic9\", \"Topic9\", \"Topic9\", \"Topic9\", \"Topic9\", \"Topic9\", \"Topic9\", \"Topic9\", \"Topic9\", \"Topic9\", \"Topic9\", \"Topic9\", \"Topic9\", \"Topic9\", \"Topic9\", \"Topic9\", \"Topic9\", \"Topic9\", \"Topic10\", \"Topic10\", \"Topic10\", \"Topic10\", \"Topic10\", \"Topic10\", \"Topic10\", \"Topic10\", \"Topic10\", \"Topic10\", \"Topic10\", \"Topic10\", \"Topic10\", \"Topic10\", \"Topic10\", \"Topic10\", \"Topic10\", \"Topic10\", \"Topic10\", \"Topic10\", \"Topic10\", \"Topic10\", \"Topic10\", \"Topic10\", \"Topic10\", \"Topic10\", \"Topic10\", \"Topic10\", \"Topic10\", \"Topic10\", \"Topic10\", \"Topic10\", \"Topic10\", \"Topic10\", \"Topic10\", \"Topic10\", \"Topic10\", \"Topic10\", \"Topic10\", \"Topic10\", \"Topic10\", \"Topic10\", \"Topic11\", \"Topic11\", \"Topic11\", \"Topic11\", \"Topic11\", \"Topic11\", \"Topic11\", \"Topic11\", \"Topic11\", \"Topic11\", \"Topic11\", \"Topic11\", \"Topic11\", \"Topic11\", \"Topic11\", \"Topic11\", \"Topic11\", \"Topic11\", \"Topic11\", \"Topic11\", \"Topic11\", \"Topic11\", \"Topic11\", \"Topic11\", \"Topic11\", \"Topic11\", \"Topic11\", \"Topic11\", \"Topic11\", \"Topic11\", \"Topic11\", \"Topic11\", \"Topic11\", \"Topic11\", \"Topic11\", \"Topic11\", \"Topic11\", \"Topic11\", \"Topic11\", \"Topic11\"], \"logprob\": [30.0, 29.0, 28.0, 27.0, 26.0, 25.0, 24.0, 23.0, 22.0, 21.0, 20.0, 19.0, 18.0, 17.0, 16.0, 15.0, 14.0, 13.0, 12.0, 11.0, 10.0, 9.0, 8.0, 7.0, 6.0, 5.0, 4.0, 3.0, 2.0, 1.0, -6.8899, -7.8384, -8.1592, -6.9816, -6.5808, -7.9338, -8.3047, -7.4196, -8.2909, -8.4029, -7.0265, -8.398, -7.6033, -7.3052, -8.3859, -8.0937, -8.1684, -8.3236, -8.4314, -8.4519, -7.9717, -7.232, -8.0255, -7.2318, -7.8028, -8.1453, -8.6846, -8.4757, -8.6534, -7.4112, -7.4296, -7.3804, -7.6897, -7.3208, -6.5598, -7.0994, -7.279, -7.195, -7.5079, -6.5398, -7.0511, -7.1393, -7.4179, -7.6497, -5.7595, -7.0852, -7.1283, -6.8231, -6.0531, -6.3174, -6.4582, -5.2643, -6.8859, -5.9563, -6.1844, -6.0269, -5.6523, -6.3518, -6.7981, -6.6309, -5.7719, -6.1398, -6.1466, -6.2482, -6.3806, -6.3866, -5.773, -6.0743, -6.2829, -6.5734, -5.8875, -6.071, -6.0087, -6.1133, -5.6697, -5.7058, -5.6968, -5.7297, -6.1528, -5.9349, -5.9434, -5.5869, -5.9295, -5.8765, -6.0802, -5.745, -6.0373, -6.0193, -6.0058, -5.8897, -6.0073, -5.9627, -6.0132, -7.367, -7.6683, -7.9146, -7.9167, -7.9305, -8.0983, -6.1257, -8.2293, -8.2797, -8.2827, -8.0463, -8.3297, -8.3707, -8.377, -7.7244, -8.3876, -8.3911, -8.3912, -8.3946, -8.1588, -8.4163, -8.4538, -8.4665, -8.4534, -8.4784, -7.6252, -8.0319, -6.9469, -8.3188, -8.5423, -8.0113, -7.4186, -6.2231, -7.755, -7.2415, -6.9861, -7.0985, -6.961, -6.3567, -6.1134, -5.7199, -5.8577, -6.8381, -7.2692, -6.7852, -7.0786, -7.3803, -5.9838, -7.5199, -6.922, -5.8648, -6.453, -6.3676, -6.5864, -6.5071, -5.2168, -5.1696, -5.1186, -5.4263, -5.6268, -5.2653, -6.0495, -5.7324, -6.0423, -5.6678, -5.2052, -5.8104, -5.9579, -5.4191, -5.8177, -5.8959, -5.7469, -5.4431, -5.661, -6.0884, -5.4966, -5.4305, -5.6817, -5.6126, -5.8149, -5.8473, -5.7264, -5.7433, -5.5894, -5.6765, -5.6928, -5.7976, -5.8275, -5.8179, -6.5169, -7.3803, -7.4381, -7.5094, -7.4982, -7.7973, -6.953, -7.8633, -6.0018, -7.7831, -6.0309, -3.9457, -5.8023, -7.1714, -8.1289, -7.6598, -8.1459, -7.0479, -8.1673, -8.0386, -6.7698, -7.1429, -8.3129, -8.1324, -8.255, -8.0253, -8.3515, -7.4452, -8.277, -8.3272, -5.8611, -5.4192, -6.073, -6.1137, -5.5978, -6.2016, -7.2152, -5.0449, -5.707, -6.5427, -6.3005, -5.3731, -6.3877, -4.6764, -5.0519, -5.8445, -5.1767, -5.4926, -4.4576, -4.9987, -5.3145, -5.0674, -4.8955, -5.8025, -6.0148, -5.7766, -4.8951, -4.959, -5.4579, -4.9709, -4.9723, -5.3203, -4.9514, -5.304, -4.8159, -4.895, -5.1016, -5.1006, -5.3518, -5.3179, -5.5163, -5.4045, -5.4566, -5.4513, -5.8852, -6.591, -6.7912, -6.8323, -6.6109, -6.9124, -6.3788, -6.3896, -7.0841, -6.9869, -6.5902, -6.7189, -6.9956, -7.2233, -7.2242, -7.2074, -7.2691, -7.2722, -6.6986, -7.3131, -6.7634, -7.0832, -7.3509, -7.3579, -6.2474, -5.7655, -7.4186, -7.4785, -7.4853, -7.5509, -5.9681, -6.9348, -5.2487, -5.2424, -5.012, -6.4709, -4.8187, -4.6025, -3.9367, -4.6946, -5.8486, -6.3931, -4.8573, -4.5341, -4.6194, -4.3447, -4.6535, -5.2192, -4.794, -4.6461, -4.1394, -5.9719, -5.5202, -4.5798, -5.6997, -6.12, -4.689, -5.6565, -5.0276, -4.7225, -4.9021, -5.0385, -5.4676, -5.4087, -5.4489, -5.6212, -5.5793, -5.6173, -4.9315, -5.4483, -5.6098, -5.6194, -5.5498, -5.8742, -5.9861, -5.9865, -6.0102, -6.0816, -6.2479, -6.2885, -6.3057, -6.3142, -5.684, -5.9623, -6.3331, -6.3559, -6.393, -6.4165, -6.5059, -6.3226, -6.3543, -6.6253, -6.6291, -6.6295, -6.6932, -6.7486, -6.7614, -6.8295, -4.1717, -5.6742, -5.4401, -5.1889, -4.9708, -5.5823, -5.9847, -5.5561, -4.5236, -5.4937, -5.824, -4.9643, -5.1203, -6.0859, -4.8366, -5.8587, -5.3789, -5.008, -5.3865, -5.2651, -5.6754, -5.6813, -5.5462, -5.9803, -5.4706, -5.4773, -5.6776, -5.7139, -5.9241, -5.9317, -5.9471, -5.0073, -6.1689, -5.8741, -6.1234, -6.18, -6.1207, -6.2875, -4.6854, -6.0718, -6.3504, -6.3282, -5.8103, -6.4246, -6.632, -6.5799, -6.6113, -6.703, -6.4037, -6.7187, -6.7443, -6.4489, -6.3504, -6.7849, -5.0363, -6.3348, -5.4629, -5.2924, -6.4153, -4.6824, -5.8406, -5.1791, -5.736, -5.657, -6.1502, -6.108, -5.6453, -6.104, -5.8336, -6.1815, -5.0149, -5.5479, -4.0944, -5.8535, -5.9509, -5.687, -5.9976, -6.1827, -5.4712, -6.1518, -6.4543, -6.0604, -5.4083, -5.7657, -4.6174, -6.7307, -5.3062, -6.8152, -7.02, -6.878, -7.1537, -7.2448, -6.6332, -6.7826, -7.7188, -7.7289, -7.5161, -7.9885, -4.9238, -6.423, -6.4487, -6.3822, -7.4367, -7.2139, -7.3372, -4.7926, -3.3454, -5.0221, -4.8115, -6.0646, -6.2687, -5.2219, -6.1264, -5.8703, -6.4059, -6.4572, -5.2367, -5.5949, -5.1765, -6.588, -7.0918, -6.9276, -6.5781, -7.277, -7.3528, -6.1815, -6.3498, -7.8492, -7.8375, -7.9678, -7.0578, -6.4638, -5.4489, -7.2704, -7.8431, -5.6437, -7.717, -7.289, -7.5298, -7.591, -4.5803, -4.8952, -5.5559, -5.5877, -5.5721, -6.0559, -5.9847, -6.2906, -4.145, -5.9136, -6.022, -4.1242, -4.4652, -6.5512, -4.5126, -5.5958, -6.0114, -6.9536, -7.003, -5.8775, -6.4647, -7.2572, -7.3019, -6.4272, -6.3739, -7.3747, -5.8244, -5.2577, -7.7295, -7.119, -6.1567, -6.4093, -6.2442, -6.3388, -6.0586, -5.4416, -2.887, -5.8412, -5.5807, -5.3671, -5.0187, -4.9573, -5.2691, -3.5807, -5.5779, -6.5524, -6.7518, -6.317, -4.3385, -5.075, -7.9048, -7.606, -7.6245, -7.7132, -8.46, -6.9712, -8.6851, -8.3883, -8.8863, -9.3222, -9.457, -9.4853, -7.761, -8.8901, -9.1807, -8.1999, -8.0883, -7.8596, -8.5198, -8.0479, -7.7256, -8.0189, -7.5116, -7.8211, -8.2548, -8.1582, -8.16, -5.1529, -5.8892, -5.8398, -6.1193, -6.1383, -5.5542, -5.2009, -6.9648, -7.0934, -6.0573, -5.4538, -6.1049, -6.5374, -6.3577, -6.2061, -6.9243, -7.481, -7.4925, -7.4295, -6.9337, -7.6579, -8.0266, -8.8299, -8.8486, -8.3026, -9.1196, -9.0564, -8.236, -8.7348, -7.6839, -8.0843, -8.4323, -7.7725, -7.4036, -8.0431, -8.1866, -8.0051, -7.9771, -8.061, -8.0034], \"loglift\": [30.0, 29.0, 28.0, 27.0, 26.0, 25.0, 24.0, 23.0, 22.0, 21.0, 20.0, 19.0, 18.0, 17.0, 16.0, 15.0, 14.0, 13.0, 12.0, 11.0, 10.0, 9.0, 8.0, 7.0, 6.0, 5.0, 4.0, 3.0, 2.0, 1.0, 0.3944, 0.3831, 0.3814, 0.3799, 0.3797, 0.3741, 0.3732, 0.3728, 0.3727, 0.372, 0.3711, 0.3706, 0.3703, 0.3701, 0.3692, 0.3688, 0.3679, 0.3673, 0.3664, 0.3663, 0.3651, 0.3634, 0.3628, 0.3614, 0.3612, 0.3607, 0.3606, 0.3602, 0.36, 0.3595, 0.3593, 0.3585, 0.3594, 0.3555, 0.3458, 0.3506, 0.3541, 0.349, 0.3551, 0.3295, 0.3421, 0.344, 0.3481, 0.3544, 0.2907, 0.3367, 0.3379, 0.3234, 0.2905, 0.2978, 0.3045, 0.2206, 0.3159, 0.2529, 0.2655, 0.2503, 0.2176, 0.2747, 0.3092, 0.2928, 0.201, 0.2405, 0.2391, 0.2458, 0.2583, 0.2588, 0.1776, 0.216, 0.2396, 0.2787, 0.1835, 0.2076, 0.1954, 0.2018, 0.1133, 0.1099, 0.0992, 0.0801, 0.1937, 0.1301, 0.1278, 0.0079, 0.1142, 0.0886, 0.1385, -0.0633, 0.0924, 0.0771, 0.0564, -0.0581, 0.0425, -0.1516, -0.0644, 2.0619, 2.0377, 2.0124, 2.0006, 1.9897, 1.9741, 1.973, 1.9709, 1.9631, 1.9626, 1.9569, 1.9551, 1.9482, 1.9472, 1.9465, 1.9453, 1.9447, 1.9447, 1.9441, 1.9416, 1.9403, 1.9336, 1.9313, 1.9313, 1.9291, 1.9283, 1.928, 1.9277, 1.9272, 1.9169, 1.9162, 1.9088, 1.8571, 1.9033, 1.8752, 1.8477, 1.8144, 1.7981, 1.7276, 1.6851, 1.5805, 1.5704, 1.7116, 1.754, 1.6493, 1.696, 1.765, 1.42, 1.7871, 1.624, 1.2975, 1.4473, 1.4181, 1.4727, 1.4342, 0.9265, 0.874, 0.713, 0.8073, 0.8903, 0.6779, 1.0823, 0.8808, 1.0585, 0.7964, 0.4764, 0.8769, 0.9593, 0.5297, 0.7668, 0.8311, 0.6632, 0.3667, 0.5672, 0.9859, 0.3146, 0.1643, 0.448, 0.1834, 0.5841, 0.6371, 0.3233, 0.3532, -0.1046, 0.1065, 0.1228, 0.4485, 0.3843, 0.2258, 2.3084, 2.2912, 2.2859, 2.2697, 2.2547, 2.2466, 2.2403, 2.2379, 2.235, 2.2214, 2.2208, 2.2123, 2.208, 2.2046, 2.1975, 2.1954, 2.1946, 2.1924, 2.1909, 2.1893, 2.1789, 2.1702, 2.1638, 2.1611, 2.1583, 2.1581, 2.1561, 2.1556, 2.1539, 2.1513, 2.1475, 2.1097, 2.1179, 2.1068, 2.0819, 2.0979, 2.1307, 2.0242, 2.0494, 2.0994, 2.0805, 2.0162, 2.0854, 1.9514, 1.9591, 2.0326, 1.954, 1.9815, 1.8156, 1.8881, 1.9169, 1.873, 1.7908, 1.9261, 1.9546, 1.8657, 1.5691, 1.5307, 1.7159, 1.4516, 1.4273, 1.5657, 1.2944, 1.523, 0.9953, 1.0482, 1.2004, 1.1558, 1.1681, 1.0955, 1.2609, 0.8291, 1.013, 0.9727, 3.2464, 3.2179, 3.1963, 3.1914, 3.182, 3.1718, 3.1678, 3.1654, 3.1571, 3.1514, 3.1489, 3.1487, 3.1395, 3.1347, 3.1346, 3.1304, 3.1268, 3.1263, 3.119, 3.1144, 3.1143, 3.1123, 3.1119, 3.1105, 3.105, 3.1001, 3.0986, 3.0864, 3.085, 3.0708, 3.0512, 3.0623, 2.9234, 2.914, 2.8219, 2.9988, 2.7545, 2.5127, 2.2067, 2.4061, 2.718, 2.875, 2.3754, 2.2386, 2.2058, 2.0542, 2.0735, 2.33, 2.0701, 1.9672, 1.4554, 2.626, 2.2467, 1.5146, 2.3524, 2.6925, 1.2598, 2.171, 1.4568, 0.9591, 1.1416, 1.1897, 1.5653, 1.1758, 0.8461, 1.0412, 0.2305, 0.4537, 3.9627, 3.9375, 3.9268, 3.9261, 3.9135, 3.9012, 3.8946, 3.8946, 3.8921, 3.8846, 3.8649, 3.8596, 3.8572, 3.8562, 3.8558, 3.8547, 3.8535, 3.8505, 3.8451, 3.8418, 3.8281, 3.8152, 3.8089, 3.8081, 3.8075, 3.8073, 3.7959, 3.7755, 3.7699, 3.7691, 3.6515, 3.7145, 3.6807, 3.6447, 3.4069, 3.5427, 3.6458, 3.5075, 2.7076, 3.0261, 3.3242, 2.4452, 1.9786, 3.4355, 1.2578, 3.0156, 2.1085, 1.0356, 1.4508, 1.03, 2.1354, 2.1081, 0.0485, 1.212, 4.0789, 4.0785, 4.0598, 4.0594, 4.0387, 4.0378, 4.0338, 4.0121, 4.0091, 4.0035, 4.0026, 3.9956, 3.9945, 3.9924, 3.9912, 3.9834, 3.9828, 3.9783, 3.9759, 3.9708, 3.933, 3.9249, 3.9187, 3.9186, 3.9158, 3.9153, 3.9098, 3.9057, 3.9009, 3.9009, 3.8676, 3.8938, 3.8386, 3.8218, 3.8931, 3.6022, 3.7901, 3.5302, 3.6909, 3.6179, 3.7884, 3.6717, 3.184, 3.6601, 3.1272, 3.6752, 4.2466, 4.2095, 4.1965, 4.1757, 4.1668, 4.1575, 4.1561, 4.1294, 4.1275, 4.1178, 4.0618, 4.0566, 4.0397, 4.0302, 4.0299, 4.0279, 4.011, 4.007, 3.941, 3.9239, 3.909, 3.8785, 3.8328, 3.7288, 3.6886, 3.6839, 3.5329, 3.4576, 3.4056, 3.3669, 3.3051, 3.1667, 2.5764, 1.6274, 1.843, 4.3282, 4.3218, 4.2746, 4.2447, 4.2298, 4.1959, 4.1914, 4.1509, 4.1151, 4.0937, 4.0779, 4.0767, 4.0389, 4.0159, 3.9957, 3.9883, 3.9863, 3.9266, 3.9224, 3.838, 3.7864, 3.7656, 3.6673, 3.6532, 3.6042, 3.5713, 3.2995, 3.1926, 3.1626, 3.1332, 2.6212, 2.5771, -0.0632, 0.8661, 1.3168, 4.3849, 4.3808, 4.3606, 4.3572, 4.2909, 4.2779, 4.2523, 4.2427, 4.2416, 4.2257, 4.2034, 4.203, 4.1953, 4.1947, 4.1797, 4.1528, 4.1333, 4.0811, 4.0647, 4.0277, 3.9949, 3.9721, 3.9546, 3.9109, 3.8675, 3.7538, 3.7419, 3.6796, 3.4335, 3.4204, 3.1503, 3.0822, 2.6716, 2.4862, 1.7822, 4.4339, 4.4002, 4.3849, 4.336, 4.3319, 4.3162, 4.308, 4.293, 4.2844, 4.2791, 4.2444, 4.1891, 3.9956, 3.8642, 3.7453, 3.6915, 3.6507, 3.3921, 3.2161, 2.8723, 2.6981, 2.5738, 2.5396, 2.4949, 2.4875, 2.4593, 2.3836, 2.3826, 2.38, 2.3353, 2.3298, 2.0509, 1.9639, 2.0434, 1.716, 1.4315, 1.24, -0.2036, -1.506, 1.3157, 0.151, -0.1277, 4.5763, 4.484, 4.4782, 4.4414, 4.4375, 4.3503, 4.2268, 4.1808, 4.1407, 4.1271, 4.0827, 4.063, 4.0471, 4.0388, 4.037, 4.0315, 3.9767, 3.9707, 3.59, 3.4296, 3.398, 3.3599, 3.0894, 3.0757, 2.8802, 2.8539, 2.8359, 2.7841, 2.7403, 2.6997, 2.5343, 2.6055, 1.4241, 0.8873, 1.192, 1.5395, 0.6721, -0.5687, -0.2625, -1.7263]}, \"token.table\": {\"Topic\": [1, 3, 1, 11, 1, 2, 3, 8, 1, 2, 3, 4, 5, 6, 7, 8, 9, 11, 1, 7, 6, 5, 1, 2, 9, 1, 2, 3, 4, 1, 2, 10, 1, 11, 1, 2, 3, 4, 5, 6, 9, 11, 1, 2, 11, 1, 10, 2, 1, 2, 3, 4, 1, 2, 3, 4, 5, 6, 7, 11, 1, 2, 3, 4, 5, 6, 7, 10, 11, 7, 1, 5, 11, 5, 1, 3, 1, 2, 3, 4, 1, 2, 3, 4, 5, 6, 7, 8, 11, 1, 2, 10, 1, 2, 9, 1, 5, 1, 2, 2, 4, 1, 2, 10, 1, 3, 7, 9, 1, 2, 3, 4, 6, 7, 1, 2, 1, 2, 3, 4, 5, 6, 7, 1, 6, 1, 2, 3, 4, 6, 4, 11, 1, 6, 1, 4, 1, 2, 3, 4, 5, 6, 7, 1, 2, 3, 5, 6, 1, 9, 1, 2, 1, 2, 8, 9, 8, 1, 2, 3, 5, 1, 2, 3, 4, 5, 1, 2, 1, 10, 1, 2, 3, 4, 5, 8, 1, 2, 5, 1, 4, 1, 2, 3, 5, 7, 2, 4, 1, 2, 3, 4, 5, 6, 9, 5, 1, 2, 3, 4, 5, 7, 8, 1, 2, 3, 4, 6, 7, 7, 1, 2, 3, 10, 2, 1, 8, 1, 2, 3, 1, 2, 3, 6, 11, 6, 1, 2, 3, 4, 5, 11, 1, 2, 3, 4, 5, 6, 11, 1, 2, 3, 4, 5, 2, 1, 2, 3, 4, 5, 8, 1, 8, 1, 2, 3, 7, 1, 2, 3, 4, 5, 6, 7, 8, 9, 10, 1, 2, 3, 2, 8, 1, 2, 3, 4, 5, 6, 7, 1, 2, 3, 4, 1, 2, 3, 4, 5, 6, 7, 8, 9, 11, 1, 10, 1, 9, 1, 2, 3, 4, 6, 8, 1, 6, 7, 1, 3, 4, 1, 2, 3, 4, 5, 6, 7, 10, 1, 2, 3, 4, 5, 6, 9, 1, 2, 3, 4, 5, 1, 2, 4, 1, 2, 3, 4, 5, 6, 9, 4, 1, 2, 3, 4, 1, 1, 2, 6, 6, 1, 2, 3, 4, 5, 7, 3, 8, 1, 8, 1, 5, 11, 1, 2, 3, 4, 5, 6, 7, 1, 2, 1, 2, 3, 4, 5, 8, 11, 5, 1, 5, 7, 1, 2, 3, 4, 5, 6, 7, 8, 9, 1, 10, 4, 1, 2, 3, 4, 1, 2, 3, 4, 1, 2, 4, 8, 1, 8, 1, 9, 1, 2, 3, 6, 1, 2, 3, 9, 1, 2, 3, 4, 5, 6, 7, 8, 9, 11, 1, 2, 3, 4, 5, 7, 9, 11, 1, 9, 1, 2, 3, 4, 5, 6, 1, 2, 3, 4, 6, 7, 10, 11, 1, 2, 6, 1, 2, 3, 4, 5, 1, 2, 3, 4, 5, 6, 5, 7, 1, 11, 10, 1, 10, 1, 2, 3, 4, 6, 1, 2, 3, 4, 5, 6, 7, 1, 2, 4, 5, 2, 6, 1, 2, 3, 4, 5, 6, 7, 1, 2, 3, 5, 7, 1, 2, 3, 4, 5, 6, 7, 3, 7, 1, 2, 8, 1, 2, 3, 4, 1, 3, 4, 7, 4, 1, 2, 3, 4, 5, 6, 7, 1, 11, 6, 1, 8, 1, 2, 3, 4, 5, 1, 2, 1, 2, 3, 4, 6, 7, 9, 7, 1, 2, 3, 4, 5, 6, 7, 8, 9, 11, 1, 2, 3, 4, 5, 6, 7, 9, 10, 1, 8, 5, 9, 1, 2, 3, 5, 4, 6, 1, 9, 10, 1, 2, 3, 4, 5, 6, 7, 1, 2, 3, 4, 5, 6, 7, 8, 9, 11, 11, 1, 11, 1, 11, 2, 1, 2, 3, 4, 5, 6, 7, 9, 1, 2, 3, 1, 2, 3, 4, 5, 6, 2, 1, 2, 3, 4, 5, 6, 8, 1, 2, 1, 3, 5, 2, 1, 4, 1, 11, 1, 6, 1, 6, 2, 4, 1, 2, 3, 4, 5, 6, 7, 8, 9, 11, 11, 1, 1, 2, 3, 4, 5, 6, 7, 8, 9, 10, 11, 2, 1, 2, 3, 4, 5, 1, 8, 1, 9, 2, 1, 2, 3, 4, 5, 1, 2, 3, 7, 1, 8, 1, 2, 3, 1, 2, 3, 4, 5, 1, 2, 5, 1, 8, 5, 1, 2, 11, 11, 1, 11, 7, 1, 2, 3, 4, 11, 1, 2, 3, 4, 5, 6, 1, 2, 9, 8, 1, 4, 1, 2, 1, 2, 3, 5, 1, 2, 3, 4, 5, 10, 1, 2, 3, 4, 5, 6, 10, 3, 1, 2, 3, 4, 5, 6, 7, 8, 9, 1, 2, 3, 1, 2, 3, 4, 5, 6, 7, 1, 2, 3, 4, 5, 6, 8, 10, 11, 1, 2, 5, 1, 11, 1, 2, 3, 4, 5, 6, 7, 5, 1, 2, 3, 4, 3, 5, 1, 2, 3, 4, 8, 1, 2, 3, 4, 5, 6, 7, 1, 2, 3, 4, 6, 9, 1, 9, 1, 2, 3, 4, 5, 6, 7, 8, 1, 2, 3, 4, 5, 6, 5, 1, 2, 3, 6, 10, 10, 4, 8, 5, 2, 4, 7, 7, 1, 2, 3, 4, 5, 9, 10, 1, 2, 9, 1, 2, 3, 4, 5, 6, 7, 8, 9, 11, 2, 1, 2, 3, 4, 5, 6, 9, 6, 1, 5, 1, 2, 3, 4, 4, 1, 9, 1, 1, 4, 8, 1, 3, 1, 2, 3, 5, 1, 2, 7, 4, 1, 2, 3, 7, 1, 4, 8, 6, 1, 2, 3, 4, 5, 6, 7, 8, 9, 11, 1, 2, 3, 2, 1, 2, 3, 4, 5, 6, 1, 2, 3, 4, 5, 6, 7, 8, 1, 5, 10, 1, 2, 3, 6, 10, 1, 6, 1, 2, 3, 4, 5, 6, 7, 9, 5, 2, 1, 6, 1, 2, 3, 4, 6, 1, 4, 4, 1, 2, 3, 5, 1, 1, 2, 3, 1, 2, 3, 1, 2, 3, 4, 5, 1, 2, 3, 1, 2, 3, 4, 1, 5, 1, 10, 1, 8, 1, 11, 1, 2, 3, 4, 5, 6, 7, 9, 6, 2, 4, 1, 2, 3, 4, 5, 9, 1, 2, 10, 2, 6, 1, 2, 3, 5, 1, 9, 1, 2, 6, 1, 11, 1, 6, 1, 2, 5, 7, 3, 5, 1, 2, 5, 6, 7, 1, 5, 1, 6, 1, 7, 6, 1, 2, 3, 4, 5, 6, 8, 9, 2, 1, 2, 4, 5, 2, 1, 2, 3, 4, 5, 6, 7, 6, 1, 3, 1, 3, 6, 7, 9, 1, 8, 6, 1, 7, 7, 5, 1, 2, 3, 4, 5, 6, 7, 9, 11, 1, 2, 3, 4, 5, 6, 7, 9, 11, 1, 9, 5, 1, 2, 3, 4, 5, 1, 8, 8, 8, 9, 1, 2, 1, 2, 6, 11, 4, 1, 7, 5, 1, 11, 4, 1, 2, 3, 4, 5, 6, 11, 1, 2, 1, 2, 3, 4, 5, 6, 7, 3, 1, 9, 1, 2, 3, 4, 5, 6, 1, 2, 5, 7, 1, 2, 3, 4, 5, 1, 10, 1, 2, 3, 4, 5, 10, 1, 2, 7, 1, 2, 3, 4, 7, 6, 1, 7, 1, 2, 9, 1, 4, 9, 4, 1, 6, 2, 1, 2, 3, 4, 5, 6, 8, 1, 2, 4, 1, 10, 1, 2, 6, 11, 11, 1, 2, 3, 4, 5, 6, 7, 4, 1, 2, 3, 6, 1, 2, 3, 7, 9, 10, 1, 2, 3, 4, 5, 7, 1, 2, 3, 4, 5, 6, 8, 9, 10, 5, 1, 9, 1, 2, 3, 4, 5, 6, 9, 10, 1, 2, 9, 1, 9, 1, 4, 7, 1, 10, 6, 1, 2, 3, 4, 5, 6, 1, 2, 3, 4, 5, 6, 7, 8, 9, 11, 5, 4, 1, 2, 4, 1, 4, 4, 1, 2, 3, 4, 1, 2, 10, 1, 2, 5, 1, 2, 3, 4, 5, 6, 7, 8, 1, 2, 1, 4, 1, 1, 5, 1, 2, 3, 5, 6, 9, 1, 9, 1, 2, 3, 4, 5, 6, 2, 1, 10, 1, 2, 3, 4, 5, 8, 1, 2, 3, 10, 1, 7, 7, 2, 6, 1, 2, 3, 1, 2, 3, 8, 8, 4, 5, 1, 2, 10, 1, 2, 3, 4, 1, 2, 3, 5, 6, 11, 1, 2, 3, 4, 5, 8, 9, 1, 2, 3, 1, 2, 3, 4, 6, 9, 1, 2, 3, 4, 5, 6, 7, 11, 7, 5, 2, 6, 6, 1, 2, 3, 4, 5, 7, 10, 1, 2, 3, 4, 5, 6, 7, 8, 11, 1, 2, 11, 1, 2, 3, 4, 5, 6, 1, 2, 3, 4, 5, 6, 7, 9, 11, 1, 11, 1, 2, 3, 4, 5, 6, 1, 10, 5, 10, 6, 6, 3, 1, 2, 3, 1, 2, 3, 4, 5, 7, 1, 3, 11, 1, 2, 3, 5, 6, 8, 5, 1, 2, 1, 2, 9, 5, 2, 6, 1, 10, 1, 2, 3, 4, 5, 6, 7, 8, 9, 11, 3, 1, 6, 3, 1, 2, 3, 4, 5, 6, 7, 8, 9, 8, 1, 2, 1, 10, 1, 2, 3, 4, 4, 1, 2, 4, 5, 1, 5, 1, 1, 4, 1, 2, 5, 3, 1, 7, 1, 3, 6, 1, 2, 3, 7, 2, 1, 2, 3, 9, 5, 1, 2, 3, 4, 5, 6, 9, 11, 1, 2, 3, 4, 5, 6, 7, 9, 1, 5, 10, 1, 2, 3, 4, 7, 1, 9, 3, 1, 9, 1, 1, 2, 3, 4, 5, 1, 2, 3, 4, 5, 11, 1, 2, 3, 4, 5, 6, 7, 5, 3, 1, 2, 3, 6, 1, 2, 3, 4, 5, 6, 7, 1, 2, 9, 1, 2, 4, 1, 6, 2, 1, 11, 1, 2, 3, 1, 2, 3, 4, 5, 6, 1, 2, 3, 4, 5, 10, 1, 3, 1, 2, 3, 4, 5, 6, 7, 9, 1, 2, 10, 11, 1, 2, 1, 2, 3, 4, 5, 6, 7, 4, 1, 2, 3, 4, 5, 6, 8, 3, 2, 3, 1, 2, 3, 1, 2, 3, 4, 5, 10, 1, 2, 3, 4, 5, 1, 2, 3, 4, 6, 1, 6, 2, 1, 2, 3, 4, 5, 6, 7, 9, 11, 1, 2, 5, 1, 1, 1, 10, 2, 5, 1, 2, 3, 1, 1, 2, 10, 1, 8, 1, 2, 3, 4, 5, 6, 7, 9, 1, 2, 3, 6, 11, 1, 3, 7, 11, 1, 7, 1, 2, 3, 5, 7, 1, 2, 3, 1, 2, 3, 4, 5, 6, 7, 9, 5, 1, 3, 7, 3, 1, 2, 3, 4, 5, 6, 7, 8, 9, 11, 1, 2, 3, 4, 5, 6, 7, 9, 7, 6, 1, 2, 3, 4, 5, 6, 7, 9, 10, 11, 1, 2, 6, 1, 2, 3, 4, 5, 6, 7, 1, 2, 3, 4, 5, 1, 8, 1, 2, 3, 10, 1, 3, 4, 2, 1, 2, 1, 10, 3, 1, 2, 3, 1, 2, 3, 4, 5, 6, 7, 8, 9, 1, 2, 3, 8, 1, 2, 3, 1, 8, 1, 11, 1, 2, 6, 1, 2, 3, 4, 9, 3, 1, 2, 3, 4, 5, 8, 1, 2, 3, 4, 5, 6, 6, 1, 2, 3, 4, 5, 6, 7, 10, 11, 7, 1, 2, 3, 1, 4, 6, 7, 9, 1, 2, 11, 9, 1, 11, 1, 2], \"Freq\": [0.0450533916123368, 0.9010678322467359, 0.15001617299275802, 0.6000646919710321, 0.5782610692212399, 0.02965441380621743, 0.05930882761243486, 0.2965441380621743, 0.6776166391339973, 0.17364742390139046, 0.11228329665804195, 0.02611239457163766, 0.005222478914327532, 0.001305619728581883, 0.001305619728581883, 0.001305619728581883, 0.001305619728581883, 0.001305619728581883, 0.1838347152326678, 0.6434215033143373, 0.8891596991422306, 0.8782943543867422, 0.1345752929305717, 0.044858430976857225, 0.7177348956297156, 0.4388902256761126, 0.513418754564509, 0.024842842962798827, 0.008280947654266275, 0.5801621234205075, 0.20720075836446697, 0.16576060669157358, 0.33162624301153204, 0.33162624301153204, 0.4757808513591662, 0.08274449588855064, 0.42578938509316683, 0.01034306198606883, 0.001723843664344805, 0.001723843664344805, 0.001723843664344805, 0.001723843664344805, 0.4232441768734955, 0.2539465061240973, 0.16929767074939822, 0.4382313739890681, 0.2921542493260454, 0.8497112852407487, 0.9390026943747898, 0.030888246525486506, 0.012355298610194602, 0.006177649305097301, 0.7599013621156476, 0.10517665911635261, 0.12489728270066873, 0.0052588329558176305, 0.0013147082389544076, 0.0013147082389544076, 0.0013147082389544076, 0.0013147082389544076, 0.803755203548654, 0.12698734628556801, 0.05079493851422721, 0.010457781458811483, 0.002987937559660424, 0.001493968779830212, 0.001493968779830212, 0.001493968779830212, 0.001493968779830212, 0.8908300615224667, 0.07281351411275669, 0.8737621693530803, 0.393135268067194, 0.7849290356460059, 0.1499442370549429, 0.7797100326857029, 0.2446424349650117, 0.1256271963333844, 0.01983587310527122, 0.6083001085616507, 0.5308262230897937, 0.2836223270978731, 0.015450243499495035, 0.11256605978203525, 0.05186867460544762, 0.0022071776427850047, 0.0011035888213925024, 0.0011035888213925024, 0.0011035888213925024, 0.6872290132085452, 0.21991328422673448, 0.02748916052834181, 0.16176257748517955, 0.08088128874258978, 0.5661690211981284, 0.35739215581451145, 0.5718274493032184, 0.9501310105618024, 0.015575918205931186, 0.8114325667374511, 0.07376659697613192, 0.049993283611854344, 0.09998656722370869, 0.7498992541778152, 0.2337492941812136, 0.2804991530174563, 0.37399887068994175, 0.8053615211632553, 0.9431577269297242, 0.028238255297297135, 0.005647651059459427, 0.005647651059459427, 0.005647651059459427, 0.005647651059459427, 0.3218055443066919, 0.6436110886133838, 0.28138841830499534, 0.10552065686437326, 0.6006560467664324, 0.002705657868317263, 0.002705657868317263, 0.005411315736634526, 0.002705657868317263, 0.2294761196591536, 0.717112873934855, 0.953156321621191, 0.015625513469199853, 0.010417008979466569, 0.010417008979466569, 0.005208504489733284, 0.8257571693529453, 0.5944072693068152, 0.07851500575759761, 0.7851500575759761, 0.2036604247551104, 0.7128114866428864, 0.9291432423254287, 0.03203942214915271, 0.009154120614043632, 0.009154120614043632, 0.009154120614043632, 0.004577060307021816, 0.004577060307021816, 0.3675839367960814, 0.13127997742717193, 0.09189598419902036, 0.3807119345387986, 0.013127997742717194, 0.26229242498532346, 0.6295018199647763, 0.14718762144304542, 0.7948131557924453, 0.9545161302595927, 0.01239631337999471, 0.8260950457245895, 0.6493202118132076, 0.7192935865468228, 0.17544480076432903, 0.04386120019108226, 0.7602608033120924, 0.004873466687898028, 0.16999742006734916, 0.0736655486958513, 0.7423220676274247, 0.005666580668911639, 0.005666580668911639, 0.3638390817063257, 0.6063984695105428, 0.7324444471153558, 0.13317171765733743, 0.5334888191149406, 0.05798791512118919, 0.3015371586301838, 0.011597583024237839, 0.05798791512118919, 0.034792749072713514, 0.9807066277753428, 0.007631958192804224, 0.003815979096402112, 0.07330585134875253, 0.8430172905106542, 0.1183056808769261, 0.015774090783590145, 0.8360268115302777, 0.007887045391795073, 0.007887045391795073, 0.024203785959950538, 0.9197438664781205, 0.8716747333572851, 0.08894640136298827, 0.023719040363463537, 0.00790634678782118, 0.00395317339391059, 0.001976586696955295, 0.001976586696955295, 0.8396971017010982, 0.34710825986699584, 0.0749753841312711, 0.5664806801029372, 0.005553732157871933, 0.0027768660789359665, 0.0013884330394679833, 0.0013884330394679833, 0.9359181318590963, 0.027937854682361086, 0.013968927341180543, 0.009312618227453695, 0.004656309113726847, 0.004656309113726847, 0.48985519680942646, 0.786972206096108, 0.12761711450207155, 0.05317379770919649, 0.010634759541839298, 0.8496185081734169, 0.2571973608188255, 0.6944328742108289, 0.14307444005389827, 0.7630636802874575, 0.047691480017966095, 0.2807926435665991, 0.638165099014998, 0.0638165099014998, 0.006381650990149979, 0.006381650990149979, 0.8394184578769461, 0.635757257828082, 0.030274155134670574, 0.004324879304952939, 0.10812198262382348, 0.211919085942694, 0.004324879304952939, 0.56964874178174, 0.07320787042978183, 0.009150983803722729, 0.338586400737741, 0.002287745950930682, 0.002287745950930682, 0.002287745950930682, 0.6848029100259959, 0.07752485773879199, 0.051683238492528, 0.019381214434697997, 0.15504971547758398, 0.8585828857363534, 0.30143190322300345, 0.35057840918327576, 0.327643373068482, 0.00655286746136964, 0.00655286746136964, 0.00327643373068482, 0.3351401228654513, 0.5585668714424189, 0.7622300218732423, 0.10163066958309898, 0.025407667395774745, 0.07622300218732424, 0.5685157351311527, 0.16180832461425115, 0.24927228386519773, 0.01049567511011359, 0.003498558370037863, 0.0026239187775283974, 0.0008746395925094657, 0.0008746395925094657, 0.0008746395925094657, 0.0008746395925094657, 0.15116804154600383, 0.05668801557975143, 0.7652882103266443, 0.0984953925748183, 0.6894677480237281, 0.4855500008802446, 0.07488582103128151, 0.42274253807981493, 0.007247014938511113, 0.002415671646170371, 0.002415671646170371, 0.002415671646170371, 0.5269064804953787, 0.43233352245774664, 0.03039845079781031, 0.0033776056442011457, 0.7903200528726968, 0.10557710629978774, 0.07139023378366599, 0.022120917510431718, 0.006032977502845013, 0.001005496250474169, 0.001005496250474169, 0.001005496250474169, 0.001005496250474169, 0.001005496250474169, 0.4108171302494181, 0.20540856512470906, 0.02796434028931006, 0.922823229547232, 0.23844323666294057, 0.13855485373657359, 0.16755470684422852, 0.4446644143173757, 0.0032222059008505484, 0.0032222059008505484, 0.16403465860405542, 0.04473672507383329, 0.760524326255166, 0.12094137212378711, 0.8062758141585807, 0.02015689535396452, 0.2839939324682633, 0.26214824535532, 0.4436354921397723, 0.0033608749404528205, 0.0016804374702264102, 0.0016804374702264102, 0.0016804374702264102, 0.0016804374702264102, 0.31213204202937056, 0.29872011834842105, 0.04145503683202578, 0.32798249728867457, 0.013411923680949516, 0.0036577973675316865, 0.0012192657891772287, 0.2796076410161227, 0.2796076410161227, 0.041118770737665095, 0.3782926907865189, 0.008223754147533019, 0.43999464477141736, 0.04258012691336297, 0.496768147322568, 0.8848837527394902, 0.06107783478504899, 0.01936614273672285, 0.026814659173923946, 0.0029794065748804384, 0.0029794065748804384, 0.0014897032874402192, 0.8809240489385178, 0.9686702025174262, 0.012366002585328845, 0.008244001723552564, 0.004122000861776282, 0.9549656029834407, 0.09111532314878198, 0.18223064629756397, 0.592249600467083, 0.8249733228234124, 0.32736601638258994, 0.0986295049357803, 0.5519055276193663, 0.0062955003150498064, 0.01049250052508301, 0.002098500105016602, 0.45938424236338027, 0.3062561615755868, 0.09506290934911717, 0.7605032747929373, 0.4884904530012506, 0.16283015100041687, 0.16283015100041687, 0.563041141369661, 0.08503070298235697, 0.32633404928364024, 0.013788762645787616, 0.004596254215262539, 0.0022981271076312694, 0.0022981271076312694, 0.10728996414438152, 0.8046747310828614, 0.6613835273560528, 0.14887230689564288, 0.02440529621240047, 0.08053747750092155, 0.07809694787968151, 0.002440529621240047, 0.002440529621240047, 0.9038857423602323, 0.18779503825394908, 0.7511801530157963, 0.7389382784314933, 0.7155135217285805, 0.16869831000104746, 0.07329650710390337, 0.03373966200020949, 0.004653746482787516, 0.001163436620696879, 0.001163436620696879, 0.001163436620696879, 0.001163436620696879, 0.20266155262142943, 0.40532310524285886, 0.8610625140442972, 0.1780191198274074, 0.11444086274619047, 0.690883726949224, 0.004238550472081129, 0.4575361288322965, 0.1491965637496619, 0.01491965637496619, 0.37299140937415476, 0.7731812046758307, 0.030520310710888055, 0.010173436903629351, 0.172948427361699, 0.23222207001082348, 0.7256939687838234, 0.218406588028611, 0.7488225875266663, 0.3649310015340294, 0.04759969585226471, 0.015866565284088235, 0.539463219659, 0.12062400551150808, 0.8529840389742357, 0.008616000393679149, 0.008616000393679149, 0.7171266409028195, 0.17032849570773426, 0.057649644701079285, 0.045420932188729134, 0.002620438395503604, 0.0017469589303357358, 0.0017469589303357358, 0.0008734794651678679, 0.0008734794651678679, 0.0008734794651678679, 0.6046506513367161, 0.253991182693166, 0.015163652698099465, 0.11751830841027085, 0.0018954565872624331, 0.0018954565872624331, 0.0018954565872624331, 0.0018954565872624331, 0.18266147020272447, 0.6393151457095357, 0.24138755499184983, 0.3398482682122096, 0.00635230407873289, 0.40019515696017205, 0.003176152039366445, 0.003176152039366445, 0.8092858090265492, 0.15201254015704413, 0.02461155412066429, 0.007238692388430673, 0.0014477384776861346, 0.0014477384776861346, 0.0028954769553722693, 0.0014477384776861346, 0.24989420347101735, 0.04997884069420347, 0.5997460883304416, 0.9283103491602088, 0.04378822401699098, 0.01751528960679639, 0.004378822401699098, 0.004378822401699098, 0.9353921325387794, 0.015676963115175073, 0.01306413592931256, 0.02612827185862512, 0.0026128271858625123, 0.0026128271858625123, 0.8032862012349586, 0.7731430476561789, 0.20698292804326626, 0.5174573201081657, 0.5693043808286262, 0.3188321674962131, 0.3188321674962131, 0.9143654387387818, 0.03324965231777388, 0.04322454801310605, 0.0033249652317773886, 0.0033249652317773886, 0.40871109452956383, 0.2710169824688017, 0.013113724958167823, 0.2863163282533308, 0.01092810413180652, 0.0021856208263613037, 0.0021856208263613037, 0.2420144360175214, 0.026163722812705015, 0.013081861406352507, 0.7064205159430355, 0.08222538355284528, 0.7400284519756076, 0.8860513198247334, 0.07450281367895657, 0.015964888645490692, 0.005321629548496898, 0.002660814774248449, 0.007982444322745346, 0.002660814774248449, 0.22083029239956928, 0.6870275763542155, 0.0245366991555077, 0.0245366991555077, 0.0245366991555077, 0.12372832468215746, 0.024745664936431492, 0.8425898910854923, 0.0012372832468215745, 0.0037118497404647235, 0.0012372832468215745, 0.0012372832468215745, 0.7968262624293151, 0.6677221243273982, 0.09624007191098166, 0.03208002397032722, 0.8020005992581805, 0.906543215189526, 0.03865106731428212, 0.03865106731428212, 0.00702746678441493, 0.4509453199114213, 0.04509453199114213, 0.04509453199114213, 0.360756255929137, 0.856934808096924, 0.41749127733308944, 0.10638773862542047, 0.39331224582731206, 0.06608935278245817, 0.009671612602310952, 0.001611935433718492, 0.001611935433718492, 0.2774248828217489, 0.5548497656434977, 0.7644971292068246, 0.10340290499868529, 0.6204174299921117, 0.15761631118018912, 0.10198702488129885, 0.03708619086592685, 0.6675514355866833, 0.018543095432963425, 0.9741991582333698, 0.009741991582333699, 0.4515232315059008, 0.49022522277783515, 0.0086004425048743, 0.0344017700194972, 0.00430022125243715, 0.00430022125243715, 0.00430022125243715, 0.8434555928262825, 0.8227253078666193, 0.11130443849379293, 0.037101479497930974, 0.020405813723862038, 0.0018550739748965487, 0.0018550739748965487, 0.0009275369874482744, 0.0009275369874482744, 0.0009275369874482744, 0.0009275369874482744, 0.6155354270583583, 0.3185937135025673, 0.04021085704401335, 0.009279428548618466, 0.006186285699078978, 0.003093142849539489, 0.003093142849539489, 0.003093142849539489, 0.003093142849539489, 0.3246039215809105, 0.4328052287745473, 0.8055242300558008, 0.7296024461875592, 0.9481513547327987, 0.025284036126207964, 0.006321009031551991, 0.006321009031551991, 0.8245876693591873, 0.850596432376312, 0.07226454087363994, 0.7949099496100394, 0.7389739981730131, 0.5279941525282742, 0.28880217067821706, 0.12579726452854853, 0.047838396370011416, 0.003543584916297142, 0.001771792458148571, 0.001771792458148571, 0.8255058348893355, 0.10665939303998295, 0.03723611946366268, 0.024613706086149913, 0.002524482675502555, 0.0012622413377512776, 0.0006311206688756388, 0.0006311206688756388, 0.0006311206688756388, 0.0006311206688756388, 0.8206923799737933, 0.5805892145440809, 0.24882394909032038, 0.36283990762343926, 0.5442598614351589, 0.821701842658904, 0.7542004338492291, 0.1240090399453142, 0.05974981015546957, 0.04960361597812568, 0.006764129451562593, 0.002254709817187531, 0.0011273549085937654, 0.0011273549085937654, 0.049905739107649255, 0.049905739107649255, 0.8483975648300374, 0.44868873318647445, 0.07960606556534223, 0.12302755587371074, 0.06875069298825011, 0.27500277195300044, 0.0036184575256973744, 0.8070000288956466, 0.5134737511792737, 0.15279841730594307, 0.29671320569874987, 0.017767257826272448, 0.01421380626101796, 0.00355345156525449, 0.001776725782627245, 0.11072739714395158, 0.8120009123889783, 0.21639387225953796, 0.09617505433757244, 0.6251378531942208, 0.847438893325757, 0.06602045120297462, 0.85826586563867, 0.4799181144052256, 0.15997270480174186, 0.09314944758863389, 0.838345028297705, 0.12284406237811182, 0.8445529288495188, 0.08886407332324334, 0.8442086965708117, 0.738861252391446, 0.13353972694827562, 0.08346232934267225, 0.027235075890766736, 0.010542610022232285, 0.002635652505558071, 0.0008785508351860237, 0.0008785508351860237, 0.0008785508351860237, 0.0008785508351860237, 0.7927408649417017, 0.9656692185289711, 0.7313908998812766, 0.14214310775077815, 0.07580965746708168, 0.03962777549415633, 0.0060303136621542245, 0.002584420140923239, 0.0008614733803077463, 0.0008614733803077463, 0.0008614733803077463, 0.0008614733803077463, 0.5441061030870198, 0.8455111728409666, 0.9688861858381325, 0.013801797519061717, 0.008281078511437029, 0.0027603595038123434, 0.0027603595038123434, 0.533640817774008, 0.266820408887004, 0.3690866846822623, 0.3690866846822623, 0.7976118565565699, 0.9499224450313366, 0.024048669494464218, 0.0060121673736160544, 0.012024334747232109, 0.0060121673736160544, 0.3077832391676794, 0.1629440677946538, 0.4345175141190768, 0.0724195856865128, 0.9543948948487034, 0.5122193762243501, 0.11607992018549099, 0.038693306728496996, 0.8125594412984369, 0.5551207678914192, 0.3092815706823621, 0.08987669575384882, 0.023790890052489393, 0.01586059336832626, 0.2171532091454243, 0.6731749483508154, 0.04343064182908486, 0.6192569007363713, 0.15481422518409282, 0.8694862703433776, 0.21563255556674538, 0.7547139444836088, 0.8376956064205032, 0.39510656804741967, 0.2929020610978697, 0.6508934691063771, 0.9051268035605764, 0.5992119582172616, 0.01536440918505799, 0.01536440918505799, 0.3226525928862178, 0.01536440918505799, 0.20905683590598753, 0.1219498209451594, 0.6533026122062111, 0.002903567165360938, 0.005807134330721876, 0.005807134330721876, 0.36164822911733707, 0.6148019894994731, 0.7865435545378024, 0.5741323208536276, 0.11503113044850687, 0.7477023479152947, 0.9533978600733387, 0.01733450654678798, 0.20045418572071586, 0.025056773215089482, 0.7391748098451397, 0.012528386607544741, 0.26182272107956117, 0.07735671304623397, 0.6307547371462154, 0.011901032776343688, 0.005950516388171844, 0.005950516388171844, 0.5072940192266443, 0.08507415229266704, 0.38440913258168075, 0.014179025382111174, 0.0047263417940370585, 0.0015754472646790194, 0.0015754472646790194, 0.8437361527800018, 0.48440724392316425, 0.26555658826641787, 0.2108439243522313, 0.02802355956580289, 0.005337820869676741, 0.0013344552174191853, 0.0013344552174191853, 0.0013344552174191853, 0.0013344552174191853, 0.11045351283696417, 0.010041228439724015, 0.8535044173765413, 0.49104961579913364, 0.23354798800202697, 0.2634900377458766, 0.006986478273564909, 0.002994204974384961, 0.000998068324794987, 0.000998068324794987, 0.6431931873421738, 0.18512072828965925, 0.14188085014900892, 0.01891744668653452, 0.004053738575685969, 0.002702492383790646, 0.001351246191895323, 0.001351246191895323, 0.001351246191895323, 0.08197454545668176, 0.7787581818384767, 0.04098727272834088, 0.3764626976169271, 0.18823134880846354, 0.5435809679013835, 0.22463440629363168, 0.06687589195001249, 0.15432898142310575, 0.003429532920513461, 0.0017147664602567305, 0.0017147664602567305, 0.9153383953445738, 0.08095107670300361, 0.026983692234334538, 0.8364944592643707, 0.026983692234334538, 0.03372316348670408, 0.9105254141410102, 0.6772584896750505, 0.0387004851242886, 0.0387004851242886, 0.17415218305929872, 0.0387004851242886, 0.6134547619729194, 0.07910337720177117, 0.2437675501523969, 0.04843063910312521, 0.009686127820625041, 0.0016143546367708404, 0.0016143546367708404, 0.9015805683601228, 0.06394188428085977, 0.015985471070214943, 0.009591282642128966, 0.0031970942140429888, 0.0031970942140429888, 0.17827842399429933, 0.5348352719828979, 0.7719143526360849, 0.07520489097373621, 0.009932721449361387, 0.08371865221604598, 0.05108256745385856, 0.0028379204141032533, 0.0014189602070516266, 0.0014189602070516266, 0.681579848298984, 0.0919340260496304, 0.0031701388292975996, 0.08559374839103519, 0.1331458308304992, 0.0031701388292975996, 0.8214173966517848, 0.822355771068616, 0.11287236073490808, 0.032249245924259456, 0.008062311481064864, 0.008062311481064864, 0.7677483338285697, 0.8859408757640844, 0.8516820537387647, 0.9435364272866384, 0.05052374265721866, 0.8589036251727171, 0.05052374265721866, 0.4738311126576719, 0.48727218796675315, 0.17147408374196593, 0.3057954493398392, 0.025721112561294886, 0.005715802791398864, 0.001428950697849716, 0.001428950697849716, 0.1608628696988808, 0.022980409956982972, 0.7928241435159125, 0.8502270748629782, 0.09059796699359604, 0.02090722315236832, 0.02508866778284198, 0.006969074384122772, 0.0013938148768245545, 0.002787629753649109, 0.0013938148768245545, 0.0013938148768245545, 0.0013938148768245545, 0.9027828968083836, 0.5474475377115773, 0.09124125628526288, 0.2534479341257302, 0.08110333892023366, 0.02196548762422995, 0.0016896528941715346, 0.0016896528941715346, 0.9053847930044041, 0.23917515069223158, 0.7175254520766947, 0.9400724005269288, 0.03463424633520264, 0.00494774947645752, 0.00494774947645752, 0.8292456018923889, 0.07310571160863744, 0.8041628276950118, 0.9650477483571174, 0.5007772086594899, 0.09105040157445271, 0.31867640551058446, 0.9450992505896588, 0.02589313015314134, 0.20001932894383825, 0.09231661335869458, 0.698529041080789, 0.003077220445289819, 0.6428561738221408, 0.05844147034746735, 0.17532441104240204, 0.7739967057866898, 0.2768236551497411, 0.041523548272461165, 0.6689904999452077, 0.004613727585829019, 0.09554613737623897, 0.09554613737623897, 0.6688229616336728, 0.8016105352039553, 0.8045485765978783, 0.09198542502165757, 0.058300621492599874, 0.027206956696546606, 0.010364554932017754, 0.0012955693665022193, 0.0012955693665022193, 0.0012955693665022193, 0.0012955693665022193, 0.0012955693665022193, 0.05804611322948487, 0.05804611322948487, 0.8126455852127882, 0.8088786845312078, 0.9411642283053567, 0.032453938907081266, 0.005408989817846877, 0.005408989817846877, 0.005408989817846877, 0.005408989817846877, 0.6202846515075633, 0.2007393694199234, 0.042155267578183914, 0.12746949958165135, 0.005018484235498085, 0.002007393694199234, 0.001003696847099617, 0.001003696847099617, 0.13833633284446367, 0.027667266568892738, 0.8023507304978894, 0.10637688042821702, 0.05318844021410851, 0.35458960142739004, 0.017729480071369503, 0.4432370017842376, 0.2776445142467837, 0.6015631142013647, 0.8631008004987617, 0.0828311708732017, 0.03975896201913681, 0.0049698702523921015, 0.003313246834928068, 0.001656623417464034, 0.001656623417464034, 0.001656623417464034, 0.9218702270793265, 0.9449595270945829, 0.06095662067234545, 0.8533926894128364, 0.9412835791639041, 0.036029993460819296, 0.009007498365204824, 0.004503749182602412, 0.004503749182602412, 0.3051882304052565, 0.638120845392809, 0.9052875721180051, 0.12596938378089342, 0.06298469189044671, 0.7873086486305839, 0.007873086486305839, 0.9546593888663735, 0.9641711177533274, 0.019029693113552515, 0.006343231037850838, 0.105317470426743, 0.1263809645120916, 0.7477540400298753, 0.5876025991394834, 0.13057835536432966, 0.1009014564178911, 0.17212601388934365, 0.002967689894643856, 0.12425848332362179, 0.1587747286912945, 0.7041314055005234, 0.3260311329079621, 0.09169625613036433, 0.005094236451686908, 0.5654602461372468, 0.06620045891788721, 0.8606059659325337, 0.7091676489369947, 0.10130966413385638, 0.057097427508368034, 0.8850101263797046, 0.31975953639526467, 0.31975953639526467, 0.840825384465297, 0.11222881190956294, 0.026721145692753082, 0.010688458277101232, 0.0017814097128502054, 0.0017814097128502054, 0.0017814097128502054, 0.0017814097128502054, 0.783988971806634, 0.0739281612053761, 0.8501738538618251, 0.29724626382195773, 0.6624345308032201, 0.008492750394913078, 0.008492750394913078, 0.008492750394913078, 0.008492750394913078, 0.11168479871039301, 0.037228266236797675, 0.7817935909727511, 0.823935201116374, 0.9195873531032587, 0.08903405608201985, 0.01978534579600441, 0.860662542126192, 0.009892672898002206, 0.0502964817759375, 0.8550401901909375, 0.07248828460707253, 0.07248828460707253, 0.7973711306777979, 0.1572830628675621, 0.7339876267152898, 0.08653482054167921, 0.8653482054167921, 0.201917113651462, 0.7211325487552215, 0.028845301950208856, 0.028845301950208856, 0.7987539063939613, 0.9363282381294802, 0.07186993382522652, 0.08983741728153315, 0.7007318547959586, 0.10780490073783978, 0.7539146621292876, 0.0679084943322762, 0.8149019319873145, 0.2926719363133664, 0.6178629766615513, 0.28856976294555997, 0.5771395258911199, 0.9315348195571912, 0.48942627515297904, 0.1639457473418846, 0.009643867490699095, 0.3278914946837692, 0.0024109668726747737, 0.0024109668726747737, 0.0024109668726747737, 0.0024109668726747737, 0.8681533507176638, 0.15142257695758563, 0.043263593416453035, 0.7571128847879282, 0.021631796708226517, 0.8046516097320822, 0.6249052013632463, 0.24103486338296645, 0.08659400647462129, 0.04017247723049441, 0.0026781651486996274, 0.0026781651486996274, 0.0008927217162332091, 0.8951954311656273, 0.07723911205499752, 0.8753766032899719, 0.035634764231154345, 0.926503870010013, 0.8959500861022057, 0.8668270598845421, 0.6079006066051359, 0.11368107946081085, 0.7389270164952705, 0.7517201970636295, 0.06483933165133429, 0.7780719798160114, 0.8743894625965053, 0.882540540887029, 0.6431986541835729, 0.09984672249059073, 0.023220168021067612, 0.16370218454852667, 0.06385546205793594, 0.0023220168021067613, 0.0011610084010533807, 0.0011610084010533807, 0.49559347643512947, 0.7100786832163332, 0.22926307260796405, 0.02547367473421823, 0.020697360721552312, 0.006368418683554557, 0.0031842093417772787, 0.0015921046708886393, 0.0015921046708886393, 0.0015921046708886393, 0.040989368264513944, 0.9222607859515637, 0.8465839408710163, 0.34391172293087335, 0.08253881350340961, 0.013756468917234935, 0.5502587566893974, 0.8507583138326061, 0.07611113571881864, 0.7611113571881863, 0.6795126235011133, 0.5556257862843437, 0.6710701876597642, 0.2501588966367964, 0.7171221703588164, 0.833336122215736, 0.04385979590609137, 0.04385979590609137, 0.04385979590609137, 0.825124982676086, 0.1646677830191581, 0.4940033490574743, 0.8892996157643321, 0.2942226199540203, 0.5148895849195356, 0.7960808906268848, 0.8565657413211686, 0.1100727004034212, 0.016010574604133992, 0.008005287302066996, 0.004002643651033498, 0.002001321825516749, 0.002001321825516749, 0.06376980064961363, 0.8290074084449772, 0.5524761383394488, 0.09320502089345224, 0.3363485536589798, 0.008104784425517587, 0.006753987021264655, 0.001350797404252931, 0.001350797404252931, 0.8691090452937809, 0.13331455770948453, 0.7332300674021649, 0.25730300099551734, 0.33340670551531826, 0.007247971859028658, 0.3877664944580332, 0.007247971859028658, 0.003623985929514329, 0.5052250342042436, 0.0748481532154435, 0.3742407660772175, 0.018712038303860874, 0.26651271607797505, 0.20500978159844235, 0.5125244539961059, 0.0034168296933073726, 0.006833659386614745, 0.10613998004969233, 0.7960498503726925, 0.3481880631394218, 0.3087705465576005, 0.006569586096970223, 0.3153401326545707, 0.006569586096970223, 0.006569586096970223, 0.404098812222311, 0.22041753393944236, 0.3306263009091635, 0.4725433383896408, 0.49144507192522646, 0.018901733535585632, 0.006300577845195211, 0.006300577845195211, 0.8118629098327108, 0.141086766250304, 0.7524627533349547, 0.41119964818663113, 0.03738178619878465, 0.48596322058420044, 0.14840503386081275, 0.7976770570018684, 0.018550629232601593, 0.7518607631105069, 0.2392242259838659, 0.6778019736209533, 0.9114905713886599, 0.4822826507571061, 0.08277985796577195, 0.39590366853195275, 0.017995621296906943, 0.0035991242593813887, 0.0035991242593813887, 0.010797372778144167, 0.9495715004784728, 0.03103174838164944, 0.006206349676329888, 0.6857645906028048, 0.09796637008611497, 0.5188139489220562, 0.05367040850917823, 0.37569285956424764, 0.017890136169726078, 0.8083532510357077, 0.9197595592129348, 0.04787789486313907, 0.010079556813292437, 0.012599446016615546, 0.002519889203323109, 0.002519889203323109, 0.002519889203323109, 0.8783915574632211, 0.3955409057258144, 0.5739220985041228, 0.019389260084598743, 0.003877852016919749, 0.7256703508195741, 0.11317794462323633, 0.07323278769738821, 0.006657526154308019, 0.06657526154308019, 0.006657526154308019, 0.8969265636346374, 0.0656840160237487, 0.013589796418706628, 0.013589796418706628, 0.006794898209353314, 0.002264966069784438, 0.8151746481432628, 0.1270220770223235, 0.03908371600686877, 0.011166776001962505, 0.002791694000490626, 0.001395847000245313, 0.001395847000245313, 0.001395847000245313, 0.001395847000245313, 0.9544190220165676, 0.2937086424490658, 0.5139901242858651, 0.5797452874801288, 0.2835710645283238, 0.11342842581132953, 0.01050263201956755, 0.00420105280782702, 0.00210052640391351, 0.00210052640391351, 0.00210052640391351, 0.4982568606539182, 0.01993027442615673, 0.45839631180160473, 0.06630594662549151, 0.7956713595058981, 0.17484296465876603, 0.02914049410979434, 0.7576528468546528, 0.5835056439775341, 0.14587641099438353, 0.9247471393892731, 0.3333615824490522, 0.04359343770487605, 0.6103081278682647, 0.005128639729985418, 0.002564319864992709, 0.002564319864992709, 0.7950734311064079, 0.11228569141160397, 0.018147182450360236, 0.05670994515737574, 0.010207790128327633, 0.004536795612590059, 0.0011341989031475148, 0.0011341989031475148, 0.0011341989031475148, 0.0011341989031475148, 0.7793420716575983, 0.816229161034776, 0.05104281753206758, 0.05104281753206758, 0.8166850805130813, 0.048064716253556246, 0.8171001763104562, 0.8545244118283825, 0.21393990684942277, 0.7196160503116947, 0.019449082440856615, 0.019449082440856615, 0.0853720483431999, 0.04268602417159995, 0.8110344592603991, 0.0554113126728011, 0.8311696900920165, 0.0554113126728011, 0.5043536187261574, 0.20837767931580714, 0.15130608561784722, 0.11812492649112634, 0.011945217285619517, 0.0013272463650688352, 0.0013272463650688352, 0.0013272463650688352, 0.966559455200192, 0.010621532474727385, 0.046892458563203294, 0.8909567127008626, 0.9596171137800739, 0.21549348098573398, 0.71831160328578, 0.7777872102163855, 0.04426431277654227, 0.006323473253791753, 0.15176335809100205, 0.012646946507583506, 0.006323473253791753, 0.39571180704134845, 0.39571180704134845, 0.751856375104281, 0.06961633102817417, 0.013923266205634836, 0.09746286343944385, 0.06265469792535676, 0.003480816551408709, 0.7934610381460223, 0.23653711007501874, 0.551919923508377, 0.46889341063463597, 0.07686777223518623, 0.4407085608150677, 0.005124518149012415, 0.005124518149012415, 0.0025622590745062075, 0.14897168226779325, 0.07448584113389663, 0.6703725702050697, 0.049657227422597754, 0.12861143714740728, 0.6430571857370363, 0.7094698415044518, 0.07939019808330053, 0.7939019808330053, 0.09271603706258587, 0.030905345687528625, 0.8344443335632729, 0.039172581981368665, 0.0055960831401955236, 0.01678824942058657, 0.928949801272457, 0.5692034809066812, 0.8415757762106707, 0.07013131468422257, 0.77358849143176, 0.048349280714485, 0.09669856142897, 0.5564952507776199, 0.08038264733454509, 0.006183280564195776, 0.3400804310307677, 0.9461300997739613, 0.02042007409584089, 0.013613382730560595, 0.0068066913652802975, 0.0068066913652802975, 0.0068066913652802975, 0.6330896312891814, 0.13522302804234942, 0.11678352421839268, 0.10244168791087077, 0.006146501274652247, 0.0020488337582174154, 0.0020488337582174154, 0.9405132772524083, 0.031350442575080274, 0.007837610643770069, 0.9318701856681527, 0.04255115003050925, 0.00851023000610185, 0.004255115003050925, 0.004255115003050925, 0.5915996343355383, 0.8405334870167721, 0.102541978083377, 0.04039532469951215, 0.006214665338386485, 0.0031073326691932425, 0.0015536663345966212, 0.0031073326691932425, 0.0015536663345966212, 0.7874663569071672, 0.9214831928284184, 0.0741582821598463, 0.7415828215984629, 0.862066364035229, 0.874352806815901, 0.06935376371344258, 0.03715380198934424, 0.004953840265245898, 0.004953840265245898, 0.004953840265245898, 0.9167520621365789, 0.741624450912232, 0.1478834470569034, 0.05297317506515943, 0.04083348911272706, 0.009932470324717392, 0.002207215627714976, 0.001103607813857488, 0.001103607813857488, 0.001103607813857488, 0.5353900056201822, 0.10707800112403645, 0.10707800112403645, 0.38256102435377737, 0.21253390241876519, 0.11335141462334143, 0.28180421135525163, 0.003148650406203929, 0.003148650406203929, 0.8852652433509463, 0.06442331758388316, 0.026657924517468894, 0.014439709113628985, 0.004442987419578149, 0.0011107468548945372, 0.0011107468548945372, 0.0011107468548945372, 0.0011107468548945372, 0.25725660468969447, 0.5145132093793889, 0.30020479029307107, 0.07095749588745316, 0.5949513116717227, 0.010916537828838948, 0.010916537828838948, 0.005458268914419474, 0.4062645550871841, 0.20313227754359206, 0.8921521252228177, 0.8676968151642852, 0.8048689279944854, 0.8413800689941003, 0.7666075989000796, 0.951098219475284, 0.010932163442244642, 0.010932163442244642, 0.4309955674851802, 0.5016505785483245, 0.014131002212628859, 0.028262004425257718, 0.0070655011063144296, 0.0070655011063144296, 0.7515754494016041, 0.16105188201462944, 0.026841980335771575, 0.2895568112875305, 0.06515028253969436, 0.6261666044092847, 0.007238920282188263, 0.0036194601410941313, 0.0036194601410941313, 0.8891415965857408, 0.1497437681849929, 0.8048727539943369, 0.5769057187777498, 0.11538114375554996, 0.2596075734499874, 0.8034873877119331, 0.8093751950551534, 0.8565329185482606, 0.4590791190737911, 0.22953955953689556, 0.8219461795001042, 0.08473671953609321, 0.025421015860827963, 0.059315703675265244, 0.0028245573178697736, 0.0014122786589348868, 0.0014122786589348868, 0.0014122786589348868, 0.0014122786589348868, 0.0014122786589348868, 0.9136628064038408, 0.05103151963483648, 0.8675358337922202, 0.7847671535698932, 0.7003581476754118, 0.14614214959519026, 0.11803789005765368, 0.02585591877453366, 0.003372511144504391, 0.002248340763002927, 0.0011241703815014635, 0.0011241703815014635, 0.0011241703815014635, 0.5256135710287925, 0.9579108073759238, 0.022807400175617235, 0.43716673118568095, 0.21858336559284047, 0.40487509967321544, 0.49321148505646245, 0.07361365448603917, 0.007361365448603917, 0.8117811306963597, 0.12303361955359514, 0.31988741083934735, 0.024606723910719025, 0.5167412021250996, 0.33920019205681995, 0.6105603457022759, 0.9686755982755982, 0.42220343988939546, 0.5277542998617444, 0.31886322273044543, 0.10249175016335746, 0.5466226675379064, 0.9192200962776369, 0.0493753983473848, 0.8887571702529266, 0.16272692419312157, 0.05424230806437386, 0.7051500048368602, 0.22638049978124042, 0.04282874320185629, 0.7158518506595981, 0.00611839188597947, 0.8109038968209772, 0.18407685609121704, 0.010828050358306886, 0.010828050358306886, 0.7687915754397889, 0.8341962064809111, 0.47879574160168226, 0.2155834229201292, 0.007520351962330088, 0.28577337456854335, 0.005013567974886725, 0.0025067839874433626, 0.0025067839874433626, 0.0025067839874433626, 0.8581473533738612, 0.07251949465131222, 0.04633189936056058, 0.016115443255847156, 0.0020144304069808945, 0.0020144304069808945, 0.0020144304069808945, 0.0020144304069808945, 0.8198767218353548, 0.04554870676863082, 0.04554870676863082, 0.9590905566393054, 0.011283418313403593, 0.0056417091567017965, 0.0056417091567017965, 0.0056417091567017965, 0.6937736310867765, 0.24282077088037174, 0.8252067327037099, 0.8193239355033404, 0.14249111921797225, 0.9462101706026577, 0.5516590767938626, 0.10752676920558339, 0.009350153843963772, 0.1729778461133298, 0.14960246150342035, 0.8942936175249442, 0.07344440337161377, 0.008640518043719268, 0.008640518043719268, 0.004320259021859634, 0.004320259021859634, 0.6671139713028178, 0.13948106263775917, 0.016202345659941723, 0.15497895848639906, 0.019020144905148976, 0.0014088996226036279, 0.0007044498113018139, 0.8007490939886437, 0.8935201078607238, 0.3735382674380032, 0.010376062984388978, 0.020752125968777957, 0.5810595271257828, 0.2276193285434451, 0.10688211948996552, 0.6492099109760869, 0.007917194036293743, 0.0019792985090734357, 0.0019792985090734357, 0.0019792985090734357, 0.21156019291835382, 0.015111442351310986, 0.7555721175655493, 0.27382046651206265, 0.045636744418677114, 0.6662964685126859, 0.36314412905018284, 0.5866174392349107, 0.8435423925105673, 0.2521678787092599, 0.2521678787092599, 0.13532750821039727, 0.7612172336834847, 0.09303766189464813, 0.8912356179793072, 0.0723151707570929, 0.01368124852161217, 0.011726784447096147, 0.003908928149032049, 0.003908928149032049, 0.4493571948369878, 0.097686346703693, 0.42200501775995375, 0.011722361604443161, 0.00390745386814772, 0.00781490773629544, 0.06928931436144477, 0.8314717723373372, 0.3881640151553054, 0.28478364930992256, 0.060467761154846575, 0.25747562814321767, 0.0019505729404789218, 0.0019505729404789218, 0.0019505729404789218, 0.0019505729404789218, 0.11480734593702045, 0.011480734593702045, 0.8687089175901214, 0.4983654338956983, 0.08300961401354803, 0.8300961401354803, 0.8091867818277049, 0.105903733835138, 0.05449415430351761, 0.023648406584545378, 0.0020563831812648154, 0.0020563831812648154, 0.0010281915906324077, 0.808619346442495, 0.5351858035791245, 0.13789226061604992, 0.2935330300242647, 0.02457485832761286, 0.00409580972126881, 0.0013652699070896032, 0.0013652699070896032, 0.799470827072715, 0.8520714842594784, 0.8787012208721623, 0.16543810305339302, 0.058389918724726944, 0.7590689434214503, 0.4015235130914354, 0.03824033458013671, 0.019120167290068355, 0.019120167290068355, 0.009560083645034178, 0.5066844331868113, 0.21197499350575907, 0.10598749675287954, 0.6510660514819743, 0.0075705354823485385, 0.0075705354823485385, 0.9573813689636371, 0.021370119842938327, 0.004274023968587666, 0.008548047937175332, 0.004274023968587666, 0.5916760349284493, 0.3672471940935203, 0.7802353850107137, 0.8529660734228008, 0.07813429680208862, 0.040369386681079124, 0.020835812480556968, 0.002604476560069621, 0.0013022382800348105, 0.0013022382800348105, 0.0013022382800348105, 0.0013022382800348105, 0.947342796785084, 0.027592508644225747, 0.009197502881408583, 0.9633903603956298, 0.9553156796070744, 0.1482985599114704, 0.8008122235219401, 0.04803750950165259, 0.8646751710297466, 0.16317639877275442, 0.05933687228100161, 0.7565451215827705, 0.26265983353863237, 0.19780817410945062, 0.013641943042031077, 0.7707697818747559, 0.23996395561670705, 0.7198918668501212, 0.7521175139227839, 0.12705454232179758, 0.08394675117690198, 0.02722597335467091, 0.004537662225778485, 0.0022688311128892425, 0.0011344155564446212, 0.0011344155564446212, 0.1665089386470355, 0.07136097370587235, 0.023786991235290787, 0.7136097370587235, 0.923922543335684, 0.05220862629481901, 0.010441725258963802, 0.897988372270887, 0.020883450517927605, 0.07723271941540626, 0.8495599135694688, 0.3364008162909569, 0.021703278470384314, 0.206181145468651, 0.010851639235192157, 0.412362290937302, 0.9510565631493045, 0.031182182398337855, 0.005197030399722976, 0.69063316824049, 0.16322037898931196, 0.10770324327866163, 0.028868910569538168, 0.0033310281426390197, 0.0033310281426390197, 0.0011103427142130065, 0.0011103427142130065, 0.9215198849334337, 0.13285588314511207, 0.03321397078627802, 0.7639213280843945, 0.8361750427923933, 0.7415220646500185, 0.13180724773022118, 0.08588730335969251, 0.031463665587214085, 0.004251846700974876, 0.0017007386803899506, 0.0008503693401949753, 0.0008503693401949753, 0.0008503693401949753, 0.0008503693401949753, 0.72642777052391, 0.18521502758391084, 0.07095900407435546, 0.009621559874488875, 0.0036080849529333283, 0.0012026949843111094, 0.002405389968622219, 0.0012026949843111094, 0.47128700702769244, 0.7611336945864428, 0.6216228984543082, 0.19055930632468285, 0.07683842996963018, 0.09451126886264512, 0.011525764495444527, 0.003073537198785207, 0.0007683842996963017, 0.0007683842996963017, 0.0007683842996963017, 0.0007683842996963017, 0.11565828408367623, 0.09638190340306353, 0.7517788465438955, 0.8421837570196599, 0.09426276913431055, 0.04017757372937827, 0.015452912972837796, 0.0015452912972837795, 0.004635873891851339, 0.0015452912972837795, 0.5398783086619815, 0.16931094887032555, 0.2763282467411917, 0.007986365512751205, 0.004791819307650724, 0.023945158948840053, 0.9338611990047619, 0.6006535409953995, 0.30032677049769974, 0.03754084631221247, 0.03754084631221247, 0.07735208663704052, 0.7735208663704053, 0.8591715480238886, 0.8071099371485608, 0.960921002349218, 0.013346125032628027, 0.7955095263839139, 0.06629246053199282, 0.8108175117577159, 0.9510856170690243, 0.016398027880500418, 0.016398027880500418, 0.7232700922663625, 0.12955613782486325, 0.0836504196979432, 0.04896609933538139, 0.00918114362538401, 0.0020402541389742245, 0.0010201270694871123, 0.0010201270694871123, 0.0010201270694871123, 0.06733853621381619, 0.02244617873793873, 0.02244617873793873, 0.8529547920416718, 0.22852691704399022, 0.011426345852199512, 0.7427124803929682, 0.3236866706121931, 0.517898672979509, 0.23076010244565467, 0.23076010244565467, 0.9553028660976899, 0.02301934617102867, 0.776591726059076, 0.6046368609185467, 0.039008829736680434, 0.019504414868340217, 0.1365309040783815, 0.15603531894672173, 0.8376880415692116, 0.20708737763992635, 0.5683887599053298, 0.20268126322205557, 0.008812228835741547, 0.004406114417870774, 0.004406114417870774, 0.21926711501578364, 0.11126987926174095, 0.6512560580319544, 0.006545287015396526, 0.003272643507698263, 0.003272643507698263, 0.9190413171501334, 0.8466504019957055, 0.058867308114220834, 0.07964400509571054, 0.0051941742453724266, 0.0034627828302482844, 0.0017313914151241422, 0.0017313914151241422, 0.0017313914151241422, 0.0017313914151241422, 0.9370722932176826, 0.28405758831970995, 0.6492744875879085, 0.04057965547424428, 0.12074084653252236, 0.8150007140945259, 0.07552628411902058, 0.8307891253092264, 0.9020543381670522, 0.6715847739825354, 0.23247165253241608, 0.051660367229425797, 0.8734226047506963, 0.3411018541364402, 0.5457629666183043, 0.057864335370257904, 0.8101006951836106], \"Term\": [\"actionbar\", \"actionbar\", \"actionbaractivity\", \"actionbaractivity\", \"adapter\", \"adapter\", \"adapter\", \"adapter\", \"add\", \"add\", \"add\", \"add\", \"add\", \"add\", \"add\", \"add\", \"add\", \"add\", \"addobserver\", \"addobserver\", \"addsingleton\", \"advert\", \"aero\", \"aero\", \"aero\", \"age\", \"age\", \"age\", \"age\", \"al\", \"al\", \"al\", \"allowbackup\", \"allowbackup\", \"android\", \"android\", \"android\", \"android\", \"android\", \"android\", \"android\", \"android\", \"androidmanifest\", \"androidmanifest\", \"androidmanifest\", \"anim\", \"anim\", \"announcement\", \"apache\", \"apache\", \"apache\", \"apache\", \"app\", \"app\", \"app\", \"app\", \"app\", \"app\", \"app\", \"app\", \"application\", \"application\", \"application\", \"application\", \"application\", \"application\", \"application\", \"application\", \"application\", \"applicationinsights\", \"argparse\", \"argparse\", \"argtypes\", \"argumentparser\", \"aria\", \"aria\", \"arr\", \"arr\", \"arr\", \"arr\", \"array\", \"array\", \"array\", \"array\", \"array\", \"array\", \"array\", \"array\", \"array\", \"asp\", \"asp\", \"asp\", \"assertthat\", \"assertthat\", \"assertthat\", \"asyncio\", \"asyncio\", \"audio\", \"audio\", \"autocompletion\", \"autocompletion\", \"automapper\", \"automapper\", \"automapper\", \"avatar\", \"avatar\", \"avatar\", \"avec\", \"azure\", \"azure\", \"azure\", \"azure\", \"azure\", \"azure\", \"babel\", \"babel\", \"background\", \"background\", \"background\", \"background\", \"background\", \"background\", \"background\", \"ball\", \"ball\", \"bash\", \"bash\", \"bash\", \"bash\", \"bash\", \"bass\", \"bdc\", \"bezier\", \"bezier\", \"bigint\", \"bigint\", \"bin\", \"bin\", \"bin\", \"bin\", \"bin\", \"bin\", \"bin\", \"blah\", \"blah\", \"blah\", \"blah\", \"blah\", \"blame\", \"blame\", \"blazer\", \"blazer\", \"blob\", \"blob\", \"blogspot\", \"bloom\", \"bodytomono\", \"bootstrap\", \"bootstrap\", \"bootstrap\", \"bootstrap\", \"border\", \"border\", \"border\", \"border\", \"border\", \"bot\", \"bot\", \"bounce\", \"bounce\", \"br\", \"br\", \"br\", \"br\", \"br\", \"br\", \"branch\", \"branch\", \"branch\", \"brightness\", \"brightness\", \"btn\", \"btn\", \"btn\", \"btn\", \"btn\", \"buf\", \"buf\", \"build\", \"build\", \"build\", \"build\", \"build\", \"build\", \"build\", \"bull\", \"button\", \"button\", \"button\", \"button\", \"button\", \"button\", \"button\", \"cache\", \"cache\", \"cache\", \"cache\", \"cache\", \"cache\", \"cachemanager\", \"camera\", \"camera\", \"camera\", \"camera\", \"campaign\", \"capacity\", \"capacity\", \"cart\", \"cart\", \"cart\", \"category\", \"category\", \"category\", \"category\", \"category\", \"chalk\", \"char\", \"char\", \"char\", \"char\", \"char\", \"char\", \"character\", \"character\", \"character\", \"character\", \"character\", \"character\", \"character\", \"chart\", \"chart\", \"chart\", \"chart\", \"chart\", \"checkpoint\", \"child\", \"child\", \"child\", \"child\", \"child\", \"child\", \"circuit\", \"circuit\", \"clapboard\", \"clapboard\", \"clapboard\", \"clapboard\", \"class\", \"class\", \"class\", \"class\", \"class\", \"class\", \"class\", \"class\", \"class\", \"class\", \"classname\", \"classname\", \"classname\", \"clazz\", \"clazz\", \"click\", \"click\", \"click\", \"click\", \"click\", \"click\", \"click\", \"clutter\", \"clutter\", \"clutter\", \"clutter\", \"code\", \"code\", \"code\", \"code\", \"code\", \"code\", \"code\", \"code\", \"code\", \"code\", \"codebehind\", \"codebehind\", \"coin\", \"coin\", \"col\", \"col\", \"col\", \"col\", \"col\", \"col\", \"cola\", \"cola\", \"cola\", \"collectionview\", \"collectionview\", \"collectionview\", \"color\", \"color\", \"color\", \"color\", \"color\", \"color\", \"color\", \"color\", \"column\", \"column\", \"column\", \"column\", \"column\", \"column\", \"column\", \"columns\", \"columns\", \"columns\", \"columns\", \"columns\", \"comma\", \"comma\", \"comma\", \"command\", \"command\", \"command\", \"command\", \"command\", \"command\", \"command\", \"commerce\", \"commit\", \"commit\", \"commit\", \"commit\", \"commits\", \"compileroptions\", \"compileroptions\", \"compileroptions\", \"complication\", \"component\", \"component\", \"component\", \"component\", \"component\", \"component\", \"condense\", \"condense\", \"configparser\", \"configparser\", \"connectionstate\", \"connectionstate\", \"connectionstate\", \"content\", \"content\", \"content\", \"content\", \"content\", \"content\", \"content\", \"contour\", \"contour\", \"convert\", \"convert\", \"convert\", \"convert\", \"convert\", \"convert\", \"convert\", \"copytooutputdirectory\", \"coroutine\", \"coroutine\", \"coyote\", \"create\", \"create\", \"create\", \"create\", \"create\", \"create\", \"create\", \"create\", \"create\", \"createmap\", \"createmap\", \"cru\", \"cs\", \"cs\", \"cs\", \"cs\", \"csv\", \"csv\", \"csv\", \"csv\", \"curl\", \"curl\", \"curl\", \"curl\", \"curlopt\", \"curlopt\", \"currency\", \"currency\", \"curve\", \"curve\", \"curve\", \"curve\", \"cv\", \"cv\", \"cv\", \"cv\", \"data\", \"data\", \"data\", \"data\", \"data\", \"data\", \"data\", \"data\", \"data\", \"data\", \"database\", \"database\", \"database\", \"database\", \"database\", \"database\", \"database\", \"database\", \"databind\", \"databind\", \"dataframe\", \"dataframe\", \"dataframe\", \"dataframe\", \"dataframe\", \"dataframe\", \"date\", \"date\", \"date\", \"date\", \"date\", \"date\", \"date\", \"date\", \"david\", \"david\", \"david\", \"debug\", \"debug\", \"debug\", \"debug\", \"debug\", \"decker\", \"decker\", \"decker\", \"decker\", \"decker\", \"decker\", \"deduction\", \"defaultcenter\", \"deprecationwarning\", \"deprecationwarning\", \"dereferenced\", \"dereferencing\", \"dereferencing\", \"device\", \"device\", \"device\", \"device\", \"device\", \"df\", \"df\", \"df\", \"df\", \"df\", \"df\", \"df\", \"digit\", \"digit\", \"digit\", \"digit\", \"dinner\", \"dinner\", \"directory\", \"directory\", \"directory\", \"directory\", \"directory\", \"directory\", \"directory\", \"discord\", \"discord\", \"discord\", \"discord\", \"discord\", \"div\", \"div\", \"div\", \"div\", \"div\", \"div\", \"div\", \"divider\", \"doesnotexist\", \"dotenv\", \"dotenv\", \"dotenv\", \"download\", \"download\", \"download\", \"download\", \"draft\", \"draft\", \"draft\", \"draft\", \"einen\", \"element\", \"element\", \"element\", \"element\", \"element\", \"element\", \"element\", \"elevate\", \"elevate\", \"emitdecoratormetadata\", \"emitter\", \"emitter\", \"employee\", \"employee\", \"employee\", \"employee\", \"employee\", \"emulator\", \"emulator\", \"entity\", \"entity\", \"entity\", \"entity\", \"entity\", \"entity\", \"entity\", \"erasure\", \"error\", \"error\", \"error\", \"error\", \"error\", \"error\", \"error\", \"error\", \"error\", \"error\", \"et\", \"et\", \"et\", \"et\", \"et\", \"et\", \"et\", \"et\", \"et\", \"eventemitter\", \"eventemitter\", \"eventtype\", \"evolution\", \"exit\", \"exit\", \"exit\", \"exit\", \"exitcode\", \"experimentaldecorators\", \"fasterxml\", \"fasterxml\", \"fence\", \"field\", \"field\", \"field\", \"field\", \"field\", \"field\", \"field\", \"file\", \"file\", \"file\", \"file\", \"file\", \"file\", \"file\", \"file\", \"file\", \"file\", \"fileaccess\", \"filemode\", \"filemode\", \"filestream\", \"filestream\", \"film\", \"find\", \"find\", \"find\", \"find\", \"find\", \"find\", \"find\", \"find\", \"flexbox\", \"flexbox\", \"flexbox\", \"float\", \"float\", \"float\", \"float\", \"float\", \"float\", \"floatingactionbutton\", \"form\", \"form\", \"form\", \"form\", \"form\", \"form\", \"form\", \"formdata\", \"formdata\", \"formgroup\", \"formgroup\", \"formgroup\", \"formik\", \"fox\", \"fox\", \"fprintf\", \"fprintf\", \"friday\", \"friday\", \"fruit\", \"fruit\", \"fullcalendar\", \"fullcalendar\", \"function\", \"function\", \"function\", \"function\", \"function\", \"function\", \"function\", \"function\", \"function\", \"function\", \"gecko\", \"gem\", \"get\", \"get\", \"get\", \"get\", \"get\", \"get\", \"get\", \"get\", \"get\", \"get\", \"getsupportactionbar\", \"gin\", \"git\", \"git\", \"git\", \"git\", \"git\", \"gopath\", \"gopath\", \"goroutine\", \"goroutine\", \"gr\", \"grade\", \"grade\", \"grade\", \"grade\", \"grade\", \"gradient\", \"gradient\", \"gradient\", \"gradient\", \"grant\", \"gratefully\", \"gravity\", \"gravity\", \"gravity\", \"group\", \"group\", \"group\", \"group\", \"group\", \"groupby\", \"groupby\", \"groupby\", \"guid\", \"guid\", \"guild\", \"gulf\", \"gulf\", \"hammer\", \"hardwareaccelerated\", \"hashcode\", \"hashcode\", \"hateoas\", \"heap\", \"heap\", \"heap\", \"heap\", \"heap\", \"height\", \"height\", \"height\", \"height\", \"height\", \"height\", \"hibernate\", \"hibernate\", \"hilt\", \"hire\", \"holiday\", \"holiday\", \"honda\", \"honda\", \"hover\", \"hover\", \"hover\", \"hover\", \"href\", \"href\", \"href\", \"href\", \"href\", \"href\", \"html\", \"html\", \"html\", \"html\", \"html\", \"html\", \"html\", \"hudson\", \"id\", \"id\", \"id\", \"id\", \"id\", \"id\", \"id\", \"id\", \"id\", \"iframe\", \"iframe\", \"iframe\", \"image\", \"image\", \"image\", \"image\", \"image\", \"image\", \"image\", \"import\", \"import\", \"import\", \"import\", \"import\", \"import\", \"import\", \"import\", \"import\", \"imshow\", \"imshow\", \"imshow\", \"incur\", \"incur\", \"index\", \"index\", \"index\", \"index\", \"index\", \"index\", \"index\", \"indexeddb\", \"indexpath\", \"indexpath\", \"indexpath\", \"indexpath\", \"ing\", \"ing\", \"ini\", \"ini\", \"ini\", \"ini\", \"ini\", \"input\", \"input\", \"input\", \"input\", \"input\", \"input\", \"input\", \"instal\", \"instal\", \"instal\", \"instal\", \"instal\", \"instal\", \"insurance\", \"insurance\", \"int\", \"int\", \"int\", \"int\", \"int\", \"int\", \"int\", \"int\", \"integer\", \"integer\", \"integer\", \"integer\", \"integer\", \"integer\", \"intellijs\", \"intent\", \"intent\", \"intent\", \"intent\", \"intent\", \"interactivity\", \"ira\", \"ischecked\", \"isip\", \"isodate\", \"isodate\", \"isodate\", \"issuccessstatuscode\", \"item\", \"item\", \"item\", \"item\", \"item\", \"item\", \"item\", \"jackson\", \"jackson\", \"jackson\", \"java\", \"java\", \"java\", \"java\", \"java\", \"java\", \"java\", \"java\", \"java\", \"java\", \"javadoc\", \"javascript\", \"javascript\", \"javascript\", \"javascript\", \"javascript\", \"javascript\", \"javascript\", \"jd\", \"jekyll\", \"jekyll\", \"job\", \"job\", \"job\", \"job\", \"jpl\", \"jsonmappingexception\", \"jsonmappingexception\", \"kafka\", \"knit\", \"knit\", \"knit\", \"kubernetes\", \"kubernetes\", \"layout\", \"layout\", \"layout\", \"layout\", \"lb\", \"lb\", \"lb\", \"letterspacing\", \"li\", \"li\", \"li\", \"li\", \"libcurl\", \"libcurl\", \"libcurl\", \"licensing\", \"line\", \"line\", \"line\", \"line\", \"line\", \"line\", \"line\", \"line\", \"line\", \"line\", \"linearlayout\", \"linearlayout\", \"linearlayout\", \"linkedin\", \"linux\", \"linux\", \"linux\", \"linux\", \"linux\", \"linux\", \"list\", \"list\", \"list\", \"list\", \"list\", \"list\", \"list\", \"list\", \"listitem\", \"listitem\", \"listitem\", \"localstorage\", \"localstorage\", \"localstorage\", \"localstorage\", \"localstorage\", \"lodash\", \"lodash\", \"log\", \"log\", \"log\", \"log\", \"log\", \"log\", \"log\", \"log\", \"loginform\", \"lua\", \"lunch\", \"lunch\", \"machine\", \"machine\", \"machine\", \"machine\", \"machine\", \"malloc\", \"malloc\", \"manifest\", \"margin\", \"margin\", \"margin\", \"margin\", \"markdown\", \"master\", \"master\", \"master\", \"mat\", \"mat\", \"mat\", \"match\", \"match\", \"match\", \"match\", \"match\", \"material\", \"material\", \"material\", \"matrix\", \"matrix\", \"matrix\", \"matrix\", \"mechanize\", \"mechanize\", \"mediastore\", \"mediastore\", \"memo\", \"memo\", \"merger\", \"merger\", \"message\", \"message\", \"message\", \"message\", \"message\", \"message\", \"message\", \"message\", \"metaclasses\", \"microservice\", \"microservice\", \"migration\", \"migration\", \"migration\", \"migration\", \"migration\", \"migration\", \"mil\", \"mil\", \"mil\", \"mimetype\", \"mob\", \"modal\", \"modal\", \"modal\", \"modal\", \"modelbuilder\", \"modelbuilder\", \"moduleresolution\", \"moduleresolution\", \"moduleresolution\", \"mona\", \"mona\", \"monday\", \"monday\", \"mongoose\", \"mongoose\", \"mongoose\", \"mongoose\", \"monkey\", \"mx\", \"myarray\", \"myarray\", \"myarray\", \"myarray\", \"mycontext\", \"mydict\", \"mydict\", \"myform\", \"myform\", \"myinput\", \"myinput\", \"mypath\", \"mysql\", \"mysql\", \"mysql\", \"mysql\", \"mysql\", \"mysql\", \"mysql\", \"mysql\", \"mysqldump\", \"mysqli\", \"mysqli\", \"mysqli\", \"mysqli\", \"myvar\", \"name\", \"name\", \"name\", \"name\", \"name\", \"name\", \"name\", \"nameof\", \"nav\", \"nav\", \"navbar\", \"navbar\", \"newdata\", \"nextpage\", \"nosuchmethodexception\", \"notifydatasetchanged\", \"notifydatasetchanged\", \"nslayoutconstraint\", \"nsnotification\", \"nsnotification\", \"nsnotificationcenter\", \"nsnumber\", \"number\", \"number\", \"number\", \"number\", \"number\", \"number\", \"number\", \"number\", \"oauthhandler\", \"object\", \"object\", \"object\", \"object\", \"object\", \"object\", \"object\", \"object\", \"object\", \"objectmapper\", \"objectmapper\", \"objectstore\", \"occurrence\", \"occurrence\", \"occurrence\", \"occurrence\", \"odds\", \"onbindviewholder\", \"onbindviewholder\", \"oncheckedchanged\", \"oncheckedchangelistener\", \"onmodelcreating\", \"opencv\", \"opencv\", \"opengl\", \"opengl\", \"opengl\", \"opengl\", \"openshift\", \"opus\", \"opus\", \"ore\", \"outfile\", \"outfile\", \"outputfile\", \"package\", \"package\", \"package\", \"package\", \"package\", \"package\", \"package\", \"packagereference\", \"packagereference\", \"page\", \"page\", \"page\", \"page\", \"page\", \"page\", \"page\", \"pageview\", \"paginator\", \"paginator\", \"panda\", \"panda\", \"panda\", \"panda\", \"panda\", \"panda\", \"paragraph\", \"paragraph\", \"paragraph\", \"paragraph\", \"parent\", \"parent\", \"parent\", \"parent\", \"parent\", \"particle\", \"particle\", \"pd\", \"pd\", \"pd\", \"pd\", \"pd\", \"pd\", \"pdb\", \"pdb\", \"pdb\", \"person\", \"person\", \"person\", \"person\", \"person\", \"phantom\", \"photoshop\", \"photoshop\", \"pie\", \"pie\", \"pie\", \"pivot\", \"pivot\", \"pivot\", \"plexus\", \"pmc\", \"pmc\", \"popover\", \"position\", \"position\", \"position\", \"position\", \"position\", \"position\", \"position\", \"powershell\", \"powershell\", \"powershell\", \"precedence\", \"precedence\", \"priority\", \"priority\", \"priority\", \"priority\", \"priorityqueue\", \"process\", \"process\", \"process\", \"process\", \"process\", \"process\", \"process\", \"processbuilder\", \"product\", \"product\", \"product\", \"product\", \"profile\", \"profile\", \"profile\", \"profile\", \"profile\", \"profile\", \"program\", \"program\", \"program\", \"program\", \"program\", \"program\", \"project\", \"project\", \"project\", \"project\", \"project\", \"project\", \"project\", \"project\", \"project\", \"prometheus\", \"propagation\", \"propagation\", \"property\", \"property\", \"property\", \"property\", \"property\", \"property\", \"property\", \"property\", \"provision\", \"provision\", \"provision\", \"provisioning\", \"provisioning\", \"punctuation\", \"punctuation\", \"punctuation\", \"putextra\", \"putextra\", \"pv\", \"px\", \"px\", \"px\", \"px\", \"px\", \"px\", \"python\", \"python\", \"python\", \"python\", \"python\", \"python\", \"python\", \"python\", \"python\", \"python\", \"qb\", \"qlineedit\", \"qtcore\", \"qtcore\", \"qtcore\", \"qtgui\", \"qtgui\", \"qtwidgets\", \"quantity\", \"quantity\", \"quantity\", \"quantity\", \"quarter\", \"quarter\", \"quarter\", \"quaternion\", \"quaternion\", \"quaternion\", \"query\", \"query\", \"query\", \"query\", \"query\", \"query\", \"query\", \"query\", \"queue\", \"queue\", \"qwidget\", \"qwidget\", \"radio\", \"rake\", \"rake\", \"random\", \"random\", \"random\", \"random\", \"random\", \"random\", \"randomize\", \"randomize\", \"range\", \"range\", \"range\", \"range\", \"range\", \"range\", \"raster\", \"rdi\", \"rdi\", \"react\", \"react\", \"react\", \"react\", \"react\", \"react\", \"reactjs\", \"reactjs\", \"reactjs\", \"reactjs\", \"readdir\", \"readdir\", \"readdirsync\", \"recalculate\", \"recalculate\", \"recaptcha\", \"recaptcha\", \"recaptcha\", \"recyclerview\", \"recyclerview\", \"recyclerview\", \"recyclerview\", \"recycleview\", \"redhat\", \"redhat\", \"redirects\", \"redirects\", \"redirects\", \"regex\", \"regex\", \"regex\", \"regex\", \"remote\", \"remote\", \"remote\", \"remote\", \"remote\", \"remote\", \"remove\", \"remove\", \"remove\", \"remove\", \"remove\", \"remove\", \"remove\", \"repo\", \"repo\", \"repo\", \"repository\", \"repository\", \"repository\", \"repository\", \"repository\", \"reproduction\", \"request\", \"request\", \"request\", \"request\", \"request\", \"request\", \"request\", \"request\", \"requestdata\", \"requestheader\", \"resample\", \"resample\", \"resemble\", \"response\", \"response\", \"response\", \"response\", \"response\", \"response\", \"retina\", \"return\", \"return\", \"return\", \"return\", \"return\", \"return\", \"return\", \"return\", \"return\", \"rootviewcontroller\", \"rootviewcontroller\", \"rootviewcontroller\", \"row\", \"row\", \"row\", \"row\", \"row\", \"row\", \"run\", \"run\", \"run\", \"run\", \"run\", \"run\", \"run\", \"run\", \"run\", \"rv\", \"rv\", \"s\", \"s\", \"s\", \"s\", \"s\", \"s\", \"safe\", \"safe\", \"salary\", \"sanctum\", \"sarah\", \"saturday\", \"sayhello\", \"schedule\", \"schedule\", \"schedule\", \"schema\", \"schema\", \"schema\", \"schema\", \"schema\", \"schema\", \"scrape\", \"scrape\", \"scrape\", \"scroll\", \"scroll\", \"scroll\", \"scroll\", \"scroll\", \"scroll\", \"scrolltop\", \"scrollview\", \"scrollview\", \"sd\", \"sd\", \"sd\", \"seamlessly\", \"searchview\", \"seat\", \"serialise\", \"serialise\", \"server\", \"server\", \"server\", \"server\", \"server\", \"server\", \"server\", \"server\", \"server\", \"server\", \"serverless\", \"serviceprovider\", \"serviceprovider\", \"sessionstorage\", \"set\", \"set\", \"set\", \"set\", \"set\", \"set\", \"set\", \"set\", \"set\", \"setoncheckedchangelistener\", \"sh\", \"sh\", \"shadowopacity\", \"shadowopacity\", \"shape\", \"shape\", \"shape\", \"shape\", \"sharedinstance\", \"sharepoint\", \"sharepoint\", \"sharepoint\", \"sharepoint\", \"shuffle\", \"shuffle\", \"simulator\", \"sizeof\", \"sizeof\", \"slide\", \"slide\", \"slide\", \"snackbar\", \"somevar\", \"somevar\", \"sourcemap\", \"sourcemap\", \"sourcemap\", \"span\", \"span\", \"span\", \"span\", \"sphere\", \"spider\", \"spider\", \"spider\", \"spider\", \"spreadsheetapp\", \"sql\", \"sql\", \"sql\", \"sql\", \"sql\", \"sql\", \"sql\", \"sql\", \"start\", \"start\", \"start\", \"start\", \"start\", \"start\", \"start\", \"start\", \"startdate\", \"startdate\", \"startdate\", \"std\", \"std\", \"std\", \"std\", \"std\", \"stderr\", \"stderr\", \"stem\", \"stout\", \"stout\", \"stp\", \"str\", \"str\", \"str\", \"str\", \"str\", \"stream\", \"stream\", \"stream\", \"stream\", \"stream\", \"stream\", \"string\", \"string\", \"string\", \"string\", \"string\", \"string\", \"string\", \"stringvalue\", \"strtotime\", \"student\", \"student\", \"student\", \"student\", \"style\", \"style\", \"style\", \"style\", \"style\", \"style\", \"style\", \"subprocess\", \"subprocess\", \"subprocess\", \"substring\", \"substring\", \"substring\", \"subtract\", \"subtract\", \"superuser\", \"supportsrtl\", \"supportsrtl\", \"svg\", \"svg\", \"svg\", \"system\", \"system\", \"system\", \"system\", \"system\", \"system\", \"tab\", \"tab\", \"tab\", \"tab\", \"tab\", \"tab\", \"tablayout\", \"tablayout\", \"table\", \"table\", \"table\", \"table\", \"table\", \"table\", \"table\", \"table\", \"td\", \"td\", \"td\", \"tear\", \"telegram\", \"telegram\", \"test\", \"test\", \"test\", \"test\", \"test\", \"test\", \"test\", \"testfile\", \"text\", \"text\", \"text\", \"text\", \"text\", \"text\", \"text\", \"textappearance\", \"textformfield\", \"textinputlayout\", \"textview\", \"textview\", \"textview\", \"th\", \"th\", \"th\", \"th\", \"th\", \"th\", \"theme\", \"theme\", \"theme\", \"theme\", \"theme\", \"thread\", \"thread\", \"thread\", \"thread\", \"thread\", \"tick\", \"tick\", \"tiff\", \"time\", \"time\", \"time\", \"time\", \"time\", \"time\", \"time\", \"time\", \"time\", \"timeout\", \"timeout\", \"timeout\", \"timer\", \"timezone\", \"tinymce\", \"tinymce\", \"tolerance\", \"tolerance\", \"tooltip\", \"tooltip\", \"tooltip\", \"toshortdatestring\", \"tr\", \"tr\", \"tr\", \"travis\", \"travis\", \"try\", \"try\", \"try\", \"try\", \"try\", \"try\", \"try\", \"try\", \"tsconfig\", \"tsconfig\", \"tsconfig\", \"tsconfig\", \"tweepy\", \"tweet\", \"tweet\", \"tweet\", \"tweet\", \"twin\", \"twin\", \"twitter\", \"twitter\", \"twitter\", \"twitter\", \"twitter\", \"txt\", \"txt\", \"txt\", \"type\", \"type\", \"type\", \"type\", \"type\", \"type\", \"type\", \"type\", \"typeface\", \"uitextfield\", \"uitextfield\", \"uitextfield\", \"updateitem\", \"use\", \"use\", \"use\", \"use\", \"use\", \"use\", \"use\", \"use\", \"use\", \"use\", \"user\", \"user\", \"user\", \"user\", \"user\", \"user\", \"user\", \"user\", \"userinfo\", \"userprofile\", \"value\", \"value\", \"value\", \"value\", \"value\", \"value\", \"value\", \"value\", \"value\", \"value\", \"vehicle\", \"vehicle\", \"vehicle\", \"version\", \"version\", \"version\", \"version\", \"version\", \"version\", \"version\", \"view\", \"view\", \"view\", \"view\", \"view\", \"viewholder\", \"viewholder\", \"viewmode\", \"viewmode\", \"viewmode\", \"viewmode\", \"viewsets\", \"viewsets\", \"viewstate\", \"virtualenvwrapper\", \"volume\", \"volume\", \"vulnerability\", \"vulnerability\", \"vw\", \"w\", \"w\", \"w\", \"way\", \"way\", \"way\", \"way\", \"way\", \"way\", \"way\", \"way\", \"way\", \"webclient\", \"webclient\", \"webclient\", \"webclient\", \"webdriver\", \"webdriver\", \"webdriver\", \"webflux\", \"webflux\", \"webscrape\", \"webscrape\", \"webview\", \"webview\", \"wednesday\", \"whitespace\", \"whitespace\", \"whitespace\", \"whitespace\", \"whitespace\", \"wi\", \"widget\", \"widget\", \"widget\", \"widget\", \"widget\", \"widget\", \"width\", \"width\", \"width\", \"width\", \"width\", \"width\", \"wikidata\", \"window\", \"window\", \"window\", \"window\", \"window\", \"window\", \"window\", \"window\", \"window\", \"winston\", \"woocommerce\", \"woocommerce\", \"woocommerce\", \"workbench\", \"workbench\", \"workitem\", \"workitem\", \"workmanager\", \"writer\", \"writer\", \"writer\", \"xcodebuild\", \"xgboost\", \"xgboost\", \"yup\", \"yup\"]}, \"R\": 30, \"lambda.step\": 0.01, \"plot.opts\": {\"xlab\": \"PC1\", \"ylab\": \"PC2\"}, \"topic.order\": [1, 2, 3, 4, 5, 6, 7, 8, 9, 10, 11]};\n",
       "\n",
       "function LDAvis_load_lib(url, callback){\n",
       "  var s = document.createElement('script');\n",
       "  s.src = url;\n",
       "  s.async = true;\n",
       "  s.onreadystatechange = s.onload = callback;\n",
       "  s.onerror = function(){console.warn(\"failed to load library \" + url);};\n",
       "  document.getElementsByTagName(\"head\")[0].appendChild(s);\n",
       "}\n",
       "\n",
       "if(typeof(LDAvis) !== \"undefined\"){\n",
       "   // already loaded: just create the visualization\n",
       "   !function(LDAvis){\n",
       "       new LDAvis(\"#\" + \"ldavis_el942422034452395842515467299\", ldavis_el942422034452395842515467299_data);\n",
       "   }(LDAvis);\n",
       "}else if(typeof define === \"function\" && define.amd){\n",
       "   // require.js is available: use it to load d3/LDAvis\n",
       "   require.config({paths: {d3: \"https://d3js.org/d3.v5\"}});\n",
       "   require([\"d3\"], function(d3){\n",
       "      window.d3 = d3;\n",
       "      LDAvis_load_lib(\"https://cdn.jsdelivr.net/gh/bmabey/pyLDAvis/pyLDAvis/js/ldavis.v3.0.0.js\", function(){\n",
       "        new LDAvis(\"#\" + \"ldavis_el942422034452395842515467299\", ldavis_el942422034452395842515467299_data);\n",
       "      });\n",
       "    });\n",
       "}else{\n",
       "    // require.js not available: dynamically load d3 & LDAvis\n",
       "    LDAvis_load_lib(\"https://d3js.org/d3.v5.js\", function(){\n",
       "         LDAvis_load_lib(\"https://cdn.jsdelivr.net/gh/bmabey/pyLDAvis/pyLDAvis/js/ldavis.v3.0.0.js\", function(){\n",
       "                 new LDAvis(\"#\" + \"ldavis_el942422034452395842515467299\", ldavis_el942422034452395842515467299_data);\n",
       "            })\n",
       "         });\n",
       "}\n",
       "</script>"
      ],
      "text/plain": [
       "PreparedData(topic_coordinates=              x         y  topics  cluster       Freq\n",
       "topic                                                \n",
       "0      0.180239 -0.008379       1        1  66.197813\n",
       "1      0.236014 -0.022088       2        1  11.834352\n",
       "2      0.274832  0.142679       3        1   9.223323\n",
       "3      0.131678 -0.174261       4        1   3.610230\n",
       "4     -0.045741 -0.017854       5        1   1.829592\n",
       "5     -0.106513  0.015416       6        1   1.571386\n",
       "6     -0.121888  0.014248       7        1   1.354638\n",
       "7     -0.137074  0.013795       8        1   1.233801\n",
       "8     -0.136782  0.008504       9        1   1.141842\n",
       "9     -0.146040  0.019083      10        1   1.065106\n",
       "10    -0.128725  0.008856      11        1   0.937918, topic_info=          Term         Freq        Total Category  logprob  loglift\n",
       "291     string  1419.000000  1419.000000  Default  30.0000  30.0000\n",
       "1488       div   808.000000   808.000000  Default  29.0000  29.0000\n",
       "452     column   820.000000   820.000000  Default  28.0000  28.0000\n",
       "208     number   861.000000   861.000000  Default  27.0000  27.0000\n",
       "430      array   906.000000   906.000000  Default  26.0000  26.0000\n",
       "...        ...          ...          ...      ...      ...      ...\n",
       "2487    opengl     0.997025    22.799924  Topic11  -8.1866   1.5395\n",
       "1715      heap     1.195419    65.085483  Topic11  -8.0051   0.6721\n",
       "290     stream     1.229366   231.467603  Topic11  -7.9771  -0.5687\n",
       "3477  category     1.130373   156.699262  Topic11  -8.0610  -0.2625\n",
       "261       java     1.197436   717.455393  Topic11  -8.0034  -1.7263\n",
       "\n",
       "[641 rows x 6 columns], token_table=      Topic      Freq               Term\n",
       "term                                    \n",
       "4054      1  0.045053          actionbar\n",
       "4054      3  0.901068          actionbar\n",
       "9383      1  0.150016  actionbaractivity\n",
       "9383     11  0.600065  actionbaractivity\n",
       "5254      1  0.578261            adapter\n",
       "...     ...       ...                ...\n",
       "6732      9  0.873423         xcodebuild\n",
       "5057      1  0.341102            xgboost\n",
       "5057     11  0.545763            xgboost\n",
       "6820      1  0.057864                yup\n",
       "6820      2  0.810101                yup\n",
       "\n",
       "[1875 rows x 3 columns], R=30, lambda_step=0.01, plot_opts={'xlab': 'PC1', 'ylab': 'PC2'}, topic_order=[1, 2, 3, 4, 5, 6, 7, 8, 9, 10, 11])"
      ]
     },
     "execution_count": 98,
     "metadata": {},
     "output_type": "execute_result"
    }
   ],
   "source": [
    "viz_lda_tfidf = gensimvis.prepare(optimal_model_lda_tfidf, corpus_tfidf, dictionary)\n",
    "viz_lda_tfidf"
   ]
  },
  {
   "cell_type": "markdown",
   "id": "46da35e8-aba9-4b4c-a776-63f93311ec01",
   "metadata": {
    "tags": []
   },
   "source": [
    "### NMF - BOW"
   ]
  },
  {
   "cell_type": "code",
   "execution_count": 99,
   "id": "ca6445da-13d2-4b20-a898-47e2fb591595",
   "metadata": {},
   "outputs": [],
   "source": [
    "# Optimal model chosen\n",
    "optimal_model_nmf_bow = model_list_nmf_bow[6]"
   ]
  },
  {
   "cell_type": "code",
   "execution_count": 100,
   "id": "8a84e184-ab88-446c-8407-3abe9b74c6ca",
   "metadata": {},
   "outputs": [
    {
     "data": {
      "text/plain": [
       "['optimal_model_nmf_bow.pkl']"
      ]
     },
     "execution_count": 100,
     "metadata": {},
     "output_type": "execute_result"
    }
   ],
   "source": [
    "# save the model to disk\n",
    "joblib.dump(optimal_model_nmf_bow, 'optimal_model_nmf_bow.pkl')"
   ]
  },
  {
   "cell_type": "code",
   "execution_count": 101,
   "id": "c7b8f8ca-1932-4164-b7b8-8bcff031d783",
   "metadata": {},
   "outputs": [
    {
     "name": "stdout",
     "output_type": "stream",
     "text": [
      "[(0,\n",
      "  '0.056*\"error\" + 0.026*\"get\" + 0.015*\"run\" + 0.015*\"java\" + 0.014*\"try\" + '\n",
      "  '0.013*\"version\" + 0.011*\"http\" + 0.010*\"server\" + 0.010*\"request\" + '\n",
      "  '0.009*\"line\"'),\n",
      " (1,\n",
      "  '0.151*\"file\" + 0.016*\"line\" + 0.013*\"path\" + 0.010*\"python\" + '\n",
      "  '0.010*\"folder\" + 0.009*\"directory\" + 0.009*\"image\" + 0.009*\"use\" + '\n",
      "  '0.008*\"run\" + 0.008*\"project\"'),\n",
      " (2,\n",
      "  '0.080*\"android\" + 0.046*\"layout\" + 0.045*\"id\" + 0.018*\"parent\" + '\n",
      "  '0.017*\"height\" + 0.017*\"app\" + 0.015*\"view\" + 0.014*\"width\" + 0.014*\"item\" '\n",
      "  '+ 0.013*\"content\"'),\n",
      " (3,\n",
      "  '0.112*\"name\" + 0.058*\"test\" + 0.019*\"type\" + 0.017*\"java\" + 0.014*\"class\" + '\n",
      "  '0.013*\"return\" + 0.012*\"id\" + 0.011*\"array\" + 0.011*\"field\" + '\n",
      "  '0.009*\"number\"'),\n",
      " (4,\n",
      "  '0.055*\"module\" + 0.053*\"import\" + 0.040*\"j\" + 0.027*\"app\" + 0.023*\"node\" + '\n",
      "  '0.016*\"react\" + 0.015*\"test\" + 0.015*\"component\" + 0.013*\"package\" + '\n",
      "  '0.011*\"num\"'),\n",
      " (5,\n",
      "  '0.075*\"use\" + 0.013*\"get\" + 0.010*\"try\" + 0.009*\"way\" + 0.008*\"code\" + '\n",
      "  '0.007*\"set\" + 0.007*\"time\" + 0.007*\"run\" + 0.007*\"find\" + 0.007*\"create\"'),\n",
      " (6,\n",
      "  '0.130*\"value\" + 0.025*\"list\" + 0.020*\"item\" + 0.015*\"option\" + '\n",
      "  '0.012*\"column\" + 0.011*\"array\" + 0.011*\"return\" + 0.010*\"select\" + '\n",
      "  '0.010*\"type\" + 0.010*\"get\"'),\n",
      " (7,\n",
      "  '0.132*\"data\" + 0.018*\"code\" + 0.012*\"get\" + 0.010*\"df\" + 0.009*\"column\" + '\n",
      "  '0.008*\"row\" + 0.008*\"son\" + 0.007*\"date\" + 0.007*\"time\" + 0.007*\"self\"'),\n",
      " (8,\n",
      "  '0.075*\"function\" + 0.025*\"return\" + 0.023*\"var\" + 0.013*\"event\" + '\n",
      "  '0.012*\"code\" + 0.011*\"call\" + 0.010*\"log\" + 0.010*\"script\" + 0.009*\"page\" + '\n",
      "  '0.009*\"text\"'),\n",
      " (9,\n",
      "  '0.111*\"class\" + 0.072*\"div\" + 0.018*\"button\" + 0.012*\"px\" + 0.012*\"item\" + '\n",
      "  '0.011*\"form\" + 0.009*\"type\" + 0.009*\"style\" + 0.008*\"span\" + 0.008*\"text\"'),\n",
      " (10,\n",
      "  '0.093*\"string\" + 0.036*\"model\" + 0.020*\"image\" + 0.018*\"user\" + '\n",
      "  '0.014*\"return\" + 0.014*\"get\" + 0.009*\"use\" + 0.008*\"int\" + 0.008*\"add\" + '\n",
      "  '0.007*\"list\"')]\n"
     ]
    }
   ],
   "source": [
    "optimal_model_nmf_bow.show_topics(formatted=False)\n",
    "pprint(optimal_model_nmf_bow.print_topics(num_words=10))"
   ]
  },
  {
   "cell_type": "markdown",
   "id": "79d88f14-ebe2-4db4-b39c-595ff7c04665",
   "metadata": {
    "tags": []
   },
   "source": [
    "### NMF - TF-IDF"
   ]
  },
  {
   "cell_type": "code",
   "execution_count": 102,
   "id": "b73eaaf4-3f26-40c4-90c6-817ed2fa79dc",
   "metadata": {},
   "outputs": [],
   "source": [
    "# Optimal model chosen\n",
    "optimal_model_nmf_tfidf = model_list_nmf_tfidf[5]"
   ]
  },
  {
   "cell_type": "code",
   "execution_count": 103,
   "id": "d5235e00-53c1-4780-8ab8-e13ade325a21",
   "metadata": {},
   "outputs": [
    {
     "data": {
      "text/plain": [
       "['optimal_model_nmf_tfidf.pkl']"
      ]
     },
     "execution_count": 103,
     "metadata": {},
     "output_type": "execute_result"
    }
   ],
   "source": [
    "# save the model to disk\n",
    "joblib.dump(optimal_model_nmf_tfidf, 'optimal_model_nmf_tfidf.pkl')"
   ]
  },
  {
   "cell_type": "code",
   "execution_count": 104,
   "id": "4d02457f-bf14-4681-8e90-81a33f31f3b8",
   "metadata": {},
   "outputs": [
    {
     "name": "stdout",
     "output_type": "stream",
     "text": [
      "[(0,\n",
      "  '0.025*\"string\" + 0.019*\"class\" + 0.016*\"java\" + 0.015*\"method\" + '\n",
      "  '0.012*\"type\" + 0.012*\"value\" + 0.011*\"int\" + 0.007*\"num\" + 0.007*\"property\" '\n",
      "  '+ 0.007*\"void\"'),\n",
      " (1,\n",
      "  '0.040*\"test\" + 0.023*\"android\" + 0.018*\"project\" + 0.013*\"studio\" + '\n",
      "  '0.012*\"package\" + 0.010*\"import\" + 0.010*\"layout\" + 0.010*\"version\" + '\n",
      "  '0.010*\"module\" + 0.009*\"app\"'),\n",
      " (2,\n",
      "  '0.041*\"function\" + 0.022*\"log\" + 0.015*\"var\" + 0.013*\"return\" + '\n",
      "  '0.012*\"event\" + 0.011*\"data\" + 0.011*\"console\" + 0.009*\"call\" + '\n",
      "  '0.009*\"javascript\" + 0.008*\"const\"'),\n",
      " (3,\n",
      "  '0.040*\"div\" + 0.015*\"page\" + 0.014*\"button\" + 0.013*\"html\" + 0.013*\"style\" '\n",
      "  '+ 0.012*\"px\" + 0.011*\"element\" + 0.011*\"color\" + 0.010*\"class\" + '\n",
      "  '0.010*\"text\"'),\n",
      " (4,\n",
      "  '0.081*\"image\" + 0.021*\"python\" + 0.009*\"import\" + 0.009*\"img\" + '\n",
      "  '0.008*\"line\" + 0.008*\"size\" + 0.007*\"png\" + 0.007*\"background\" + '\n",
      "  '0.007*\"jpg\" + 0.006*\"file\"'),\n",
      " (5,\n",
      "  '0.104*\"date\" + 0.021*\"time\" + 0.018*\"format\" + 0.017*\"day\" + '\n",
      "  '0.016*\"datetime\" + 0.014*\"month\" + 0.010*\"year\" + 0.008*\"df\" + '\n",
      "  '0.008*\"convert\" + 0.007*\"yyyy\"'),\n",
      " (6,\n",
      "  '0.047*\"array\" + 0.038*\"list\" + 0.026*\"item\" + 0.020*\"value\" + '\n",
      "  '0.018*\"string\" + 0.017*\"number\" + 0.009*\"int\" + 0.008*\"element\" + '\n",
      "  '0.008*\"index\" + 0.007*\"name\"'),\n",
      " (7,\n",
      "  '0.015*\"request\" + 0.014*\"server\" + 0.012*\"user\" + 0.010*\"http\" + '\n",
      "  '0.009*\"client\" + 0.008*\"app\" + 0.008*\"api\" + 0.007*\"access\" + '\n",
      "  '0.007*\"password\" + 0.006*\"response\"'),\n",
      " (8,\n",
      "  '0.025*\"file\" + 0.014*\"command\" + 0.013*\"run\" + 0.012*\"decker\" + '\n",
      "  '0.008*\"line\" + 0.008*\"window\" + 0.008*\"script\" + 0.007*\"python\" + '\n",
      "  '0.006*\"directory\" + 0.006*\"version\"'),\n",
      " (9,\n",
      "  '0.033*\"model\" + 0.019*\"form\" + 0.019*\"column\" + 0.017*\"field\" + '\n",
      "  '0.016*\"name\" + 0.011*\"self\" + 0.010*\"class\" + 0.010*\"row\" + 0.010*\"input\" + '\n",
      "  '0.009*\"id\"')]\n"
     ]
    }
   ],
   "source": [
    "optimal_model_nmf_tfidf.show_topics(formatted=False)\n",
    "pprint(optimal_model_nmf_tfidf.print_topics(num_words=10))"
   ]
  },
  {
   "cell_type": "markdown",
   "id": "379c94f7-2bc2-4e4a-9c9e-b45c92cd7df6",
   "metadata": {},
   "source": [
    "# Choix modèle optimal final"
   ]
  },
  {
   "cell_type": "code",
   "execution_count": 105,
   "id": "1e9377be-843b-4a9f-a570-61f21326dab4",
   "metadata": {},
   "outputs": [],
   "source": [
    "optimal_model_nmf_tfidf = model_list_nmf_tfidf[5]"
   ]
  },
  {
   "cell_type": "code",
   "execution_count": 106,
   "id": "6aebb67e-cf8b-4366-acb4-1a754b634682",
   "metadata": {},
   "outputs": [
    {
     "data": {
      "text/plain": [
       "['optimal_model_unsupervised.pkl']"
      ]
     },
     "execution_count": 106,
     "metadata": {},
     "output_type": "execute_result"
    }
   ],
   "source": [
    "# save the model to disk\n",
    "joblib.dump(optimal_model_nmf_tfidf, 'optimal_model_unsupervised.pkl')"
   ]
  },
  {
   "cell_type": "code",
   "execution_count": 107,
   "id": "b99ad6f4-aa8f-43d4-aa0a-40ac3c60bace",
   "metadata": {},
   "outputs": [
    {
     "name": "stdout",
     "output_type": "stream",
     "text": [
      "[(0,\n",
      "  '0.025*\"string\" + 0.019*\"class\" + 0.016*\"java\" + 0.015*\"method\" + '\n",
      "  '0.012*\"type\" + 0.012*\"value\" + 0.011*\"int\" + 0.007*\"num\" + 0.007*\"property\" '\n",
      "  '+ 0.007*\"void\"'),\n",
      " (1,\n",
      "  '0.040*\"test\" + 0.023*\"android\" + 0.018*\"project\" + 0.013*\"studio\" + '\n",
      "  '0.012*\"package\" + 0.010*\"import\" + 0.010*\"layout\" + 0.010*\"version\" + '\n",
      "  '0.010*\"module\" + 0.009*\"app\"'),\n",
      " (2,\n",
      "  '0.041*\"function\" + 0.022*\"log\" + 0.015*\"var\" + 0.013*\"return\" + '\n",
      "  '0.012*\"event\" + 0.011*\"data\" + 0.011*\"console\" + 0.009*\"call\" + '\n",
      "  '0.009*\"javascript\" + 0.008*\"const\"'),\n",
      " (3,\n",
      "  '0.040*\"div\" + 0.015*\"page\" + 0.014*\"button\" + 0.013*\"html\" + 0.013*\"style\" '\n",
      "  '+ 0.012*\"px\" + 0.011*\"element\" + 0.011*\"color\" + 0.010*\"class\" + '\n",
      "  '0.010*\"text\"'),\n",
      " (4,\n",
      "  '0.081*\"image\" + 0.021*\"python\" + 0.009*\"import\" + 0.009*\"img\" + '\n",
      "  '0.008*\"line\" + 0.008*\"size\" + 0.007*\"png\" + 0.007*\"background\" + '\n",
      "  '0.007*\"jpg\" + 0.006*\"file\"'),\n",
      " (5,\n",
      "  '0.104*\"date\" + 0.021*\"time\" + 0.018*\"format\" + 0.017*\"day\" + '\n",
      "  '0.016*\"datetime\" + 0.014*\"month\" + 0.010*\"year\" + 0.008*\"df\" + '\n",
      "  '0.008*\"convert\" + 0.007*\"yyyy\"'),\n",
      " (6,\n",
      "  '0.047*\"array\" + 0.038*\"list\" + 0.026*\"item\" + 0.020*\"value\" + '\n",
      "  '0.018*\"string\" + 0.017*\"number\" + 0.009*\"int\" + 0.008*\"element\" + '\n",
      "  '0.008*\"index\" + 0.007*\"name\"'),\n",
      " (7,\n",
      "  '0.015*\"request\" + 0.014*\"server\" + 0.012*\"user\" + 0.010*\"http\" + '\n",
      "  '0.009*\"client\" + 0.008*\"app\" + 0.008*\"api\" + 0.007*\"access\" + '\n",
      "  '0.007*\"password\" + 0.006*\"response\"'),\n",
      " (8,\n",
      "  '0.025*\"file\" + 0.014*\"command\" + 0.013*\"run\" + 0.012*\"decker\" + '\n",
      "  '0.008*\"line\" + 0.008*\"window\" + 0.008*\"script\" + 0.007*\"python\" + '\n",
      "  '0.006*\"directory\" + 0.006*\"version\"'),\n",
      " (9,\n",
      "  '0.033*\"model\" + 0.019*\"form\" + 0.019*\"column\" + 0.017*\"field\" + '\n",
      "  '0.016*\"name\" + 0.011*\"self\" + 0.010*\"class\" + 0.010*\"row\" + 0.010*\"input\" + '\n",
      "  '0.009*\"id\"')]\n"
     ]
    }
   ],
   "source": [
    "model_topics = optimal_model_nmf_tfidf.show_topics(formatted=False)\n",
    "pprint(optimal_model_nmf_tfidf.print_topics(num_words=10))"
   ]
  },
  {
   "cell_type": "code",
   "execution_count": 150,
   "id": "ea669180-3098-42f1-9803-0eedae75dbb5",
   "metadata": {},
   "outputs": [],
   "source": [
    "# Number of key_words to print\n",
    "topN = 5"
   ]
  },
  {
   "cell_type": "code",
   "execution_count": 151,
   "id": "6701c9d6-a7a2-4a41-aefc-ffbd8b2e5e2e",
   "metadata": {},
   "outputs": [
    {
     "name": "stdout",
     "output_type": "stream",
     "text": [
      "Topic # 1:\n",
      "\t file, string, error, use, get\n",
      "Topic # 2:\n",
      "\t name, array, value, column, image\n",
      "Topic # 3:\n",
      "\t div, button, style, class, image\n",
      "Topic # 4:\n",
      "\t column, string, row, character, number\n",
      "Topic # 5:\n",
      "\t digit, float, number, prometheus, char\n",
      "Topic # 6:\n",
      "\t student, fruit, monday, vehicle, curve\n",
      "Topic # 7:\n",
      "\t tweet, cola, twitter, winston, punctuation\n",
      "Topic # 8:\n",
      "\t recyclerview, viewholder, webclient, memo, capacity\n",
      "Topic # 9:\n",
      "\t spider, jackson, subprocess, currency, objectmapper\n",
      "Topic #10:\n",
      "\t td, tr, th, listitem, tinymce\n",
      "Topic #11:\n",
      "\t tweepy, hashcode, filestream, mona, gecko\n"
     ]
    }
   ],
   "source": [
    "optimal_model_0 = optimal_model_lda_tfidf\n",
    "\n",
    "for i in range(optimal_model_0.num_topics):\n",
    "    desc = optimal_model_0.show_topic(i, topn=topN)\n",
    "    words = ', '.join([word for word, prob in desc])\n",
    "    print(f'Topic #{i+1:2}:\\n\\t', words)"
   ]
  },
  {
   "cell_type": "code",
   "execution_count": 152,
   "id": "c7e0311c-d4ad-4371-8b41-170a4a4e818b",
   "metadata": {},
   "outputs": [
    {
     "name": "stdout",
     "output_type": "stream",
     "text": [
      "Topic # 1:\n",
      "\t string, class, java, method, type\n",
      "Topic # 2:\n",
      "\t test, android, project, studio, package\n",
      "Topic # 3:\n",
      "\t function, log, var, return, event\n",
      "Topic # 4:\n",
      "\t div, page, button, html, style\n",
      "Topic # 5:\n",
      "\t image, python, import, img, line\n",
      "Topic # 6:\n",
      "\t date, time, format, day, datetime\n",
      "Topic # 7:\n",
      "\t array, list, item, value, string\n",
      "Topic # 8:\n",
      "\t request, server, user, http, client\n",
      "Topic # 9:\n",
      "\t file, command, run, decker, line\n",
      "Topic #10:\n",
      "\t model, form, column, field, name\n"
     ]
    }
   ],
   "source": [
    "optimal_model = optimal_model_nmf_tfidf\n",
    "\n",
    "for i in range(optimal_model.num_topics):\n",
    "    desc = optimal_model.show_topic(i, topn=topN)\n",
    "    words = ', '.join([word for word, prob in desc])\n",
    "    print(f'Topic #{i+1:2}:\\n\\t', words)"
   ]
  },
  {
   "cell_type": "markdown",
   "id": "ea1d0a71-35a1-4df2-ae25-21fd0aae428a",
   "metadata": {},
   "source": [
    "# Finding the Dominant_Topic in each sentence"
   ]
  },
  {
   "cell_type": "code",
   "execution_count": 110,
   "id": "91131009-8c1f-45a5-9879-64158a0e601a",
   "metadata": {},
   "outputs": [],
   "source": [
    "def format_topics_sentences(model, corpus, texts):\n",
    "    # Init output\n",
    "    sent_topics_df = pd.DataFrame()\n",
    "\n",
    "    # Get main topic in each document\n",
    "    for i, row in enumerate(model[corpus]):\n",
    "        row = sorted(row, key=lambda x: (x[1]), reverse=True)\n",
    "        # Get the Dominant_Topic, Perc Contribution and Keywords for each document\n",
    "        for j, (topic_num, prop_topic) in enumerate(row):\n",
    "            if j == 0:  # => Dominant_Topic\n",
    "                wp = model.show_topic(topic_num)\n",
    "                topic_keywords = \", \".join([word for word, prop in wp])\n",
    "                sent_topics_df = sent_topics_df.append(pd.Series([int(topic_num), \n",
    "                                                                  round(prop_topic,4), \n",
    "                                                                  topic_keywords]), \n",
    "                                                                  ignore_index=True)\n",
    "            else:\n",
    "                break\n",
    "    sent_topics_df.columns = ['Dominant_Topic',\n",
    "                              'Perc_Contribution',\n",
    "                              'Topic_Keywords']\n",
    "\n",
    "    # Add original text to the end of the output\n",
    "    contents = pd.Series(texts)\n",
    "    sent_topics_df = pd.concat([sent_topics_df, contents], axis=1)\n",
    "    return(sent_topics_df)"
   ]
  },
  {
   "cell_type": "code",
   "execution_count": 111,
   "id": "a02261f0-a223-4857-8519-a49854fdbddd",
   "metadata": {},
   "outputs": [],
   "source": [
    "corpus = corpus_tfidf"
   ]
  },
  {
   "cell_type": "code",
   "execution_count": 112,
   "id": "97b5c861-5fa3-405a-ae0d-4cb744fd1e5e",
   "metadata": {},
   "outputs": [
    {
     "data": {
      "text/html": [
       "<div>\n",
       "<style scoped>\n",
       "    .dataframe tbody tr th:only-of-type {\n",
       "        vertical-align: middle;\n",
       "    }\n",
       "\n",
       "    .dataframe tbody tr th {\n",
       "        vertical-align: top;\n",
       "    }\n",
       "\n",
       "    .dataframe thead th {\n",
       "        text-align: right;\n",
       "    }\n",
       "</style>\n",
       "<table border=\"1\" class=\"dataframe\">\n",
       "  <thead>\n",
       "    <tr style=\"text-align: right;\">\n",
       "      <th></th>\n",
       "      <th>Document_No</th>\n",
       "      <th>Dominant_Topic</th>\n",
       "      <th>Topic_Perc_Contrib</th>\n",
       "      <th>Keywords</th>\n",
       "      <th>Text</th>\n",
       "    </tr>\n",
       "  </thead>\n",
       "  <tbody>\n",
       "    <tr>\n",
       "      <th>0</th>\n",
       "      <td>0</td>\n",
       "      <td>0.0</td>\n",
       "      <td>0.4202</td>\n",
       "      <td>string, class, java, method, type, value, int,...</td>\n",
       "      <td>[way, class, variable, python, python, people,...</td>\n",
       "    </tr>\n",
       "    <tr>\n",
       "      <th>1</th>\n",
       "      <td>1</td>\n",
       "      <td>7.0</td>\n",
       "      <td>0.2827</td>\n",
       "      <td>request, server, user, http, client, app, api,...</td>\n",
       "      <td>[entrypoint, index, html, use, htmlwebpackplug...</td>\n",
       "    </tr>\n",
       "    <tr>\n",
       "      <th>2</th>\n",
       "      <td>2</td>\n",
       "      <td>0.0</td>\n",
       "      <td>0.8290</td>\n",
       "      <td>string, class, java, method, type, value, int,...</td>\n",
       "      <td>[literate, num, notice, math, operator, num, w...</td>\n",
       "    </tr>\n",
       "    <tr>\n",
       "      <th>3</th>\n",
       "      <td>3</td>\n",
       "      <td>4.0</td>\n",
       "      <td>0.4652</td>\n",
       "      <td>image, python, import, img, line, size, png, b...</td>\n",
       "      <td>[decker, image, use, compile, cpu, currently, ...</td>\n",
       "    </tr>\n",
       "    <tr>\n",
       "      <th>4</th>\n",
       "      <td>4</td>\n",
       "      <td>2.0</td>\n",
       "      <td>0.6521</td>\n",
       "      <td>function, log, var, return, event, data, conso...</td>\n",
       "      <td>[handle, loss, three, j, figure, case, loss, a...</td>\n",
       "    </tr>\n",
       "    <tr>\n",
       "      <th>5</th>\n",
       "      <td>5</td>\n",
       "      <td>3.0</td>\n",
       "      <td>0.7749</td>\n",
       "      <td>div, page, button, html, style, px, element, c...</td>\n",
       "      <td>[input, text, color, io, simple, html, display...</td>\n",
       "    </tr>\n",
       "    <tr>\n",
       "      <th>6</th>\n",
       "      <td>6</td>\n",
       "      <td>2.0</td>\n",
       "      <td>0.9906</td>\n",
       "      <td>function, log, var, return, event, data, conso...</td>\n",
       "      <td>[crt, polymorphism, use, crt, avoid, member, f...</td>\n",
       "    </tr>\n",
       "    <tr>\n",
       "      <th>7</th>\n",
       "      <td>7</td>\n",
       "      <td>3.0</td>\n",
       "      <td>0.4695</td>\n",
       "      <td>div, page, button, html, style, px, element, c...</td>\n",
       "      <td>[convert, uicolor, display, nslog, link, conve...</td>\n",
       "    </tr>\n",
       "    <tr>\n",
       "      <th>8</th>\n",
       "      <td>8</td>\n",
       "      <td>7.0</td>\n",
       "      <td>0.7805</td>\n",
       "      <td>request, server, user, http, client, app, api,...</td>\n",
       "      <td>[custom, domain, name, websockets, api, server...</td>\n",
       "    </tr>\n",
       "    <tr>\n",
       "      <th>9</th>\n",
       "      <td>9</td>\n",
       "      <td>9.0</td>\n",
       "      <td>0.5882</td>\n",
       "      <td>model, form, column, field, name, self, class,...</td>\n",
       "      <td>[rail, include, field, association, model, ass...</td>\n",
       "    </tr>\n",
       "    <tr>\n",
       "      <th>10</th>\n",
       "      <td>10</td>\n",
       "      <td>7.0</td>\n",
       "      <td>0.2769</td>\n",
       "      <td>request, server, user, http, client, app, api,...</td>\n",
       "      <td>[get, search, result, per, page, via, url, wri...</td>\n",
       "    </tr>\n",
       "  </tbody>\n",
       "</table>\n",
       "</div>"
      ],
      "text/plain": [
       "    Document_No  Dominant_Topic  Topic_Perc_Contrib  \\\n",
       "0             0             0.0              0.4202   \n",
       "1             1             7.0              0.2827   \n",
       "2             2             0.0              0.8290   \n",
       "3             3             4.0              0.4652   \n",
       "4             4             2.0              0.6521   \n",
       "5             5             3.0              0.7749   \n",
       "6             6             2.0              0.9906   \n",
       "7             7             3.0              0.4695   \n",
       "8             8             7.0              0.7805   \n",
       "9             9             9.0              0.5882   \n",
       "10           10             7.0              0.2769   \n",
       "\n",
       "                                             Keywords  \\\n",
       "0   string, class, java, method, type, value, int,...   \n",
       "1   request, server, user, http, client, app, api,...   \n",
       "2   string, class, java, method, type, value, int,...   \n",
       "3   image, python, import, img, line, size, png, b...   \n",
       "4   function, log, var, return, event, data, conso...   \n",
       "5   div, page, button, html, style, px, element, c...   \n",
       "6   function, log, var, return, event, data, conso...   \n",
       "7   div, page, button, html, style, px, element, c...   \n",
       "8   request, server, user, http, client, app, api,...   \n",
       "9   model, form, column, field, name, self, class,...   \n",
       "10  request, server, user, http, client, app, api,...   \n",
       "\n",
       "                                                 Text  \n",
       "0   [way, class, variable, python, python, people,...  \n",
       "1   [entrypoint, index, html, use, htmlwebpackplug...  \n",
       "2   [literate, num, notice, math, operator, num, w...  \n",
       "3   [decker, image, use, compile, cpu, currently, ...  \n",
       "4   [handle, loss, three, j, figure, case, loss, a...  \n",
       "5   [input, text, color, io, simple, html, display...  \n",
       "6   [crt, polymorphism, use, crt, avoid, member, f...  \n",
       "7   [convert, uicolor, display, nslog, link, conve...  \n",
       "8   [custom, domain, name, websockets, api, server...  \n",
       "9   [rail, include, field, association, model, ass...  \n",
       "10  [get, search, result, per, page, via, url, wri...  "
      ]
     },
     "execution_count": 112,
     "metadata": {},
     "output_type": "execute_result"
    }
   ],
   "source": [
    "df_topic_sents_keywords = format_topics_sentences(optimal_model, \n",
    "                                                  corpus, \n",
    "                                                  list_txt_cleaned)\n",
    "\n",
    "# Format\n",
    "df_dominant_topic = df_topic_sents_keywords.reset_index()\n",
    "df_dominant_topic.columns = ['Document_No',\n",
    "                             'Dominant_Topic',\n",
    "                             'Topic_Perc_Contrib',\n",
    "                             'Keywords',\n",
    "                             'Text']\n",
    "\n",
    "# Show\n",
    "df_dominant_topic.head(11)"
   ]
  },
  {
   "cell_type": "code",
   "execution_count": 113,
   "id": "7214a6fa-ba0b-4399-bd6b-99f8e3b21693",
   "metadata": {},
   "outputs": [
    {
     "data": {
      "text/html": [
       "<div>\n",
       "<style scoped>\n",
       "    .dataframe tbody tr th:only-of-type {\n",
       "        vertical-align: middle;\n",
       "    }\n",
       "\n",
       "    .dataframe tbody tr th {\n",
       "        vertical-align: top;\n",
       "    }\n",
       "\n",
       "    .dataframe thead th {\n",
       "        text-align: right;\n",
       "    }\n",
       "</style>\n",
       "<table border=\"1\" class=\"dataframe\">\n",
       "  <thead>\n",
       "    <tr style=\"text-align: right;\">\n",
       "      <th></th>\n",
       "      <th>Dominant_Topic</th>\n",
       "      <th>Perc_Contribution</th>\n",
       "      <th>Topic_Keywords</th>\n",
       "      <th>0</th>\n",
       "    </tr>\n",
       "  </thead>\n",
       "  <tbody>\n",
       "    <tr>\n",
       "      <th>0</th>\n",
       "      <td>0.0</td>\n",
       "      <td>0.4202</td>\n",
       "      <td>string, class, java, method, type, value, int,...</td>\n",
       "      <td>[way, class, variable, python, python, people,...</td>\n",
       "    </tr>\n",
       "    <tr>\n",
       "      <th>1</th>\n",
       "      <td>7.0</td>\n",
       "      <td>0.2827</td>\n",
       "      <td>request, server, user, http, client, app, api,...</td>\n",
       "      <td>[entrypoint, index, html, use, htmlwebpackplug...</td>\n",
       "    </tr>\n",
       "    <tr>\n",
       "      <th>2</th>\n",
       "      <td>0.0</td>\n",
       "      <td>0.8290</td>\n",
       "      <td>string, class, java, method, type, value, int,...</td>\n",
       "      <td>[literate, num, notice, math, operator, num, w...</td>\n",
       "    </tr>\n",
       "    <tr>\n",
       "      <th>3</th>\n",
       "      <td>4.0</td>\n",
       "      <td>0.4652</td>\n",
       "      <td>image, python, import, img, line, size, png, b...</td>\n",
       "      <td>[decker, image, use, compile, cpu, currently, ...</td>\n",
       "    </tr>\n",
       "    <tr>\n",
       "      <th>4</th>\n",
       "      <td>2.0</td>\n",
       "      <td>0.6521</td>\n",
       "      <td>function, log, var, return, event, data, conso...</td>\n",
       "      <td>[handle, loss, three, j, figure, case, loss, a...</td>\n",
       "    </tr>\n",
       "  </tbody>\n",
       "</table>\n",
       "</div>"
      ],
      "text/plain": [
       "   Dominant_Topic  Perc_Contribution  \\\n",
       "0             0.0             0.4202   \n",
       "1             7.0             0.2827   \n",
       "2             0.0             0.8290   \n",
       "3             4.0             0.4652   \n",
       "4             2.0             0.6521   \n",
       "\n",
       "                                      Topic_Keywords  \\\n",
       "0  string, class, java, method, type, value, int,...   \n",
       "1  request, server, user, http, client, app, api,...   \n",
       "2  string, class, java, method, type, value, int,...   \n",
       "3  image, python, import, img, line, size, png, b...   \n",
       "4  function, log, var, return, event, data, conso...   \n",
       "\n",
       "                                                   0  \n",
       "0  [way, class, variable, python, python, people,...  \n",
       "1  [entrypoint, index, html, use, htmlwebpackplug...  \n",
       "2  [literate, num, notice, math, operator, num, w...  \n",
       "3  [decker, image, use, compile, cpu, currently, ...  \n",
       "4  [handle, loss, three, j, figure, case, loss, a...  "
      ]
     },
     "execution_count": 113,
     "metadata": {},
     "output_type": "execute_result"
    }
   ],
   "source": [
    "df_topic_sents_keywords.head()"
   ]
  },
  {
   "cell_type": "code",
   "execution_count": 114,
   "id": "0575f81a-7cbb-493d-81a2-e4703dbb04d6",
   "metadata": {},
   "outputs": [
    {
     "data": {
      "text/html": [
       "<div>\n",
       "<style scoped>\n",
       "    .dataframe tbody tr th:only-of-type {\n",
       "        vertical-align: middle;\n",
       "    }\n",
       "\n",
       "    .dataframe tbody tr th {\n",
       "        vertical-align: top;\n",
       "    }\n",
       "\n",
       "    .dataframe thead th {\n",
       "        text-align: right;\n",
       "    }\n",
       "</style>\n",
       "<table border=\"1\" class=\"dataframe\">\n",
       "  <thead>\n",
       "    <tr style=\"text-align: right;\">\n",
       "      <th></th>\n",
       "      <th>Topic_Num</th>\n",
       "      <th>Topic_Perc_Contrib</th>\n",
       "      <th>Keywords</th>\n",
       "      <th>Text</th>\n",
       "    </tr>\n",
       "  </thead>\n",
       "  <tbody>\n",
       "    <tr>\n",
       "      <th>0</th>\n",
       "      <td>0.0</td>\n",
       "      <td>1.0</td>\n",
       "      <td>string, class, java, method, type, value, int,...</td>\n",
       "      <td>[refer, exist, documentation, example, try, do...</td>\n",
       "    </tr>\n",
       "    <tr>\n",
       "      <th>1</th>\n",
       "      <td>1.0</td>\n",
       "      <td>1.0</td>\n",
       "      <td>test, android, project, studio, package, impor...</td>\n",
       "      <td>[create, emulator, without, studio, studio, cr...</td>\n",
       "    </tr>\n",
       "    <tr>\n",
       "      <th>2</th>\n",
       "      <td>2.0</td>\n",
       "      <td>1.0</td>\n",
       "      <td>function, log, var, return, event, data, conso...</td>\n",
       "      <td>[query, get, event, get, event, pass, paramete...</td>\n",
       "    </tr>\n",
       "    <tr>\n",
       "      <th>3</th>\n",
       "      <td>3.0</td>\n",
       "      <td>1.0</td>\n",
       "      <td>div, page, button, html, style, px, element, c...</td>\n",
       "      <td>[react, j, carousel, arrow, use, caroseul, exa...</td>\n",
       "    </tr>\n",
       "    <tr>\n",
       "      <th>4</th>\n",
       "      <td>4.0</td>\n",
       "      <td>1.0</td>\n",
       "      <td>image, python, import, img, line, size, png, b...</td>\n",
       "      <td>[quote, value, really, follow, use, example, b...</td>\n",
       "    </tr>\n",
       "    <tr>\n",
       "      <th>5</th>\n",
       "      <td>5.0</td>\n",
       "      <td>1.0</td>\n",
       "      <td>date, time, format, day, datetime, month, year...</td>\n",
       "      <td>[hp, carbon, get, today, date, formatting, dat...</td>\n",
       "    </tr>\n",
       "    <tr>\n",
       "      <th>6</th>\n",
       "      <td>6.0</td>\n",
       "      <td>1.0</td>\n",
       "      <td>array, list, item, value, string, number, int,...</td>\n",
       "      <td>[check, value, exist, array, search, array, va...</td>\n",
       "    </tr>\n",
       "    <tr>\n",
       "      <th>7</th>\n",
       "      <td>7.0</td>\n",
       "      <td>1.0</td>\n",
       "      <td>request, server, user, http, client, app, api,...</td>\n",
       "      <td>[access, w, api, gateway, pc, w, api, gateway,...</td>\n",
       "    </tr>\n",
       "    <tr>\n",
       "      <th>8</th>\n",
       "      <td>8.0</td>\n",
       "      <td>1.0</td>\n",
       "      <td>file, command, run, decker, line, window, scri...</td>\n",
       "      <td>[file, md, directory, script, command, line, e...</td>\n",
       "    </tr>\n",
       "    <tr>\n",
       "      <th>9</th>\n",
       "      <td>9.0</td>\n",
       "      <td>1.0</td>\n",
       "      <td>model, form, column, field, name, self, class,...</td>\n",
       "      <td>[password, form, pyqt, make, form, put, field,...</td>\n",
       "    </tr>\n",
       "  </tbody>\n",
       "</table>\n",
       "</div>"
      ],
      "text/plain": [
       "   Topic_Num  Topic_Perc_Contrib  \\\n",
       "0        0.0                 1.0   \n",
       "1        1.0                 1.0   \n",
       "2        2.0                 1.0   \n",
       "3        3.0                 1.0   \n",
       "4        4.0                 1.0   \n",
       "5        5.0                 1.0   \n",
       "6        6.0                 1.0   \n",
       "7        7.0                 1.0   \n",
       "8        8.0                 1.0   \n",
       "9        9.0                 1.0   \n",
       "\n",
       "                                            Keywords  \\\n",
       "0  string, class, java, method, type, value, int,...   \n",
       "1  test, android, project, studio, package, impor...   \n",
       "2  function, log, var, return, event, data, conso...   \n",
       "3  div, page, button, html, style, px, element, c...   \n",
       "4  image, python, import, img, line, size, png, b...   \n",
       "5  date, time, format, day, datetime, month, year...   \n",
       "6  array, list, item, value, string, number, int,...   \n",
       "7  request, server, user, http, client, app, api,...   \n",
       "8  file, command, run, decker, line, window, scri...   \n",
       "9  model, form, column, field, name, self, class,...   \n",
       "\n",
       "                                                Text  \n",
       "0  [refer, exist, documentation, example, try, do...  \n",
       "1  [create, emulator, without, studio, studio, cr...  \n",
       "2  [query, get, event, get, event, pass, paramete...  \n",
       "3  [react, j, carousel, arrow, use, caroseul, exa...  \n",
       "4  [quote, value, really, follow, use, example, b...  \n",
       "5  [hp, carbon, get, today, date, formatting, dat...  \n",
       "6  [check, value, exist, array, search, array, va...  \n",
       "7  [access, w, api, gateway, pc, w, api, gateway,...  \n",
       "8  [file, md, directory, script, command, line, e...  \n",
       "9  [password, form, pyqt, make, form, put, field,...  "
      ]
     },
     "execution_count": 114,
     "metadata": {},
     "output_type": "execute_result"
    }
   ],
   "source": [
    "# Group top 5 sentences under each topic\n",
    "top_sentences = 1\n",
    "\n",
    "df_sent_topics_sorted = pd.DataFrame()\n",
    "\n",
    "sent_topics_outdf_grpd = df_topic_sents_keywords.groupby('Dominant_Topic')\n",
    "\n",
    "for i, grp in sent_topics_outdf_grpd:\n",
    "    df_sent_topics_sorted = pd.concat([df_sent_topics_sorted,\n",
    "                                       grp.sort_values(['Perc_Contribution'],\n",
    "                                       ascending=[0]).head(top_sentences)],\n",
    "                                       axis=0)\n",
    "\n",
    "# # Reset Index    \n",
    "df_sent_topics_sorted.reset_index(drop=True, inplace=True)\n",
    "\n",
    "# Format\n",
    "df_sent_topics_sorted.columns = ['Topic_Num', \"Topic_Perc_Contrib\", \"Keywords\", \"Text\"]\n",
    "\n",
    "# Show\n",
    "df_sent_topics_sorted.head(10)"
   ]
  },
  {
   "cell_type": "code",
   "execution_count": 115,
   "id": "ca5095cd-3e49-4396-b9af-3f2e98ad068e",
   "metadata": {},
   "outputs": [
    {
     "data": {
      "text/plain": [
       "0    [refer, exist, documentation, example, try, do...\n",
       "1    [create, emulator, without, studio, studio, cr...\n",
       "2    [query, get, event, get, event, pass, paramete...\n",
       "3    [react, j, carousel, arrow, use, caroseul, exa...\n",
       "4    [quote, value, really, follow, use, example, b...\n",
       "5    [hp, carbon, get, today, date, formatting, dat...\n",
       "6    [check, value, exist, array, search, array, va...\n",
       "7    [access, w, api, gateway, pc, w, api, gateway,...\n",
       "8    [file, md, directory, script, command, line, e...\n",
       "9    [password, form, pyqt, make, form, put, field,...\n",
       "Name: Text, dtype: object"
      ]
     },
     "execution_count": 115,
     "metadata": {},
     "output_type": "execute_result"
    }
   ],
   "source": [
    "df_sent_topics_sorted.Text"
   ]
  },
  {
   "cell_type": "code",
   "execution_count": 116,
   "id": "37563a97-4158-436b-9fce-01a60c9e84e1",
   "metadata": {},
   "outputs": [
    {
     "data": {
      "text/plain": [
       "8.0    19992\n",
       "7.0    16643\n",
       "0.0    13577\n",
       "9.0     8486\n",
       "3.0     8234\n",
       "2.0     7193\n",
       "1.0     6912\n",
       "6.0     5824\n",
       "4.0     3032\n",
       "5.0     1987\n",
       "Name: Dominant_Topic, dtype: int64"
      ]
     },
     "execution_count": 116,
     "metadata": {},
     "output_type": "execute_result"
    }
   ],
   "source": [
    "# Number of Documents for Each Topic\n",
    "topic_counts = df_topic_sents_keywords['Dominant_Topic'].value_counts()\n",
    "topic_counts"
   ]
  },
  {
   "cell_type": "code",
   "execution_count": 117,
   "id": "97895658-4f52-424e-9a82-994955e744ff",
   "metadata": {},
   "outputs": [
    {
     "data": {
      "text/plain": [
       "91880"
      ]
     },
     "execution_count": 117,
     "metadata": {},
     "output_type": "execute_result"
    }
   ],
   "source": [
    "topic_counts.sum()"
   ]
  },
  {
   "cell_type": "code",
   "execution_count": 118,
   "id": "6effb71d-acc9-4cd7-9152-f093ed8c4a26",
   "metadata": {},
   "outputs": [],
   "source": [
    "# Percentage of Documents for Each Topic\n",
    "topic_contribution = round(topic_counts/topic_counts.sum(), 4)\n",
    "\n",
    "# Topic Number and Keywords\n",
    "topic_num_keywords = df_topic_sents_keywords[['Dominant_Topic', 'Topic_Keywords']]\n",
    "\n",
    "# Concatenate Column wise\n",
    "df_dominant_topics = pd.concat([topic_num_keywords, topic_counts, topic_contribution], axis=1)\n",
    "\n",
    "# Change Column names\n",
    "df_dominant_topics.columns = ['Dominant_Topic', 'Topic_Keywords', 'Num_Documents', 'Perc_Documents']\n",
    "\n",
    "# # Show\n",
    "# df_dominant_topics"
   ]
  },
  {
   "cell_type": "markdown",
   "id": "5367c3ab-b042-4ea1-b2e7-c007b35a0a66",
   "metadata": {},
   "source": [
    "# Prediction on unseen text"
   ]
  },
  {
   "cell_type": "code",
   "execution_count": 119,
   "id": "50fac733-3f80-4594-a81d-5712d0dca9d3",
   "metadata": {},
   "outputs": [],
   "source": [
    "optimal_model = optimal_model_nmf_tfidf"
   ]
  },
  {
   "cell_type": "code",
   "execution_count": 120,
   "id": "fb24a1de-f44f-469c-a34f-2e08fee25e0c",
   "metadata": {},
   "outputs": [],
   "source": [
    "# save the model to disk\n",
    "filename = 'optimal_model_unsupervised.sav'\n",
    "pickle.dump(optimal_model, open(filename, 'wb'))"
   ]
  },
  {
   "cell_type": "code",
   "execution_count": 121,
   "id": "ff2ae429-d1ba-45cc-a1f8-81a3c4f64382",
   "metadata": {},
   "outputs": [
    {
     "name": "stdout",
     "output_type": "stream",
     "text": [
      "Topic # 1:\n",
      "\t string, class, java, method, type\n",
      "Topic # 2:\n",
      "\t test, android, project, studio, package\n",
      "Topic # 3:\n",
      "\t function, log, var, return, event\n",
      "Topic # 4:\n",
      "\t div, page, button, html, style\n",
      "Topic # 5:\n",
      "\t image, python, import, img, line\n",
      "Topic # 6:\n",
      "\t date, time, format, day, datetime\n",
      "Topic # 7:\n",
      "\t array, list, item, value, string\n",
      "Topic # 8:\n",
      "\t request, server, user, http, client\n",
      "Topic # 9:\n",
      "\t file, command, run, decker, line\n",
      "Topic #10:\n",
      "\t model, form, column, field, name\n"
     ]
    }
   ],
   "source": [
    "# let's print the topics for the optimal model\n",
    "for i in range(optimal_model.num_topics):\n",
    "    desc = optimal_model.show_topic(i, topn=5)\n",
    "    words = ', '.join([word for word, prob in desc])\n",
    "    print(f'Topic #{i+1:2}:\\n\\t', words)"
   ]
  },
  {
   "cell_type": "code",
   "execution_count": 122,
   "id": "b4b87702-1a15-4ebf-acd4-94e5169dfc1b",
   "metadata": {},
   "outputs": [
    {
     "data": {
      "text/plain": [
       "0    [refer, exist, documentation, example, try, do...\n",
       "1    [create, emulator, without, studio, studio, cr...\n",
       "2    [query, get, event, get, event, pass, paramete...\n",
       "3    [react, j, carousel, arrow, use, caroseul, exa...\n",
       "4    [quote, value, really, follow, use, example, b...\n",
       "5    [hp, carbon, get, today, date, formatting, dat...\n",
       "6    [check, value, exist, array, search, array, va...\n",
       "7    [access, w, api, gateway, pc, w, api, gateway,...\n",
       "8    [file, md, directory, script, command, line, e...\n",
       "9    [password, form, pyqt, make, form, put, field,...\n",
       "Name: Text, dtype: object"
      ]
     },
     "execution_count": 122,
     "metadata": {},
     "output_type": "execute_result"
    }
   ],
   "source": [
    "df_sent_topics_sorted.Text"
   ]
  },
  {
   "cell_type": "code",
   "execution_count": 123,
   "id": "54100632-c96e-4b2c-8a2a-c9f584943598",
   "metadata": {},
   "outputs": [
    {
     "data": {
      "text/plain": [
       "['refer',\n",
       " 'exist',\n",
       " 'documentation',\n",
       " 'example',\n",
       " 'try',\n",
       " 'doc',\n",
       " 'string',\n",
       " 'method',\n",
       " 'method',\n",
       " 'method',\n",
       " 'docstring',\n",
       " 'method',\n",
       " 'doc',\n",
       " 'string',\n",
       " 'add',\n",
       " 'method',\n",
       " 'method',\n",
       " 'method',\n",
       " 'documentation',\n",
       " 'doc',\n",
       " 'string',\n",
       " 'method',\n",
       " 'doc',\n",
       " 'string',\n",
       " 'add',\n",
       " 'fairly',\n",
       " 'do',\n",
       " 'save',\n",
       " 'documentation',\n",
       " 'make',\n",
       " 'documentation',\n",
       " 'dart']"
      ]
     },
     "execution_count": 123,
     "metadata": {},
     "output_type": "execute_result"
    }
   ],
   "source": [
    "doc_1 = df_sent_topics_sorted.Text[0]\n",
    "doc_1"
   ]
  },
  {
   "cell_type": "code",
   "execution_count": 124,
   "id": "dbfdbffe-5fde-49b2-8911-478a10862c80",
   "metadata": {},
   "outputs": [],
   "source": [
    "# df_doc = pd.DataFrame()\n",
    "# df_doc['doc'] = ['test android android c++ crash report accord page c++ java android parent app']\n",
    "# df_doc"
   ]
  },
  {
   "cell_type": "code",
   "execution_count": 125,
   "id": "1f13d5e2-c662-49f3-aaf7-2b797b013dc4",
   "metadata": {},
   "outputs": [],
   "source": [
    "def prepared_text(df_doc_test):\n",
    "    df_doc_test['text'] = df_doc_test['title'] + ' ' + df_doc_test['doc']\n",
    "    df_doc_test['text'] = df_doc_test['text'].apply(lambda x: clean_text(x))\n",
    "    df_doc_test['text'] = df_doc_test['text'].apply(lambda x: expand_contractions(x)) \n",
    "    df_doc_test['text'] = df_doc_test['text'].apply(lambda x: autocorrect(x)) \n",
    "    df_doc_test['text'] = df_doc_test['text'].str.lower()\n",
    "    df_doc_test['text'] = df_doc_test['text'].apply(lambda x: remove_non_alphabetical_character(x)) \n",
    "    df_doc_test['text'] = df_doc_test['text'].apply(lambda x: remove_single_letter(x)) \n",
    "    df_doc_test['text'] = df_doc_test['text'].apply(lambda x: remove_stopwords(x))\n",
    "    df_doc_test['text'] = df_doc_test['text'].apply(lambda x: remove_by_tag(x, adjective_tag_list))\n",
    "    df_doc_test['text'] = df_doc_test['text'].apply(lambda x: lemmatize_text(x))\n",
    "    doc_test_prepared = list(df_doc_test['text'])\n",
    "    \n",
    "    return doc_test_prepared # Format !!"
   ]
  },
  {
   "cell_type": "code",
   "execution_count": 126,
   "id": "dc086ff5-f89a-42d9-9aa9-756341a43cf2",
   "metadata": {},
   "outputs": [],
   "source": [
    "df_doc_test = pd.DataFrame()"
   ]
  },
  {
   "cell_type": "code",
   "execution_count": 127,
   "id": "706af3ce-7ce1-475e-8096-9fd7ecf07e9e",
   "metadata": {},
   "outputs": [],
   "source": [
    "df_doc_test['title'] = ['Machine-Learning on python, dataframes, data, coding']"
   ]
  },
  {
   "cell_type": "code",
   "execution_count": 128,
   "id": "d754bb42-fd78-4563-b1ec-6bc5b88f5e22",
   "metadata": {},
   "outputs": [],
   "source": [
    "df_doc_test['doc'] = ['I would like to run some code on python. Objective to do some machine learning. Dataframes are used.']"
   ]
  },
  {
   "cell_type": "code",
   "execution_count": 129,
   "id": "22cd3a91-5fa5-443a-ab3d-2e70861b1a0c",
   "metadata": {},
   "outputs": [],
   "source": [
    "# list_doc = df_doc['doc']\n",
    "# list_doc"
   ]
  },
  {
   "cell_type": "code",
   "execution_count": 130,
   "id": "1817c3d6-6704-403f-a2bb-3d5b33af50f1",
   "metadata": {},
   "outputs": [],
   "source": [
    "list_doc = prepared_text(df_doc_test)"
   ]
  },
  {
   "cell_type": "code",
   "execution_count": 131,
   "id": "2a053029-89d3-4c38-acfc-fd7bce91159b",
   "metadata": {},
   "outputs": [
    {
     "data": {
      "text/plain": [
       "[['machine',\n",
       "  'learn',\n",
       "  'dataframes',\n",
       "  'data',\n",
       "  'cod',\n",
       "  'would',\n",
       "  'like',\n",
       "  'run',\n",
       "  'code',\n",
       "  'python',\n",
       "  'machine',\n",
       "  'learn',\n",
       "  'dataframes',\n",
       "  'use']]"
      ]
     },
     "execution_count": 131,
     "metadata": {},
     "output_type": "execute_result"
    }
   ],
   "source": [
    "list_doc_split = [d.split() for d in list_doc] # Should turn into a list\n",
    "list_doc_split"
   ]
  },
  {
   "cell_type": "code",
   "execution_count": 132,
   "id": "983068b4-4fc2-4f78-b243-aaf14801caea",
   "metadata": {},
   "outputs": [],
   "source": [
    "list_doc_split_merged = list(itertools.chain(*list_doc_split))\n",
    "# list_doc_split_merged"
   ]
  },
  {
   "cell_type": "code",
   "execution_count": 133,
   "id": "c72fb8d3-5484-4ae8-a293-29a3566bb95d",
   "metadata": {},
   "outputs": [],
   "source": [
    "doc_bow = [dictionary.doc2bow(doc, allow_update=False) for doc in list_doc_split]\n",
    "# doc_bow"
   ]
  },
  {
   "cell_type": "code",
   "execution_count": 134,
   "id": "d23060e5-ff3c-421b-9c84-5cb65211415d",
   "metadata": {},
   "outputs": [],
   "source": [
    "# We need to flatten the list / get rid of [[ ]]\n",
    "doc_bow_split_merged = dictionary.doc2bow(list_doc_split_merged, allow_update=False)\n",
    "doc_bow_split_merged\n",
    "\n",
    "doc_2 = list_doc_split_merged\n",
    "doc_bow_2 = doc_bow_split_merged"
   ]
  },
  {
   "cell_type": "code",
   "execution_count": 135,
   "id": "537dc448-067b-4c74-a0c7-5a0d6292180d",
   "metadata": {},
   "outputs": [],
   "source": [
    "doc_bow_1 = dictionary.doc2bow(doc_1, allow_update=False)\n",
    "# doc_bow_1"
   ]
  },
  {
   "cell_type": "code",
   "execution_count": 136,
   "id": "a062c0e3-242e-4020-91e5-7f52927ff7f7",
   "metadata": {},
   "outputs": [],
   "source": [
    "# wbow = [doc_bow]\n",
    "# wbow"
   ]
  },
  {
   "cell_type": "code",
   "execution_count": 137,
   "id": "8761327b-21d5-4a18-b9fc-a48ad7b1d6c2",
   "metadata": {},
   "outputs": [],
   "source": [
    "# [corpus_bow[2]]"
   ]
  },
  {
   "cell_type": "code",
   "execution_count": 138,
   "id": "4fa7099a-f001-4a20-a0b3-10290913967b",
   "metadata": {},
   "outputs": [],
   "source": [
    "# tfidf_2 = models.TfidfModel(wbow)\n",
    "# tfidf_2"
   ]
  },
  {
   "cell_type": "code",
   "execution_count": 139,
   "id": "551824a8-f043-4b78-a81d-402df5cfa25b",
   "metadata": {},
   "outputs": [],
   "source": [
    "# wbow_tfidf = tfidf_2[wbow]\n",
    "# wbow_tfidf"
   ]
  },
  {
   "cell_type": "code",
   "execution_count": 140,
   "id": "e75b1b8f-bb8b-41d1-86cd-951f400f3f42",
   "metadata": {},
   "outputs": [],
   "source": [
    "# from pprint import pprint\n",
    "# for doc in wbow_tfidf:\n",
    "#     pprint(doc)\n",
    "#     break"
   ]
  },
  {
   "cell_type": "code",
   "execution_count": 141,
   "id": "84d78ef2-5491-498b-a4a2-9c6b50d86df9",
   "metadata": {},
   "outputs": [],
   "source": [
    "def pred_nmf_on_unseen_doc(doc, doc_bow, model):\n",
    "    \n",
    "    predictions = model[doc_bow]\n",
    "    predictions = sorted(predictions, key = lambda x: x[1], reverse=True) # to get the most powerful topic\n",
    "    \n",
    "    topic_num, topic_contrib = predictions[0]\n",
    "    desc = optimal_model.show_topic(topic_num, topn=100)\n",
    "    \n",
    "    print('Predicted Topics and associated probability: ')\n",
    "    print(predictions)\n",
    "    print(\"-\"*30, '\\nPredicted Topic : ', topic_num)\n",
    "#     print('Predicted Topic top words : \\n', desc)\n",
    "    \n",
    "    keywords = [word for word, prob in desc]\n",
    "    tags = {lemma for lemma in doc if lemma in keywords}\n",
    "\n",
    "    print(\"-\"*30, '\\nTags proposés: ')\n",
    "    print(tags)\n",
    "    \n",
    "    return predictions, doc"
   ]
  },
  {
   "cell_type": "code",
   "execution_count": 142,
   "id": "3e4f9f29-76af-4e7e-b56d-e22cbe83d8a3",
   "metadata": {},
   "outputs": [
    {
     "name": "stdout",
     "output_type": "stream",
     "text": [
      "Predicted Topics and associated probability: \n",
      "[(8, 0.5674945086211999), (2, 0.17353328297062404), (4, 0.15598088187709086), (9, 0.07617427462621752), (0, 0.02681705190486758)]\n",
      "------------------------------ \n",
      "Predicted Topic :  8\n",
      "------------------------------ \n",
      "Tags proposés: \n",
      "{'use', 'code', 'run', 'python', 'machine'}\n"
     ]
    }
   ],
   "source": [
    "predictions, doc = pred_nmf_on_unseen_doc(doc_2, doc_bow_2, optimal_model)"
   ]
  },
  {
   "cell_type": "code",
   "execution_count": 143,
   "id": "4b52fa20-8dae-467d-a44e-b1d70de4af00",
   "metadata": {},
   "outputs": [],
   "source": [
    "# doc_2"
   ]
  },
  {
   "cell_type": "code",
   "execution_count": 144,
   "id": "86afa5c6-2236-4f66-8b35-668196ecc30f",
   "metadata": {},
   "outputs": [],
   "source": [
    "# Test merge lists\n",
    "# list2d = [[1,2,3,4,5,6]]\n",
    "# merged = list(itertools.chain(*list2d))"
   ]
  },
  {
   "cell_type": "code",
   "execution_count": 145,
   "id": "4894cba8-33a8-49bc-856e-a08e70dafdf2",
   "metadata": {},
   "outputs": [],
   "source": [
    "# merged"
   ]
  },
  {
   "cell_type": "code",
   "execution_count": null,
   "id": "7fb68c02-15a9-4ce2-ab13-0cf1f5446d0d",
   "metadata": {},
   "outputs": [],
   "source": []
  }
 ],
 "metadata": {
  "kernelspec": {
   "display_name": "Python 3",
   "language": "python",
   "name": "python3"
  },
  "language_info": {
   "codemirror_mode": {
    "name": "ipython",
    "version": 3
   },
   "file_extension": ".py",
   "mimetype": "text/x-python",
   "name": "python",
   "nbconvert_exporter": "python",
   "pygments_lexer": "ipython3",
   "version": "3.8.8"
  }
 },
 "nbformat": 4,
 "nbformat_minor": 5
}

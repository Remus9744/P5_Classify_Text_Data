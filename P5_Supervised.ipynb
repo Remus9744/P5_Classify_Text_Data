{
 "cells": [
  {
   "cell_type": "code",
   "execution_count": null,
   "id": "4600c8d6-2c8c-45ee-bbe7-9b51ef516e7e",
   "metadata": {},
   "outputs": [],
   "source": []
  },
  {
   "cell_type": "markdown",
   "id": "81576fcd-298c-4564-826b-e9781d12a4db",
   "metadata": {
    "tags": []
   },
   "source": [
    "# 3.1 : Importation des packages & fonctions"
   ]
  },
  {
   "cell_type": "code",
   "execution_count": 1,
   "id": "0b9a58f5-0236-4b3a-aee3-1e9e6d3146df",
   "metadata": {},
   "outputs": [
    {
     "name": "stdout",
     "output_type": "stream",
     "text": [
      "Requirement already satisfied: keyboard in c:\\users\\evari\\anaconda3\\lib\\site-packages (0.13.5)\n",
      "Requirement already satisfied: bs4 in c:\\users\\evari\\anaconda3\\lib\\site-packages (0.0.1)\n",
      "Requirement already satisfied: beautifulsoup4 in c:\\users\\evari\\anaconda3\\lib\\site-packages (from bs4) (4.9.3)\n",
      "Requirement already satisfied: soupsieve>1.2 in c:\\users\\evari\\anaconda3\\lib\\site-packages (from beautifulsoup4->bs4) (2.2.1)\n",
      "Requirement already satisfied: autocorrect in c:\\users\\evari\\anaconda3\\lib\\site-packages (2.5.0)\n",
      "Requirement already satisfied: bs4 in c:\\users\\evari\\anaconda3\\lib\\site-packages (0.0.1)\n",
      "Requirement already satisfied: beautifulsoup4 in c:\\users\\evari\\anaconda3\\lib\\site-packages (from bs4) (4.9.3)\n",
      "Requirement already satisfied: soupsieve>1.2 in c:\\users\\evari\\anaconda3\\lib\\site-packages (from beautifulsoup4->bs4) (2.2.1)\n",
      "Requirement already satisfied: autocorrect in c:\\users\\evari\\anaconda3\\lib\\site-packages (2.5.0)\n",
      "Requirement already satisfied: wordcloud in c:\\users\\evari\\anaconda3\\lib\\site-packages (1.8.1)\n",
      "Requirement already satisfied: matplotlib in c:\\users\\evari\\anaconda3\\lib\\site-packages (from wordcloud) (3.3.4)\n",
      "Requirement already satisfied: pillow in c:\\users\\evari\\anaconda3\\lib\\site-packages (from wordcloud) (8.2.0)\n",
      "Requirement already satisfied: numpy>=1.6.1 in c:\\users\\evari\\appdata\\roaming\\python\\python38\\site-packages (from wordcloud) (1.19.5)\n",
      "Requirement already satisfied: pyparsing!=2.0.4,!=2.1.2,!=2.1.6,>=2.0.3 in c:\\users\\evari\\anaconda3\\lib\\site-packages (from matplotlib->wordcloud) (2.4.7)\n",
      "Requirement already satisfied: cycler>=0.10 in c:\\users\\evari\\anaconda3\\lib\\site-packages (from matplotlib->wordcloud) (0.10.0)\n",
      "Requirement already satisfied: python-dateutil>=2.1 in c:\\users\\evari\\anaconda3\\lib\\site-packages (from matplotlib->wordcloud) (2.8.1)\n",
      "Requirement already satisfied: kiwisolver>=1.0.1 in c:\\users\\evari\\anaconda3\\lib\\site-packages (from matplotlib->wordcloud) (1.3.1)\n",
      "Requirement already satisfied: six in c:\\users\\evari\\anaconda3\\lib\\site-packages (from cycler>=0.10->matplotlib->wordcloud) (1.15.0)\n",
      "Requirement already satisfied: yellowbrick in c:\\users\\evari\\appdata\\roaming\\python\\python38\\site-packages (1.3.post1)\n",
      "Requirement already satisfied: numpy<1.20,>=1.16.0 in c:\\users\\evari\\appdata\\roaming\\python\\python38\\site-packages (from yellowbrick) (1.19.5)\n",
      "Requirement already satisfied: cycler>=0.10.0 in c:\\users\\evari\\anaconda3\\lib\\site-packages (from yellowbrick) (0.10.0)\n",
      "Requirement already satisfied: scipy>=1.0.0 in c:\\users\\evari\\anaconda3\\lib\\site-packages (from yellowbrick) (1.6.2)\n",
      "Requirement already satisfied: matplotlib!=3.0.0,>=2.0.2 in c:\\users\\evari\\anaconda3\\lib\\site-packages (from yellowbrick) (3.3.4)\n",
      "Requirement already satisfied: scikit-learn>=0.20 in c:\\users\\evari\\anaconda3\\lib\\site-packages (from yellowbrick) (0.24.1)\n",
      "Requirement already satisfied: six in c:\\users\\evari\\anaconda3\\lib\\site-packages (from cycler>=0.10.0->yellowbrick) (1.15.0)\n",
      "Requirement already satisfied: python-dateutil>=2.1 in c:\\users\\evari\\anaconda3\\lib\\site-packages (from matplotlib!=3.0.0,>=2.0.2->yellowbrick) (2.8.1)\n",
      "Requirement already satisfied: kiwisolver>=1.0.1 in c:\\users\\evari\\anaconda3\\lib\\site-packages (from matplotlib!=3.0.0,>=2.0.2->yellowbrick) (1.3.1)\n",
      "Requirement already satisfied: pillow>=6.2.0 in c:\\users\\evari\\anaconda3\\lib\\site-packages (from matplotlib!=3.0.0,>=2.0.2->yellowbrick) (8.2.0)\n",
      "Requirement already satisfied: pyparsing!=2.0.4,!=2.1.2,!=2.1.6,>=2.0.3 in c:\\users\\evari\\anaconda3\\lib\\site-packages (from matplotlib!=3.0.0,>=2.0.2->yellowbrick) (2.4.7)\n",
      "Requirement already satisfied: joblib>=0.11 in c:\\users\\evari\\anaconda3\\lib\\site-packages (from scikit-learn>=0.20->yellowbrick) (1.0.1)\n",
      "Requirement already satisfied: threadpoolctl>=2.0.0 in c:\\users\\evari\\anaconda3\\lib\\site-packages (from scikit-learn>=0.20->yellowbrick) (2.1.0)\n"
     ]
    }
   ],
   "source": [
    "# Importation des packages souhaités\n",
    "%run P5_Packages.ipynb"
   ]
  },
  {
   "cell_type": "code",
   "execution_count": 2,
   "id": "e62665c9-e059-460a-970b-202f6cd66684",
   "metadata": {},
   "outputs": [],
   "source": [
    "from sklearn.linear_model import LogisticRegression\n",
    "from xgboost import XGBClassifier\n",
    "from sklearn.preprocessing import Binarizer"
   ]
  },
  {
   "cell_type": "code",
   "execution_count": 3,
   "id": "ce931d69-3a44-419f-993f-497f2f98141b",
   "metadata": {},
   "outputs": [],
   "source": [
    "import sys\n",
    "import warnings\n",
    "\n",
    "if not sys.warnoptions:\n",
    "    warnings.simplefilter(\"ignore\")"
   ]
  },
  {
   "cell_type": "code",
   "execution_count": 4,
   "id": "4dee0961-abc0-47b7-b598-1a4ed1771121",
   "metadata": {},
   "outputs": [
    {
     "name": "stdout",
     "output_type": "stream",
     "text": [
      "Requirement already satisfied: keyboard in c:\\users\\evari\\anaconda3\\lib\\site-packages (0.13.5)\n",
      "Requirement already satisfied: bs4 in c:\\users\\evari\\anaconda3\\lib\\site-packages (0.0.1)\n",
      "Requirement already satisfied: beautifulsoup4 in c:\\users\\evari\\anaconda3\\lib\\site-packages (from bs4) (4.9.3)\n",
      "Requirement already satisfied: soupsieve>1.2 in c:\\users\\evari\\anaconda3\\lib\\site-packages (from beautifulsoup4->bs4) (2.2.1)\n",
      "Requirement already satisfied: autocorrect in c:\\users\\evari\\anaconda3\\lib\\site-packages (2.5.0)\n",
      "Requirement already satisfied: bs4 in c:\\users\\evari\\anaconda3\\lib\\site-packages (0.0.1)\n",
      "Requirement already satisfied: beautifulsoup4 in c:\\users\\evari\\anaconda3\\lib\\site-packages (from bs4) (4.9.3)\n",
      "Requirement already satisfied: soupsieve>1.2 in c:\\users\\evari\\anaconda3\\lib\\site-packages (from beautifulsoup4->bs4) (2.2.1)\n",
      "Requirement already satisfied: autocorrect in c:\\users\\evari\\anaconda3\\lib\\site-packages (2.5.0)\n",
      "Requirement already satisfied: wordcloud in c:\\users\\evari\\anaconda3\\lib\\site-packages (1.8.1)\n",
      "Requirement already satisfied: numpy>=1.6.1 in c:\\users\\evari\\appdata\\roaming\\python\\python38\\site-packages (from wordcloud) (1.19.5)\n",
      "Requirement already satisfied: pillow in c:\\users\\evari\\anaconda3\\lib\\site-packages (from wordcloud) (8.2.0)\n",
      "Requirement already satisfied: matplotlib in c:\\users\\evari\\anaconda3\\lib\\site-packages (from wordcloud) (3.3.4)\n",
      "Requirement already satisfied: kiwisolver>=1.0.1 in c:\\users\\evari\\anaconda3\\lib\\site-packages (from matplotlib->wordcloud) (1.3.1)\n",
      "Requirement already satisfied: python-dateutil>=2.1 in c:\\users\\evari\\anaconda3\\lib\\site-packages (from matplotlib->wordcloud) (2.8.1)\n",
      "Requirement already satisfied: cycler>=0.10 in c:\\users\\evari\\anaconda3\\lib\\site-packages (from matplotlib->wordcloud) (0.10.0)\n",
      "Requirement already satisfied: pyparsing!=2.0.4,!=2.1.2,!=2.1.6,>=2.0.3 in c:\\users\\evari\\anaconda3\\lib\\site-packages (from matplotlib->wordcloud) (2.4.7)\n",
      "Requirement already satisfied: six in c:\\users\\evari\\anaconda3\\lib\\site-packages (from cycler>=0.10->matplotlib->wordcloud) (1.15.0)\n",
      "Requirement already satisfied: yellowbrick in c:\\users\\evari\\appdata\\roaming\\python\\python38\\site-packages (1.3.post1)\n",
      "Requirement already satisfied: matplotlib!=3.0.0,>=2.0.2 in c:\\users\\evari\\anaconda3\\lib\\site-packages (from yellowbrick) (3.3.4)\n",
      "Requirement already satisfied: cycler>=0.10.0 in c:\\users\\evari\\anaconda3\\lib\\site-packages (from yellowbrick) (0.10.0)\n",
      "Requirement already satisfied: scipy>=1.0.0 in c:\\users\\evari\\anaconda3\\lib\\site-packages (from yellowbrick) (1.6.2)\n",
      "Requirement already satisfied: numpy<1.20,>=1.16.0 in c:\\users\\evari\\appdata\\roaming\\python\\python38\\site-packages (from yellowbrick) (1.19.5)\n",
      "Requirement already satisfied: scikit-learn>=0.20 in c:\\users\\evari\\anaconda3\\lib\\site-packages (from yellowbrick) (0.24.1)\n",
      "Requirement already satisfied: six in c:\\users\\evari\\anaconda3\\lib\\site-packages (from cycler>=0.10.0->yellowbrick) (1.15.0)\n",
      "Requirement already satisfied: pillow>=6.2.0 in c:\\users\\evari\\anaconda3\\lib\\site-packages (from matplotlib!=3.0.0,>=2.0.2->yellowbrick) (8.2.0)\n",
      "Requirement already satisfied: kiwisolver>=1.0.1 in c:\\users\\evari\\anaconda3\\lib\\site-packages (from matplotlib!=3.0.0,>=2.0.2->yellowbrick) (1.3.1)\n",
      "Requirement already satisfied: python-dateutil>=2.1 in c:\\users\\evari\\anaconda3\\lib\\site-packages (from matplotlib!=3.0.0,>=2.0.2->yellowbrick) (2.8.1)\n",
      "Requirement already satisfied: pyparsing!=2.0.4,!=2.1.2,!=2.1.6,>=2.0.3 in c:\\users\\evari\\anaconda3\\lib\\site-packages (from matplotlib!=3.0.0,>=2.0.2->yellowbrick) (2.4.7)\n",
      "Requirement already satisfied: threadpoolctl>=2.0.0 in c:\\users\\evari\\anaconda3\\lib\\site-packages (from scikit-learn>=0.20->yellowbrick) (2.1.0)\n",
      "Requirement already satisfied: joblib>=0.11 in c:\\users\\evari\\anaconda3\\lib\\site-packages (from scikit-learn>=0.20->yellowbrick) (1.0.1)\n"
     ]
    },
    {
     "name": "stderr",
     "output_type": "stream",
     "text": [
      "[nltk_data] Downloading package averaged_perceptron_tagger to\n",
      "[nltk_data]     C:\\Users\\evari\\AppData\\Roaming\\nltk_data...\n",
      "[nltk_data]   Package averaged_perceptron_tagger is already up-to-\n",
      "[nltk_data]       date!\n"
     ]
    }
   ],
   "source": [
    "# Importation du notebook contenant les fonctions\n",
    "\n",
    "%run P5_Functions.ipynb"
   ]
  },
  {
   "cell_type": "code",
   "execution_count": 5,
   "id": "5a7e36e1-7d7b-4552-b050-23ae6622a1f6",
   "metadata": {},
   "outputs": [],
   "source": [
    "%matplotlib inline"
   ]
  },
  {
   "cell_type": "markdown",
   "id": "5dc37f99-a07d-45a9-a708-c909a0462692",
   "metadata": {},
   "source": [
    "# 3.2 : Importation des fichiers"
   ]
  },
  {
   "cell_type": "code",
   "execution_count": 6,
   "id": "62bd4529-3868-4b90-93d0-32d189fd204c",
   "metadata": {},
   "outputs": [],
   "source": [
    "pd.set_option('display.max_columns', None)"
   ]
  },
  {
   "cell_type": "code",
   "execution_count": 7,
   "id": "44086b44-812a-4243-a679-5544ad9b3444",
   "metadata": {},
   "outputs": [],
   "source": [
    "importation = 'df_questions_cleaned.csv'\n",
    "df_cleaned = pd.read_csv(importation, sep=',')"
   ]
  },
  {
   "cell_type": "code",
   "execution_count": 8,
   "id": "e6b9a344-90dc-4d80-8eb4-1737885a642d",
   "metadata": {},
   "outputs": [
    {
     "data": {
      "text/html": [
       "<div>\n",
       "<style scoped>\n",
       "    .dataframe tbody tr th:only-of-type {\n",
       "        vertical-align: middle;\n",
       "    }\n",
       "\n",
       "    .dataframe tbody tr th {\n",
       "        vertical-align: top;\n",
       "    }\n",
       "\n",
       "    .dataframe thead th {\n",
       "        text-align: right;\n",
       "    }\n",
       "</style>\n",
       "<table border=\"1\" class=\"dataframe\">\n",
       "  <thead>\n",
       "    <tr style=\"text-align: right;\">\n",
       "      <th></th>\n",
       "      <th>Unnamed: 0</th>\n",
       "      <th>Unnamed: 0.1</th>\n",
       "      <th>id</th>\n",
       "      <th>doc</th>\n",
       "      <th>title</th>\n",
       "      <th>tags</th>\n",
       "      <th>creation_date</th>\n",
       "      <th>score</th>\n",
       "      <th>views</th>\n",
       "      <th>answers</th>\n",
       "      <th>comments</th>\n",
       "      <th>favorites</th>\n",
       "      <th>last_activity_date</th>\n",
       "      <th>text</th>\n",
       "    </tr>\n",
       "  </thead>\n",
       "  <tbody>\n",
       "    <tr>\n",
       "      <th>0</th>\n",
       "      <td>0</td>\n",
       "      <td>0</td>\n",
       "      <td>9056957</td>\n",
       "      <td>python people initialize class attribute two w...</td>\n",
       "      <td>way class variable python</td>\n",
       "      <td>&lt;python&gt;&lt;class&gt;&lt;attributes&gt;</td>\n",
       "      <td>2012-01-29 21:26:39</td>\n",
       "      <td>296</td>\n",
       "      <td>372888</td>\n",
       "      <td>2</td>\n",
       "      <td>1</td>\n",
       "      <td>105</td>\n",
       "      <td>2021-01-25 13:17:29</td>\n",
       "      <td>way class variable python python people initia...</td>\n",
       "    </tr>\n",
       "    <tr>\n",
       "      <th>1</th>\n",
       "      <td>1</td>\n",
       "      <td>1</td>\n",
       "      <td>52013133</td>\n",
       "      <td>use webpack create config file try use htmlweb...</td>\n",
       "      <td>entrypoint index html use htmlwebpackplugin</td>\n",
       "      <td>&lt;node.js&gt;&lt;reactjs&gt;&lt;webpack&gt;&lt;html-webpack-plugin&gt;</td>\n",
       "      <td>2018-08-25 00:32:17</td>\n",
       "      <td>31</td>\n",
       "      <td>33607</td>\n",
       "      <td>5</td>\n",
       "      <td>2</td>\n",
       "      <td>7</td>\n",
       "      <td>2021-07-18 06:19:28</td>\n",
       "      <td>entrypoint index html use htmlwebpackplugin us...</td>\n",
       "    </tr>\n",
       "    <tr>\n",
       "      <th>2</th>\n",
       "      <td>2</td>\n",
       "      <td>2</td>\n",
       "      <td>261963</td>\n",
       "      <td>notice math operator num way literate value num</td>\n",
       "      <td>literate num</td>\n",
       "      <td>&lt;c++&gt;&lt;enums&gt;</td>\n",
       "      <td>2008-11-04 13:55:29</td>\n",
       "      <td>354</td>\n",
       "      <td>374899</td>\n",
       "      <td>24</td>\n",
       "      <td>5</td>\n",
       "      <td>67</td>\n",
       "      <td>2021-05-23 11:33:10</td>\n",
       "      <td>literate num notice math operator num way lite...</td>\n",
       "    </tr>\n",
       "    <tr>\n",
       "      <th>3</th>\n",
       "      <td>3</td>\n",
       "      <td>3</td>\n",
       "      <td>60684868</td>\n",
       "      <td>currently try use pretrained model provide dec...</td>\n",
       "      <td>decker image use compile work cpu</td>\n",
       "      <td>&lt;docker&gt;&lt;tensorflow&gt;</td>\n",
       "      <td>2020-03-14 16:25:39</td>\n",
       "      <td>1</td>\n",
       "      <td>225</td>\n",
       "      <td>1</td>\n",
       "      <td>5</td>\n",
       "      <td>1</td>\n",
       "      <td>2021-01-04 03:48:09</td>\n",
       "      <td>decker image use compile work cpu currently tr...</td>\n",
       "    </tr>\n",
       "    <tr>\n",
       "      <th>4</th>\n",
       "      <td>4</td>\n",
       "      <td>4</td>\n",
       "      <td>35136616</td>\n",
       "      <td>can not figure case loss application write ele...</td>\n",
       "      <td>handle loss three j</td>\n",
       "      <td>&lt;javascript&gt;&lt;three.js&gt;&lt;webgl&gt;&lt;electron&gt;</td>\n",
       "      <td>2016-02-01 17:26:01</td>\n",
       "      <td>6</td>\n",
       "      <td>412</td>\n",
       "      <td>1</td>\n",
       "      <td>0</td>\n",
       "      <td>1</td>\n",
       "      <td>2021-03-18 17:02:54</td>\n",
       "      <td>handle loss three j can not figure case loss a...</td>\n",
       "    </tr>\n",
       "  </tbody>\n",
       "</table>\n",
       "</div>"
      ],
      "text/plain": [
       "   Unnamed: 0  Unnamed: 0.1        id  \\\n",
       "0           0             0   9056957   \n",
       "1           1             1  52013133   \n",
       "2           2             2    261963   \n",
       "3           3             3  60684868   \n",
       "4           4             4  35136616   \n",
       "\n",
       "                                                 doc  \\\n",
       "0  python people initialize class attribute two w...   \n",
       "1  use webpack create config file try use htmlweb...   \n",
       "2    notice math operator num way literate value num   \n",
       "3  currently try use pretrained model provide dec...   \n",
       "4  can not figure case loss application write ele...   \n",
       "\n",
       "                                         title  \\\n",
       "0                    way class variable python   \n",
       "1  entrypoint index html use htmlwebpackplugin   \n",
       "2                                 literate num   \n",
       "3            decker image use compile work cpu   \n",
       "4                          handle loss three j   \n",
       "\n",
       "                                               tags        creation_date  \\\n",
       "0                       <python><class><attributes>  2012-01-29 21:26:39   \n",
       "1  <node.js><reactjs><webpack><html-webpack-plugin>  2018-08-25 00:32:17   \n",
       "2                                      <c++><enums>  2008-11-04 13:55:29   \n",
       "3                              <docker><tensorflow>  2020-03-14 16:25:39   \n",
       "4           <javascript><three.js><webgl><electron>  2016-02-01 17:26:01   \n",
       "\n",
       "   score   views  answers  comments  favorites   last_activity_date  \\\n",
       "0    296  372888        2         1        105  2021-01-25 13:17:29   \n",
       "1     31   33607        5         2          7  2021-07-18 06:19:28   \n",
       "2    354  374899       24         5         67  2021-05-23 11:33:10   \n",
       "3      1     225        1         5          1  2021-01-04 03:48:09   \n",
       "4      6     412        1         0          1  2021-03-18 17:02:54   \n",
       "\n",
       "                                                text  \n",
       "0  way class variable python python people initia...  \n",
       "1  entrypoint index html use htmlwebpackplugin us...  \n",
       "2  literate num notice math operator num way lite...  \n",
       "3  decker image use compile work cpu currently tr...  \n",
       "4  handle loss three j can not figure case loss a...  "
      ]
     },
     "execution_count": 8,
     "metadata": {},
     "output_type": "execute_result"
    }
   ],
   "source": [
    "df_cleaned.head()"
   ]
  },
  {
   "cell_type": "code",
   "execution_count": 9,
   "id": "2d9556fa-dd83-419d-a218-d668514afde2",
   "metadata": {},
   "outputs": [
    {
     "data": {
      "text/plain": [
       "0    way class variable python python people initia...\n",
       "1    entrypoint index html use htmlwebpackplugin us...\n",
       "2    literate num notice math operator num way lite...\n",
       "3    decker image use compile work cpu currently tr...\n",
       "4    handle loss three j can not figure case loss a...\n",
       "Name: text, dtype: object"
      ]
     },
     "execution_count": 9,
     "metadata": {},
     "output_type": "execute_result"
    }
   ],
   "source": [
    "df_txt_cleaned = df_cleaned['text']\n",
    "df_txt_cleaned.head()"
   ]
  },
  {
   "cell_type": "markdown",
   "id": "25648f7a-c560-430d-bce0-1916baf38894",
   "metadata": {
    "tags": []
   },
   "source": [
    "# 3.3 : Creation du dictionnaire sur le corpus"
   ]
  },
  {
   "cell_type": "code",
   "execution_count": 10,
   "id": "911aa990-fb70-4c36-8512-b6e118242865",
   "metadata": {},
   "outputs": [],
   "source": [
    "list_txt_cleaned = df_txt_cleaned.copy()"
   ]
  },
  {
   "cell_type": "code",
   "execution_count": 11,
   "id": "857139c6-b595-46f5-b8a4-bf292b29c406",
   "metadata": {},
   "outputs": [
    {
     "data": {
      "text/plain": [
       "0        way class variable python python people initia...\n",
       "1        entrypoint index html use htmlwebpackplugin us...\n",
       "2        literate num notice math operator num way lite...\n",
       "3        decker image use compile work cpu currently tr...\n",
       "4        handle loss three j can not figure case loss a...\n",
       "                               ...                        \n",
       "99981    azure devops pipeline run make error action gi...\n",
       "99982    kotlin could find dk tool java installation ru...\n",
       "99983    execute java cucumber step get step class atte...\n",
       "99984    find character string letter try figure look s...\n",
       "99985    use spi speech recognition b script find one l...\n",
       "Name: text, Length: 99986, dtype: object"
      ]
     },
     "execution_count": 11,
     "metadata": {},
     "output_type": "execute_result"
    }
   ],
   "source": [
    "list_txt_cleaned"
   ]
  },
  {
   "cell_type": "code",
   "execution_count": 12,
   "id": "38395d54-ad2b-4ef6-ba8d-fd40702a5b8a",
   "metadata": {},
   "outputs": [
    {
     "data": {
      "image/png": "[encoded data removed]",
      "text/plain": [
       "<PIL.Image.Image image mode=RGB size=400x200 at 0x29145C92910>"
      ]
     },
     "execution_count": 12,
     "metadata": {},
     "output_type": "execute_result"
    }
   ],
   "source": [
    "# Plot WordCloud\n",
    "long_string = ','.join(list(df_txt_cleaned.values))# Create a WordCloud object\n",
    "wordcloud = WordCloud(background_color=\"white\", max_words=1000, \n",
    "                      contour_width=3, contour_color='steelblue')# Generate a word cloud\n",
    "wordcloud.generate(long_string)# Visualize the word cloud\n",
    "wordcloud.to_image()"
   ]
  },
  {
   "cell_type": "code",
   "execution_count": 13,
   "id": "0198b2f4-e834-4168-968a-3d6a39fc8d69",
   "metadata": {},
   "outputs": [],
   "source": [
    "# Be sure to split sentence before feed into Dictionary\n",
    "list_txt_cleaned = [d.split() for d in list_txt_cleaned] # Should turn into a list"
   ]
  },
  {
   "cell_type": "code",
   "execution_count": 14,
   "id": "5911e310-f3af-413e-8bf1-d5c0be7cd92c",
   "metadata": {},
   "outputs": [],
   "source": [
    "# Build dictionary\n",
    "dictionary = Dictionary(list_txt_cleaned)"
   ]
  },
  {
   "cell_type": "code",
   "execution_count": 15,
   "id": "32f7db70-dcd2-4f3d-96b2-bc849e10210d",
   "metadata": {},
   "outputs": [
    {
     "name": "stdout",
     "output_type": "stream",
     "text": [
      "Number of words inside vocab :  218224\n"
     ]
    }
   ],
   "source": [
    "# Number of vocabulary words\n",
    "temp1 = len(dictionary)\n",
    "print(\"Number of words inside vocab : \", len(dictionary))"
   ]
  },
  {
   "cell_type": "code",
   "execution_count": 16,
   "id": "30ff02a4-99bb-436e-a7c8-55c7b8469b77",
   "metadata": {},
   "outputs": [
    {
     "name": "stdout",
     "output_type": "stream",
     "text": [
      "Number of words inside vocab after reduction:  15291\n"
     ]
    }
   ],
   "source": [
    "# Number of vocabulary words after filtering\n",
    "ntimes_w_down = 10\n",
    "ntimes_w_up = 0.90\n",
    "\n",
    "# Way to detect words that do not appear enough times\n",
    "# Other solution directly inside countvectorizer function          \n",
    "\n",
    "dictionary.filter_extremes(no_below = ntimes_w_down,\n",
    "                          no_above = ntimes_w_up)\n",
    "print(\"Number of words inside vocab after reduction: \", len(dictionary))\n",
    "temp2 = len(dictionary)"
   ]
  },
  {
   "cell_type": "code",
   "execution_count": 17,
   "id": "ad24672f-577f-4e84-acec-264cc1902a82",
   "metadata": {},
   "outputs": [
    {
     "name": "stdout",
     "output_type": "stream",
     "text": [
      "Proportion of words left :  7.007020309406848  % of initial volume\n"
     ]
    }
   ],
   "source": [
    "prop_words_left = temp2/temp1 * 100\n",
    "print(\"Proportion of words left : \", prop_words_left, ' % of initial volume')"
   ]
  },
  {
   "cell_type": "code",
   "execution_count": 18,
   "id": "d094b3a5-0519-4fde-a52f-1fab903a1baf",
   "metadata": {},
   "outputs": [
    {
     "name": "stdout",
     "output_type": "stream",
     "text": [
      "Mots les plus fréquents du dictionnaire:\n",
      " 1 use             56121\n",
      " 2 get             38987\n",
      " 3 try             34047\n",
      " 4 like            30913\n",
      " 5 work            30123\n",
      " 6 code            29460\n",
      " 7 would           23321\n",
      " 8 want            23233\n",
      " 9 error           23211\n",
      "10 file            22796\n",
      "11 way             22747\n",
      "12 find            21358\n",
      "13 return          19630\n",
      "14 follow          19314\n",
      "15 name            19207\n",
      "16 run             19047\n",
      "17 create          18802\n",
      "18 one             18788\n",
      "19 need            18054\n",
      "20 class           17347\n",
      "21 data            17097\n",
      "22 function        16953\n",
      "23 value           16821\n",
      "24 make            16223\n",
      "25 set             16113\n",
      "26 example         16037\n",
      "27 add             15504\n",
      "28 string          15204\n",
      "29 problem         15034\n",
      "30 type            14709\n",
      "31 know            14653\n",
      "32 http            13778\n",
      "33 also            13742\n",
      "34 time            13324\n",
      "35 com             13169\n",
      "36 see             13165\n",
      "37 can             12996\n",
      "38 not             12991\n",
      "39 could           12961\n",
      "40 look            12738\n",
      "41 help            12699\n",
      "42 change          12505\n",
      "43 user            12319\n",
      "44 call            12308\n",
      "45 something       11859\n",
      "46 test            11588\n",
      "47 app             11406\n",
      "48 method          11250\n",
      "49 seem            11091\n",
      "50 show            11065\n",
      "51 however         10951\n",
      "52 version         10832\n",
      "53 application     10725\n",
      "54 question        10630\n",
      "55 line            10629\n",
      "56 result          10442\n",
      "57 id              10284\n",
      "58 list            10145\n",
      "59 start           10045\n",
      "60 import           9993\n",
      "61 give             9594\n",
      "62 thanks           9553\n",
      "63 project          9421\n",
      "64 go               9378\n",
      "65 server           9128\n",
      "66 without          9046\n",
      "67 text             8861\n",
      "68 python           8839\n",
      "69 command          8681\n",
      "70 issue            8614\n",
      "71 object           8573\n",
      "72 two              8471\n",
      "73 log              8384\n",
      "74 build            8359\n",
      "75 default          8303\n",
      "76 check            8258\n",
      "77 output           8237\n",
      "78 solution         8106\n",
      "79 say              7949\n",
      "80 message          7902\n",
      "81 var              7842\n",
      "82 number           7700\n",
      "83 case             7698\n",
      "84 page             7683\n",
      "85 read             7613\n",
      "86 system           7513\n",
      "87 request          7441\n",
      "88 image            7360\n",
      "89 int              7324\n",
      "90 another          7299\n",
      "91 please           7286\n",
      "92 html             7262\n",
      "93 still            7230\n",
      "94 write            7223\n",
      "95 path             7110\n",
      "96 base             7071\n",
      "97 script           7051\n",
      "98 java             7015\n",
      "99 fail             6973\n",
      "100 option           6967\n"
     ]
    }
   ],
   "source": [
    "# Let's print most present words inside vocab\n",
    "# Detect useless ones to delete\n",
    "\n",
    "n_top = 100\n",
    "\n",
    "words_sorted = sorted(dictionary.dfs.items(), key=lambda x: x[1], reverse=True)\n",
    "id2token = {value: key for key, value in dictionary.token2id.items()}\n",
    "\n",
    "print(\"Mots les plus fréquents du dictionnaire:\")\n",
    "\n",
    "for e, (i, count) in enumerate(words_sorted[:n_top]):\n",
    "    print(f\"{e+1:2} {id2token[i]:15} {count:5}\")"
   ]
  },
  {
   "cell_type": "code",
   "execution_count": 19,
   "id": "75b6fb8f-e3cd-4622-aed5-367f01debadd",
   "metadata": {},
   "outputs": [],
   "source": [
    "# Choice to delete some words present many times that do not bring interesting info to our analysis\n",
    "# Like :  thanks or please etc\n",
    "\n",
    "remove_words = ['like', 'work', 'would', 'want', 'one', 'need', 'know', 'also',\n",
    "                'com', 'see', 'can', 'not', 'could', 'look', 'seem',\n",
    "                'question', 'give', 'two']\n",
    "\n",
    "# 'something','unlike', 'however', 'thanks','another', 'please',\n",
    "\n",
    "bad_ids = [dictionary.token2id[token] for token in remove_words]\n",
    "\n",
    "dictionary.filter_tokens(bad_ids=bad_ids)"
   ]
  },
  {
   "cell_type": "code",
   "execution_count": 20,
   "id": "a0ba720d-7945-42e6-a58c-050f6cdf25e0",
   "metadata": {},
   "outputs": [],
   "source": [
    "pat = r'\\b(?:{})\\b'.format('|'.join(remove_words))"
   ]
  },
  {
   "cell_type": "code",
   "execution_count": 21,
   "id": "96c2563e-2c17-453e-9818-80d009ab8fe3",
   "metadata": {},
   "outputs": [
    {
     "data": {
      "text/plain": [
       "(99986, 14)"
      ]
     },
     "execution_count": 21,
     "metadata": {},
     "output_type": "execute_result"
    }
   ],
   "source": [
    "df_txt_cleaned = df_cleaned.copy()\n",
    "df_txt_cleaned.shape"
   ]
  },
  {
   "cell_type": "code",
   "execution_count": 22,
   "id": "c149cc9a-6c1b-4725-bffc-2c235ca8b3a6",
   "metadata": {},
   "outputs": [],
   "source": [
    "# We shall delete chosen useless words\n",
    "df_txt_cleaned['Cleaned_txt'] = df_txt_cleaned['text'].str.replace(pat, '', regex='True')"
   ]
  },
  {
   "cell_type": "code",
   "execution_count": 23,
   "id": "30b4d368-f2f9-480e-ad29-476eb6c7c16b",
   "metadata": {},
   "outputs": [],
   "source": [
    "# Turn it into a list again\n",
    "list_txt_cleaned = df_txt_cleaned['Cleaned_txt'].copy()\n",
    "\n",
    "# Be sure to split sentences before feeding into Dictionary\n",
    "list_txt_cleaned = [d.split() for d in list_txt_cleaned] # Should turn into a list"
   ]
  },
  {
   "cell_type": "code",
   "execution_count": 24,
   "id": "75c39adf-92ef-4bfd-882a-0eab57d468aa",
   "metadata": {},
   "outputs": [
    {
     "data": {
      "image/png": "[encoded data removed]",
      "text/plain": [
       "<PIL.Image.Image image mode=RGB size=400x200 at 0x2917C28FDC0>"
      ]
     },
     "execution_count": 24,
     "metadata": {},
     "output_type": "execute_result"
    }
   ],
   "source": [
    "long_string = ','.join(list(df_txt_cleaned['Cleaned_txt'].values)) # Create a WordCloud object\n",
    "wordcloud = WordCloud(background_color=\"white\", max_words=1000, \n",
    "                      contour_width=3, contour_color='steelblue') # Generate a word cloud\n",
    "wordcloud.generate(long_string) # Visualize the word cloud\n",
    "wordcloud.to_image()"
   ]
  },
  {
   "cell_type": "code",
   "execution_count": 25,
   "id": "bd0e277e-a3b5-4dff-a99a-9f27bb7740bb",
   "metadata": {},
   "outputs": [],
   "source": [
    "# # Let's print most present words inside vocab\n",
    "# # Detect useless ones to delete\n",
    "\n",
    "# n_top = 100\n",
    "\n",
    "# words_sorted = sorted(dictionary.dfs.items(), key=lambda x: x[1], reverse=True)\n",
    "# id2token = {value: key for key, value in dictionary.token2id.items()}\n",
    "\n",
    "# print(\"Mots les plus fréquents du dictionnaire:\")\n",
    "\n",
    "# for e, (i, count) in enumerate(words_sorted[:n_top]):\n",
    "#     print(f\"{e+1:2} {id2token[i]:15} {count:5}\")"
   ]
  },
  {
   "cell_type": "code",
   "execution_count": null,
   "id": "b076f484-10f0-40f9-a47b-3d8ba9826942",
   "metadata": {},
   "outputs": [],
   "source": []
  },
  {
   "cell_type": "markdown",
   "id": "949f07e5-7564-45a9-9a8e-46e3b7798149",
   "metadata": {},
   "source": [
    "# Exploration"
   ]
  },
  {
   "cell_type": "code",
   "execution_count": 26,
   "id": "01b97dea-cabd-400f-b02c-64070a5cb8bf",
   "metadata": {},
   "outputs": [
    {
     "data": {
      "text/plain": [
       "88.0450663092833"
      ]
     },
     "execution_count": 26,
     "metadata": {},
     "output_type": "execute_result"
    }
   ],
   "source": [
    "# Get the word count\n",
    "df_txt_cleaned['word_count'] = df_txt_cleaned['Cleaned_txt'].str.split().str.len()\n",
    "\n",
    "df_txt_cleaned['word_count'].mean()"
   ]
  },
  {
   "cell_type": "code",
   "execution_count": 27,
   "id": "e2737d44-1b03-4358-8f43-075324acef96",
   "metadata": {},
   "outputs": [
    {
     "data": {
      "text/html": [
       "<div>\n",
       "<style scoped>\n",
       "    .dataframe tbody tr th:only-of-type {\n",
       "        vertical-align: middle;\n",
       "    }\n",
       "\n",
       "    .dataframe tbody tr th {\n",
       "        vertical-align: top;\n",
       "    }\n",
       "\n",
       "    .dataframe thead th {\n",
       "        text-align: right;\n",
       "    }\n",
       "</style>\n",
       "<table border=\"1\" class=\"dataframe\">\n",
       "  <thead>\n",
       "    <tr style=\"text-align: right;\">\n",
       "      <th></th>\n",
       "      <th>Unnamed: 0</th>\n",
       "      <th>Unnamed: 0.1</th>\n",
       "      <th>id</th>\n",
       "      <th>doc</th>\n",
       "      <th>title</th>\n",
       "      <th>tags</th>\n",
       "      <th>creation_date</th>\n",
       "      <th>score</th>\n",
       "      <th>views</th>\n",
       "      <th>answers</th>\n",
       "      <th>comments</th>\n",
       "      <th>favorites</th>\n",
       "      <th>last_activity_date</th>\n",
       "      <th>text</th>\n",
       "      <th>Cleaned_txt</th>\n",
       "      <th>word_count</th>\n",
       "    </tr>\n",
       "  </thead>\n",
       "  <tbody>\n",
       "    <tr>\n",
       "      <th>0</th>\n",
       "      <td>0</td>\n",
       "      <td>0</td>\n",
       "      <td>9056957</td>\n",
       "      <td>python people initialize class attribute two w...</td>\n",
       "      <td>way class variable python</td>\n",
       "      <td>&lt;python&gt;&lt;class&gt;&lt;attributes&gt;</td>\n",
       "      <td>2012-01-29 21:26:39</td>\n",
       "      <td>296</td>\n",
       "      <td>372888</td>\n",
       "      <td>2</td>\n",
       "      <td>1</td>\n",
       "      <td>105</td>\n",
       "      <td>2021-01-25 13:17:29</td>\n",
       "      <td>way class variable python python people initia...</td>\n",
       "      <td>way class variable python python people initia...</td>\n",
       "      <td>35</td>\n",
       "    </tr>\n",
       "    <tr>\n",
       "      <th>1</th>\n",
       "      <td>1</td>\n",
       "      <td>1</td>\n",
       "      <td>52013133</td>\n",
       "      <td>use webpack create config file try use htmlweb...</td>\n",
       "      <td>entrypoint index html use htmlwebpackplugin</td>\n",
       "      <td>&lt;node.js&gt;&lt;reactjs&gt;&lt;webpack&gt;&lt;html-webpack-plugin&gt;</td>\n",
       "      <td>2018-08-25 00:32:17</td>\n",
       "      <td>31</td>\n",
       "      <td>33607</td>\n",
       "      <td>5</td>\n",
       "      <td>2</td>\n",
       "      <td>7</td>\n",
       "      <td>2021-07-18 06:19:28</td>\n",
       "      <td>entrypoint index html use htmlwebpackplugin us...</td>\n",
       "      <td>entrypoint index html use htmlwebpackplugin us...</td>\n",
       "      <td>96</td>\n",
       "    </tr>\n",
       "    <tr>\n",
       "      <th>2</th>\n",
       "      <td>2</td>\n",
       "      <td>2</td>\n",
       "      <td>261963</td>\n",
       "      <td>notice math operator num way literate value num</td>\n",
       "      <td>literate num</td>\n",
       "      <td>&lt;c++&gt;&lt;enums&gt;</td>\n",
       "      <td>2008-11-04 13:55:29</td>\n",
       "      <td>354</td>\n",
       "      <td>374899</td>\n",
       "      <td>24</td>\n",
       "      <td>5</td>\n",
       "      <td>67</td>\n",
       "      <td>2021-05-23 11:33:10</td>\n",
       "      <td>literate num notice math operator num way lite...</td>\n",
       "      <td>literate num notice math operator num way lite...</td>\n",
       "      <td>10</td>\n",
       "    </tr>\n",
       "    <tr>\n",
       "      <th>3</th>\n",
       "      <td>3</td>\n",
       "      <td>3</td>\n",
       "      <td>60684868</td>\n",
       "      <td>currently try use pretrained model provide dec...</td>\n",
       "      <td>decker image use compile work cpu</td>\n",
       "      <td>&lt;docker&gt;&lt;tensorflow&gt;</td>\n",
       "      <td>2020-03-14 16:25:39</td>\n",
       "      <td>1</td>\n",
       "      <td>225</td>\n",
       "      <td>1</td>\n",
       "      <td>5</td>\n",
       "      <td>1</td>\n",
       "      <td>2021-01-04 03:48:09</td>\n",
       "      <td>decker image use compile work cpu currently tr...</td>\n",
       "      <td>decker image use compile  cpu currently try us...</td>\n",
       "      <td>63</td>\n",
       "    </tr>\n",
       "    <tr>\n",
       "      <th>4</th>\n",
       "      <td>4</td>\n",
       "      <td>4</td>\n",
       "      <td>35136616</td>\n",
       "      <td>can not figure case loss application write ele...</td>\n",
       "      <td>handle loss three j</td>\n",
       "      <td>&lt;javascript&gt;&lt;three.js&gt;&lt;webgl&gt;&lt;electron&gt;</td>\n",
       "      <td>2016-02-01 17:26:01</td>\n",
       "      <td>6</td>\n",
       "      <td>412</td>\n",
       "      <td>1</td>\n",
       "      <td>0</td>\n",
       "      <td>1</td>\n",
       "      <td>2021-03-18 17:02:54</td>\n",
       "      <td>handle loss three j can not figure case loss a...</td>\n",
       "      <td>handle loss three j   figure case loss applica...</td>\n",
       "      <td>79</td>\n",
       "    </tr>\n",
       "  </tbody>\n",
       "</table>\n",
       "</div>"
      ],
      "text/plain": [
       "   Unnamed: 0  Unnamed: 0.1        id  \\\n",
       "0           0             0   9056957   \n",
       "1           1             1  52013133   \n",
       "2           2             2    261963   \n",
       "3           3             3  60684868   \n",
       "4           4             4  35136616   \n",
       "\n",
       "                                                 doc  \\\n",
       "0  python people initialize class attribute two w...   \n",
       "1  use webpack create config file try use htmlweb...   \n",
       "2    notice math operator num way literate value num   \n",
       "3  currently try use pretrained model provide dec...   \n",
       "4  can not figure case loss application write ele...   \n",
       "\n",
       "                                         title  \\\n",
       "0                    way class variable python   \n",
       "1  entrypoint index html use htmlwebpackplugin   \n",
       "2                                 literate num   \n",
       "3            decker image use compile work cpu   \n",
       "4                          handle loss three j   \n",
       "\n",
       "                                               tags        creation_date  \\\n",
       "0                       <python><class><attributes>  2012-01-29 21:26:39   \n",
       "1  <node.js><reactjs><webpack><html-webpack-plugin>  2018-08-25 00:32:17   \n",
       "2                                      <c++><enums>  2008-11-04 13:55:29   \n",
       "3                              <docker><tensorflow>  2020-03-14 16:25:39   \n",
       "4           <javascript><three.js><webgl><electron>  2016-02-01 17:26:01   \n",
       "\n",
       "   score   views  answers  comments  favorites   last_activity_date  \\\n",
       "0    296  372888        2         1        105  2021-01-25 13:17:29   \n",
       "1     31   33607        5         2          7  2021-07-18 06:19:28   \n",
       "2    354  374899       24         5         67  2021-05-23 11:33:10   \n",
       "3      1     225        1         5          1  2021-01-04 03:48:09   \n",
       "4      6     412        1         0          1  2021-03-18 17:02:54   \n",
       "\n",
       "                                                text  \\\n",
       "0  way class variable python python people initia...   \n",
       "1  entrypoint index html use htmlwebpackplugin us...   \n",
       "2  literate num notice math operator num way lite...   \n",
       "3  decker image use compile work cpu currently tr...   \n",
       "4  handle loss three j can not figure case loss a...   \n",
       "\n",
       "                                         Cleaned_txt  word_count  \n",
       "0  way class variable python python people initia...          35  \n",
       "1  entrypoint index html use htmlwebpackplugin us...          96  \n",
       "2  literate num notice math operator num way lite...          10  \n",
       "3  decker image use compile  cpu currently try us...          63  \n",
       "4  handle loss three j   figure case loss applica...          79  "
      ]
     },
     "execution_count": 27,
     "metadata": {},
     "output_type": "execute_result"
    }
   ],
   "source": [
    "df_txt_cleaned.head()"
   ]
  },
  {
   "cell_type": "code",
   "execution_count": 28,
   "id": "2de41700-18b8-4ba5-b3e3-8bfcf5846849",
   "metadata": {},
   "outputs": [
    {
     "data": {
      "text/plain": [
       "count    99986.000000\n",
       "mean        88.045066\n",
       "std        127.068061\n",
       "min          1.000000\n",
       "25%         31.000000\n",
       "50%         54.000000\n",
       "75%         98.000000\n",
       "max       3223.000000\n",
       "Name: word_count, dtype: float64"
      ]
     },
     "execution_count": 28,
     "metadata": {},
     "output_type": "execute_result"
    }
   ],
   "source": [
    "# Descriptive statistics for word count\n",
    "df_txt_cleaned['word_count'].describe()"
   ]
  },
  {
   "cell_type": "code",
   "execution_count": 29,
   "id": "0835ac7e-627c-453f-bca8-09167603232b",
   "metadata": {},
   "outputs": [
    {
     "data": {
      "image/png": "[encoded data removed]",
      "text/plain": [
       "<Figure size 720x360 with 1 Axes>"
      ]
     },
     "metadata": {
      "needs_background": "light"
     },
     "output_type": "display_data"
    }
   ],
   "source": [
    "# Plot a hist of the word counts\n",
    "fig = plt.figure(figsize=(10,5))\n",
    "\n",
    "plt.hist(\n",
    "    df_txt_cleaned['word_count'],\n",
    "    bins=20,\n",
    "    color='#60505C'\n",
    ")\n",
    "\n",
    "plt.title('Distribution - Doc Word Count', fontsize=16)\n",
    "plt.ylabel('Frequency', fontsize=12)\n",
    "plt.xlabel('Word Count', fontsize=12)\n",
    "plt.yticks(np.arange(0, 50, 5))\n",
    "plt.xticks(np.arange(0, 2700, 200))\n",
    "\n",
    "plt.show()"
   ]
  },
  {
   "cell_type": "code",
   "execution_count": 30,
   "id": "8db79570-3ba0-4b29-b8ff-9acc9babfa7d",
   "metadata": {},
   "outputs": [
    {
     "data": {
      "text/plain": [
       "0          35\n",
       "1          96\n",
       "2          10\n",
       "3          63\n",
       "4          79\n",
       "         ... \n",
       "99981     283\n",
       "99982    1131\n",
       "99983      66\n",
       "99984      19\n",
       "99985     104\n",
       "Name: word_count, Length: 99986, dtype: int64"
      ]
     },
     "execution_count": 30,
     "metadata": {},
     "output_type": "execute_result"
    }
   ],
   "source": [
    "df_txt_cleaned['word_count']"
   ]
  },
  {
   "cell_type": "code",
   "execution_count": 31,
   "id": "10bfc2fb-8465-4e74-97c7-0c176e35323f",
   "metadata": {},
   "outputs": [
    {
     "data": {
      "image/png": "[encoded data removed]",
      "text/plain": [
       "<Figure size 504x360 with 1 Axes>"
      ]
     },
     "metadata": {
      "needs_background": "light"
     },
     "output_type": "display_data"
    }
   ],
   "source": [
    "# Plot a boxplot of the word counts\n",
    "fig = plt.figure(figsize=(7,5))\n",
    "\n",
    "sns.boxplot(\n",
    "    df_txt_cleaned['word_count'],\n",
    "    orient='v',\n",
    "    width=.3,\n",
    "    color='#ff8080'\n",
    ")\n",
    "\n",
    "plt.ylabel(\"Word Count\", fontsize=12)\n",
    "plt.title('Distribution - Doc Word Count', fontsize=16)\n",
    "# plt.yticks(np.arange(0, 2700, 100))\n",
    "\n",
    "plt.show()"
   ]
  },
  {
   "cell_type": "code",
   "execution_count": 32,
   "id": "8d07038b-5b65-43f3-a298-368f74d626bf",
   "metadata": {},
   "outputs": [],
   "source": [
    "def df_Outliers_1_5_IQR(data, col):   \n",
    "    \n",
    "    # Calcul des quantiles\n",
    "    Q1 = data[col].quantile(0.25)\n",
    "    Q3 = data[col].quantile(0.75)\n",
    "     # Formulation de l'écart IQR\n",
    "    IQR = Q3 - Q1\n",
    "\n",
    "    # Calcul des limites\n",
    "    LowerLim = Q1 - 1.5*IQR\n",
    "    UpperLim = Q3 + 1.5*IQR\n",
    "    print('LowerLim : ', LowerLim, ' | UpperLim : ', UpperLim)\n",
    "    \n",
    "    # New dataframe with 1.5 IQR filtered data\n",
    "    data = data[data[col] <= UpperLim]\n",
    "    print('Shape after LowerLim filter : ', data.shape)\n",
    "    data = data[data[col] >= LowerLim]\n",
    "    print('Shape after UpperLim filter : ', data.shape)\n",
    "        \n",
    "    return data"
   ]
  },
  {
   "cell_type": "code",
   "execution_count": 33,
   "id": "b54e481f-1c96-41c2-b9a4-79c7e43748c1",
   "metadata": {},
   "outputs": [
    {
     "name": "stdout",
     "output_type": "stream",
     "text": [
      "LowerLim :  -69.5  | UpperLim :  198.5\n",
      "Shape after LowerLim filter :  (91880, 16)\n",
      "Shape after UpperLim filter :  (91880, 16)\n"
     ]
    }
   ],
   "source": [
    "col = 'word_count'\n",
    "df_txt_cleaned_IQR = df_Outliers_1_5_IQR(df_txt_cleaned, col)"
   ]
  },
  {
   "cell_type": "code",
   "execution_count": 34,
   "id": "f132f75f-941a-4820-9cf5-65e721d26c32",
   "metadata": {},
   "outputs": [
    {
     "data": {
      "text/plain": [
       "count    91880.000000\n",
       "mean        61.379168\n",
       "std         42.463553\n",
       "min          1.000000\n",
       "25%         29.000000\n",
       "50%         49.000000\n",
       "75%         83.000000\n",
       "max        198.000000\n",
       "Name: word_count, dtype: float64"
      ]
     },
     "execution_count": 34,
     "metadata": {},
     "output_type": "execute_result"
    }
   ],
   "source": [
    "df_txt_cleaned_IQR[col].describe()"
   ]
  },
  {
   "cell_type": "code",
   "execution_count": 35,
   "id": "7b18b491-6c55-4317-a957-b038a83a8a3c",
   "metadata": {},
   "outputs": [],
   "source": [
    "# df_txt_cleaned_IQR.head()"
   ]
  },
  {
   "cell_type": "code",
   "execution_count": 36,
   "id": "00d62a5d-cfaf-42de-b447-ed889a816f48",
   "metadata": {},
   "outputs": [],
   "source": [
    "# df_filtered = df_txt_cleaned[df_txt_cleaned['word_count'] < 75]\n",
    "# df_filtered.head()"
   ]
  },
  {
   "cell_type": "code",
   "execution_count": 37,
   "id": "ace1bb78-abeb-494a-b61e-e0ad688d5000",
   "metadata": {},
   "outputs": [
    {
     "data": {
      "text/plain": [
       "('get', 58114)"
      ]
     },
     "execution_count": 37,
     "metadata": {},
     "output_type": "execute_result"
    }
   ],
   "source": [
    "from collections import Counter\n",
    "tab = Counter(\" \".join(df_txt_cleaned_IQR[\"text\"]).split()).most_common(100)\n",
    "tab[1]"
   ]
  },
  {
   "cell_type": "code",
   "execution_count": 38,
   "id": "2cb13a35-b7a0-4338-b601-31782adea8d9",
   "metadata": {},
   "outputs": [],
   "source": [
    "topn = 20\n",
    "tabtt = pd.Series(' '.join(df_txt_cleaned_IQR.text).split()).value_counts()[:topn]\n",
    "# .lower()"
   ]
  },
  {
   "cell_type": "code",
   "execution_count": 39,
   "id": "df0b8350-77a7-470c-8d85-ec30add6c46e",
   "metadata": {},
   "outputs": [],
   "source": [
    "tabtt_2 = pd.DataFrame({'word':tabtt.index, 'frequency':tabtt.values})"
   ]
  },
  {
   "cell_type": "code",
   "execution_count": 40,
   "id": "935ee51a-3885-46c7-a681-0392c7fad180",
   "metadata": {},
   "outputs": [
    {
     "data": {
      "text/html": [
       "<div>\n",
       "<style scoped>\n",
       "    .dataframe tbody tr th:only-of-type {\n",
       "        vertical-align: middle;\n",
       "    }\n",
       "\n",
       "    .dataframe tbody tr th {\n",
       "        vertical-align: top;\n",
       "    }\n",
       "\n",
       "    .dataframe thead th {\n",
       "        text-align: right;\n",
       "    }\n",
       "</style>\n",
       "<table border=\"1\" class=\"dataframe\">\n",
       "  <thead>\n",
       "    <tr style=\"text-align: right;\">\n",
       "      <th></th>\n",
       "      <th>word</th>\n",
       "      <th>frequency</th>\n",
       "    </tr>\n",
       "  </thead>\n",
       "  <tbody>\n",
       "    <tr>\n",
       "      <th>0</th>\n",
       "      <td>use</td>\n",
       "      <td>95440</td>\n",
       "    </tr>\n",
       "    <tr>\n",
       "      <th>1</th>\n",
       "      <td>get</td>\n",
       "      <td>58114</td>\n",
       "    </tr>\n",
       "    <tr>\n",
       "      <th>2</th>\n",
       "      <td>file</td>\n",
       "      <td>52782</td>\n",
       "    </tr>\n",
       "    <tr>\n",
       "      <th>3</th>\n",
       "      <td>code</td>\n",
       "      <td>40732</td>\n",
       "    </tr>\n",
       "    <tr>\n",
       "      <th>4</th>\n",
       "      <td>try</td>\n",
       "      <td>40680</td>\n",
       "    </tr>\n",
       "  </tbody>\n",
       "</table>\n",
       "</div>"
      ],
      "text/plain": [
       "   word  frequency\n",
       "0   use      95440\n",
       "1   get      58114\n",
       "2  file      52782\n",
       "3  code      40732\n",
       "4   try      40680"
      ]
     },
     "execution_count": 40,
     "metadata": {},
     "output_type": "execute_result"
    }
   ],
   "source": [
    "tabtt_2.head()"
   ]
  },
  {
   "cell_type": "code",
   "execution_count": 41,
   "id": "398a1a6b-380e-44ff-a116-7d8a68b0fa84",
   "metadata": {},
   "outputs": [
    {
     "data": {
      "image/png": "[encoded data removed]",
      "text/plain": [
       "<Figure size 1440x504 with 1 Axes>"
      ]
     },
     "metadata": {
      "needs_background": "light"
     },
     "output_type": "display_data"
    }
   ],
   "source": [
    "# Plot a bar chart for the top 20 most frequently occuring words\n",
    "fig = plt.figure(figsize=(20,7))\n",
    "\n",
    "g = sns.barplot(\n",
    "    x='word',\n",
    "    y='frequency',\n",
    "    data=tabtt_2,\n",
    "    palette='GnBu_d'\n",
    ")\n",
    "\n",
    "g.set_xticklabels(\n",
    "    g.get_xticklabels(),\n",
    "    rotation=45,\n",
    "    fontsize=14\n",
    ")\n",
    "\n",
    "plt.yticks(fontsize=14)\n",
    "plt.xlabel('Words', fontsize=14)\n",
    "plt.ylabel('Frequency', fontsize=14)\n",
    "plt.title('Top 20 Words', fontsize=17)\n",
    "\n",
    "plt.show()\n",
    "\n"
   ]
  },
  {
   "cell_type": "code",
   "execution_count": 42,
   "id": "715f0bf8-df7e-4810-a28a-8674627de719",
   "metadata": {},
   "outputs": [
    {
     "data": {
      "image/png": "[encoded data removed]",
      "text/plain": [
       "<Figure size 504x360 with 1 Axes>"
      ]
     },
     "metadata": {
      "needs_background": "light"
     },
     "output_type": "display_data"
    }
   ],
   "source": [
    "# Plot a boxplot of the word counts\n",
    "fig = plt.figure(figsize=(7,5))\n",
    "\n",
    "sns.boxplot(\n",
    "    df_txt_cleaned_IQR['word_count'],\n",
    "    orient='v',\n",
    "    width=.3,\n",
    "    color='#ff8080'\n",
    ")\n",
    "\n",
    "plt.ylabel(\"Word Count\", fontsize=12)\n",
    "plt.title('Distribution - Doc Word Count', fontsize=16)\n",
    "# plt.yticks(np.arange(0, 2700, 100))\n",
    "\n",
    "plt.show()"
   ]
  },
  {
   "cell_type": "code",
   "execution_count": 43,
   "id": "41ef098c-e694-449e-86af-351b3d01adaa",
   "metadata": {},
   "outputs": [
    {
     "data": {
      "image/png": "[encoded data removed]",
      "text/plain": [
       "<Figure size 720x360 with 1 Axes>"
      ]
     },
     "metadata": {
      "needs_background": "light"
     },
     "output_type": "display_data"
    }
   ],
   "source": [
    "# Plot a hist of the word counts\n",
    "fig = plt.figure(figsize=(10,5))\n",
    "\n",
    "plt.hist(\n",
    "    df_txt_cleaned_IQR['word_count'],\n",
    "    bins=20,\n",
    "    color='#60505C'\n",
    ")\n",
    "\n",
    "plt.title('Distribution - Doc Word Count', fontsize=16)\n",
    "plt.ylabel('Frequency', fontsize=12)\n",
    "plt.xlabel('Word Count', fontsize=12)\n",
    "plt.yticks(np.arange(0, 50, 5))\n",
    "plt.xticks(np.arange(0, 200, 10))\n",
    "\n",
    "plt.show()"
   ]
  },
  {
   "cell_type": "code",
   "execution_count": 44,
   "id": "657cf326-224d-4a11-a308-627d2ea76b37",
   "metadata": {},
   "outputs": [
    {
     "data": {
      "text/html": [
       "<div>\n",
       "<style scoped>\n",
       "    .dataframe tbody tr th:only-of-type {\n",
       "        vertical-align: middle;\n",
       "    }\n",
       "\n",
       "    .dataframe tbody tr th {\n",
       "        vertical-align: top;\n",
       "    }\n",
       "\n",
       "    .dataframe thead th {\n",
       "        text-align: right;\n",
       "    }\n",
       "</style>\n",
       "<table border=\"1\" class=\"dataframe\">\n",
       "  <thead>\n",
       "    <tr style=\"text-align: right;\">\n",
       "      <th></th>\n",
       "      <th>Unnamed: 0</th>\n",
       "      <th>Unnamed: 0.1</th>\n",
       "      <th>id</th>\n",
       "      <th>doc</th>\n",
       "      <th>title</th>\n",
       "      <th>tags</th>\n",
       "      <th>creation_date</th>\n",
       "      <th>score</th>\n",
       "      <th>views</th>\n",
       "      <th>answers</th>\n",
       "      <th>comments</th>\n",
       "      <th>favorites</th>\n",
       "      <th>last_activity_date</th>\n",
       "      <th>text</th>\n",
       "      <th>Cleaned_txt</th>\n",
       "      <th>word_count</th>\n",
       "    </tr>\n",
       "  </thead>\n",
       "  <tbody>\n",
       "    <tr>\n",
       "      <th>0</th>\n",
       "      <td>0</td>\n",
       "      <td>0</td>\n",
       "      <td>9056957</td>\n",
       "      <td>python people initialize class attribute two w...</td>\n",
       "      <td>way class variable python</td>\n",
       "      <td>&lt;python&gt;&lt;class&gt;&lt;attributes&gt;</td>\n",
       "      <td>2012-01-29 21:26:39</td>\n",
       "      <td>296</td>\n",
       "      <td>372888</td>\n",
       "      <td>2</td>\n",
       "      <td>1</td>\n",
       "      <td>105</td>\n",
       "      <td>2021-01-25 13:17:29</td>\n",
       "      <td>way class variable python python people initia...</td>\n",
       "      <td>way class variable python python people initia...</td>\n",
       "      <td>35</td>\n",
       "    </tr>\n",
       "    <tr>\n",
       "      <th>1</th>\n",
       "      <td>1</td>\n",
       "      <td>1</td>\n",
       "      <td>52013133</td>\n",
       "      <td>use webpack create config file try use htmlweb...</td>\n",
       "      <td>entrypoint index html use htmlwebpackplugin</td>\n",
       "      <td>&lt;node.js&gt;&lt;reactjs&gt;&lt;webpack&gt;&lt;html-webpack-plugin&gt;</td>\n",
       "      <td>2018-08-25 00:32:17</td>\n",
       "      <td>31</td>\n",
       "      <td>33607</td>\n",
       "      <td>5</td>\n",
       "      <td>2</td>\n",
       "      <td>7</td>\n",
       "      <td>2021-07-18 06:19:28</td>\n",
       "      <td>entrypoint index html use htmlwebpackplugin us...</td>\n",
       "      <td>entrypoint index html use htmlwebpackplugin us...</td>\n",
       "      <td>96</td>\n",
       "    </tr>\n",
       "    <tr>\n",
       "      <th>2</th>\n",
       "      <td>2</td>\n",
       "      <td>2</td>\n",
       "      <td>261963</td>\n",
       "      <td>notice math operator num way literate value num</td>\n",
       "      <td>literate num</td>\n",
       "      <td>&lt;c++&gt;&lt;enums&gt;</td>\n",
       "      <td>2008-11-04 13:55:29</td>\n",
       "      <td>354</td>\n",
       "      <td>374899</td>\n",
       "      <td>24</td>\n",
       "      <td>5</td>\n",
       "      <td>67</td>\n",
       "      <td>2021-05-23 11:33:10</td>\n",
       "      <td>literate num notice math operator num way lite...</td>\n",
       "      <td>literate num notice math operator num way lite...</td>\n",
       "      <td>10</td>\n",
       "    </tr>\n",
       "    <tr>\n",
       "      <th>3</th>\n",
       "      <td>3</td>\n",
       "      <td>3</td>\n",
       "      <td>60684868</td>\n",
       "      <td>currently try use pretrained model provide dec...</td>\n",
       "      <td>decker image use compile work cpu</td>\n",
       "      <td>&lt;docker&gt;&lt;tensorflow&gt;</td>\n",
       "      <td>2020-03-14 16:25:39</td>\n",
       "      <td>1</td>\n",
       "      <td>225</td>\n",
       "      <td>1</td>\n",
       "      <td>5</td>\n",
       "      <td>1</td>\n",
       "      <td>2021-01-04 03:48:09</td>\n",
       "      <td>decker image use compile work cpu currently tr...</td>\n",
       "      <td>decker image use compile  cpu currently try us...</td>\n",
       "      <td>63</td>\n",
       "    </tr>\n",
       "    <tr>\n",
       "      <th>4</th>\n",
       "      <td>4</td>\n",
       "      <td>4</td>\n",
       "      <td>35136616</td>\n",
       "      <td>can not figure case loss application write ele...</td>\n",
       "      <td>handle loss three j</td>\n",
       "      <td>&lt;javascript&gt;&lt;three.js&gt;&lt;webgl&gt;&lt;electron&gt;</td>\n",
       "      <td>2016-02-01 17:26:01</td>\n",
       "      <td>6</td>\n",
       "      <td>412</td>\n",
       "      <td>1</td>\n",
       "      <td>0</td>\n",
       "      <td>1</td>\n",
       "      <td>2021-03-18 17:02:54</td>\n",
       "      <td>handle loss three j can not figure case loss a...</td>\n",
       "      <td>handle loss three j   figure case loss applica...</td>\n",
       "      <td>79</td>\n",
       "    </tr>\n",
       "  </tbody>\n",
       "</table>\n",
       "</div>"
      ],
      "text/plain": [
       "   Unnamed: 0  Unnamed: 0.1        id  \\\n",
       "0           0             0   9056957   \n",
       "1           1             1  52013133   \n",
       "2           2             2    261963   \n",
       "3           3             3  60684868   \n",
       "4           4             4  35136616   \n",
       "\n",
       "                                                 doc  \\\n",
       "0  python people initialize class attribute two w...   \n",
       "1  use webpack create config file try use htmlweb...   \n",
       "2    notice math operator num way literate value num   \n",
       "3  currently try use pretrained model provide dec...   \n",
       "4  can not figure case loss application write ele...   \n",
       "\n",
       "                                         title  \\\n",
       "0                    way class variable python   \n",
       "1  entrypoint index html use htmlwebpackplugin   \n",
       "2                                 literate num   \n",
       "3            decker image use compile work cpu   \n",
       "4                          handle loss three j   \n",
       "\n",
       "                                               tags        creation_date  \\\n",
       "0                       <python><class><attributes>  2012-01-29 21:26:39   \n",
       "1  <node.js><reactjs><webpack><html-webpack-plugin>  2018-08-25 00:32:17   \n",
       "2                                      <c++><enums>  2008-11-04 13:55:29   \n",
       "3                              <docker><tensorflow>  2020-03-14 16:25:39   \n",
       "4           <javascript><three.js><webgl><electron>  2016-02-01 17:26:01   \n",
       "\n",
       "   score   views  answers  comments  favorites   last_activity_date  \\\n",
       "0    296  372888        2         1        105  2021-01-25 13:17:29   \n",
       "1     31   33607        5         2          7  2021-07-18 06:19:28   \n",
       "2    354  374899       24         5         67  2021-05-23 11:33:10   \n",
       "3      1     225        1         5          1  2021-01-04 03:48:09   \n",
       "4      6     412        1         0          1  2021-03-18 17:02:54   \n",
       "\n",
       "                                                text  \\\n",
       "0  way class variable python python people initia...   \n",
       "1  entrypoint index html use htmlwebpackplugin us...   \n",
       "2  literate num notice math operator num way lite...   \n",
       "3  decker image use compile work cpu currently tr...   \n",
       "4  handle loss three j can not figure case loss a...   \n",
       "\n",
       "                                         Cleaned_txt  word_count  \n",
       "0  way class variable python python people initia...          35  \n",
       "1  entrypoint index html use htmlwebpackplugin us...          96  \n",
       "2  literate num notice math operator num way lite...          10  \n",
       "3  decker image use compile  cpu currently try us...          63  \n",
       "4  handle loss three j   figure case loss applica...          79  "
      ]
     },
     "execution_count": 44,
     "metadata": {},
     "output_type": "execute_result"
    }
   ],
   "source": [
    "df_txt_cleaned_IQR.head()"
   ]
  },
  {
   "cell_type": "markdown",
   "id": "3f3096f2-17bb-4f78-8ff3-33c02061ff05",
   "metadata": {},
   "source": [
    "# Exploration de la variable contenant les tags"
   ]
  },
  {
   "cell_type": "code",
   "execution_count": 45,
   "id": "fbc8f82d-ad02-4703-9ee8-1be1c2b05b05",
   "metadata": {},
   "outputs": [],
   "source": [
    "# On va sélectionner un certain nombre de tags et on \n",
    "# supprimera les observations\n",
    "# qui ne collent pas"
   ]
  },
  {
   "cell_type": "code",
   "execution_count": null,
   "id": "5045bc98-474f-4cd0-97c2-7c52cee701bb",
   "metadata": {},
   "outputs": [],
   "source": []
  },
  {
   "cell_type": "code",
   "execution_count": 46,
   "id": "94154d56-8945-453a-b2ad-760afb93ee0d",
   "metadata": {},
   "outputs": [],
   "source": [
    "# tab_txt = [['lapin', 'chat', 'lion'],\n",
    "#            [ 'chat', 'loup', 'poulet'],\n",
    "#            [ 'poulet', 'poulet', 'poulet'],\n",
    "#            [ 'poulet', 'ours'],\n",
    "#           [ 'chat', 'loup', 'ours'],\n",
    "#           [ 'chat', 'loup']]"
   ]
  },
  {
   "cell_type": "code",
   "execution_count": 47,
   "id": "68a74d5a-20ed-48d2-9709-9077828a3296",
   "metadata": {},
   "outputs": [],
   "source": [
    "# binarizer = MultiLabelBinarizer()"
   ]
  },
  {
   "cell_type": "code",
   "execution_count": 48,
   "id": "6ba5350d-5a97-4698-8912-f9a6c6b8a458",
   "metadata": {},
   "outputs": [],
   "source": [
    "# txt_test_bin = binarizer.fit_transform(tab_txt)"
   ]
  },
  {
   "cell_type": "code",
   "execution_count": 49,
   "id": "20078e51-6e86-431f-b607-56a38ec5caef",
   "metadata": {},
   "outputs": [],
   "source": [
    "# txt_test_bin"
   ]
  },
  {
   "cell_type": "code",
   "execution_count": 50,
   "id": "a0a2efd3-10e9-4b66-ba98-deba1756d9d6",
   "metadata": {},
   "outputs": [],
   "source": [
    "df = df_txt_cleaned_IQR.copy()"
   ]
  },
  {
   "cell_type": "code",
   "execution_count": 51,
   "id": "90df9738-946d-4dd5-a001-7870a7cd73e6",
   "metadata": {},
   "outputs": [
    {
     "data": {
      "text/plain": [
       "0                         [python, class, attributes]\n",
       "1    [node.js, reactjs, webpack, html-webpack-plugin]\n",
       "2                                        [c++, enums]\n",
       "3                                [docker, tensorflow]\n",
       "4             [javascript, three.js, webgl, electron]\n",
       "Name: tags, dtype: object"
      ]
     },
     "execution_count": 51,
     "metadata": {},
     "output_type": "execute_result"
    }
   ],
   "source": [
    "# Construction d'un dict\n",
    "list_tags = df.tags.apply(lambda tags: tags[1:-1].split('><'))\n",
    "# 1 et -1 nécéssaires dans tags à cause des caractères <> au début\n",
    "# et à la fin de chaque bloc\n",
    "list_tags.head()"
   ]
  },
  {
   "cell_type": "code",
   "execution_count": 52,
   "id": "1adffd86-c40f-4d48-8ade-863e8e36ff53",
   "metadata": {},
   "outputs": [],
   "source": [
    "# df.tags[:]"
   ]
  },
  {
   "cell_type": "code",
   "execution_count": 53,
   "id": "11ac4c16-f4ae-4e8b-a739-65a07d9e64cb",
   "metadata": {},
   "outputs": [
    {
     "data": {
      "text/plain": [
       "91880"
      ]
     },
     "execution_count": 53,
     "metadata": {},
     "output_type": "execute_result"
    }
   ],
   "source": [
    "len(list_tags)"
   ]
  },
  {
   "cell_type": "code",
   "execution_count": 54,
   "id": "7652b4a3-c760-4c47-beda-e70d08cbbdc4",
   "metadata": {},
   "outputs": [
    {
     "name": "stdout",
     "output_type": "stream",
     "text": [
      "Nombre de tags: 18510\n"
     ]
    }
   ],
   "source": [
    "# Count instances\n",
    "all_tags = {} # Dictionnaire\n",
    "for index, row in list_tags.iteritems():\n",
    "    # iteritems(): returns an iterator of \n",
    "    # the dictionary's list in the form of (key, value) tuple pairs\n",
    "    for tag in row:\n",
    "        # Construction du dict\n",
    "        # incrémentation à chaque fois que le tag est rencontré\n",
    "        all_tags[tag] = all_tags.get(tag, 0) + 1\n",
    "        \n",
    "print(\"Nombre de tags:\", len(all_tags))"
   ]
  },
  {
   "cell_type": "code",
   "execution_count": 55,
   "id": "d24dc0a2-5142-43f7-8959-5b92be442564",
   "metadata": {},
   "outputs": [],
   "source": [
    "# Sort in descending order\n",
    "tags_sorted = sorted(all_tags.items(), \n",
    "                     key=lambda x: x[1], reverse=True)"
   ]
  },
  {
   "cell_type": "code",
   "execution_count": 56,
   "id": "4857de5b-a2e9-4b3f-8b72-6b848960eaa5",
   "metadata": {},
   "outputs": [
    {
     "name": "stdout",
     "output_type": "stream",
     "text": [
      "tags les plus présents:\n",
      "python          11793\n",
      "javascript       8940\n",
      "java             6510\n",
      "android          5562\n",
      "c#               4976\n",
      "php              3417\n",
      "html             3313\n",
      "c++              2775\n",
      "ios              2613\n",
      "css              2503\n"
     ]
    }
   ],
   "source": [
    "n = 10 # le top N\n",
    "\n",
    "print(\"tags les plus présents:\")\n",
    "for tag, count in tags_sorted[:n]:\n",
    "    print(f\"{tag:15} {count:5}\") # Affichage avec espacements en param"
   ]
  },
  {
   "cell_type": "code",
   "execution_count": null,
   "id": "7ae3b4af-b209-45c2-a6bd-2467fab43d7d",
   "metadata": {},
   "outputs": [],
   "source": []
  },
  {
   "cell_type": "code",
   "execution_count": 57,
   "id": "d2b8f393-b011-407a-8dad-2b980a7cbc33",
   "metadata": {},
   "outputs": [],
   "source": [
    "# Tag frequency limit (choice)\n",
    "k_freq = 200"
   ]
  },
  {
   "cell_type": "code",
   "execution_count": 58,
   "id": "1926b48b-b8d3-4ae7-8e3f-a2facde8274b",
   "metadata": {},
   "outputs": [],
   "source": [
    "def filterTheDict(dictObj, callback):\n",
    "    newDict = dict()\n",
    "    # Iterate over all the items in dictionary\n",
    "    for (key, value) in dictObj.items():\n",
    "        # Check if item satisfies the given condition then add to new dict\n",
    "        if callback((key, value)):\n",
    "            newDict[key] = value\n",
    "    return newDict"
   ]
  },
  {
   "cell_type": "code",
   "execution_count": 59,
   "id": "e7675945-e184-4c84-952a-2df5372a278f",
   "metadata": {},
   "outputs": [
    {
     "name": "stdout",
     "output_type": "stream",
     "text": [
      "Filtered Dictionary \n",
      "\n",
      "{'python': 11793, 'class': 218, 'node.js': 2373, 'reactjs': 2396, 'webpack': 318, 'c++': 2775, 'docker': 1150, 'tensorflow': 457, 'javascript': 8940, 'iphone': 461, 'html': 3313, 'css': 2503, 'ios': 2613, 'objective-c': 586, 'swift': 1772, 'amazon-web-services': 1023, 'ruby-on-rails': 720, 'dart': 938, 'java': 6510, 'spring': 855, 'c': 1210, 'pandas': 1395, 'macos': 819, 'visual-studio-code': 864, 'python-3.x': 1488, 'android': 5562, 'oop': 211, 'linux': 1167, 'ruby': 579, 'datetime': 421, 'debugging': 314, 'algorithm': 712, 'android-layout': 225, 'git': 1985, 'command-line': 242, 'php': 3417, 'c#': 4976, 'wpf': 474, 'angular': 1693, 'regex': 815, 'laravel': 995, '.net': 1416, 'winforms': 280, 'string': 1018, 'arrays': 1277, 'windows': 1076, 'jquery': 1980, 'sql-server': 853, 'mysql': 1408, 'asp.net-core': 620, 'shell': 504, 'image': 443, 'sql': 1518, 'database': 526, 'xml': 377, 'object': 205, 'eclipse': 371, 'http': 327, 'rest': 370, 'asp.net': 660, 'visual-studio': 566, 'spring-boot': 659, 'asp.net-mvc': 399, 'rust': 308, 'vim': 285, 'maven': 378, 'vue.js': 631, 'memory': 214, 'performance': 472, 'heap-memory': 231, 'qt': 273, 'r': 1817, 'swiftui': 449, 'selenium-webdriver': 218, 'xcode': 784, 'typescript': 1414, 'azure': 521, 'bash': 921, 'kubernetes': 473, 'file': 327, 'matplotlib': 514, 'go': 692, 'api': 292, 'testing': 266, 'flutter': 1568, 'dictionary': 381, 'multithreading': 418, 'opencv': 372, 'image-processing': 203, 'laravel-5': 229, 'entity-framework': 307, 'machine-learning': 317, 'scikit-learn': 236, 'unit-testing': 527, 'oracle': 348, 'json': 1178, 'woocommerce': 255, 'github': 775, 'docker-compose': 260, 'ubuntu': 364, 'scala': 429, 'vba': 427, 'excel': 638, 'numpy': 614, 'list': 566, 'amazon-s3': 330, 'ssh': 385, 'next.js': 204, 'apache-spark': 456, 'dataframe': 624, '.net-core': 350, 'csv': 307, 'npm': 465, 'postgresql': 840, 'wordpress': 545, 'validation': 254, 'forms': 223, 'react-native': 861, 'kotlin': 559, 'jupyter-notebook': 229, 'twitter-bootstrap': 360, 'nginx': 229, 'exception': 211, 'ajax': 286, 'hibernate': 298, 'express': 357, 'sorting': 274, 'firebase': 671, 'pip': 249, 'android-studio': 618, 'django': 1401, 'google-cloud-platform': 243, 'mongodb': 667, 'jpa': 218, 'tsql': 218, 'c++11': 262, 'jenkins': 311, 'intellij-idea': 432, 'powershell': 678, 'authentication': 263, 'apache': 263, 'python-2.7': 421, 'pyspark': 243, 'function': 311, 'keras': 270, 'math': 271, 'date': 416, 'batch-file': 249, 'unix': 242, 'sqlite': 267, 'loops': 201, 'logging': 268, 'ssl': 271, 'heroku': 206, 'web-scraping': 215, 'dplyr': 232, 'ggplot2': 206, 'email': 222, 'svg': 202, 'selenium': 431, 'dom-events': 220, 'java-8': 271, 'angularjs': 282, 'google-chrome': 598, 'security': 234, 'aws-lambda': 223, 'ecmascript-6': 240, 'jestjs': 225, 'elasticsearch': 206, 'spring-mvc': 200, 'gradle': 360, 'flask': 268, 'gitlab': 229, 'pdf': 288, 'asynchronous': 213, 'pytorch': 243}\n",
      "Done\n"
     ]
    }
   ],
   "source": [
    "# Filter a dictionary to keep elements only whose keys are even\n",
    "# 1 to access count (int value)\n",
    "newDict = filterTheDict(all_tags, lambda elem : elem[1] >= k_freq)\n",
    "print('Filtered Dictionary \\n')\n",
    "print(newDict)\n",
    "print('Done')"
   ]
  },
  {
   "cell_type": "code",
   "execution_count": 60,
   "id": "adb7524a-466f-4388-a222-84ef3ce0ec75",
   "metadata": {},
   "outputs": [
    {
     "data": {
      "text/plain": [
       "176"
      ]
     },
     "execution_count": 60,
     "metadata": {},
     "output_type": "execute_result"
    }
   ],
   "source": [
    "len(newDict)"
   ]
  },
  {
   "cell_type": "markdown",
   "id": "93e5da04-ed63-4ee1-bf3b-1015652c679f",
   "metadata": {},
   "source": [
    "# Amélioration des tags"
   ]
  },
  {
   "cell_type": "code",
   "execution_count": 61,
   "id": "5f5a8c11-e666-4c64-b1f7-14481dc2b1fd",
   "metadata": {},
   "outputs": [],
   "source": [
    "# -------------------------------------------------------------------------------"
   ]
  },
  {
   "cell_type": "code",
   "execution_count": 62,
   "id": "4ad5cbb1-d210-443b-a6fd-1045f44fd417",
   "metadata": {},
   "outputs": [],
   "source": [
    "tags_to_rename = ['javascript','reactjs','node.js',\n",
    "                  'python-3.x','mysql','amazon-web-services',\n",
    "                  'visual-studio-code','react-native','sql-server',\n",
    "                  'postgresql','ruby-on-rails','asp.net',\n",
    "                  'vue.js','asp.net-core','android-studio',\n",
    "                  'google-chrome','intellij-idea','python-2.7',\n",
    "                  'asp.net-mvc','twitter-bootstrap','.net-core',\n",
    "                  'amazon-s3','java-8','sqlite',\n",
    "                  'c+.11','batch-file',\n",
    "                  'google-cloud-platform','command-line','ecmascript-6',\n",
    "                  'laravel-5','jupyter-notebook','gitlab',\n",
    "                  'android-layout','jestjs','selenium-webdriver',\n",
    "                  'tsql','ggplot2','next.js','.net-mvc','apache-spark',\n",
    "                  'entity-framework','spring-boot', 'angularjs', 'docker-compose',\n",
    "                  'heap-memory', 'aws-lambda', 'web-scraping', 'image-processing',\n",
    "                  'spring-mvc', 'amazon-ec2', 'google-cloud-firestore', 'google-apps-script',\n",
    "                  'django-models', 'material-ui', 'google-maps', 'apache-kafka', 'flutter-layout',\n",
    "                  'vuejs2', 'sql-2008', 'chrome-extension', 'react-hooks', 'apache-sql',\n",
    "                  'environment-variables', 'react-router', 'java-stream', 'django-rest-framework',\n",
    "                  'google-sheets', 'user-interface', 'azure-devops', 'angular-material',\n",
    "                  'deep-learning', 'for-loop', '.net-web-api', 'android-gradle-plugin', 'vb.net', 'rxjs',\n",
    "                  'memory-management', 'sqlalchemy', 'ruby-3', 'python-requests', 'android-recyclerview',\n",
    "                  'android-fragments', 'visual-studio-2010', 'error-handling', 'framework-core',\n",
    "                  'data-structures', 'functional-programming', 'ionic-framework', 'android-emulator',\n",
    "                  'vscode-settings', 'version-control', 'utf-8', 'xamarin.forms', 'https', 'if-statement',\n",
    "                  'firebase-authentication', 'chrome-devtools', 'bootstrap-4', 'oauth-2.0', 'ipython',\n",
    "                  'windows-10 ', 'android-intent', 'spring-security', 'visual-c+.', 'file-upload',\n",
    "                  'spring-data-jpa', 'cocoa-touch', 'jenkins-pipeline', 'sequelize.js', 'neural-network',\n",
    "                  'file-io', 'git-ci', 'github-actions', 'nestjs', 'google-bigquery', 'react-redux',\n",
    "                  'android-activity', 'web-services', 'visual-studio-2017', 'nuxt.js', 'create-react-app',\n",
    "                  'jquery-events', 'laravel-4', 'x86', 'django-admin', 'composer-php', 'google-api',\n",
    "                  'cocoapods', 'azure-functions', 'spring-data', 'google-play', 'c+.20', 'css-selectors',\n",
    "                  'google-cloud-functions', 'http-headers ', 'push-notification', 'angular-cli',\n",
    "                  'stack-memory', 'firebase-cloud-messaging ', 'vuetify.js', 'chart.js', 'r-markdown',\n",
    "                  'android-jetpack-compose', 'python-imaging-library', 'google-app-engine',\n",
    "                  'visual-studio-2015', 'amazon-dynamodb', 'twitter-3', 'three.js', 'multidimensional-array',\n",
    "                  'google-colaboratory', 'react-android', 'c+.17', 'selenium-chromedriver', 'firebase-realtime-database',\n",
    "                  'visual-studio-2012', 'azure-active-directory', 'react-navigation', 'windows-subsystem-for-linux',\n",
    "                  'django-templates', 'linux-kernel', '.net-3', 'visual-studio-2019', '.net-webapi', 'sql-2005', 'arraylist',\n",
    "                  'gitlab-ci','twitter-bootstrap-3'\n",
    "                  \n",
    "                ]"
   ]
  },
  {
   "cell_type": "code",
   "execution_count": 63,
   "id": "933c0920-e27c-41b9-9a75-757950fcca25",
   "metadata": {},
   "outputs": [],
   "source": [
    "tags_rename = ['js','react','js',\n",
    "                  'python','sql','amazon',\n",
    "                  'visual-studio','react','sql',\n",
    "                  'sql','ruby','.net',\n",
    "                  'js','.net','android',\n",
    "                  'google','intellij','python',\n",
    "                  '.net','bootstrap','.net',\n",
    "                  'amazon','java','sql',\n",
    "                  'c++','batch',\n",
    "                  'google','command','ecmascript',\n",
    "                  'laravel','jupyter','gitlab',\n",
    "                  'android','js','selenium',\n",
    "                  'sql','ggplot','js','.net','apache',\n",
    "                  'framework','spring', 'angular', 'docker',\n",
    "                  'memory', 'aws', 'scraping', 'image',\n",
    "                  'spring', 'amazon', 'google', 'google',\n",
    "                  'django', 'material', 'google', 'apache', 'flutter',\n",
    "                  'js', 'sql', 'google', 'react', 'apache',\n",
    "                  'environment', 'react', 'java', 'django',\n",
    "                  'google', 'user', 'azure', 'angular',\n",
    "                  'machine-learning', 'loop', '.net', 'android', '.net', 'js',\n",
    "                  'memory', 'sql', 'ruby', 'python', 'android',\n",
    "                  'android', 'visual-studio', 'error', 'framework',\n",
    "                  'data', 'programming', 'framework', 'android',\n",
    "                  'visual-studio', 'version', 'utf', 'xamarin', 'http', 'statement',\n",
    "                  'firebase', 'google', 'bootstrap', 'oauth', 'python',\n",
    "                  'windows', 'android', 'spring', 'c++', 'file',\n",
    "                  'spring', 'cocoa', 'jenkins', 'js', 'machine-learning',\n",
    "                  'file', 'git', 'github', 'js', 'google', 'react',\n",
    "                  'android', 'web', 'visual-studio', 'js', 'react',\n",
    "                  'jquery', 'laravel', 'windows', 'django', 'php', 'google',\n",
    "                  'cocoa', 'azure', 'spring', 'google', 'c++', 'css',\n",
    "                  'google', 'http ', 'notification', 'angular',\n",
    "                  'memory', 'firebase', 'js', 'js', 'r',\n",
    "                  'android', 'python', 'google',\n",
    "                  'visual-studio', 'amazon', 'twitter', 'js', 'arrays',\n",
    "                  'google', 'react', 'c++', 'selenium', 'firebase',\n",
    "                  'visual-studio', 'azure', 'react', 'linux',\n",
    "               'django', 'linux', '.net', 'visual-studio', '.net', 'sql',\n",
    "               'arrays', 'gitlab','bootstrap'\n",
    "              ]"
   ]
  },
  {
   "cell_type": "code",
   "execution_count": 64,
   "id": "bfc17a46-6fe0-4b91-94ed-27ac5fbed53a",
   "metadata": {},
   "outputs": [
    {
     "data": {
      "text/plain": [
       "168"
      ]
     },
     "execution_count": 64,
     "metadata": {},
     "output_type": "execute_result"
    }
   ],
   "source": [
    "len(tags_rename)"
   ]
  },
  {
   "cell_type": "code",
   "execution_count": 65,
   "id": "5d305a16-fd97-414e-b679-98cfb282b351",
   "metadata": {},
   "outputs": [
    {
     "data": {
      "text/plain": [
       "168"
      ]
     },
     "execution_count": 65,
     "metadata": {},
     "output_type": "execute_result"
    }
   ],
   "source": [
    "len(tags_to_rename)"
   ]
  },
  {
   "cell_type": "code",
   "execution_count": 66,
   "id": "e6ded8d2-ea10-43f4-b075-ab7b03b5b884",
   "metadata": {},
   "outputs": [],
   "source": [
    "# ddf = list_tags"
   ]
  },
  {
   "cell_type": "code",
   "execution_count": 67,
   "id": "76446826-f400-4fda-aac5-f0f01f29042b",
   "metadata": {},
   "outputs": [],
   "source": [
    "# ddf.write(' '.join([replacements.get(w, w) for w in dictionary]))"
   ]
  },
  {
   "cell_type": "code",
   "execution_count": 68,
   "id": "b436c2e9-8e01-4bd1-9d0e-9c2ad021b703",
   "metadata": {},
   "outputs": [
    {
     "data": {
      "text/plain": [
       "'file-upload'"
      ]
     },
     "execution_count": 68,
     "metadata": {},
     "output_type": "execute_result"
    }
   ],
   "source": [
    "tags_to_rename[104]\n",
    "# tags_renamed[0]"
   ]
  },
  {
   "cell_type": "code",
   "execution_count": 69,
   "id": "d5bf61f9-6408-4c16-82a6-53b92362f128",
   "metadata": {},
   "outputs": [],
   "source": [
    "# # We shall delete chosen useless words\n",
    "# # for i in range(0, len(tags_to_rename)):\n",
    "# df['Cleaned_tags'] = df['tags'].str.replace('c+.17', \n",
    "#                                             'c++', \n",
    "#                                             regex='True')\n",
    "# # Attention : ++ in formula leads to repetition error"
   ]
  },
  {
   "cell_type": "code",
   "execution_count": 70,
   "id": "675f635b-bd9a-4f20-b622-ae6206b575ac",
   "metadata": {},
   "outputs": [
    {
     "name": "stdout",
     "output_type": "stream",
     "text": [
      "167\n"
     ]
    }
   ],
   "source": [
    "# We shall deleted chosen useless words\n",
    "df['Cleaned_tags'] = df['tags'].copy()\n",
    "\n",
    "for i in range(0, len(tags_to_rename)):\n",
    "\n",
    "    df['Cleaned_tags'] = df['Cleaned_tags'].str.replace(tags_to_rename[i], \n",
    "                                            tags_rename[i], \n",
    "                                            regex='True')\n",
    "print(i)\n",
    "# Attention : ++ in formula leads to repetition error"
   ]
  },
  {
   "cell_type": "code",
   "execution_count": 71,
   "id": "cf9cbe3c-3576-4f9e-a6e5-173947cb28ef",
   "metadata": {},
   "outputs": [
    {
     "data": {
      "text/plain": [
       "0                  [python, class, attributes]\n",
       "1    [js, react, webpack, html-webpack-plugin]\n",
       "2                                 [c++, enums]\n",
       "3                         [docker, tensorflow]\n",
       "4                    [js, js, webgl, electron]\n",
       "Name: Cleaned_tags, dtype: object"
      ]
     },
     "execution_count": 71,
     "metadata": {},
     "output_type": "execute_result"
    }
   ],
   "source": [
    "# Build the dictionary\n",
    "list_tags = df.Cleaned_tags.apply(lambda tags: tags[1:-1].split('><'))\n",
    "# 1 & -1 necessary because <> at the start\n",
    "# and at the end of each part\n",
    "list_tags.head()"
   ]
  },
  {
   "cell_type": "code",
   "execution_count": 72,
   "id": "336c3483-16bc-49a0-93ee-7015639402ea",
   "metadata": {},
   "outputs": [],
   "source": [
    "# df.tags[:]"
   ]
  },
  {
   "cell_type": "code",
   "execution_count": 73,
   "id": "e857ca4c-98d9-477e-97d2-ad2748071b8b",
   "metadata": {},
   "outputs": [
    {
     "data": {
      "text/plain": [
       "91880"
      ]
     },
     "execution_count": 73,
     "metadata": {},
     "output_type": "execute_result"
    }
   ],
   "source": [
    "len(list_tags)"
   ]
  },
  {
   "cell_type": "code",
   "execution_count": 74,
   "id": "057d7def-5c65-4a60-bf73-17287efae07b",
   "metadata": {},
   "outputs": [
    {
     "name": "stdout",
     "output_type": "stream",
     "text": [
      "Nombre de tags: 18311\n"
     ]
    }
   ],
   "source": [
    "# Count instances\n",
    "all_tags = {} # Dictionary\n",
    "for index, row in list_tags.iteritems():\n",
    "    # iteritems(): returns an iterator of \n",
    "    # the dictionary's list in the form of (key, value) tuple pairs\n",
    "    for tag in row:\n",
    "        # Build Dictionary\n",
    "        # increment each time a tag is met\n",
    "        all_tags[tag] = all_tags.get(tag, 0) + 1\n",
    "        \n",
    "print(\"Nombre de tags:\", len(all_tags))"
   ]
  },
  {
   "cell_type": "code",
   "execution_count": 75,
   "id": "ce03000c-87b3-4d0f-88d9-457e6d736488",
   "metadata": {},
   "outputs": [],
   "source": [
    "# Sort in descending order\n",
    "tags_sorted = sorted(all_tags.items(), \n",
    "                     key=lambda x: x[1], reverse=True)"
   ]
  },
  {
   "cell_type": "code",
   "execution_count": 76,
   "id": "6fb607e1-1719-4218-946d-d9d1cf070929",
   "metadata": {},
   "outputs": [
    {
     "name": "stdout",
     "output_type": "stream",
     "text": [
      "tags les plus présents:\n",
      "python          14028\n",
      "js              13249\n",
      "android          7226\n",
      "java             6949\n",
      "sql              5489\n",
      "c#               4976\n",
      ".net             3980\n",
      "react            3959\n",
      "php              3510\n",
      "html             3313\n",
      "c++              2775\n",
      "ios              2613\n",
      "css              2592\n",
      "angular          2226\n",
      "google           2139\n",
      "jquery           2077\n",
      "spring           2019\n",
      "visual-studio    2013\n",
      "git              1985\n",
      "django           1928\n",
      "r                1901\n",
      "swift            1772\n",
      "flutter          1752\n",
      "amazon           1655\n",
      "arrays           1470\n",
      "ruby             1432\n",
      "typescript       1414\n",
      "docker           1410\n",
      "pandas           1395\n",
      "laravel          1320\n",
      "linux            1318\n",
      "c                1210\n",
      "json             1178\n",
      "windows          1172\n",
      "apache           1077\n",
      "string           1018\n",
      "dart              938\n",
      "bash              921\n",
      "github            879\n",
      "firebase          868\n",
      "azure             849\n",
      "macos             819\n",
      "regex             815\n",
      "xcode             784\n",
      "selenium          727\n",
      "algorithm         712\n",
      "go                692\n",
      "powershell        678\n",
      "mongodb           667\n",
      "memory            665\n"
     ]
    }
   ],
   "source": [
    "n_selec_tags = 50 # Top N words\n",
    "\n",
    "print(\"tags les plus présents:\")\n",
    "for tag, count in tags_sorted[:n_selec_tags]:\n",
    "    print(f\"{tag:15} {count:5}\") # Params correspond to spacing"
   ]
  },
  {
   "cell_type": "code",
   "execution_count": 77,
   "id": "fdc79b17-78b0-4175-aee8-d95112179014",
   "metadata": {},
   "outputs": [],
   "source": [
    "# df.head()"
   ]
  },
  {
   "cell_type": "markdown",
   "id": "21191260-a03d-48ab-aed2-1db171291b61",
   "metadata": {},
   "source": [
    "# Nouveau dictionnaire post filtres"
   ]
  },
  {
   "cell_type": "code",
   "execution_count": 78,
   "id": "c47d8708-decf-43d9-92d2-025371a91ae8",
   "metadata": {},
   "outputs": [],
   "source": [
    "# Turn it into a list again\n",
    "list_txt_cleaned_2 = df['Cleaned_txt'].copy()"
   ]
  },
  {
   "cell_type": "code",
   "execution_count": 79,
   "id": "5e6d4953-459d-402b-8d03-4e882826eba6",
   "metadata": {},
   "outputs": [
    {
     "data": {
      "text/plain": [
       "0        way class variable python python people initia...\n",
       "1        entrypoint index html use htmlwebpackplugin us...\n",
       "2        literate num notice math operator num way lite...\n",
       "3        decker image use compile  cpu currently try us...\n",
       "4        handle loss three j   figure case loss applica...\n",
       "                               ...                        \n",
       "99979    remove son element jackson son node correspond...\n",
       "99980    python panda replicate row dataframe dataframe...\n",
       "99983    execute java cucumber step get step class atte...\n",
       "99984    find character string letter try figure  strin...\n",
       "99985    use spi speech recognition b script find  line...\n",
       "Name: Cleaned_txt, Length: 91880, dtype: object"
      ]
     },
     "execution_count": 79,
     "metadata": {},
     "output_type": "execute_result"
    }
   ],
   "source": [
    "list_txt_cleaned_2"
   ]
  },
  {
   "cell_type": "code",
   "execution_count": 80,
   "id": "83b4b18f-ff43-4bd8-b66e-8edf91b92f7e",
   "metadata": {},
   "outputs": [],
   "source": [
    "# Be sure to split sentence before feed into Dictionary\n",
    "list_txt_cleaned_2 = [d.split() for d in list_txt_cleaned_2] # Should turn into a list"
   ]
  },
  {
   "cell_type": "code",
   "execution_count": 81,
   "id": "831bb8b6-5ad3-410d-96cc-93cdbc9f8cae",
   "metadata": {},
   "outputs": [],
   "source": [
    "# Build dictionary\n",
    "dictionary_2 = Dictionary(list_txt_cleaned_2)"
   ]
  },
  {
   "cell_type": "code",
   "execution_count": 82,
   "id": "f7a157a9-4a94-498b-8d37-90f84b921d0f",
   "metadata": {},
   "outputs": [
    {
     "name": "stdout",
     "output_type": "stream",
     "text": [
      "Number of words inside vocab :  143346\n"
     ]
    }
   ],
   "source": [
    "# Number of vocabulary words\n",
    "temp1 = len(dictionary_2)\n",
    "print(\"Number of words inside vocab : \", len(dictionary_2))"
   ]
  },
  {
   "cell_type": "code",
   "execution_count": 83,
   "id": "740c4efa-bd24-4bf5-b724-52caea12b911",
   "metadata": {},
   "outputs": [
    {
     "name": "stdout",
     "output_type": "stream",
     "text": [
      "Number of words inside vocab after reduction:  11443\n"
     ]
    }
   ],
   "source": [
    "# Number of vocabulary words after filtering\n",
    "ntimes_w_down = 10\n",
    "ntimes_w_up = 0.90\n",
    "\n",
    "# Way to detect words that do not appear enough times\n",
    "# Other solution directly inside countvectorizer function          \n",
    "\n",
    "dictionary_2.filter_extremes(no_below = ntimes_w_down,\n",
    "                          no_above = ntimes_w_up)\n",
    "print(\"Number of words inside vocab after reduction: \", len(dictionary_2))\n",
    "temp2 = len(dictionary_2)"
   ]
  },
  {
   "cell_type": "code",
   "execution_count": 84,
   "id": "6da0be72-f235-44a0-8e5d-dc369f88eea0",
   "metadata": {},
   "outputs": [
    {
     "name": "stdout",
     "output_type": "stream",
     "text": [
      "Proportion of words left :  7.982782916858511  % of initial volume\n"
     ]
    }
   ],
   "source": [
    "prop_words_left = temp2/temp1 * 100\n",
    "print(\"Proportion of words left : \", prop_words_left, ' % of initial volume')"
   ]
  },
  {
   "cell_type": "markdown",
   "id": "f59dcf41-cd4e-4d94-ba78-256cd0359b04",
   "metadata": {},
   "source": [
    "## Selection des N tags"
   ]
  },
  {
   "cell_type": "code",
   "execution_count": 85,
   "id": "2e49a62d-b82e-4f49-9733-dee41cae5f99",
   "metadata": {},
   "outputs": [
    {
     "data": {
      "text/html": [
       "<div>\n",
       "<style scoped>\n",
       "    .dataframe tbody tr th:only-of-type {\n",
       "        vertical-align: middle;\n",
       "    }\n",
       "\n",
       "    .dataframe tbody tr th {\n",
       "        vertical-align: top;\n",
       "    }\n",
       "\n",
       "    .dataframe thead th {\n",
       "        text-align: right;\n",
       "    }\n",
       "</style>\n",
       "<table border=\"1\" class=\"dataframe\">\n",
       "  <thead>\n",
       "    <tr style=\"text-align: right;\">\n",
       "      <th></th>\n",
       "      <th>Document</th>\n",
       "      <th>List_tags</th>\n",
       "    </tr>\n",
       "  </thead>\n",
       "  <tbody>\n",
       "    <tr>\n",
       "      <th>4592</th>\n",
       "      <td>studio  variable memory address watch window  ...</td>\n",
       "      <td>[c#, visual-studio]</td>\n",
       "    </tr>\n",
       "    <tr>\n",
       "      <th>16003</th>\n",
       "      <td>add download font tkinter download source font...</td>\n",
       "      <td>[python]</td>\n",
       "    </tr>\n",
       "    <tr>\n",
       "      <th>94146</th>\n",
       "      <td>convert list java anyone help tell char list v...</td>\n",
       "      <td>[java]</td>\n",
       "    </tr>\n",
       "    <tr>\n",
       "      <th>10473</th>\n",
       "      <td>android app via browser ok  read answer say th...</td>\n",
       "      <td>[android]</td>\n",
       "    </tr>\n",
       "    <tr>\n",
       "      <th>71713</th>\n",
       "      <td>base chunk microphone get chunk microphone con...</td>\n",
       "      <td>[python, python]</td>\n",
       "    </tr>\n",
       "    <tr>\n",
       "      <th>69083</th>\n",
       "      <td>remove pad mat grid tile get lot space use til...</td>\n",
       "      <td>[html, css, angular, angular]</td>\n",
       "    </tr>\n",
       "    <tr>\n",
       "      <th>10061</th>\n",
       "      <td>value table sort  query country theordercolumn...</td>\n",
       "      <td>[sql]</td>\n",
       "    </tr>\n",
       "    <tr>\n",
       "      <th>65896</th>\n",
       "      <td>python determine language get input text outpu...</td>\n",
       "      <td>[python, string]</td>\n",
       "    </tr>\n",
       "    <tr>\n",
       "      <th>69094</th>\n",
       "      <td>bash find answer stackoverflow explains pass a...</td>\n",
       "      <td>[arrays, bash]</td>\n",
       "    </tr>\n",
       "    <tr>\n",
       "      <th>63856</th>\n",
       "      <td>run code thread call others  way run code thre...</td>\n",
       "      <td>[ios]</td>\n",
       "    </tr>\n",
       "    <tr>\n",
       "      <th>57921</th>\n",
       "      <td>define swift return type object class class pe...</td>\n",
       "      <td>[swift]</td>\n",
       "    </tr>\n",
       "    <tr>\n",
       "      <th>69428</th>\n",
       "      <td>difference square bracket quote aliasing sql s...</td>\n",
       "      <td>[sql]</td>\n",
       "    </tr>\n",
       "    <tr>\n",
       "      <th>30905</th>\n",
       "      <td>simplify program write program find root equat...</td>\n",
       "      <td>[c++]</td>\n",
       "    </tr>\n",
       "    <tr>\n",
       "      <th>51027</th>\n",
       "      <td>option argument getopts getopts hd case arg us...</td>\n",
       "      <td>[bash]</td>\n",
       "    </tr>\n",
       "    <tr>\n",
       "      <th>38627</th>\n",
       "      <td>gitlab pipeline branch try implement gitlab pi...</td>\n",
       "      <td>[git]</td>\n",
       "    </tr>\n",
       "  </tbody>\n",
       "</table>\n",
       "</div>"
      ],
      "text/plain": [
       "                                                Document  \\\n",
       "4592   studio  variable memory address watch window  ...   \n",
       "16003  add download font tkinter download source font...   \n",
       "94146  convert list java anyone help tell char list v...   \n",
       "10473  android app via browser ok  read answer say th...   \n",
       "71713  base chunk microphone get chunk microphone con...   \n",
       "69083  remove pad mat grid tile get lot space use til...   \n",
       "10061  value table sort  query country theordercolumn...   \n",
       "65896  python determine language get input text outpu...   \n",
       "69094  bash find answer stackoverflow explains pass a...   \n",
       "63856  run code thread call others  way run code thre...   \n",
       "57921  define swift return type object class class pe...   \n",
       "69428  difference square bracket quote aliasing sql s...   \n",
       "30905  simplify program write program find root equat...   \n",
       "51027  option argument getopts getopts hd case arg us...   \n",
       "38627  gitlab pipeline branch try implement gitlab pi...   \n",
       "\n",
       "                           List_tags  \n",
       "4592             [c#, visual-studio]  \n",
       "16003                       [python]  \n",
       "94146                         [java]  \n",
       "10473                      [android]  \n",
       "71713               [python, python]  \n",
       "69083  [html, css, angular, angular]  \n",
       "10061                          [sql]  \n",
       "65896               [python, string]  \n",
       "69094                 [arrays, bash]  \n",
       "63856                          [ios]  \n",
       "57921                        [swift]  \n",
       "69428                          [sql]  \n",
       "30905                          [c++]  \n",
       "51027                         [bash]  \n",
       "38627                          [git]  "
      ]
     },
     "execution_count": 85,
     "metadata": {},
     "output_type": "execute_result"
    }
   ],
   "source": [
    "n_selec_tags = 50\n",
    "# Select only desired tags\n",
    "selected_tags = [tag for tag, count in tags_sorted[:n_selec_tags]]\n",
    "\n",
    "copy_tags = list_tags.copy()\n",
    "\n",
    "for index, row in list_tags.iteritems():\n",
    "    copy_tags[index] = [tag for tag in row if tag in selected_tags]\n",
    "    \n",
    "mask = (copy_tags.apply(len) > 0)\n",
    "df['List_tags'] = copy_tags #.apply(lambda l: ', '.join(l))\n",
    "df['Document'] = df.Cleaned_txt #Title + ' ' + df.Body\n",
    "\n",
    "corpus = df.loc[mask, ['Document', 'List_tags']]\n",
    "corpus.sample(15)"
   ]
  },
  {
   "cell_type": "code",
   "execution_count": 86,
   "id": "169986da-fe28-4b7f-8c9e-c09c47667a8e",
   "metadata": {},
   "outputs": [
    {
     "name": "stdout",
     "output_type": "stream",
     "text": [
      "Nombre d'observation avant filtrage:  91880\n",
      "Nombre d'observaions après filtrage:  77786\n"
     ]
    }
   ],
   "source": [
    "# Effect of tag selection on dataframe's size\n",
    "print(\"Nombre d'observation avant filtrage: \", df.shape[0])\n",
    "print(\"Nombre d'observaions après filtrage: \", corpus.shape[0])"
   ]
  },
  {
   "cell_type": "code",
   "execution_count": 87,
   "id": "23a53b11-f6af-43a8-9227-1e4925e2e572",
   "metadata": {},
   "outputs": [
    {
     "data": {
      "text/html": [
       "<div>\n",
       "<style scoped>\n",
       "    .dataframe tbody tr th:only-of-type {\n",
       "        vertical-align: middle;\n",
       "    }\n",
       "\n",
       "    .dataframe tbody tr th {\n",
       "        vertical-align: top;\n",
       "    }\n",
       "\n",
       "    .dataframe thead th {\n",
       "        text-align: right;\n",
       "    }\n",
       "</style>\n",
       "<table border=\"1\" class=\"dataframe\">\n",
       "  <thead>\n",
       "    <tr style=\"text-align: right;\">\n",
       "      <th></th>\n",
       "      <th>Document</th>\n",
       "      <th>List_tags</th>\n",
       "    </tr>\n",
       "  </thead>\n",
       "  <tbody>\n",
       "    <tr>\n",
       "      <th>0</th>\n",
       "      <td>way class variable python python people initia...</td>\n",
       "      <td>[python]</td>\n",
       "    </tr>\n",
       "    <tr>\n",
       "      <th>1</th>\n",
       "      <td>entrypoint index html use htmlwebpackplugin us...</td>\n",
       "      <td>[js, react]</td>\n",
       "    </tr>\n",
       "    <tr>\n",
       "      <th>2</th>\n",
       "      <td>literate num notice math operator num way lite...</td>\n",
       "      <td>[c++]</td>\n",
       "    </tr>\n",
       "    <tr>\n",
       "      <th>3</th>\n",
       "      <td>decker image use compile  cpu currently try us...</td>\n",
       "      <td>[docker]</td>\n",
       "    </tr>\n",
       "    <tr>\n",
       "      <th>4</th>\n",
       "      <td>handle loss three j   figure case loss applica...</td>\n",
       "      <td>[js, js]</td>\n",
       "    </tr>\n",
       "  </tbody>\n",
       "</table>\n",
       "</div>"
      ],
      "text/plain": [
       "                                            Document    List_tags\n",
       "0  way class variable python python people initia...     [python]\n",
       "1  entrypoint index html use htmlwebpackplugin us...  [js, react]\n",
       "2  literate num notice math operator num way lite...        [c++]\n",
       "3  decker image use compile  cpu currently try us...     [docker]\n",
       "4  handle loss three j   figure case loss applica...     [js, js]"
      ]
     },
     "execution_count": 87,
     "metadata": {},
     "output_type": "execute_result"
    }
   ],
   "source": [
    "corpus.head()"
   ]
  },
  {
   "cell_type": "markdown",
   "id": "a3effa43-df8b-44c1-8e48-ab98fb4cd01d",
   "metadata": {},
   "source": [
    "## Filtre mots sur corpus"
   ]
  },
  {
   "cell_type": "code",
   "execution_count": 88,
   "id": "8f75fd9b-9b68-42cb-a6be-140dc6109abb",
   "metadata": {},
   "outputs": [],
   "source": [
    "# Come back here to delete uninteresting w in top 100 words\n",
    "w_to_remove = ['problem', 'thank', 'someth', 'chang',\n",
    "               'howev', 'think', 'anoth', 'idea', 'anyon',\n",
    "               'ad', 'el', 'instead', 'even']"
   ]
  },
  {
   "cell_type": "code",
   "execution_count": 89,
   "id": "5d041cda-1a18-4ac7-b311-f9d6a0abc41b",
   "metadata": {},
   "outputs": [],
   "source": [
    "# Let's get rid of some uninteresting words\n",
    "corpus.Document = [word for word in corpus.Document if word not in w_to_remove]"
   ]
  },
  {
   "cell_type": "markdown",
   "id": "0bb90626-400a-4824-a4a2-5e673331a671",
   "metadata": {},
   "source": [
    "# Dataset into train and test data"
   ]
  },
  {
   "cell_type": "code",
   "execution_count": 90,
   "id": "4b02b3ef-2c71-43f1-81f7-466838bc8f7a",
   "metadata": {},
   "outputs": [],
   "source": [
    "# Split data into train and test sets\n",
    "X_train, X_test, Y_train, Y_test = train_test_split(corpus.Document, \n",
    "                                                    corpus.List_tags, \n",
    "                                                    train_size=0.80, \n",
    "                                                    test_size=0.20, \n",
    "                                                    random_state=10)"
   ]
  },
  {
   "cell_type": "code",
   "execution_count": 91,
   "id": "c046e9cd-ae18-4383-9c75-5a8d08e17190",
   "metadata": {},
   "outputs": [
    {
     "data": {
      "text/plain": [
       "76230                  [mongodb, macos]\n",
       "11045                   [python, azure]\n",
       "51290                    [azure, azure]\n",
       "12487                [android, android]\n",
       "52096                       [json, sql]\n",
       "                      ...              \n",
       "22794    [python, json, django, django]\n",
       "48422                             [php]\n",
       "12907                          [docker]\n",
       "11857                   [macos, docker]\n",
       "65126                          [python]\n",
       "Name: List_tags, Length: 62228, dtype: object"
      ]
     },
     "execution_count": 91,
     "metadata": {},
     "output_type": "execute_result"
    }
   ],
   "source": [
    "Y_train"
   ]
  },
  {
   "cell_type": "code",
   "execution_count": 92,
   "id": "d89c1de5-48f5-443b-bbce-c6421324a863",
   "metadata": {},
   "outputs": [
    {
     "name": "stdout",
     "output_type": "stream",
     "text": [
      "train length : 62228 \n",
      " test length : 15558\n"
     ]
    }
   ],
   "source": [
    "print( 'train length :', len(X_train),'\\n', 'test length :',len(X_test))"
   ]
  },
  {
   "cell_type": "markdown",
   "id": "10b7675a-6773-4126-8ec8-95ebe54bf4a9",
   "metadata": {},
   "source": [
    "## Dictionary on train data"
   ]
  },
  {
   "cell_type": "code",
   "execution_count": 93,
   "id": "a984077c-feca-435a-bbf6-74d8617a2b99",
   "metadata": {},
   "outputs": [],
   "source": [
    "list_X_train = X_train.copy()\n",
    "list_X_test = X_test.copy()"
   ]
  },
  {
   "cell_type": "code",
   "execution_count": 94,
   "id": "771e0c07-fa3f-4168-8b85-36f0c71524b9",
   "metadata": {},
   "outputs": [],
   "source": [
    "# list_X_train"
   ]
  },
  {
   "cell_type": "code",
   "execution_count": 95,
   "id": "c25bec30-a716-45eb-811d-c0cc2317a75c",
   "metadata": {},
   "outputs": [
    {
     "data": {
      "image/png": "[encoded data removed]",
      "text/plain": [
       "<PIL.Image.Image image mode=RGB size=400x200 at 0x291C4D2C340>"
      ]
     },
     "execution_count": 95,
     "metadata": {},
     "output_type": "execute_result"
    }
   ],
   "source": [
    "# Plot WordCloud\n",
    "data = X_train\n",
    "long_string = ','.join(list(data.values))# Create a WordCloud object\n",
    "\n",
    "wordcloud = WordCloud(background_color=\"white\",\n",
    "                      max_words=1000, \n",
    "                      contour_width=3, \n",
    "                      contour_color='steelblue')# Generate a word cloud\n",
    "\n",
    "wordcloud.generate(long_string)# Visualize the word cloud\n",
    "wordcloud.to_image()"
   ]
  },
  {
   "cell_type": "code",
   "execution_count": 96,
   "id": "477a673a-7b1a-4654-8c15-9e98ff78432d",
   "metadata": {},
   "outputs": [],
   "source": [
    "# # Come back here to delete uninteresting top 100 words\n",
    "# w_to_remove = ['problem', 'thank', 'someth', 'chang',\n",
    "#                'howev', 'think', 'anoth', 'idea', 'anyon',\n",
    "#                'ad', 'el', 'instead', 'even']\n",
    "# Faire le travail en amont avant le split train/test"
   ]
  },
  {
   "cell_type": "code",
   "execution_count": 97,
   "id": "479d8932-0b04-4f1b-9a31-63e237966c84",
   "metadata": {},
   "outputs": [],
   "source": [
    "# # Let's get rid of some uninteresting words\n",
    "# X_train = [word for word in X_train if word not in w_to_remove]"
   ]
  },
  {
   "cell_type": "code",
   "execution_count": 98,
   "id": "c78ae615-ae28-40e9-8f52-4744d61a29d3",
   "metadata": {},
   "outputs": [],
   "source": [
    "# X_test = [word for word in X_test if word not in w_to_remove]"
   ]
  },
  {
   "cell_type": "code",
   "execution_count": 99,
   "id": "3c28ef52-9724-40a5-916c-37271912d401",
   "metadata": {},
   "outputs": [],
   "source": [
    "# Be sure to split sentence before feed into Dictionary\n",
    "list_X_train = [d.split() for d in list_X_train] # Should turn into a list"
   ]
  },
  {
   "cell_type": "code",
   "execution_count": 100,
   "id": "a3e23a63-0648-44ab-91fe-127f8270eeaa",
   "metadata": {},
   "outputs": [],
   "source": [
    "# Be sure to split sentence before feed into Dictionary\n",
    "list_X_test = [d.split() for d in list_X_test] # Should turn into a list"
   ]
  },
  {
   "cell_type": "code",
   "execution_count": 101,
   "id": "2e17ba74-b1b3-4744-a15e-92f153ee77b8",
   "metadata": {},
   "outputs": [],
   "source": [
    "# Build dictionary\n",
    "dictionary = Dictionary(list_X_train)"
   ]
  },
  {
   "cell_type": "code",
   "execution_count": 102,
   "id": "9ba79e5e-4fe1-4f1f-b5fa-85b2f25222d6",
   "metadata": {},
   "outputs": [
    {
     "name": "stdout",
     "output_type": "stream",
     "text": [
      "Number of words inside vocab :  109354\n"
     ]
    }
   ],
   "source": [
    "# Number of vocabulary words\n",
    "temp1 = len(dictionary)\n",
    "print(\"Number of words inside vocab : \", len(dictionary))"
   ]
  },
  {
   "cell_type": "code",
   "execution_count": 103,
   "id": "180d5067-78a0-4462-9ce3-b33e4f42ab58",
   "metadata": {},
   "outputs": [
    {
     "name": "stdout",
     "output_type": "stream",
     "text": [
      "Number of words inside vocab after reduction:  8971\n"
     ]
    }
   ],
   "source": [
    "# Number of vocabulary words after filtering\n",
    "ntimes_w_down = 10 # nb of occurences\n",
    "ntimes_w_up = 0.90 # % here\n",
    "\n",
    "# Way to detect words that do not appear enough times\n",
    "# Other solution directly inside countvectorizer function          \n",
    "\n",
    "dictionary.filter_extremes(no_below = ntimes_w_down,\n",
    "                          no_above = ntimes_w_up)\n",
    "print(\"Number of words inside vocab after reduction: \", \n",
    "      len(dictionary))\n",
    "\n",
    "temp2 = len(dictionary)"
   ]
  },
  {
   "cell_type": "code",
   "execution_count": 104,
   "id": "cbc22f40-25a3-4c37-a3af-6a8c396d8779",
   "metadata": {},
   "outputs": [
    {
     "name": "stdout",
     "output_type": "stream",
     "text": [
      "Proportion of words left :  8.20363224024727  % of initial volume\n"
     ]
    }
   ],
   "source": [
    "prop_words_left = temp2/temp1 * 100\n",
    "print(\"Proportion of words left : \", prop_words_left, ' % of initial volume')"
   ]
  },
  {
   "cell_type": "code",
   "execution_count": 105,
   "id": "ac7e493b-569a-4a82-ad4a-cc905910c788",
   "metadata": {},
   "outputs": [],
   "source": [
    "# # Let's print most present words inside vocab\n",
    "# # Detect useless ones to delete\n",
    "\n",
    "# n_top = 100\n",
    "\n",
    "# words_sorted = sorted(dictionary.dfs.items(), key=lambda x: x[1], reverse=True)\n",
    "# id2token = {value: key for key, value in dictionary.token2id.items()}\n",
    "\n",
    "# print(\"Mots les plus fréquents du dictionnaire:\")\n",
    "\n",
    "# for e, (i, count) in enumerate(words_sorted[:n_top]):\n",
    "#     print(f\"{e+1:2} {id2token[i]:15} {count:5}\")"
   ]
  },
  {
   "cell_type": "code",
   "execution_count": 106,
   "id": "6fd287cc-94ec-4eca-9e2e-04b79b30c83f",
   "metadata": {},
   "outputs": [
    {
     "data": {
      "text/plain": [
       "(62228, 1)"
      ]
     },
     "execution_count": 106,
     "metadata": {},
     "output_type": "execute_result"
    }
   ],
   "source": [
    "# Exploring data shape after dictionary's creation\n",
    "df_X_train = pd.DataFrame(X_train)\n",
    "df_X_train.shape"
   ]
  },
  {
   "cell_type": "code",
   "execution_count": 107,
   "id": "827f95fb-6e8b-43c6-85d1-44190c431633",
   "metadata": {},
   "outputs": [
    {
     "data": {
      "text/html": [
       "<div>\n",
       "<style scoped>\n",
       "    .dataframe tbody tr th:only-of-type {\n",
       "        vertical-align: middle;\n",
       "    }\n",
       "\n",
       "    .dataframe tbody tr th {\n",
       "        vertical-align: top;\n",
       "    }\n",
       "\n",
       "    .dataframe thead th {\n",
       "        text-align: right;\n",
       "    }\n",
       "</style>\n",
       "<table border=\"1\" class=\"dataframe\">\n",
       "  <thead>\n",
       "    <tr style=\"text-align: right;\">\n",
       "      <th></th>\n",
       "      <th>Document</th>\n",
       "    </tr>\n",
       "  </thead>\n",
       "  <tbody>\n",
       "    <tr>\n",
       "      <th>76230</th>\n",
       "      <td>fail install mono db mac sur newbie db try mac...</td>\n",
       "    </tr>\n",
       "    <tr>\n",
       "      <th>11045</th>\n",
       "      <td>azure python dk exception try except statement...</td>\n",
       "    </tr>\n",
       "    <tr>\n",
       "      <th>51290</th>\n",
       "      <td>link content file azure devops generate link c...</td>\n",
       "    </tr>\n",
       "    <tr>\n",
       "      <th>12487</th>\n",
       "      <td>shortcut switch design text android studio any...</td>\n",
       "    </tr>\n",
       "    <tr>\n",
       "      <th>52096</th>\n",
       "      <td>search string son postgres data type column co...</td>\n",
       "    </tr>\n",
       "  </tbody>\n",
       "</table>\n",
       "</div>"
      ],
      "text/plain": [
       "                                                Document\n",
       "76230  fail install mono db mac sur newbie db try mac...\n",
       "11045  azure python dk exception try except statement...\n",
       "51290  link content file azure devops generate link c...\n",
       "12487  shortcut switch design text android studio any...\n",
       "52096  search string son postgres data type column co..."
      ]
     },
     "execution_count": 107,
     "metadata": {},
     "output_type": "execute_result"
    }
   ],
   "source": [
    "df_X_train.head()"
   ]
  },
  {
   "cell_type": "code",
   "execution_count": 108,
   "id": "e583159b-e394-4c4d-bedd-bc4cf336561e",
   "metadata": {},
   "outputs": [
    {
     "data": {
      "text/plain": [
       "(15558, 1)"
      ]
     },
     "execution_count": 108,
     "metadata": {},
     "output_type": "execute_result"
    }
   ],
   "source": [
    "df_X_test = pd.DataFrame(X_test)\n",
    "df_X_test.shape"
   ]
  },
  {
   "cell_type": "code",
   "execution_count": 109,
   "id": "74e9c170-563c-4cf2-a741-6d7a30a88cd1",
   "metadata": {},
   "outputs": [
    {
     "data": {
      "text/html": [
       "<div>\n",
       "<style scoped>\n",
       "    .dataframe tbody tr th:only-of-type {\n",
       "        vertical-align: middle;\n",
       "    }\n",
       "\n",
       "    .dataframe tbody tr th {\n",
       "        vertical-align: top;\n",
       "    }\n",
       "\n",
       "    .dataframe thead th {\n",
       "        text-align: right;\n",
       "    }\n",
       "</style>\n",
       "<table border=\"1\" class=\"dataframe\">\n",
       "  <thead>\n",
       "    <tr style=\"text-align: right;\">\n",
       "      <th></th>\n",
       "      <th>Document</th>\n",
       "    </tr>\n",
       "  </thead>\n",
       "  <tbody>\n",
       "    <tr>\n",
       "      <th>76489</th>\n",
       "      <td>store python object container   port exist pyt...</td>\n",
       "    </tr>\n",
       "    <tr>\n",
       "      <th>17674</th>\n",
       "      <td>python expect clear flushing line try characte...</td>\n",
       "    </tr>\n",
       "    <tr>\n",
       "      <th>6207</th>\n",
       "      <td>roulette prediction  implement roulette predic...</td>\n",
       "    </tr>\n",
       "    <tr>\n",
       "      <th>70716</th>\n",
       "      <td>record attribute et core thank reviewer find d...</td>\n",
       "    </tr>\n",
       "    <tr>\n",
       "      <th>7394</th>\n",
       "      <td>change opacity card block bootstrap hey card b...</td>\n",
       "    </tr>\n",
       "  </tbody>\n",
       "</table>\n",
       "</div>"
      ],
      "text/plain": [
       "                                                Document\n",
       "76489  store python object container   port exist pyt...\n",
       "17674  python expect clear flushing line try characte...\n",
       "6207   roulette prediction  implement roulette predic...\n",
       "70716  record attribute et core thank reviewer find d...\n",
       "7394   change opacity card block bootstrap hey card b..."
      ]
     },
     "execution_count": 109,
     "metadata": {},
     "output_type": "execute_result"
    }
   ],
   "source": [
    "df_X_test.head()"
   ]
  },
  {
   "cell_type": "markdown",
   "id": "84d09c1d-85b3-4717-b8a8-b68577125c97",
   "metadata": {},
   "source": [
    "# Transform target data"
   ]
  },
  {
   "cell_type": "code",
   "execution_count": 110,
   "id": "5f94e9c7-d5d3-4229-856c-1b0123cc3b96",
   "metadata": {},
   "outputs": [],
   "source": [
    "binarizer = MultiLabelBinarizer()"
   ]
  },
  {
   "cell_type": "code",
   "execution_count": 111,
   "id": "f76272c6-f1ab-456c-914e-3436a9eff60a",
   "metadata": {},
   "outputs": [],
   "source": [
    "Y_train_End = binarizer.fit_transform(Y_train)\n",
    "Y_test_End = binarizer.transform(Y_test)"
   ]
  },
  {
   "cell_type": "code",
   "execution_count": 112,
   "id": "e76d7293-32fa-438b-aba8-446a93b97f7f",
   "metadata": {},
   "outputs": [
    {
     "data": {
      "text/plain": [
       "((62228, 50), (15558, 50))"
      ]
     },
     "execution_count": 112,
     "metadata": {},
     "output_type": "execute_result"
    }
   ],
   "source": [
    "Y_train_End.shape, Y_test_End.shape"
   ]
  },
  {
   "cell_type": "code",
   "execution_count": 113,
   "id": "e729c8a9-bc80-464e-a045-33c21dda083b",
   "metadata": {},
   "outputs": [
    {
     "data": {
      "text/plain": [
       "array([[0, 0, 0, ..., 0, 0, 0],\n",
       "       [0, 0, 0, ..., 0, 0, 0],\n",
       "       [0, 0, 0, ..., 0, 0, 0],\n",
       "       ...,\n",
       "       [0, 0, 0, ..., 0, 0, 0],\n",
       "       [0, 0, 0, ..., 0, 0, 0],\n",
       "       [0, 0, 0, ..., 0, 0, 0]])"
      ]
     },
     "execution_count": 113,
     "metadata": {},
     "output_type": "execute_result"
    }
   ],
   "source": [
    "Y_train_End"
   ]
  },
  {
   "cell_type": "markdown",
   "id": "96e7cf2c-6fad-41ca-a83e-c4b07375c38d",
   "metadata": {},
   "source": [
    "# Bag of Words"
   ]
  },
  {
   "cell_type": "code",
   "execution_count": 114,
   "id": "5a6540f1-26c9-460a-a801-8f8e64f06943",
   "metadata": {},
   "outputs": [
    {
     "data": {
      "text/plain": [
       "11443"
      ]
     },
     "execution_count": 114,
     "metadata": {},
     "output_type": "execute_result"
    }
   ],
   "source": [
    "n_terms = len(dictionary_2)\n",
    "n_terms"
   ]
  },
  {
   "cell_type": "code",
   "execution_count": 115,
   "id": "0fa201f0-1fa9-4192-8398-56dd9502853d",
   "metadata": {},
   "outputs": [],
   "source": [
    "X_train_bow = [dictionary_2.doc2bow(doc, allow_update=False) for doc in list_X_train]\n",
    "# Attention au allow_update !!!!!"
   ]
  },
  {
   "cell_type": "code",
   "execution_count": 116,
   "id": "b72ca274-69a3-41ff-8166-1660b3af1864",
   "metadata": {},
   "outputs": [
    {
     "data": {
      "text/plain": [
       "11443"
      ]
     },
     "execution_count": 116,
     "metadata": {},
     "output_type": "execute_result"
    }
   ],
   "source": [
    "len(dictionary_2)"
   ]
  },
  {
   "cell_type": "code",
   "execution_count": 117,
   "id": "47aae149-5d59-4569-8a39-0ed7054a873f",
   "metadata": {},
   "outputs": [
    {
     "data": {
      "text/plain": [
       "[(36, 2),\n",
       " (202, 2),\n",
       " (249, 1),\n",
       " (283, 2),\n",
       " (575, 1),\n",
       " (1482, 1),\n",
       " (5309, 1),\n",
       " (5386, 2)]"
      ]
     },
     "execution_count": 117,
     "metadata": {},
     "output_type": "execute_result"
    }
   ],
   "source": [
    "X_train_bow[2]"
   ]
  },
  {
   "cell_type": "code",
   "execution_count": 118,
   "id": "e983f2f1-0b5f-4c7c-92ed-f4bd7bcbaecc",
   "metadata": {},
   "outputs": [
    {
     "data": {
      "text/plain": [
       "['python',\n",
       " 'expect',\n",
       " 'clear',\n",
       " 'flushing',\n",
       " 'line',\n",
       " 'try',\n",
       " 'character',\n",
       " 'line',\n",
       " 'recover',\n",
       " 'state',\n",
       " 'case',\n",
       " 'contain',\n",
       " 'prompt',\n",
       " 'keywords',\n",
       " 'use',\n",
       " 'expect',\n",
       " 'method',\n",
       " 'call',\n",
       " 'tried',\n",
       " 'approach',\n",
       " 'result',\n",
       " 'keep',\n",
       " 'run',\n",
       " 'non',\n",
       " 'expect',\n",
       " 'behavior',\n",
       " 'behavior',\n",
       " 'use',\n",
       " 'python',\n",
       " 'perform',\n",
       " 'follow',\n",
       " 'code',\n",
       " 'subsequently',\n",
       " 'try',\n",
       " 'buffer',\n",
       " 'occasionally',\n",
       " 'part',\n",
       " 'accumulate',\n",
       " 'character',\n",
       " 'clear',\n",
       " 'week',\n",
       " 'havoc',\n",
       " 'downstream',\n",
       " 'logic',\n",
       " 'thread',\n",
       " 'put',\n",
       " 'second',\n",
       " 'time',\n",
       " 'fetch',\n",
       " 'incoming',\n",
       " 'buffer',\n",
       " 'execute',\n",
       " 'nonblocking',\n",
       " 'command',\n",
       " 'time',\n",
       " 'flushedstuff',\n",
       " 'child',\n",
       " 'read',\n",
       " 'nonblocking',\n",
       " 'timeout',\n",
       " 'try',\n",
       " 'use',\n",
       " 'expect',\n",
       " 'call',\n",
       " 'line',\n",
       " 'non',\n",
       " 'block',\n",
       " 'way',\n",
       " 'find',\n",
       " 'timeout',\n",
       " 'exception',\n",
       " 'incoming',\n",
       " 'buffer',\n",
       " 'clear',\n",
       " 'find',\n",
       " 'expect',\n",
       " 'property',\n",
       " 'parse',\n",
       " 'method',\n",
       " 'call',\n",
       " 'flush',\n",
       " 'line',\n",
       " 'notice',\n",
       " 'nonblocking',\n",
       " 'buffer',\n",
       " 'read',\n",
       " 'directly',\n",
       " 'line',\n",
       " 'try',\n",
       " 'child',\n",
       " 'expect',\n",
       " 'zzqqjjsh',\n",
       " 'string',\n",
       " 'timeout',\n",
       " 'except',\n",
       " 'expect',\n",
       " 'timeout',\n",
       " 'pas',\n",
       " 'flushedstuff',\n",
       " 'child',\n",
       " 'solution',\n",
       " 'provide',\n",
       " 'way',\n",
       " 'line',\n",
       " 'extend',\n",
       " 'spawn',\n",
       " 'class',\n",
       " 'add',\n",
       " 'method',\n",
       " 'follow',\n",
       " 'access',\n",
       " 'property',\n",
       " 'class',\n",
       " 'extendedspawn',\n",
       " 'expect',\n",
       " 'spawn',\n",
       " 'def',\n",
       " 'flushbuffer',\n",
       " 'delay',\n",
       " 'try',\n",
       " 'greedily',\n",
       " 'read',\n",
       " 'incoming',\n",
       " 'character',\n",
       " 'self',\n",
       " 'expect',\n",
       " 'string',\n",
       " 'timeout',\n",
       " 'delay',\n",
       " 'except',\n",
       " 'expect',\n",
       " 'timeout',\n",
       " 'pas',\n",
       " 'input',\n",
       " 'buffer',\n",
       " 'inside',\n",
       " 'class',\n",
       " 'self',\n",
       " 'buffer',\n",
       " 'self',\n",
       " 'string',\n",
       " 'return',\n",
       " 'self',\n",
       " 'method',\n",
       " 'use',\n",
       " 'block',\n",
       " 'command',\n",
       " 'way',\n",
       " 'approach',\n",
       " 'something',\n",
       " 'mention',\n",
       " 'waste',\n",
       " 'day',\n",
       " 'way',\n",
       " 'thanks']"
      ]
     },
     "execution_count": 118,
     "metadata": {},
     "output_type": "execute_result"
    }
   ],
   "source": [
    "list_X_test[1]"
   ]
  },
  {
   "cell_type": "code",
   "execution_count": 119,
   "id": "a796c306-5238-4bc7-8178-36d18ef150a9",
   "metadata": {},
   "outputs": [],
   "source": [
    "X_test_bow = [dictionary_2.doc2bow(doc, allow_update=False) for doc in list_X_test]"
   ]
  },
  {
   "cell_type": "code",
   "execution_count": 120,
   "id": "55585092-2a07-4d06-be9a-99f88d359f3a",
   "metadata": {},
   "outputs": [
    {
     "data": {
      "text/plain": [
       "11443"
      ]
     },
     "execution_count": 120,
     "metadata": {},
     "output_type": "execute_result"
    }
   ],
   "source": [
    "len(dictionary_2)"
   ]
  },
  {
   "cell_type": "code",
   "execution_count": 121,
   "id": "c1e43fbf-d40f-43ff-a117-e403a9ec1756",
   "metadata": {},
   "outputs": [],
   "source": [
    "# X_test_bow[1]"
   ]
  },
  {
   "cell_type": "code",
   "execution_count": 122,
   "id": "4988ecb2-34cc-4e24-9224-2b2eb04d3f08",
   "metadata": {},
   "outputs": [],
   "source": [
    "# Il faut ordonner les élements en colonnes\n",
    "# Construire la matrice creuse\n",
    "X_train_Sparse = corpus2csc(X_train_bow, num_terms=n_terms).transpose()"
   ]
  },
  {
   "cell_type": "code",
   "execution_count": 123,
   "id": "85ddfa46-6376-4340-a732-091817d604ce",
   "metadata": {},
   "outputs": [
    {
     "data": {
      "text/plain": [
       "<62228x11443 sparse matrix of type '<class 'numpy.float64'>'\n",
       "\twith 2048821 stored elements in Compressed Sparse Row format>"
      ]
     },
     "execution_count": 123,
     "metadata": {},
     "output_type": "execute_result"
    }
   ],
   "source": [
    "X_train_Sparse"
   ]
  },
  {
   "cell_type": "code",
   "execution_count": 124,
   "id": "2dc4ed93-fe0f-4b76-8022-98bb6d02c256",
   "metadata": {},
   "outputs": [],
   "source": [
    "X_test_Sparse = corpus2csc(X_test_bow, num_terms=n_terms).transpose()"
   ]
  },
  {
   "cell_type": "code",
   "execution_count": 125,
   "id": "21dfdd39-50f5-42b4-baaf-f8a2cb544455",
   "metadata": {},
   "outputs": [
    {
     "data": {
      "text/plain": [
       "<15558x11443 sparse matrix of type '<class 'numpy.float64'>'\n",
       "\twith 512569 stored elements in Compressed Sparse Row format>"
      ]
     },
     "execution_count": 125,
     "metadata": {},
     "output_type": "execute_result"
    }
   ],
   "source": [
    "X_test_Sparse"
   ]
  },
  {
   "cell_type": "markdown",
   "id": "5a294952-3dec-4a9f-af85-bff37ee2a49d",
   "metadata": {},
   "source": [
    " # Application des modèles supervisés TF-IDF"
   ]
  },
  {
   "cell_type": "markdown",
   "id": "c0455619-59f3-4490-ba2b-70c83b5c91e2",
   "metadata": {},
   "source": [
    "## SVM | TF-IDF"
   ]
  },
  {
   "cell_type": "code",
   "execution_count": 126,
   "id": "e2e4ef41-536e-4cba-8053-6402548c194e",
   "metadata": {},
   "outputs": [],
   "source": [
    "hyperparameters = {'svm__estimator__C': [1, 1.1, 1.11, 1.12]}\n",
    "\n",
    "estimator_svm = Pipeline([('tfidf', TfidfTransformer(use_idf=True)), \n",
    "                          ('svm', OneVsRestClassifier(LinearSVC(max_iter=10000)))\n",
    "                         ])\n",
    "\n",
    "grid_svm = GridSearchCV(estimator_svm,\n",
    "                        hyperparameters,\n",
    "                        scoring='accuracy',\n",
    "                        cv=5,\n",
    "                        verbose=1,\n",
    "                        n_jobs=-1)\n"
   ]
  },
  {
   "cell_type": "code",
   "execution_count": 127,
   "id": "c8528d81-4ba0-4e05-a5d6-e61d65781295",
   "metadata": {},
   "outputs": [
    {
     "name": "stdout",
     "output_type": "stream",
     "text": [
      "Fitting 5 folds for each of 4 candidates, totalling 20 fits\n",
      "done in 185.765s.\n"
     ]
    }
   ],
   "source": [
    "ti= time.time()\n",
    "# ------------------------------------------------------ \n",
    "grid_svm.fit(X_train_Sparse, Y_train_End)\n",
    "# ------------------------------------------------------  \n",
    "# display training information along the way\n",
    "print(\"done in %0.3fs.\" % (time.time() - ti))"
   ]
  },
  {
   "cell_type": "code",
   "execution_count": 128,
   "id": "90f61892-cb73-4ed3-a445-1f305424d71d",
   "metadata": {},
   "outputs": [
    {
     "name": "stdout",
     "output_type": "stream",
     "text": [
      "SVM, Best accuracy score on test set:  0.484\n"
     ]
    }
   ],
   "source": [
    "print(\"SVM, Best accuracy score on test set: \", \n",
    "      round(grid_svm.score(X_test_Sparse, Y_test_End), 3))"
   ]
  },
  {
   "cell_type": "code",
   "execution_count": 129,
   "id": "50970c83-3230-488e-aa95-b5770fb0d88e",
   "metadata": {},
   "outputs": [],
   "source": [
    "# V1 : 0.397\n",
    "# V2 : 0.479"
   ]
  },
  {
   "cell_type": "code",
   "execution_count": 130,
   "id": "9389e898-1f6c-40ff-b588-000253e4eaa5",
   "metadata": {},
   "outputs": [
    {
     "name": "stdout",
     "output_type": "stream",
     "text": [
      "{'svm__estimator__C': 1.12}\n",
      "SVM | The best accuracy achieved after parameter tuning via grid search is :  0.479\n"
     ]
    }
   ],
   "source": [
    "print(grid_svm.best_params_)\n",
    "print('SVM | The best accuracy achieved after parameter tuning via grid search is : ', round(grid_svm.best_score_, 3))"
   ]
  },
  {
   "cell_type": "markdown",
   "id": "d58ce369-7d07-44ab-90d7-44ee7a0905c2",
   "metadata": {},
   "source": [
    "## Logistic Regression | TF-IDF"
   ]
  },
  {
   "cell_type": "code",
   "execution_count": 131,
   "id": "7115bca2-de42-4ce4-82a2-96d2afeb8432",
   "metadata": {},
   "outputs": [],
   "source": [
    "\n",
    "hyperparameters = {'clf__estimator__C': [13, 14, 15]}\n",
    "\n",
    "estimator_clf = Pipeline([('tfidf', TfidfTransformer(use_idf=True)), \n",
    "                         ('clf', OneVsRestClassifier(LogisticRegression(max_iter=10000)))\n",
    "                        ])\n",
    "\n",
    "grid_clf = GridSearchCV(estimator_clf, \n",
    "                       hyperparameters, \n",
    "                       scoring='accuracy',\n",
    "                       cv=5,\n",
    "                       verbose=1,\n",
    "                       n_jobs=-1)"
   ]
  },
  {
   "cell_type": "code",
   "execution_count": 132,
   "id": "764427e4-07a8-4f91-b38a-f180a889fc01",
   "metadata": {},
   "outputs": [
    {
     "data": {
      "text/plain": [
       "dict_keys(['memory', 'steps', 'verbose', 'tfidf', 'clf', 'tfidf__norm', 'tfidf__smooth_idf', 'tfidf__sublinear_tf', 'tfidf__use_idf', 'clf__estimator__C', 'clf__estimator__class_weight', 'clf__estimator__dual', 'clf__estimator__fit_intercept', 'clf__estimator__intercept_scaling', 'clf__estimator__l1_ratio', 'clf__estimator__max_iter', 'clf__estimator__multi_class', 'clf__estimator__n_jobs', 'clf__estimator__penalty', 'clf__estimator__random_state', 'clf__estimator__solver', 'clf__estimator__tol', 'clf__estimator__verbose', 'clf__estimator__warm_start', 'clf__estimator', 'clf__n_jobs'])"
      ]
     },
     "execution_count": 132,
     "metadata": {},
     "output_type": "execute_result"
    }
   ],
   "source": [
    "estimator_clf.get_params().keys()"
   ]
  },
  {
   "cell_type": "code",
   "execution_count": 133,
   "id": "e51dde7b-6fac-45dc-b634-83e0737a3dc1",
   "metadata": {},
   "outputs": [
    {
     "name": "stdout",
     "output_type": "stream",
     "text": [
      "Fitting 5 folds for each of 3 candidates, totalling 15 fits\n",
      "done in 738.747s.\n"
     ]
    }
   ],
   "source": [
    "ti= time.time()\n",
    "# ------------------------------------------------------ \n",
    "grid_clf.fit(X_train_Sparse, Y_train_End)\n",
    "# ------------------------------------------------------  \n",
    "# display training information along the way\n",
    "print(\"done in %0.3fs.\" % (time.time() - ti))"
   ]
  },
  {
   "cell_type": "code",
   "execution_count": 134,
   "id": "5ec679a4-ec65-4ecd-a8fd-3551fd8eb8ea",
   "metadata": {},
   "outputs": [
    {
     "data": {
      "text/plain": [
       "dict_keys(['memory', 'steps', 'verbose', 'tfidf', 'clf', 'tfidf__norm', 'tfidf__smooth_idf', 'tfidf__sublinear_tf', 'tfidf__use_idf', 'clf__estimator__C', 'clf__estimator__class_weight', 'clf__estimator__dual', 'clf__estimator__fit_intercept', 'clf__estimator__intercept_scaling', 'clf__estimator__l1_ratio', 'clf__estimator__max_iter', 'clf__estimator__multi_class', 'clf__estimator__n_jobs', 'clf__estimator__penalty', 'clf__estimator__random_state', 'clf__estimator__solver', 'clf__estimator__tol', 'clf__estimator__verbose', 'clf__estimator__warm_start', 'clf__estimator', 'clf__n_jobs'])"
      ]
     },
     "execution_count": 134,
     "metadata": {},
     "output_type": "execute_result"
    }
   ],
   "source": [
    "estimator_clf.get_params().keys()"
   ]
  },
  {
   "cell_type": "code",
   "execution_count": 135,
   "id": "a14c429b-edaa-4e22-912f-044820aa7a0d",
   "metadata": {},
   "outputs": [
    {
     "name": "stdout",
     "output_type": "stream",
     "text": [
      "Logistic Regression, Best accuracy score on test set:  0.474\n"
     ]
    }
   ],
   "source": [
    "print(\"Logistic Regression, Best accuracy score on test set: \", \n",
    "      round(grid_clf.score(X_test_Sparse, Y_test_End), 3))\n",
    "# 0.381\n",
    "# V2 : 0.468"
   ]
  },
  {
   "cell_type": "code",
   "execution_count": 136,
   "id": "ae9ffdf6-34b6-4f81-b56a-ceff507ef100",
   "metadata": {},
   "outputs": [
    {
     "name": "stdout",
     "output_type": "stream",
     "text": [
      "{'clf__estimator__C': 15}\n",
      "LogReg | The best accuracy achieved after parameter tuning via grid search is :  0.467\n"
     ]
    }
   ],
   "source": [
    "print(grid_clf.best_params_)\n",
    "print('LogReg | The best accuracy achieved after parameter tuning via grid search is : ', round(grid_clf.best_score_, 3))"
   ]
  },
  {
   "cell_type": "markdown",
   "id": "6d71d3b3-c359-4774-829f-9b3c10ac08fe",
   "metadata": {},
   "source": [
    "## Naive Bayes | TF-IDF"
   ]
  },
  {
   "cell_type": "code",
   "execution_count": 137,
   "id": "b26d0c21-d12c-47d5-abb4-c9d2c795fd0c",
   "metadata": {},
   "outputs": [],
   "source": [
    "hyperparameters = {'nb__estimator__alpha': [0.03, 0.025, 0.02, 0.0175, 0.01]}\n",
    "\n",
    "estimator_nb = Pipeline([('tfidf', TfidfTransformer(use_idf=True)), \n",
    "                         ('nb', OneVsRestClassifier(MultinomialNB()))\n",
    "                        ])\n",
    "\n",
    "grid_nb = GridSearchCV(estimator_nb, \n",
    "                       hyperparameters, \n",
    "                       scoring='accuracy',\n",
    "                       cv=5,\n",
    "                       verbose=1,\n",
    "                       n_jobs=-1)\n"
   ]
  },
  {
   "cell_type": "code",
   "execution_count": 138,
   "id": "b4b5e57a-51c5-4559-b0dd-6347791ac6a1",
   "metadata": {},
   "outputs": [
    {
     "name": "stdout",
     "output_type": "stream",
     "text": [
      "Fitting 5 folds for each of 5 candidates, totalling 25 fits\n",
      "done in 19.299s.\n"
     ]
    }
   ],
   "source": [
    "ti= time.time()\n",
    "# ------------------------------------------------------ \n",
    "grid_nb.fit(X_train_Sparse, Y_train_End)\n",
    "# ------------------------------------------------------  \n",
    "# display training information along the way\n",
    "print(\"done in %0.3fs.\" % (time.time() - ti))"
   ]
  },
  {
   "cell_type": "code",
   "execution_count": 139,
   "id": "1450f84e-ab43-4962-b32a-6e1dc78f504f",
   "metadata": {},
   "outputs": [
    {
     "name": "stdout",
     "output_type": "stream",
     "text": [
      "Naive Bayes, Best accuracy score on test set:  0.309\n"
     ]
    }
   ],
   "source": [
    "print(\"Naive Bayes, Best accuracy score on test set: \", \n",
    "      round(grid_nb.score(X_test_Sparse, Y_test_End), 3))"
   ]
  },
  {
   "cell_type": "code",
   "execution_count": 140,
   "id": "4240faf5-b77d-49f0-b99d-cd492b895f1f",
   "metadata": {},
   "outputs": [
    {
     "name": "stdout",
     "output_type": "stream",
     "text": [
      "{'nb__estimator__alpha': 0.025}\n",
      "NB | The best accuracy achieved after parameter tuning via grid search is :  0.307\n"
     ]
    }
   ],
   "source": [
    "print(grid_nb.best_params_)\n",
    "print('NB | The best accuracy achieved after parameter tuning via grid search is : ', round(grid_nb.best_score_, 3))"
   ]
  },
  {
   "cell_type": "code",
   "execution_count": 141,
   "id": "d315af41-096b-42e8-aba4-fc5178be6379",
   "metadata": {},
   "outputs": [],
   "source": [
    "# V1 : 0.232\n",
    "# V2 : 0.302"
   ]
  },
  {
   "cell_type": "markdown",
   "id": "513537b1-7621-4160-845d-ec81707ad908",
   "metadata": {
    "tags": []
   },
   "source": [
    "## Random Forest | TF-IDF"
   ]
  },
  {
   "cell_type": "code",
   "execution_count": 142,
   "id": "0ccfaa1e-0c45-4504-a2b8-83c17951ef28",
   "metadata": {},
   "outputs": [],
   "source": [
    "\n",
    "hyperparameters = {'rf__n_estimators': [25, 26, 29, 30, 31],\n",
    "                   'rf__criterion': ['gini', 'entropy'],\n",
    "                  }\n",
    "\n",
    "estimator_rf = Pipeline([('tfidf', TfidfTransformer(use_idf=True)), \n",
    "                         ('rf', RandomForestClassifier())\n",
    "                        ])\n",
    "\n",
    "grid_rf = GridSearchCV(estimator_rf, \n",
    "                       hyperparameters,\n",
    "                       scoring='accuracy',\n",
    "                       cv=5,\n",
    "                       verbose=1,\n",
    "                       n_jobs=-1)"
   ]
  },
  {
   "cell_type": "code",
   "execution_count": 143,
   "id": "eb548cb5-224b-4a6f-b9a1-d8eff96ee480",
   "metadata": {},
   "outputs": [
    {
     "data": {
      "text/plain": [
       "dict_keys(['memory', 'steps', 'verbose', 'tfidf', 'rf', 'tfidf__norm', 'tfidf__smooth_idf', 'tfidf__sublinear_tf', 'tfidf__use_idf', 'rf__bootstrap', 'rf__ccp_alpha', 'rf__class_weight', 'rf__criterion', 'rf__max_depth', 'rf__max_features', 'rf__max_leaf_nodes', 'rf__max_samples', 'rf__min_impurity_decrease', 'rf__min_impurity_split', 'rf__min_samples_leaf', 'rf__min_samples_split', 'rf__min_weight_fraction_leaf', 'rf__n_estimators', 'rf__n_jobs', 'rf__oob_score', 'rf__random_state', 'rf__verbose', 'rf__warm_start'])"
      ]
     },
     "execution_count": 143,
     "metadata": {},
     "output_type": "execute_result"
    }
   ],
   "source": [
    "estimator_rf.get_params().keys()"
   ]
  },
  {
   "cell_type": "code",
   "execution_count": 144,
   "id": "39aa4d48-b580-4a71-8250-9cc031e0dc02",
   "metadata": {},
   "outputs": [
    {
     "name": "stdout",
     "output_type": "stream",
     "text": [
      "Fitting 5 folds for each of 10 candidates, totalling 50 fits\n",
      "done in 3315.495s.\n"
     ]
    }
   ],
   "source": [
    "ti= time.time()\n",
    "# ------------------------------------------------------ \n",
    "grid_rf.fit(X_train_Sparse, Y_train_End)\n",
    "# ------------------------------------------------------  \n",
    "# display training information along the way\n",
    "print(\"done in %0.3fs.\" % (time.time() - ti))"
   ]
  },
  {
   "cell_type": "code",
   "execution_count": 145,
   "id": "fd67e1e3-2817-4eb1-b619-6ec45b1d2b06",
   "metadata": {},
   "outputs": [
    {
     "name": "stdout",
     "output_type": "stream",
     "text": [
      "Random Forest, Best accuracy score on test set:  0.358\n"
     ]
    }
   ],
   "source": [
    "print(\"Random Forest, Best accuracy score on test set: \", \n",
    "      round(grid_rf.score(X_test_Sparse, Y_test_End), 3))"
   ]
  },
  {
   "cell_type": "code",
   "execution_count": 146,
   "id": "4dfcf632-0a88-4d8f-8e2e-afa16fbad91c",
   "metadata": {},
   "outputs": [
    {
     "name": "stdout",
     "output_type": "stream",
     "text": [
      "{'rf__criterion': 'gini', 'rf__n_estimators': 29}\n",
      "RF | The best accuracy achieved after parameter tuning via grid search is :  0.348\n"
     ]
    }
   ],
   "source": [
    "print(grid_rf.best_params_)\n",
    "print('RF | The best accuracy achieved after parameter tuning via grid search is : ', round(grid_rf.best_score_, 3))\n",
    "# V1 : 0.262\n",
    "# V2 : 0.358"
   ]
  },
  {
   "cell_type": "markdown",
   "id": "b9a633c8-6723-4036-947d-2f503755aee8",
   "metadata": {
    "tags": []
   },
   "source": [
    "## XGBOOST | TF-IDF"
   ]
  },
  {
   "cell_type": "code",
   "execution_count": null,
   "id": "54ff7a61-a4ff-4985-bcbe-a1d3d018440d",
   "metadata": {},
   "outputs": [],
   "source": []
  },
  {
   "cell_type": "code",
   "execution_count": 147,
   "id": "3e8cee5a-9576-4b1f-8e9d-f90dcae954c6",
   "metadata": {},
   "outputs": [],
   "source": [
    "# hyperparameters = {'xgb__estimator__learning_rate': [0.01, 0.1, 0.3],\n",
    "#                    'eval_metric' : [\"logloss\"],\n",
    "#                   }\n",
    "\n",
    "# estimator_xgb = Pipeline([('tfidf', TfidfTransformer(use_idf=True)), \n",
    "#                          ('xgb',  OneVsRestClassifier(XGBClassifier()))\n",
    "#                         ])\n",
    "\n",
    "# grid_xgb = GridSearchCV(estimator_xgb, \n",
    "#                        hyperparameters,\n",
    "#                        scoring='accuracy',\n",
    "#                        cv=5,\n",
    "#                        verbose=1,\n",
    "#                        n_jobs=-1)"
   ]
  },
  {
   "cell_type": "code",
   "execution_count": 148,
   "id": "53a32deb-cff4-4108-b6de-02c1146b43c6",
   "metadata": {},
   "outputs": [],
   "source": [
    "# estimator_xgb.get_params().keys()"
   ]
  },
  {
   "cell_type": "code",
   "execution_count": 149,
   "id": "0d621d72-05d1-4368-8d58-3a5281704ae0",
   "metadata": {},
   "outputs": [],
   "source": [
    "# ti= time.time()\n",
    "# # ------------------------------------------------------ \n",
    "# grid_xgb.fit(X_train_Sparse, Y_train_End)\n",
    "# # ------------------------------------------------------  \n",
    "# # display training information along the way\n",
    "# print(\"done in %0.3fs.\" % (time.time() - ti))"
   ]
  },
  {
   "cell_type": "code",
   "execution_count": 150,
   "id": "29ac1be2-4589-4fc6-b804-41cf52ae2be0",
   "metadata": {},
   "outputs": [],
   "source": [
    "# print(\"Xgboost, Best accuracy score on test set: \", \n",
    "#       round(grid_xgb.score(X_test_Sparse, Y_test_End), 3))\n"
   ]
  },
  {
   "cell_type": "code",
   "execution_count": 151,
   "id": "1e821372-bb55-4117-a391-f4b8abce9a21",
   "metadata": {},
   "outputs": [],
   "source": [
    "# print(grid_xgb.best_params_)\n",
    "# print('XGB | The best accuracy achieved after parameter tuning via grid search is : ', round(grid_xgb.best_score_, 3))"
   ]
  },
  {
   "cell_type": "code",
   "execution_count": 152,
   "id": "eb23c059-af6a-4bbf-89c1-b931325e29ab",
   "metadata": {},
   "outputs": [],
   "source": [
    "# Test 1 : Temps : 10608 s et precision = 0.397"
   ]
  },
  {
   "cell_type": "markdown",
   "id": "5bf014a0-e52e-45c4-9a55-4bd22bd5f950",
   "metadata": {},
   "source": [
    "# Partie prédiction"
   ]
  },
  {
   "cell_type": "code",
   "execution_count": 153,
   "id": "1b9a69b9-03c4-4820-916f-1e2a74624186",
   "metadata": {},
   "outputs": [],
   "source": [
    "optimal_model = grid_svm.best_estimator_"
   ]
  },
  {
   "cell_type": "code",
   "execution_count": 154,
   "id": "8e4bdd52-2ff9-4383-bcf5-7e584f226d7d",
   "metadata": {},
   "outputs": [],
   "source": [
    "def predict_tags_supervised(optimal_model = optimal_model, X_test = X_test, X_test_bow = X_test_bow, n_cases = 10):\n",
    "\n",
    "    for n_ex in range(n_cases):\n",
    "        # Transform into sparse matrix in order to feed it to the optimal model\n",
    "        my_test = corpus2csc(X_test_bow[n_ex:n_ex+1], num_terms=n_terms).transpose()\n",
    "        # Get actual Sparse Matrix X_test\n",
    "        series = corpus.loc[X_test.reset_index().iloc[n_ex, 0]]\n",
    "        \n",
    "        # Get tags from inverse transform of prediction\n",
    "        tags_supervised = binarizer.inverse_transform(optimal_model.predict(my_test))[0]\n",
    "\n",
    "        print(f'Test n°{n_ex+1}')\n",
    "        print('—'*10)\n",
    "        display(HTML(series.Document))\n",
    "        print('—'*50)\n",
    "        print('\\tTags cibles:', ', '.join(series.List_tags))\n",
    "        print('\\tTags proposés:', ', '.join(tags_supervised))\n",
    "        print('—'*50, '\\n'*4)"
   ]
  },
  {
   "cell_type": "code",
   "execution_count": 155,
   "id": "5af2b4bf-2426-4fee-80b0-32c742f9b0d5",
   "metadata": {},
   "outputs": [
    {
     "data": {
      "text/plain": [
       "11443"
      ]
     },
     "execution_count": 155,
     "metadata": {},
     "output_type": "execute_result"
    }
   ],
   "source": [
    "n_terms"
   ]
  },
  {
   "cell_type": "code",
   "execution_count": 156,
   "id": "9892f21b-0d0a-43a3-9353-a8b4346f7a57",
   "metadata": {},
   "outputs": [],
   "source": [
    "# X_test_bow[10:11]"
   ]
  },
  {
   "cell_type": "code",
   "execution_count": 157,
   "id": "39143808-b1b9-4828-9937-d1a64c759bc1",
   "metadata": {},
   "outputs": [
    {
     "name": "stdout",
     "output_type": "stream",
     "text": [
      "Test n°1\n",
      "——————————\n"
     ]
    },
    {
     "data": {
      "text/html": [
       "store python object container   port exist python python employ template case devs  store python object python  somehow issue reference count do nevertheless boaglios answer  however issue reference count apparently try follow let u say cadet px follow code devs devs digraph namespace devs def cppclass portvalue value por portvalue except por port const value amp value except port value value devs python ref import pyobject import cadet ctypedef def class portvalue cadet portvalue pythonobject portvalue def init self object port object value self portvalue cadet portvalue pythonobject pyobject port pyobject value def dealloc self del self property port def get return object self port property value def get return object self value cythonize compile python plus px share pic fwrapv wall include include devs cpp run python python import devs pv devs portvalue pv port pv port crash python reference tuple lose apparently"
      ],
      "text/plain": [
       "<IPython.core.display.HTML object>"
      ]
     },
     "metadata": {},
     "output_type": "display_data"
    },
    {
     "name": "stdout",
     "output_type": "stream",
     "text": [
      "——————————————————————————————————————————————————\n",
      "\tTags cibles: python, c++\n",
      "\tTags proposés: python\n",
      "—————————————————————————————————————————————————— \n",
      "\n",
      "\n",
      "\n",
      "\n"
     ]
    }
   ],
   "source": [
    "predict_tags_supervised(n_cases=1)"
   ]
  },
  {
   "cell_type": "code",
   "execution_count": 158,
   "id": "90fba1df-8bda-4a47-ba54-6d22228caa28",
   "metadata": {},
   "outputs": [],
   "source": [
    "def prepared_text(df_doc_test):\n",
    "    df_doc_test['text'] = df_doc_test['title'] + ' ' + df_doc_test['doc']\n",
    "    df_doc_test['text'] = df_doc_test['text'].apply(lambda x: clean_text(x))\n",
    "    df_doc_test['text'] = df_doc_test['text'].apply(lambda x: expand_contractions(x)) \n",
    "    #df_doc_test['text'] = df_doc_test['text'].apply(lambda x: autocorrect(x)) \n",
    "    df_doc_test['text'] = df_doc_test['text'].str.lower()\n",
    "    #df_doc_test['text'] = df_doc_test['text'].apply(lambda x: remove_non_alphabetical_character(x)) \n",
    "    #df_doc_test['text'] = df_doc_test['text'].apply(lambda x: remove_single_letter(x)) \n",
    "    df_doc_test['text'] = df_doc_test['text'].apply(lambda x: remove_stopwords(x))\n",
    "    df_doc_test['text'] = df_doc_test['text'].apply(lambda x: remove_by_tag(x, adjective_tag_list))\n",
    "    df_doc_test['text'] = df_doc_test['text'].apply(lambda x: lemmatize_text(x))\n",
    "    doc_test_prepared = list(df_doc_test['text'])\n",
    "    \n",
    "    return doc_test_prepared # Format !!"
   ]
  },
  {
   "cell_type": "code",
   "execution_count": 159,
   "id": "5661c718-03e5-4177-afdb-9bf51cdaf8b3",
   "metadata": {},
   "outputs": [],
   "source": [
    "df_doc_test = pd.DataFrame()"
   ]
  },
  {
   "cell_type": "code",
   "execution_count": 160,
   "id": "d0aa71c5-dbfd-4aca-a343-7d53ca284d41",
   "metadata": {},
   "outputs": [],
   "source": [
    "df_doc_test['title'] = ['Machine-Learning on  codes, dataframes']"
   ]
  },
  {
   "cell_type": "code",
   "execution_count": 161,
   "id": "6a538dfc-cad2-49cd-8161-7fc8923ecbd2",
   "metadata": {},
   "outputs": [],
   "source": [
    "df_doc_test['doc'] = ['CodEE is dataframe java js js java. MAchine-learning. I want to know how in order to do some machine-learning. It seems a lot better than c, c++ or r']"
   ]
  },
  {
   "cell_type": "code",
   "execution_count": 162,
   "id": "b13a58c4-a02e-4605-a446-073b841db59f",
   "metadata": {},
   "outputs": [
    {
     "data": {
      "text/plain": [
       "0     is dataframe java js js java. MAchine-learnin...\n",
       "Name: doc, dtype: object"
      ]
     },
     "execution_count": 162,
     "metadata": {},
     "output_type": "execute_result"
    }
   ],
   "source": [
    "df_doc_test['doc'].head()"
   ]
  },
  {
   "cell_type": "code",
   "execution_count": 163,
   "id": "5a98a1d5-96c3-4025-bef4-abe671f1a274",
   "metadata": {},
   "outputs": [
    {
     "ename": "NameError",
     "evalue": "name 'token' is not defined",
     "output_type": "error",
     "traceback": [
      "\u001b[1;31m---------------------------------------------------------------------------\u001b[0m",
      "\u001b[1;31mNameError\u001b[0m                                 Traceback (most recent call last)",
      "\u001b[1;32m<ipython-input-163-845bb0640b1f>\u001b[0m in \u001b[0;36m<module>\u001b[1;34m\u001b[0m\n\u001b[1;32m----> 1\u001b[1;33m \u001b[0mdoc_test_prepared\u001b[0m \u001b[1;33m=\u001b[0m \u001b[0mprepared_text\u001b[0m\u001b[1;33m(\u001b[0m\u001b[0mdf_doc_test\u001b[0m\u001b[1;33m)\u001b[0m\u001b[1;33m\u001b[0m\u001b[1;33m\u001b[0m\u001b[0m\n\u001b[0m\u001b[0;32m      2\u001b[0m \u001b[0mdoc_test_prepared\u001b[0m\u001b[1;33m\u001b[0m\u001b[1;33m\u001b[0m\u001b[0m\n",
      "\u001b[1;32m<ipython-input-158-1fb7e39dea4c>\u001b[0m in \u001b[0;36mprepared_text\u001b[1;34m(df_doc_test)\u001b[0m\n\u001b[0;32m      7\u001b[0m     \u001b[1;31m#df_doc_test['text'] = df_doc_test['text'].apply(lambda x: remove_non_alphabetical_character(x))\u001b[0m\u001b[1;33m\u001b[0m\u001b[1;33m\u001b[0m\u001b[1;33m\u001b[0m\u001b[0m\n\u001b[0;32m      8\u001b[0m     \u001b[1;31m#df_doc_test['text'] = df_doc_test['text'].apply(lambda x: remove_single_letter(x))\u001b[0m\u001b[1;33m\u001b[0m\u001b[1;33m\u001b[0m\u001b[1;33m\u001b[0m\u001b[0m\n\u001b[1;32m----> 9\u001b[1;33m     \u001b[0mdf_doc_test\u001b[0m\u001b[1;33m[\u001b[0m\u001b[1;34m'text'\u001b[0m\u001b[1;33m]\u001b[0m \u001b[1;33m=\u001b[0m \u001b[0mdf_doc_test\u001b[0m\u001b[1;33m[\u001b[0m\u001b[1;34m'text'\u001b[0m\u001b[1;33m]\u001b[0m\u001b[1;33m.\u001b[0m\u001b[0mapply\u001b[0m\u001b[1;33m(\u001b[0m\u001b[1;32mlambda\u001b[0m \u001b[0mx\u001b[0m\u001b[1;33m:\u001b[0m \u001b[0mremove_stopwords\u001b[0m\u001b[1;33m(\u001b[0m\u001b[0mx\u001b[0m\u001b[1;33m)\u001b[0m\u001b[1;33m)\u001b[0m\u001b[1;33m\u001b[0m\u001b[1;33m\u001b[0m\u001b[0m\n\u001b[0m\u001b[0;32m     10\u001b[0m     \u001b[0mdf_doc_test\u001b[0m\u001b[1;33m[\u001b[0m\u001b[1;34m'text'\u001b[0m\u001b[1;33m]\u001b[0m \u001b[1;33m=\u001b[0m \u001b[0mdf_doc_test\u001b[0m\u001b[1;33m[\u001b[0m\u001b[1;34m'text'\u001b[0m\u001b[1;33m]\u001b[0m\u001b[1;33m.\u001b[0m\u001b[0mapply\u001b[0m\u001b[1;33m(\u001b[0m\u001b[1;32mlambda\u001b[0m \u001b[0mx\u001b[0m\u001b[1;33m:\u001b[0m \u001b[0mremove_by_tag\u001b[0m\u001b[1;33m(\u001b[0m\u001b[0mx\u001b[0m\u001b[1;33m,\u001b[0m \u001b[0madjective_tag_list\u001b[0m\u001b[1;33m)\u001b[0m\u001b[1;33m)\u001b[0m\u001b[1;33m\u001b[0m\u001b[1;33m\u001b[0m\u001b[0m\n\u001b[0;32m     11\u001b[0m     \u001b[0mdf_doc_test\u001b[0m\u001b[1;33m[\u001b[0m\u001b[1;34m'text'\u001b[0m\u001b[1;33m]\u001b[0m \u001b[1;33m=\u001b[0m \u001b[0mdf_doc_test\u001b[0m\u001b[1;33m[\u001b[0m\u001b[1;34m'text'\u001b[0m\u001b[1;33m]\u001b[0m\u001b[1;33m.\u001b[0m\u001b[0mapply\u001b[0m\u001b[1;33m(\u001b[0m\u001b[1;32mlambda\u001b[0m \u001b[0mx\u001b[0m\u001b[1;33m:\u001b[0m \u001b[0mlemmatize_text\u001b[0m\u001b[1;33m(\u001b[0m\u001b[0mx\u001b[0m\u001b[1;33m)\u001b[0m\u001b[1;33m)\u001b[0m\u001b[1;33m\u001b[0m\u001b[1;33m\u001b[0m\u001b[0m\n",
      "\u001b[1;32m~\\anaconda3\\lib\\site-packages\\pandas\\core\\series.py\u001b[0m in \u001b[0;36mapply\u001b[1;34m(self, func, convert_dtype, args, **kwds)\u001b[0m\n\u001b[0;32m   4136\u001b[0m             \u001b[1;32melse\u001b[0m\u001b[1;33m:\u001b[0m\u001b[1;33m\u001b[0m\u001b[1;33m\u001b[0m\u001b[0m\n\u001b[0;32m   4137\u001b[0m                 \u001b[0mvalues\u001b[0m \u001b[1;33m=\u001b[0m \u001b[0mself\u001b[0m\u001b[1;33m.\u001b[0m\u001b[0mastype\u001b[0m\u001b[1;33m(\u001b[0m\u001b[0mobject\u001b[0m\u001b[1;33m)\u001b[0m\u001b[1;33m.\u001b[0m\u001b[0m_values\u001b[0m\u001b[1;33m\u001b[0m\u001b[1;33m\u001b[0m\u001b[0m\n\u001b[1;32m-> 4138\u001b[1;33m                 \u001b[0mmapped\u001b[0m \u001b[1;33m=\u001b[0m \u001b[0mlib\u001b[0m\u001b[1;33m.\u001b[0m\u001b[0mmap_infer\u001b[0m\u001b[1;33m(\u001b[0m\u001b[0mvalues\u001b[0m\u001b[1;33m,\u001b[0m \u001b[0mf\u001b[0m\u001b[1;33m,\u001b[0m \u001b[0mconvert\u001b[0m\u001b[1;33m=\u001b[0m\u001b[0mconvert_dtype\u001b[0m\u001b[1;33m)\u001b[0m\u001b[1;33m\u001b[0m\u001b[1;33m\u001b[0m\u001b[0m\n\u001b[0m\u001b[0;32m   4139\u001b[0m \u001b[1;33m\u001b[0m\u001b[0m\n\u001b[0;32m   4140\u001b[0m         \u001b[1;32mif\u001b[0m \u001b[0mlen\u001b[0m\u001b[1;33m(\u001b[0m\u001b[0mmapped\u001b[0m\u001b[1;33m)\u001b[0m \u001b[1;32mand\u001b[0m \u001b[0misinstance\u001b[0m\u001b[1;33m(\u001b[0m\u001b[0mmapped\u001b[0m\u001b[1;33m[\u001b[0m\u001b[1;36m0\u001b[0m\u001b[1;33m]\u001b[0m\u001b[1;33m,\u001b[0m \u001b[0mSeries\u001b[0m\u001b[1;33m)\u001b[0m\u001b[1;33m:\u001b[0m\u001b[1;33m\u001b[0m\u001b[1;33m\u001b[0m\u001b[0m\n",
      "\u001b[1;32mpandas\\_libs\\lib.pyx\u001b[0m in \u001b[0;36mpandas._libs.lib.map_infer\u001b[1;34m()\u001b[0m\n",
      "\u001b[1;32m<ipython-input-158-1fb7e39dea4c>\u001b[0m in \u001b[0;36m<lambda>\u001b[1;34m(x)\u001b[0m\n\u001b[0;32m      7\u001b[0m     \u001b[1;31m#df_doc_test['text'] = df_doc_test['text'].apply(lambda x: remove_non_alphabetical_character(x))\u001b[0m\u001b[1;33m\u001b[0m\u001b[1;33m\u001b[0m\u001b[1;33m\u001b[0m\u001b[0m\n\u001b[0;32m      8\u001b[0m     \u001b[1;31m#df_doc_test['text'] = df_doc_test['text'].apply(lambda x: remove_single_letter(x))\u001b[0m\u001b[1;33m\u001b[0m\u001b[1;33m\u001b[0m\u001b[1;33m\u001b[0m\u001b[0m\n\u001b[1;32m----> 9\u001b[1;33m     \u001b[0mdf_doc_test\u001b[0m\u001b[1;33m[\u001b[0m\u001b[1;34m'text'\u001b[0m\u001b[1;33m]\u001b[0m \u001b[1;33m=\u001b[0m \u001b[0mdf_doc_test\u001b[0m\u001b[1;33m[\u001b[0m\u001b[1;34m'text'\u001b[0m\u001b[1;33m]\u001b[0m\u001b[1;33m.\u001b[0m\u001b[0mapply\u001b[0m\u001b[1;33m(\u001b[0m\u001b[1;32mlambda\u001b[0m \u001b[0mx\u001b[0m\u001b[1;33m:\u001b[0m \u001b[0mremove_stopwords\u001b[0m\u001b[1;33m(\u001b[0m\u001b[0mx\u001b[0m\u001b[1;33m)\u001b[0m\u001b[1;33m)\u001b[0m\u001b[1;33m\u001b[0m\u001b[1;33m\u001b[0m\u001b[0m\n\u001b[0m\u001b[0;32m     10\u001b[0m     \u001b[0mdf_doc_test\u001b[0m\u001b[1;33m[\u001b[0m\u001b[1;34m'text'\u001b[0m\u001b[1;33m]\u001b[0m \u001b[1;33m=\u001b[0m \u001b[0mdf_doc_test\u001b[0m\u001b[1;33m[\u001b[0m\u001b[1;34m'text'\u001b[0m\u001b[1;33m]\u001b[0m\u001b[1;33m.\u001b[0m\u001b[0mapply\u001b[0m\u001b[1;33m(\u001b[0m\u001b[1;32mlambda\u001b[0m \u001b[0mx\u001b[0m\u001b[1;33m:\u001b[0m \u001b[0mremove_by_tag\u001b[0m\u001b[1;33m(\u001b[0m\u001b[0mx\u001b[0m\u001b[1;33m,\u001b[0m \u001b[0madjective_tag_list\u001b[0m\u001b[1;33m)\u001b[0m\u001b[1;33m)\u001b[0m\u001b[1;33m\u001b[0m\u001b[1;33m\u001b[0m\u001b[0m\n\u001b[0;32m     11\u001b[0m     \u001b[0mdf_doc_test\u001b[0m\u001b[1;33m[\u001b[0m\u001b[1;34m'text'\u001b[0m\u001b[1;33m]\u001b[0m \u001b[1;33m=\u001b[0m \u001b[0mdf_doc_test\u001b[0m\u001b[1;33m[\u001b[0m\u001b[1;34m'text'\u001b[0m\u001b[1;33m]\u001b[0m\u001b[1;33m.\u001b[0m\u001b[0mapply\u001b[0m\u001b[1;33m(\u001b[0m\u001b[1;32mlambda\u001b[0m \u001b[0mx\u001b[0m\u001b[1;33m:\u001b[0m \u001b[0mlemmatize_text\u001b[0m\u001b[1;33m(\u001b[0m\u001b[0mx\u001b[0m\u001b[1;33m)\u001b[0m\u001b[1;33m)\u001b[0m\u001b[1;33m\u001b[0m\u001b[1;33m\u001b[0m\u001b[0m\n",
      "\u001b[1;32m<ipython-input-4-8ebae7f41e0d>\u001b[0m in \u001b[0;36mremove_stopwords\u001b[1;34m(text)\u001b[0m\n\u001b[0;32m      1\u001b[0m \u001b[1;32mdef\u001b[0m \u001b[0mremove_stopwords\u001b[0m\u001b[1;33m(\u001b[0m\u001b[0mtext\u001b[0m\u001b[1;33m)\u001b[0m\u001b[1;33m:\u001b[0m\u001b[1;33m\u001b[0m\u001b[1;33m\u001b[0m\u001b[0m\n\u001b[0;32m      2\u001b[0m     \u001b[1;34m\"\"\"remove common words in english by using nltk.corpus's list\"\"\"\u001b[0m\u001b[1;33m\u001b[0m\u001b[1;33m\u001b[0m\u001b[0m\n\u001b[1;32m----> 3\u001b[1;33m     \u001b[0mwords\u001b[0m \u001b[1;33m=\u001b[0m \u001b[0mtoken\u001b[0m\u001b[1;33m.\u001b[0m\u001b[0mtokenize\u001b[0m\u001b[1;33m(\u001b[0m\u001b[0mtext\u001b[0m\u001b[1;33m)\u001b[0m\u001b[1;33m\u001b[0m\u001b[1;33m\u001b[0m\u001b[0m\n\u001b[0m\u001b[0;32m      4\u001b[0m     \u001b[0mfiltered\u001b[0m \u001b[1;33m=\u001b[0m \u001b[1;33m[\u001b[0m\u001b[0mw\u001b[0m \u001b[1;32mfor\u001b[0m \u001b[0mw\u001b[0m \u001b[1;32min\u001b[0m \u001b[0mwords\u001b[0m \u001b[1;32mif\u001b[0m \u001b[1;32mnot\u001b[0m \u001b[0mw\u001b[0m \u001b[1;32min\u001b[0m \u001b[0mstop_words\u001b[0m\u001b[1;33m]\u001b[0m\u001b[1;33m\u001b[0m\u001b[1;33m\u001b[0m\u001b[0m\n\u001b[0;32m      5\u001b[0m \u001b[1;33m\u001b[0m\u001b[0m\n",
      "\u001b[1;31mNameError\u001b[0m: name 'token' is not defined"
     ]
    }
   ],
   "source": [
    "doc_test_prepared = prepared_text(df_doc_test)\n",
    "doc_test_prepared"
   ]
  },
  {
   "cell_type": "code",
   "execution_count": null,
   "id": "cdc8d97c-c457-4be2-a93b-a990ecfbf3ee",
   "metadata": {},
   "outputs": [],
   "source": [
    "list_doc = [d.split() for d in doc_test_prepared] # Should turn into a list\n",
    "list_doc"
   ]
  },
  {
   "cell_type": "code",
   "execution_count": null,
   "id": "05797620-f229-47b5-a00c-2c2ad8357a6f",
   "metadata": {},
   "outputs": [],
   "source": [
    "test_new = [dictionary_2.doc2bow(doc, allow_update=False) for doc in list_doc]"
   ]
  },
  {
   "cell_type": "code",
   "execution_count": null,
   "id": "1d1ecdbd-7a34-4c39-a9d6-ce433f1b5568",
   "metadata": {},
   "outputs": [],
   "source": [
    "test_prepared_2 = list_X_test[50:51]"
   ]
  },
  {
   "cell_type": "code",
   "execution_count": null,
   "id": "40b59e97-319f-4813-b709-d2ca07514b47",
   "metadata": {},
   "outputs": [],
   "source": [
    "test_new_2 = [dictionary_2.doc2bow(doc, allow_update=False) for doc in test_prepared_2]"
   ]
  },
  {
   "cell_type": "code",
   "execution_count": null,
   "id": "3492ec5e-cde7-4766-b209-df994c690977",
   "metadata": {},
   "outputs": [],
   "source": [
    "def transform_doc_test(doc_test_prepared):\n",
    "    \n",
    "    # Transform into sparse matrix in order to feed it to the optimal model\n",
    "    doc_test_transformed = corpus2csc(doc_test_prepared, num_terms=n_terms).transpose()\n",
    "    return doc_test_transformed"
   ]
  },
  {
   "cell_type": "code",
   "execution_count": null,
   "id": "74002136-6dcd-4898-adde-1fad78d64664",
   "metadata": {},
   "outputs": [],
   "source": [
    "doc_test_transformed = transform_doc_test(test_new)\n",
    "doc_test_transformed"
   ]
  },
  {
   "cell_type": "code",
   "execution_count": null,
   "id": "8849b057-0f24-4512-90f1-868e4d2f094e",
   "metadata": {},
   "outputs": [],
   "source": [
    "def predict_tags_supervised_unseen_doc(doc_test_transformed, initial_doc_entry, optimal_model=optimal_model):\n",
    "\n",
    "        # Get tags from inverse transform of prediction\n",
    "        tags_supervised = binarizer.inverse_transform(optimal_model.predict(doc_test_transformed))[0]\n",
    "\n",
    "        print(f'Test')\n",
    "        print('—'*10)\n",
    "        print([[' '.join(i)] for i in initial_doc_entry])\n",
    "        print('—'*50)\n",
    "        print('\\tTags proposés:', ', '.join(tags_supervised))\n",
    "        print('—'*50, '\\n'*4)"
   ]
  },
  {
   "cell_type": "code",
   "execution_count": null,
   "id": "04bcb882-1a05-4845-b04e-ce57f79284ba",
   "metadata": {},
   "outputs": [],
   "source": [
    "initial_doc_entry = list_doc"
   ]
  },
  {
   "cell_type": "code",
   "execution_count": null,
   "id": "9a179057-1658-46d8-8961-33ef4f81b142",
   "metadata": {},
   "outputs": [],
   "source": [
    "[[' '.join(i)] for i in initial_doc_entry]"
   ]
  },
  {
   "cell_type": "code",
   "execution_count": null,
   "id": "a28bcb88-3ba1-42cd-8d85-23b31be75138",
   "metadata": {},
   "outputs": [],
   "source": [
    "predict_tags_supervised_unseen_doc(doc_test_transformed, initial_doc_entry, optimal_model=optimal_model)"
   ]
  },
  {
   "cell_type": "code",
   "execution_count": null,
   "id": "fe0d63b7-2e3b-47c6-a025-ccb9395d5ee4",
   "metadata": {},
   "outputs": [],
   "source": []
  },
  {
   "cell_type": "markdown",
   "id": "06875e69-9d4f-4e6b-8864-cff2b4535e98",
   "metadata": {},
   "source": [
    "# Pickle saving"
   ]
  },
  {
   "cell_type": "code",
   "execution_count": null,
   "id": "bc5aca52-7f89-4b6e-92bf-0f8d833cf24e",
   "metadata": {},
   "outputs": [],
   "source": [
    "import pickle"
   ]
  },
  {
   "cell_type": "code",
   "execution_count": null,
   "id": "c5e551ff-73a7-4b06-b698-9d9b2696dc04",
   "metadata": {},
   "outputs": [],
   "source": [
    "# save the model to disk\n",
    "filename = 'finalized_model.sav'\n",
    "pickle.dump(model, open(filename, 'wb'))\n",
    " \n",
    "# some time later...\n",
    " \n",
    "# load the model from disk\n",
    "loaded_model = pickle.load(open(filename, 'rb'))\n",
    "result = loaded_model.score(X_test, Y_test)\n",
    "print(result)"
   ]
  }
 ],
 "metadata": {
  "kernelspec": {
   "display_name": "Python 3",
   "language": "python",
   "name": "python3"
  },
  "language_info": {
   "codemirror_mode": {
    "name": "ipython",
    "version": 3
   },
   "file_extension": ".py",
   "mimetype": "text/x-python",
   "name": "python",
   "nbconvert_exporter": "python",
   "pygments_lexer": "ipython3",
   "version": "3.8.8"
  }
 },
 "nbformat": 4,
 "nbformat_minor": 5
}
